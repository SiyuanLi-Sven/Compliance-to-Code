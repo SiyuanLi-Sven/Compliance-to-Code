{
 "cells": [
  {
   "cell_type": "markdown",
   "metadata": {},
   "source": [
    "这只是一个示例, 你可能需要根据你的文件结构来重写dataloader"
   ]
  },
  {
   "cell_type": "markdown",
   "metadata": {},
   "source": [
    "## mac可用"
   ]
  },
  {
   "cell_type": "code",
   "execution_count": 1,
   "metadata": {},
   "outputs": [],
   "source": [
    "import csv\n",
    "import os\n",
    "import re\n",
    "from docx import Document\n",
    "\n",
    "def extract_law_articles(docx_path, csv_path):\n",
    "    \"\"\"\n",
    "    将 Word 文档按照法条编号拆分为 CSV（支持 macOS）\n",
    "    注意：仅适用于 .docx 格式文件\n",
    "    \"\"\"\n",
    "    # 检查文件是否存在\n",
    "    if not os.path.exists(docx_path):\n",
    "        raise FileNotFoundError(f\"文件未找到: '{docx_path}'\")\n",
    "\n",
    "    # 读取 Word 文档\n",
    "    doc = Document(docx_path)\n",
    "    \n",
    "    law_articles = []\n",
    "    current_article = ''\n",
    "    article_num = 1\n",
    "    is_article_started = False\n",
    "\n",
    "    # 遍历文档段落\n",
    "    for para in doc.paragraphs:\n",
    "        text = para.text.strip()\n",
    "        \n",
    "        # 跳过章节标题（支持中文数字和汉字）\n",
    "        if re.match(r'^第.{1,4}章', text) or re.match(r'^第.{1,4}节', text):\n",
    "            continue\n",
    "        \n",
    "        # 匹配法条编号（更精确的正则表达式）\n",
    "        match = re.match(r'^(第.*条)\\s', text)\n",
    "        if match:\n",
    "            if is_article_started:\n",
    "                # 保存当前法条\n",
    "                law_articles.append((article_num, current_article.strip()))\n",
    "                article_num += 1\n",
    "            # 开始新法条\n",
    "            current_article = text\n",
    "            is_article_started = True\n",
    "        elif is_article_started:\n",
    "            # 拼接段落内容\n",
    "            current_article += '\\n' + text\n",
    "\n",
    "    # 保存最后一个法条\n",
    "    if current_article:\n",
    "        law_articles.append((article_num, current_article.strip()))\n",
    "\n",
    "    # 写入 CSV 文件\n",
    "    with open(csv_path, 'w', newline='', encoding='utf-8-sig') as csvfile:\n",
    "        writer = csv.writer(csvfile)\n",
    "        writer.writerow(['law_article_num', 'law_article'])\n",
    "        for article_num, original_text in law_articles:\n",
    "            writer.writerow([article_num, original_text])\n",
    "\n",
    "    print(f\"提取完成，共找到 {len(law_articles)} 个法条\")\n"
   ]
  },
  {
   "cell_type": "code",
   "execution_count": 2,
   "metadata": {},
   "outputs": [
    {
     "data": {
      "text/plain": [
       "['北京证券交易所上市公司持续监管指引第2号——季度报告.docx',\n",
       " '北京证券交易所上市公司持续监管指引第7号——转板.docx',\n",
       " '北京证券交易所上市公司持续监管指引第1号——独立董事.docx',\n",
       " '北京证券交易所上市公司持续监管指引第5号——要约收购.docx',\n",
       " '北京证券交易所上市公司持续监管指引第9号——募集资金管理.docx',\n",
       " '北京证券交易所上市公司持续监管指引第6号——内幕信息知情人管理及报送.docx',\n",
       " '北京证券交易所上市公司持续监管指引第8号——股份减持和持股管理.docx',\n",
       " '北京证券交易所上市公司持续监管指引第10号——权益分派.docx',\n",
       " '北京证券交易所上市公司持续监管指引第3号——股权激励和员工持股计划.docx',\n",
       " '北京证券交易所上市公司持续监管指引第4号——股份回购.docx']"
      ]
     },
     "execution_count": 2,
     "metadata": {},
     "output_type": "execute_result"
    }
   ],
   "source": [
    "directory_path = \"law_to_ComplianceUnit/st_0_law_docx\"\n",
    "\n",
    "# 提取所有.doc文件的文件名，不包含路径\n",
    "doc_filenames = [\n",
    "    f for f in os.listdir(directory_path) if f.endswith('.docx') # f.endswith('.doc') # or \n",
    "]\n",
    "\n",
    "doc_filenames"
   ]
  },
  {
   "cell_type": "code",
   "execution_count": 3,
   "metadata": {},
   "outputs": [
    {
     "name": "stderr",
     "output_type": "stream",
     "text": [
      "100%|██████████| 10/10 [00:00<00:00, 46.61it/s]"
     ]
    },
    {
     "name": "stdout",
     "output_type": "stream",
     "text": [
      "提取完成，共找到 16 个法条\n",
      "Extracted law articles have been saved to law_to_ComplianceUnit/st_1_law_csv/北京证券交易所上市公司持续监管指引第2号——季度报告.csv\n",
      "提取完成，共找到 21 个法条\n",
      "Extracted law articles have been saved to law_to_ComplianceUnit/st_1_law_csv/北京证券交易所上市公司持续监管指引第7号——转板.csv\n",
      "提取完成，共找到 30 个法条\n",
      "Extracted law articles have been saved to law_to_ComplianceUnit/st_1_law_csv/北京证券交易所上市公司持续监管指引第1号——独立董事.csv\n",
      "提取完成，共找到 36 个法条\n",
      "Extracted law articles have been saved to law_to_ComplianceUnit/st_1_law_csv/北京证券交易所上市公司持续监管指引第5号——要约收购.csv\n",
      "提取完成，共找到 27 个法条\n",
      "Extracted law articles have been saved to law_to_ComplianceUnit/st_1_law_csv/北京证券交易所上市公司持续监管指引第9号——募集资金管理.csv\n",
      "提取完成，共找到 25 个法条\n",
      "Extracted law articles have been saved to law_to_ComplianceUnit/st_1_law_csv/北京证券交易所上市公司持续监管指引第6号——内幕信息知情人管理及报送.csv\n",
      "提取完成，共找到 29 个法条\n",
      "Extracted law articles have been saved to law_to_ComplianceUnit/st_1_law_csv/北京证券交易所上市公司持续监管指引第8号——股份减持和持股管理.csv\n",
      "提取完成，共找到 33 个法条\n",
      "Extracted law articles have been saved to law_to_ComplianceUnit/st_1_law_csv/北京证券交易所上市公司持续监管指引第10号——权益分派.csv\n",
      "提取完成，共找到 66 个法条\n",
      "Extracted law articles have been saved to law_to_ComplianceUnit/st_1_law_csv/北京证券交易所上市公司持续监管指引第3号——股权激励和员工持股计划.csv\n",
      "提取完成，共找到 78 个法条\n",
      "Extracted law articles have been saved to law_to_ComplianceUnit/st_1_law_csv/北京证券交易所上市公司持续监管指引第4号——股份回购.csv\n"
     ]
    },
    {
     "name": "stderr",
     "output_type": "stream",
     "text": [
      "\n"
     ]
    }
   ],
   "source": [
    "from tqdm import tqdm\n",
    "\n",
    "for doc_file in tqdm(doc_filenames):\n",
    "\n",
    "    law_articles_dir = \"law_to_ComplianceUnit/st_0_law_docx\"\n",
    "    law_articles_csv_dir = \"law_to_ComplianceUnit/st_1_law_csv\"\n",
    "\n",
    "    # 创建文件夹\n",
    "    os.makedirs(law_articles_csv_dir, exist_ok=True)\n",
    "\n",
    "    # 输入文件路径\n",
    "    doc_path = os.path.join(law_articles_dir, doc_file)\n",
    "    base_name = os.path.splitext(doc_file)[0]\n",
    "    csv_path = os.path.join(law_articles_csv_dir, f\"{base_name}.csv\")\n",
    "\n",
    "    # 提取法条并保存为CSV\n",
    "    extract_law_articles(doc_path, csv_path)\n",
    "    print(f\"Extracted law articles have been saved to {csv_path}\")\n"
   ]
  }
 ],
 "metadata": {
  "kernelspec": {
   "display_name": "GE311",
   "language": "python",
   "name": "python3"
  },
  "language_info": {
   "codemirror_mode": {
    "name": "ipython",
    "version": 3
   },
   "file_extension": ".py",
   "mimetype": "text/x-python",
   "name": "python",
   "nbconvert_exporter": "python",
   "pygments_lexer": "ipython3",
   "version": "3.11.11"
  }
 },
 "nbformat": 4,
 "nbformat_minor": 2
}

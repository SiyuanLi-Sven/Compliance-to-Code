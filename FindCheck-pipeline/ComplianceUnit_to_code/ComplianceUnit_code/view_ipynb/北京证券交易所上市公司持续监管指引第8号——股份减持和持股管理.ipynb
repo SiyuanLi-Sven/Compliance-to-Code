{
 "cells": [
  {
   "cell_type": "code",
   "execution_count": null,
   "id": "dee01a14",
   "metadata": {},
   "outputs": [],
   "source": [
    "# 读取模拟数据\n",
    "import pandas as pd\n",
    "df = pd.read_csv('data_simulation/data_generated/data_simulate_08.csv')\n",
    "date_columns = ['日期', '上市日期', '公告日期', '计划披露日', '计划开始日', '计划结束日', '离任日期']\n",
    "for col in date_columns:\n",
    "    df[col] = pd.to_datetime(df[col])\n",
    "df"
   ]
  },
  {
   "cell_type": "markdown",
   "id": "2949a1aa",
   "metadata": {},
   "source": [
    "# Law Article 4"
   ]
  },
  {
   "cell_type": "markdown",
   "id": "4233b36a",
   "metadata": {},
   "source": [
    "## cu_4_1"
   ]
  },
  {
   "cell_type": "markdown",
   "id": "b1b62572",
   "metadata": {},
   "source": [
    "\n",
    "| 字段 | 内容 |\n",
    "|------|------|\n",
    "| subject | 上市公司大股东 | 董监高 |\n",
    "| condition | 计划通过本所集中竞价或大宗交易减持股份 |\n",
    "| constrain | 应当及时通知公司，并在首次卖出的15个交易日前向本所报告并预先披露减持计划 |\n",
    "| contextual_info | nan |\n",
    "| note | 不考虑是否及时通知公司 |\n",
    "| relation | nan |\n",
    "| target | nan |\n",
    "| type | 数值化执行单元 |\n",
    "| comments | nan |\n",
    "| prompt_tokens | 2031 |\n",
    "| completion_tokens | 7229 |\n"
   ]
  },
  {
   "cell_type": "markdown",
   "id": "9672d468",
   "metadata": {},
   "source": [
    "### 代码实现"
   ]
  },
  {
   "cell_type": "code",
   "execution_count": null,
   "id": "97086923",
   "metadata": {},
   "outputs": [],
   "source": [
    "import pandas as pd\n",
    "import numpy as np\n",
    "\n",
    "def check_cu_4_1(df):\n",
    "    '''\n",
    "    检查cu_4_1合规性：\n",
    "    主体：上市公司大股东 | 董监高\n",
    "    条件：存在竞价/大宗交易减持计划\n",
    "    约束：首次卖出前15交易日披露\n",
    "    '''\n",
    "    df = df.copy()\n",
    "    \n",
    "    # 初始化标记列\n",
    "    df['cu_4_1_subject'] = False\n",
    "    df['cu_4_1_condition'] = False\n",
    "    df['cu_4_1_constraint'] = False\n",
    "\n",
    "    # 1. 验证责任主体\n",
    "    major_condition = (\n",
    "        df['股东身份'].isin(['控股股东', '实际控制人', '持股5%以上股东']) |\n",
    "        (df['持股比例'] >= 0.05)\n",
    "    )\n",
    "    director_condition = (df['股东身份'] == '董监高')\n",
    "    df['cu_4_1_subject'] = major_condition | director_condition\n",
    "\n",
    "    # 2. 验证触发条件\n",
    "    df['cu_4_1_condition'] = (\n",
    "        df['减持方式'].isin(['竞价交易', '大宗交易']) &\n",
    "        df['存在减持计划']\n",
    "    )\n",
    "\n",
    "    # 3. 约束条件处理逻辑\n",
    "    def process_plan(group):\n",
    "        group = group.sort_values('日期')\n",
    "        plans = []\n",
    "        current_plan = None\n",
    "        \n",
    "        for _, row in group.iterrows():\n",
    "            if row['存在减持计划']:\n",
    "                if not current_plan:\n",
    "                    current_plan = {\n",
    "                        '披露日': row['计划披露日'],\n",
    "                        '减持记录': [],\n",
    "                        'start_date': row['日期']\n",
    "                    }\n",
    "                if row['当日减持比例'] > 0:\n",
    "                    current_plan['减持记录'].append(row['日期'])\n",
    "            else:\n",
    "                if current_plan:\n",
    "                    plans.append(current_plan)\n",
    "                    current_plan = None\n",
    "        if current_plan:\n",
    "            plans.append(current_plan)\n",
    "        \n",
    "        plan_data = []\n",
    "        for p in plans:\n",
    "            first_sell = min(p['减持记录']) if p['减持记录'] else pd.NaT\n",
    "            plan_data.append({\n",
    "                '公司简称': group['公司简称'].iloc[0],\n",
    "                '股东': group['股东'].iloc[0],\n",
    "                '计划披露日': p['披露日'],\n",
    "                '首次卖出日': first_sell\n",
    "            })\n",
    "        return pd.DataFrame(plan_data)\n",
    "\n",
    "    # 处理分组并合并数据\n",
    "    if not df.empty:\n",
    "        plan_df = df.groupby(['公司简称', '股东'], group_keys=False).apply(process_plan)\n",
    "        if not plan_df.empty:\n",
    "            df = df.merge(\n",
    "                plan_df,\n",
    "                on=['公司简称', '股东', '计划披露日'],\n",
    "                how='left'\n",
    "            )\n",
    "        else:\n",
    "            df['首次卖出日'] = pd.NaT\n",
    "\n",
    "        # 计算交易日序号映射\n",
    "        trading_dates = pd.Series(df['日期'].unique()).sort_values()\n",
    "        date_index_map = {date: idx for idx, date in enumerate(trading_dates)}\n",
    "\n",
    "        # 计算交易日间隔\n",
    "        df['披露日序号'] = df['计划披露日'].map(date_index_map)\n",
    "        df['卖出日序号'] = df['首次卖出日'].map(date_index_map)\n",
    "        df['cu_4_1_constraint'] = (df['卖出日序号'] - df['披露日序号']) >= 15\n",
    "\n",
    "        # 清理中间列\n",
    "        df.drop(['披露日序号', '卖出日序号', '首次卖出日'], axis=1, errors='ignore', inplace=True)\n",
    "    \n",
    "    return df"
   ]
  },
  {
   "cell_type": "code",
   "execution_count": null,
   "id": "bd60bb87",
   "metadata": {},
   "outputs": [],
   "source": [
    "df = check_cu_4_1(df)\n",
    "df"
   ]
  },
  {
   "cell_type": "markdown",
   "id": "d86848ec",
   "metadata": {},
   "source": [
    "---"
   ]
  },
  {
   "cell_type": "markdown",
   "id": "be33d663",
   "metadata": {},
   "source": [
    "## cu_4_7"
   ]
  },
  {
   "cell_type": "markdown",
   "id": "48c8fa53",
   "metadata": {},
   "source": [
    "\n",
    "| 字段 | 内容 |\n",
    "|------|------|\n",
    "| subject | 上市公司大股东 | 董监高 |\n",
    "| condition | 披露减持计划 |\n",
    "| constrain | 每次披露的减持计划中减持时间区间不得超过3个月 |\n",
    "| contextual_info | nan |\n",
    "| note | 三个月按照90个自然日计算; 条件\"披露减持计划\"理解为考察所有存在减持计划的时期.  |\n",
    "| relation | nan |\n",
    "| target | nan |\n",
    "| type | 数值化执行单元 |\n",
    "| comments | nan |\n",
    "| prompt_tokens | 2031 |\n",
    "| completion_tokens | 5673 |\n"
   ]
  },
  {
   "cell_type": "markdown",
   "id": "6b8167f5",
   "metadata": {},
   "source": [
    "### 代码实现"
   ]
  },
  {
   "cell_type": "code",
   "execution_count": null,
   "id": "47de9378",
   "metadata": {},
   "outputs": [],
   "source": [
    "import pandas as pd\n",
    "\n",
    "def check_cu_4_7(df):\n",
    "    '''\n",
    "    检查cu_4_7的合规性：\n",
    "    主体：上市公司大股东 | 董监高\n",
    "    条件：存在减持计划\n",
    "    约束：每次披露的减持计划时间区间不超过90个自然日\n",
    "    '''\n",
    "    df = df.copy()\n",
    "    \n",
    "    # 初始化标记列\n",
    "    df['cu_4_7_subject'] = False\n",
    "    df['cu_4_7_condition'] = df['存在减持计划'].astype(bool)\n",
    "    df['cu_4_7_constraint'] = None\n",
    "    \n",
    "    # 1. 验证责任主体\n",
    "    major_shareholder_mask = df['股东身份'].isin(['控股股东', '实际控制人', '持股5%以上股东'])\n",
    "    director_mask = df['股东身份'] == '董监高'\n",
    "    share_ratio_mask = df['持股比例'] >= 0.05\n",
    "    df['cu_4_7_subject'] = major_shareholder_mask | director_mask | share_ratio_mask\n",
    "    \n",
    "    # 3. 验证约束条件\n",
    "    def validate_constraints(group):\n",
    "        if group['存在减持计划'].any():\n",
    "            # 按计划披露日分组处理多计划情形\n",
    "            plan_groups = group[group['存在减持计划']].groupby('计划披露日')\n",
    "            for plan_date, plan_group in plan_groups:\n",
    "                start_date = plan_group['计划开始日'].iloc[0]\n",
    "                end_date = plan_group['计划结束日'].iloc[0]\n",
    "                duration = (end_date - start_date).days + 1  # 包含起始日\n",
    "                group.loc[plan_group.index, 'cu_4_7_constraint'] = duration <= 90\n",
    "        return group\n",
    "    \n",
    "    # 按公司和股东维度处理所有减持计划\n",
    "    df = df.groupby(['公司简称', '股东'], group_keys=False).apply(validate_constraints)\n",
    "    \n",
    "    return df"
   ]
  },
  {
   "cell_type": "code",
   "execution_count": null,
   "id": "00b7de9b",
   "metadata": {},
   "outputs": [],
   "source": [
    "df = check_cu_4_7(df)\n",
    "df"
   ]
  },
  {
   "cell_type": "markdown",
   "id": "ae8e62fa",
   "metadata": {},
   "source": [
    "---"
   ]
  },
  {
   "cell_type": "markdown",
   "id": "53e83529",
   "metadata": {},
   "source": [
    "## cu_4_8"
   ]
  },
  {
   "cell_type": "markdown",
   "id": "67cee605",
   "metadata": {},
   "source": [
    "\n",
    "| 字段 | 内容 |\n",
    "|------|------|\n",
    "| subject | 上市公司大股东 | 董监高 |\n",
    "| condition | 拟在3个月内通过集中竞价交易减持股份的总数超过公司股份总数1% |\n",
    "| constrain | 应当在首次卖出的30个交易日前预先披露减持计划 |\n",
    "| contextual_info | nan |\n",
    "| note | nan |\n",
    "| relation | nan |\n",
    "| target | nan |\n",
    "| type | 数值化执行单元 |\n",
    "| comments | nan |\n",
    "| prompt_tokens | 2023 |\n",
    "| completion_tokens | 6579 |\n"
   ]
  },
  {
   "cell_type": "markdown",
   "id": "8a0d4144",
   "metadata": {},
   "source": [
    "### 代码实现"
   ]
  },
  {
   "cell_type": "code",
   "execution_count": null,
   "id": "62d58538",
   "metadata": {},
   "outputs": [],
   "source": [
    "import pandas as pd\n",
    "\n",
    "def check_cu_4_8(df):\n",
    "    '''\n",
    "    检查cu_4_8的合规性：\n",
    "    主体：上市公司大股东 | 董监高\n",
    "    条件：3个月内通过集中竞价减持超1%\n",
    "    约束：首次卖出前30个交易日披露\n",
    "    '''\n",
    "    df = df.copy()\n",
    "\n",
    "    # 初始化标记列\n",
    "    df['cu_4_8_subject'] = False\n",
    "    df['cu_4_8_condition'] = False\n",
    "    df['cu_4_8_constraint'] = False\n",
    "\n",
    "    # 1. 验证责任主体\n",
    "    is_major = (\n",
    "        df['股东身份'].isin(['控股股东', '实际控制人', '持股5%以上股东']) |\n",
    "        (df['持股比例'] >= 0.05)\n",
    "    )\n",
    "    is_director = df['股东身份'] == '董监高'\n",
    "    df.loc[is_major | is_director, 'cu_4_8_subject'] = True\n",
    "\n",
    "    # 2. 验证触发条件\n",
    "    valid_condition = (\n",
    "        (df['减持方式'] == '竞价交易') &\n",
    "        df['存在减持计划'] &\n",
    "        (df['计划减持比例'] > 0.01) &\n",
    "        ((df['计划结束日'] - df['计划开始日']).dt.days <= 90)\n",
    "    )\n",
    "    df.loc[valid_condition, 'cu_4_8_condition'] = True\n",
    "\n",
    "    # 3. 约束条件处理逻辑\n",
    "    def get_first_sale(group):\n",
    "        # 按计划披露日分组处理每个减持计划\n",
    "        plans = []\n",
    "        for plan_date, plan_group in group.groupby('计划披露日'):\n",
    "            # 筛选计划期间内的减持记录\n",
    "            plan_period = plan_group[\n",
    "                (plan_group['日期'] >= plan_group['计划开始日']) &\n",
    "                (plan_group['日期'] <= plan_group['计划结束日'])\n",
    "            ]\n",
    "            # 找到首次减持日期\n",
    "            first_sale = plan_period[plan_period['当日减持比例'] > 0]\n",
    "            first_date = first_sale['日期'].min() if not first_sale.empty else pd.NaT\n",
    "            plans.append({\n",
    "                '公司简称': group.name[0],\n",
    "                '股东': group.name[1],\n",
    "                '计划披露日': plan_date,\n",
    "                '首次卖出日': first_date\n",
    "            })\n",
    "        return pd.DataFrame(plans) if plans else pd.DataFrame()\n",
    "\n",
    "    # 获取所有减持计划的首次卖出日\n",
    "    plan_info = df.groupby(['公司简称', '股东']).apply(get_first_sale).reset_index(drop=True)\n",
    "    \n",
    "    # 合并首次卖出日信息\n",
    "    if not plan_info.empty:\n",
    "        df = df.merge(\n",
    "            plan_info,\n",
    "            on=['公司简称', '股东', '计划披露日'],\n",
    "            how='left'\n",
    "        )\n",
    "    else:\n",
    "        df['首次卖出日'] = pd.NaT\n",
    "\n",
    "    # 计算交易日差\n",
    "    trading_dates = pd.Series(df['日期'].unique()).sort_values().reset_index(drop=True)\n",
    "    date_map = {date: idx for idx, date in enumerate(trading_dates)}\n",
    "    \n",
    "    df['计划披露日_index'] = df['计划披露日'].map(date_map)\n",
    "    df['首次卖出日_index'] = df['首次卖出日'].map(date_map)\n",
    "    df['cu_4_8_constraint'] = (df['首次卖出日_index'] - df['计划披露日_index']) >= 30\n",
    "\n",
    "    # 清理中间列\n",
    "    df.drop(['计划披露日_index', '首次卖出日_index', '首次卖出日'], \n",
    "            axis=1, inplace=True, errors='ignore')\n",
    "\n",
    "    return df"
   ]
  },
  {
   "cell_type": "code",
   "execution_count": null,
   "id": "8ddd2924",
   "metadata": {},
   "outputs": [],
   "source": [
    "df = check_cu_4_8(df)\n",
    "df"
   ]
  },
  {
   "cell_type": "markdown",
   "id": "e0b25674",
   "metadata": {},
   "source": [
    "---"
   ]
  },
  {
   "cell_type": "markdown",
   "id": "148ebd85",
   "metadata": {},
   "source": [
    "# Law Article 9"
   ]
  },
  {
   "cell_type": "markdown",
   "id": "b4d7e80b",
   "metadata": {},
   "source": [
    "## cu_9_1"
   ]
  },
  {
   "cell_type": "markdown",
   "id": "c8391ad6",
   "metadata": {},
   "source": [
    "\n",
    "| 字段 | 内容 |\n",
    "|------|------|\n",
    "| subject | 控股股东 | 实际控制人 | 董监高 |\n",
    "| condition | 公司上市时未盈利且处于实现盈利前阶段 |\n",
    "| constrain | 自公司股票上市之日起2个完整会计年度内不得减持公开发行并上市前股份 |\n",
    "| contextual_info | nan |\n",
    "| note | 假设\"当日减持比例\"记录的都是减持\"公开发行并上市前获取的股份\"; 对condition的进一步解释: 上市时未盈利, 且上市至今未盈利. |\n",
    "| relation | nan |\n",
    "| target | nan |\n",
    "| type | 数值化执行单元 |\n",
    "| comments | nan |\n",
    "| prompt_tokens | 2065 |\n",
    "| completion_tokens | 12643 |\n"
   ]
  },
  {
   "cell_type": "markdown",
   "id": "992b2b72",
   "metadata": {},
   "source": [
    "### 代码实现"
   ]
  },
  {
   "cell_type": "code",
   "execution_count": null,
   "id": "40aa4be9",
   "metadata": {},
   "outputs": [],
   "source": [
    "import pandas as pd\n",
    "\n",
    "def check_cu_9_1(df):\n",
    "    '''\n",
    "    检查cu_9_1的合规性：\n",
    "    主体：控股股东、实际控制人、董监高\n",
    "    条件：公司上市时未盈利且上市至今未盈利\n",
    "    约束：上市后两个完整会计年度内不得减持\n",
    "    '''\n",
    "    df = df.copy()\n",
    "    \n",
    "    # 初始化标记列\n",
    "    df['cu_9_1_subject'] = False\n",
    "    df['cu_9_1_condition'] = False\n",
    "    df['cu_9_1_constraint'] = True\n",
    "    \n",
    "    # 1. 验证责任主体\n",
    "    df['cu_9_1_subject'] = df['股东身份'].isin(['控股股东', '实际控制人', '董监高'])\n",
    "    \n",
    "    # 2. 验证触发条件\n",
    "    # 计算会计年度并获取年度最大净利润\n",
    "    df['会计年度'] = df['日期'].dt.year\n",
    "    annual_profit = df.groupby(['公司简称', '会计年度'])['净利润'].max().reset_index()\n",
    "    \n",
    "    # 获取上市年份和上市年净利润\n",
    "    df['上市年份'] = df['上市日期'].dt.year\n",
    "    df = df.merge(\n",
    "        annual_profit,\n",
    "        left_on=['公司简称', '上市年份'],\n",
    "        right_on=['公司简称', '会计年度'],\n",
    "        how='left',\n",
    "        suffixes=('', '_上市年')\n",
    "    )\n",
    "    df.rename(columns={'净利润': '上市年净利润'}, inplace=True)\n",
    "    \n",
    "    # 检查所有年度净利润是否非正\n",
    "    def check_profit(row):\n",
    "        company = row['公司简称']\n",
    "        y0 = row['上市年份']\n",
    "        y_current = row['会计年度_x']\n",
    "        mask = (annual_profit['公司简称'] == company) & \\\n",
    "               (annual_profit['会计年度'] >= y0) & \\\n",
    "               (annual_profit['会计年度'] <= y_current)\n",
    "        return (annual_profit.loc[mask, '净利润'] <= 0).all()\n",
    "    \n",
    "    df['cu_9_1_condition'] = (df['上市年净利润'] <= 0) & df.apply(check_profit, axis=1)\n",
    "    \n",
    "    # 3. 验证约束条件\n",
    "    df['end_date'] = df['上市年份'].apply(lambda y: pd.Timestamp(year=y+1, month=12, day=31))\n",
    "    df['cu_9_1_constraint'] = ~((df['日期'] <= df['end_date']) & (df['当日减持比例'] > 0))\n",
    "    \n",
    "    # 清理临时列\n",
    "    df.drop(columns=['会计年度_x', '会计年度_y', '上市年份', '上市年净利润', 'end_date'], inplace=True, errors='ignore')\n",
    "    \n",
    "    return df"
   ]
  },
  {
   "cell_type": "code",
   "execution_count": null,
   "id": "7334c585",
   "metadata": {},
   "outputs": [],
   "source": [
    "df = check_cu_9_1(df)\n",
    "df"
   ]
  },
  {
   "cell_type": "markdown",
   "id": "310e399a",
   "metadata": {},
   "source": [
    "---"
   ]
  },
  {
   "cell_type": "markdown",
   "id": "f603c957",
   "metadata": {},
   "source": [
    "## cu_9_3"
   ]
  },
  {
   "cell_type": "markdown",
   "id": "49127ae1",
   "metadata": {},
   "source": [
    "\n",
    "| 字段 | 内容 |\n",
    "|------|------|\n",
    "| subject | 董监高 |\n",
    "| condition | 在前款规定的2个完整会计年度期间内离职 |\n",
    "| constrain | 应当继续遵守前款规定的减持限制 |\n",
    "| contextual_info | nan |\n",
    "| note | 只需要检查subject和condition, 而constraint项留为None |\n",
    "| relation | refer_to |\n",
    "| target | MEU_9_1 |\n",
    "| type | 数值化执行单元 |\n",
    "| comments | nan |\n",
    "| prompt_tokens | 2065 |\n",
    "| completion_tokens | 9410 |\n"
   ]
  },
  {
   "cell_type": "markdown",
   "id": "d8ba2563",
   "metadata": {},
   "source": [
    "### 代码实现"
   ]
  },
  {
   "cell_type": "code",
   "execution_count": null,
   "id": "74671dbb",
   "metadata": {},
   "outputs": [],
   "source": [
    "import pandas as pd\n",
    "\n",
    "def check_cu_9_3(df):\n",
    "    '''\n",
    "    检查cu_9_3的合规性：\n",
    "    主体：董监高\n",
    "    条件：在上市后前两个完整会计年度期间离职\n",
    "    '''\n",
    "    df = df.copy()\n",
    "\n",
    "    # 初始化标记列\n",
    "    df['cu_9_3_subject'] = False\n",
    "    df['cu_9_3_condition'] = False\n",
    "    df['cu_9_3_constraint'] = None  # 根据要求留空\n",
    "\n",
    "    # 1. 验证责任主体：当前身份为董监高\n",
    "    df['cu_9_3_subject'] = df['股东身份'] == '董监高'\n",
    "\n",
    "    # 2. 验证触发条件：在上市后前两个会计年度期间离职\n",
    "    def check_condition(row):\n",
    "        # 仅处理有效主体\n",
    "        if not row['cu_9_3_subject']:\n",
    "            return False\n",
    "        \n",
    "        # 获取关键日期\n",
    "        listing_date = row['上市日期']\n",
    "        resign_date = row['离任日期']\n",
    "        \n",
    "        # 缺失日期直接返回False\n",
    "        if pd.isna(listing_date) or pd.isna(resign_date):\n",
    "            return False\n",
    "        \n",
    "        # 计算会计年度区间（自然年）\n",
    "        first_year_start = pd.Timestamp(year=listing_date.year, month=1, day=1)\n",
    "        second_year_end = pd.Timestamp(year=listing_date.year + 1, month=12, day=31)\n",
    "        \n",
    "        return first_year_start <= resign_date <= second_year_end\n",
    "\n",
    "    # 应用条件检查\n",
    "    df['cu_9_3_condition'] = df.apply(check_condition, axis=1)\n",
    "\n",
    "    return df"
   ]
  },
  {
   "cell_type": "code",
   "execution_count": null,
   "id": "e34d2282",
   "metadata": {},
   "outputs": [],
   "source": [
    "df = check_cu_9_3(df)\n",
    "df"
   ]
  },
  {
   "cell_type": "markdown",
   "id": "a3307572",
   "metadata": {},
   "source": [
    "---"
   ]
  },
  {
   "cell_type": "markdown",
   "id": "26e43e27",
   "metadata": {},
   "source": [
    "# Law Article 10"
   ]
  },
  {
   "cell_type": "markdown",
   "id": "4240f6e7",
   "metadata": {},
   "source": [
    "## cu_10_1"
   ]
  },
  {
   "cell_type": "markdown",
   "id": "9f8de48e",
   "metadata": {},
   "source": [
    "\n",
    "| 字段 | 内容 |\n",
    "|------|------|\n",
    "| subject | 上市公司大股东 |\n",
    "| condition | 因涉嫌与本上市公司有关的证券期货违法犯罪，在被中国证监会及其派出机构立案调查或者被司法机关立案侦查期间 |\n",
    "| constrain | 不得减持其所持有的本公司股份 |\n",
    "| contextual_info | nan |\n",
    "| note | nan |\n",
    "| relation | nan |\n",
    "| target | nan |\n",
    "| type | 数值化执行单元 |\n",
    "| comments | nan |\n",
    "| prompt_tokens | 2017 |\n",
    "| completion_tokens | 10060 |\n"
   ]
  },
  {
   "cell_type": "markdown",
   "id": "7cd0ffe2",
   "metadata": {},
   "source": [
    "### 代码实现"
   ]
  },
  {
   "cell_type": "code",
   "execution_count": null,
   "id": "77a7eb2c",
   "metadata": {},
   "outputs": [],
   "source": [
    "import pandas as pd\n",
    "\n",
    "def check_cu_10_1(df):\n",
    "    '''\n",
    "    检查cu_10_1的合规性：\n",
    "    主体：上市公司大股东\n",
    "    条件：因涉嫌与本公司有关的证券期货违法犯罪被立案调查或侦查期间\n",
    "    约束：不得减持股份\n",
    "    '''\n",
    "    df = df.copy()\n",
    "    \n",
    "    # 初始化标记列\n",
    "    df['cu_10_1_subject'] = False\n",
    "    df['cu_10_1_condition'] = False\n",
    "    df['cu_10_1_constraint'] = True  # 默认未违反约束\n",
    "    \n",
    "    # 1. 验证责任主体：上市公司大股东\n",
    "    is_major = (\n",
    "        df['股东身份'].isin(['控股股东', '实际控制人', '持股5%以上股东']) |\n",
    "        (df['持股比例'] >= 0.05)\n",
    "    )\n",
    "    df.loc[is_major, 'cu_10_1_subject'] = True\n",
    "    \n",
    "    # 2. 验证触发条件：被立案调查或侦查期间\n",
    "    # 构建股东事件时间线\n",
    "    periods_dict = {}\n",
    "    relevant_events = df[['股东', '日期', '股东涉嫌证券期货违法犯罪事件']].dropna(subset=['股东涉嫌证券期货违法犯罪事件'])\n",
    "    relevant_events = relevant_events[relevant_events['股东涉嫌证券期货违法犯罪事件'].isin([\n",
    "        '被中国证监会及其派出机构立案调查',\n",
    "        '中国证监会及其派出机构立案调查结束',\n",
    "        '被司法机关立案侦查',\n",
    "        '司法机关立案侦查结束'\n",
    "    ])]\n",
    "    \n",
    "    for shareholder, group in relevant_events.groupby('股东'):\n",
    "        events = group.sort_values('日期')\n",
    "        periods = []\n",
    "        inv_start, inv_end = None, None\n",
    "        inv_flag = False\n",
    "        scr_start, scr_end = None, None\n",
    "        scr_flag = False\n",
    "        \n",
    "        for _, row in events.itertuples():\n",
    "            event = row.股东涉嫌证券期货违法犯罪事件\n",
    "            date = row.日期\n",
    "            \n",
    "            if event == '被中国证监会及其派出机构立案调查':\n",
    "                inv_start = date\n",
    "                inv_flag = True\n",
    "            elif event == '中国证监会及其派出机构立案调查结束' and inv_flag:\n",
    "                inv_end = date\n",
    "                periods.append(('investigation', inv_start, inv_end))\n",
    "                inv_flag = False\n",
    "            elif event == '被司法机关立案侦查':\n",
    "                scr_start = date\n",
    "                scr_flag = True\n",
    "            elif event == '司法机关立案侦查结束' and scr_flag:\n",
    "                scr_end = date\n",
    "                periods.append(('inquiry', scr_start, scr_end))\n",
    "                scr_flag = False\n",
    "        \n",
    "        # 处理未结束的事件\n",
    "        if inv_flag:\n",
    "            periods.append(('investigation', inv_start, pd.Timestamp.max))\n",
    "        if scr_flag:\n",
    "            periods.append(('inquiry', scr_start, pd.Timestamp.max))\n",
    "        \n",
    "        periods_dict[shareholder] = periods\n",
    "    \n",
    "    # 判断日期是否在调查/侦查期间\n",
    "    def is_in_period(row):\n",
    "        shareholder = row['股东']\n",
    "        date = row['日期']\n",
    "        for period_type, start, end in periods_dict.get(shareholder, []):\n",
    "            if start <= date <= end:\n",
    "                return True\n",
    "        return False\n",
    "    \n",
    "    df['cu_10_1_condition'] = df.apply(is_in_period, axis=1)\n",
    "    \n",
    "    # 3. 验证约束条件：不得减持\n",
    "    mask = df['cu_10_1_subject'] & df['cu_10_1_condition']\n",
    "    df.loc[mask, 'cu_10_1_constraint'] = (df.loc[mask, '当日减持比例'] <= 0)\n",
    "    \n",
    "    return df"
   ]
  },
  {
   "cell_type": "code",
   "execution_count": null,
   "id": "47165b4c",
   "metadata": {},
   "outputs": [],
   "source": [
    "df = check_cu_10_1(df)\n",
    "df"
   ]
  },
  {
   "cell_type": "markdown",
   "id": "abf598dc",
   "metadata": {},
   "source": [
    "---"
   ]
  },
  {
   "cell_type": "markdown",
   "id": "de37a1d9",
   "metadata": {},
   "source": [
    "## cu_10_2"
   ]
  },
  {
   "cell_type": "markdown",
   "id": "fafb8731",
   "metadata": {},
   "source": [
    "\n",
    "| 字段 | 内容 |\n",
    "|------|------|\n",
    "| subject | 上市公司大股东 |\n",
    "| condition | 因涉嫌与本上市公司有关的证券期货违法犯罪被中国证监会及其派出机构立案调查或者被司法机关立案侦查，在行政处罚决定、刑事判决作出之后未满6个月 |\n",
    "| constrain | 不得减持其所持有的本公司股份 |\n",
    "| contextual_info | nan |\n",
    "| note | 6个月按180个自然日计算, 含处罚日当日 |\n",
    "| relation | nan |\n",
    "| target | nan |\n",
    "| type | 数值化执行单元 |\n",
    "| comments | nan |\n",
    "| prompt_tokens | 2042 |\n",
    "| completion_tokens | 6273 |\n"
   ]
  },
  {
   "cell_type": "markdown",
   "id": "e492b710",
   "metadata": {},
   "source": [
    "### 代码实现"
   ]
  },
  {
   "cell_type": "code",
   "execution_count": null,
   "id": "6a0cc394",
   "metadata": {},
   "outputs": [],
   "source": [
    "import pandas as pd\n",
    "\n",
    "def check_cu_10_2(df):\n",
    "    '''\n",
    "    检查cu_10_2合规性：\n",
    "    主体：上市公司大股东（控股股东/实际控制人/持股5%以上股东或持股≥5%）\n",
    "    条件：因涉本公司证券期货犯罪被处罚后未满180天\n",
    "    约束：不得减持股份\n",
    "    '''\n",
    "    df = df.copy()\n",
    "    \n",
    "    # 初始化标记列\n",
    "    df['cu_10_2_subject'] = False\n",
    "    df['cu_10_2_condition'] = False\n",
    "    df['cu_10_2_constraint'] = (df['当日减持比例'] <= 0)  # 独立检查约束条件\n",
    "    \n",
    "    # 1. 验证责任主体\n",
    "    major_shareholder_mask = (\n",
    "        df['股东身份'].isin(['控股股东', '实际控制人', '持股5%以上股东']) |\n",
    "        (df['持股比例'] >= 0.05)\n",
    "    )\n",
    "    df.loc[major_shareholder_mask, 'cu_10_2_subject'] = True\n",
    "    \n",
    "    # 2. 构建处罚日期索引\n",
    "    penalty_events = df[df['股东涉嫌证券期货违法犯罪事件'].isin(['行政处罚决定作出', '刑事判决作出'])]\n",
    "    if not penalty_events.empty:\n",
    "        penalty_dates = penalty_events.groupby(['公司简称', '股东'])['日期'].apply(list)\n",
    "        \n",
    "        # 3. 检查处罚后180天窗口期\n",
    "        def check_penalty_window(row):\n",
    "            dates = penalty_dates.get((row['公司简称'], row['股东']), [])\n",
    "            return any((row['日期'] - pd.Timestamp(date)).days <= 180 \n",
    "                      and (row['日期'] >= pd.Timestamp(date)) for date in dates)\n",
    "        \n",
    "        df['cu_10_2_condition'] = df.apply(check_penalty_window, axis=1)\n",
    "    \n",
    "    return df"
   ]
  },
  {
   "cell_type": "code",
   "execution_count": null,
   "id": "1eb42fea",
   "metadata": {},
   "outputs": [],
   "source": [
    "df = check_cu_10_2(df)\n",
    "df"
   ]
  },
  {
   "cell_type": "markdown",
   "id": "dffc4598",
   "metadata": {},
   "source": [
    "---"
   ]
  },
  {
   "cell_type": "markdown",
   "id": "0ed34b49",
   "metadata": {},
   "source": [
    "## cu_10_3"
   ]
  },
  {
   "cell_type": "markdown",
   "id": "6a0367a8",
   "metadata": {},
   "source": [
    "\n",
    "| 字段 | 内容 |\n",
    "|------|------|\n",
    "| subject | 上市公司大股东 |\n",
    "| condition | 因涉及与本上市公司有关的违法违规，被本所公开谴责未满3个月 |\n",
    "| constrain | 不得减持其所持有的本公司股份 |\n",
    "| contextual_info | nan |\n",
    "| note | 三个月按照90个自然日计算, 含处罚日当日;  |\n",
    "| relation | nan |\n",
    "| target | nan |\n",
    "| type | 数值化执行单元 |\n",
    "| comments | nan |\n",
    "| prompt_tokens | 2024 |\n",
    "| completion_tokens | 8941 |\n"
   ]
  },
  {
   "cell_type": "markdown",
   "id": "8de83a55",
   "metadata": {},
   "source": [
    "### 代码实现"
   ]
  },
  {
   "cell_type": "code",
   "execution_count": null,
   "id": "2e2ecc1a",
   "metadata": {},
   "outputs": [],
   "source": [
    "import pandas as pd\n",
    "\n",
    "def check_cu_10_3(df):\n",
    "    '''\n",
    "    检查cu_10_3的合规性：\n",
    "    主体：上市公司大股东（控股股东/实际控制人/持股5%以上股东）\n",
    "    条件：被本所公开谴责未满90自然日\n",
    "    约束：不得减持股份\n",
    "    '''\n",
    "    df = df.copy()\n",
    "    \n",
    "    # 初始化标记列\n",
    "    df['cu_10_3_subject'] = False\n",
    "    df['cu_10_3_condition'] = False\n",
    "    df['cu_10_3_constraint'] = None\n",
    "\n",
    "    # 1. 验证责任主体（复合逻辑）\n",
    "    subject_mask = (\n",
    "        df['股东身份'].isin(['控股股东', '实际控制人', '持股5%以上股东']) |  # 身份标签判断\n",
    "        (df['持股比例'] >= 0.05)  # 持股比例判断\n",
    "    )\n",
    "    df.loc[subject_mask, 'cu_10_3_subject'] = True\n",
    "\n",
    "    # 2. 验证触发条件（需分组处理）\n",
    "    # 获取所有被公开谴责的记录\n",
    "    condemn_events = df[df['股东涉嫌证券期货违法犯罪事件'] == '被本所公开谴责']\n",
    "    # 按股东分组记录所有谴责日期\n",
    "    condemn_dates = condemn_events.groupby(['公司简称', '股东'])['日期'].apply(list).reset_index()\n",
    "    # 合并到原数据\n",
    "    df = df.merge(condemn_dates, on=['公司简称', '股东'], how='left', suffixes=('', '_condemn'))\n",
    "    \n",
    "    # 计算自然日差并标记条件\n",
    "    def check_condemn(row):\n",
    "        if not isinstance(row['日期_condemn'], list):\n",
    "            return False\n",
    "        current_date = row['日期']\n",
    "        for d in row['日期_condemn']:\n",
    "            delta = (current_date - d).days\n",
    "            if 0 <= delta < 90:  # 含处罚当日（delta=0）\n",
    "                return True\n",
    "        return False\n",
    "    \n",
    "    df['cu_10_3_condition'] = df.apply(check_condemn, axis=1)\n",
    "    df = df.drop(columns=['日期_condemn'])  # 清理临时列\n",
    "\n",
    "    # 3. 验证约束条件（独立标记）\n",
    "    df['cu_10_3_constraint'] = (df['当日减持比例'] <= 0)  # 未减持则合规\n",
    "\n",
    "    return df"
   ]
  },
  {
   "cell_type": "code",
   "execution_count": null,
   "id": "a8a67ba5",
   "metadata": {},
   "outputs": [],
   "source": [
    "df = check_cu_10_3(df)\n",
    "df"
   ]
  },
  {
   "cell_type": "markdown",
   "id": "70fae2ff",
   "metadata": {},
   "source": [
    "---"
   ]
  },
  {
   "cell_type": "markdown",
   "id": "faecbc0a",
   "metadata": {},
   "source": [
    "# Law Article 11"
   ]
  },
  {
   "cell_type": "markdown",
   "id": "870c9a5b",
   "metadata": {},
   "source": [
    "## cu_11_1"
   ]
  },
  {
   "cell_type": "markdown",
   "id": "c06e5383",
   "metadata": {},
   "source": [
    "\n",
    "| 字段 | 内容 |\n",
    "|------|------|\n",
    "| subject | 上市公司控股股东 | 实际控制人 |\n",
    "| condition | 上市公司因涉嫌证券期货违法犯罪，在被中国证监会及其派出机构立案调查或者被司法机关立案侦查期间 |\n",
    "| constrain | 不得减持其所持有的本公司股份 |\n",
    "| contextual_info | nan |\n",
    "| note | nan |\n",
    "| relation | nan |\n",
    "| target | nan |\n",
    "| type | 数值化执行单元 |\n",
    "| comments | nan |\n",
    "| prompt_tokens | 2020 |\n",
    "| completion_tokens | 7194 |\n"
   ]
  },
  {
   "cell_type": "markdown",
   "id": "700a74bc",
   "metadata": {},
   "source": [
    "### 代码实现"
   ]
  },
  {
   "cell_type": "code",
   "execution_count": null,
   "id": "3c13a0d1",
   "metadata": {},
   "outputs": [],
   "source": [
    "import pandas as pd\n",
    "\n",
    "def check_cu_11_1(df):\n",
    "    '''\n",
    "    检查cu_11_1的合规性：\n",
    "    主体：上市公司控股股东 | 实际控制人\n",
    "    条件：公司因涉嫌证券期货违法犯罪被立案调查或侦查\n",
    "    约束：不得减持股份\n",
    "    '''\n",
    "    df = df.copy()\n",
    "\n",
    "    # 初始化标记列\n",
    "    df['cu_11_1_subject'] = False\n",
    "    df['cu_11_1_condition'] = False\n",
    "    df['cu_11_1_constraint'] = False\n",
    "\n",
    "    # 1. 验证责任主体\n",
    "    valid_subject = df['股东身份'].isin(['控股股东', '实际控制人'])\n",
    "    df.loc[valid_subject, 'cu_11_1_subject'] = True\n",
    "\n",
    "    # 2. 验证触发条件\n",
    "    valid_condition = df['公司涉嫌证券期货违法犯罪事件'].isin([\n",
    "        '被中国证监会及其派出机构立案调查',\n",
    "        '被司法机关立案侦查'\n",
    "    ])\n",
    "    df.loc[valid_condition, 'cu_11_1_condition'] = True\n",
    "\n",
    "    # 3. 验证约束条件（独立检查）\n",
    "    df['cu_11_1_constraint'] = (df['当日减持比例'] <= 0)\n",
    "\n",
    "    return df"
   ]
  },
  {
   "cell_type": "code",
   "execution_count": null,
   "id": "5d823ac2",
   "metadata": {},
   "outputs": [],
   "source": [
    "df = check_cu_11_1(df)\n",
    "df"
   ]
  },
  {
   "cell_type": "markdown",
   "id": "a37a986e",
   "metadata": {},
   "source": [
    "---"
   ]
  },
  {
   "cell_type": "markdown",
   "id": "c0ed554a",
   "metadata": {},
   "source": [
    "## cu_11_2"
   ]
  },
  {
   "cell_type": "markdown",
   "id": "61097a69",
   "metadata": {},
   "source": [
    "\n",
    "| 字段 | 内容 |\n",
    "|------|------|\n",
    "| subject | 上市公司控股股东 | 实际控制人 |\n",
    "| condition | 上市公司因涉嫌证券期货违法犯罪被中国证监会及其派出机构立案调查或者被司法机关立案侦查，在行政处罚决定、刑事判决作出之后未满6个月的 |\n",
    "| constrain | 不得减持其所持有的本公司股份 |\n",
    "| contextual_info | nan |\n",
    "| note | 6个月按180个自然日计算 |\n",
    "| relation | nan |\n",
    "| target | nan |\n",
    "| type | 数值化执行单元 |\n",
    "| comments | nan |\n",
    "| prompt_tokens | 2039 |\n",
    "| completion_tokens | 3472 |\n"
   ]
  },
  {
   "cell_type": "markdown",
   "id": "9152a3a8",
   "metadata": {},
   "source": [
    "### 代码实现"
   ]
  },
  {
   "cell_type": "code",
   "execution_count": null,
   "id": "dc2cee00",
   "metadata": {},
   "outputs": [],
   "source": [
    "import pandas as pd\n",
    "\n",
    "def check_cu_11_2(df):\n",
    "    '''\n",
    "    检查cu_11_2合规性：\n",
    "    主体：上市公司控股股东 | 实际控制人\n",
    "    条件：公司被立案且处罚后未满180天\n",
    "    约束：期间不得减持股份\n",
    "    '''\n",
    "    df = df.copy()\n",
    "    \n",
    "    # 初始化标记列\n",
    "    df['cu_11_2_subject'] = False\n",
    "    df['cu_11_2_condition'] = False\n",
    "    df['cu_11_2_constraint'] = None\n",
    "    \n",
    "    # 1. 验证责任主体\n",
    "    subject_mask = df['股东身份'].isin(['控股股东', '实际控制人'])\n",
    "    df.loc[subject_mask, 'cu_11_2_subject'] = True\n",
    "    \n",
    "    # 2. 处理触发条件\n",
    "    # 获取公司最新处罚日期（行政处罚决定/刑事判决）\n",
    "    penalty_events = ['行政处罚决定作出', '刑事判决作出']\n",
    "    company_penalties = df[df['公司涉嫌证券期货违法犯罪事件'].isin(penalty_events)]\n",
    "    latest_penalty = company_penalties.groupby('公司简称', group_keys=False)['日期'].max().reset_index(name='latest_penalty_date')\n",
    "    \n",
    "    # 合并处罚信息\n",
    "    df = df.merge(latest_penalty, on='公司简称', how='left')\n",
    "    \n",
    "    # 计算自然日间隔\n",
    "    df['days_since_penalty'] = (df['日期'] - df['latest_penalty_date']).dt.days\n",
    "    \n",
    "    # 条件判断：在处罚后180天内且处罚日期有效\n",
    "    condition_mask = (\n",
    "        (df['days_since_penalty'] >= 0) &\n",
    "        (df['days_since_penalty'] <= 180) &\n",
    "        df['latest_penalty_date'].notna()\n",
    "    )\n",
    "    df.loc[condition_mask, 'cu_11_2_condition'] = True\n",
    "    \n",
    "    # 3. 验证约束条件\n",
    "    combined_mask = df['cu_11_2_subject'] & df['cu_11_2_condition']\n",
    "    # 当日有减持则违规\n",
    "    df.loc[combined_mask, 'cu_11_2_constraint'] = (df.loc[combined_mask, '当日减持比例'] <= 0)\n",
    "    \n",
    "    # 清理中间列\n",
    "    df.drop(columns=['latest_penalty_date', 'days_since_penalty'], inplace=True, errors='ignore')\n",
    "    \n",
    "    return df"
   ]
  },
  {
   "cell_type": "code",
   "execution_count": null,
   "id": "5dd3cc48",
   "metadata": {},
   "outputs": [],
   "source": [
    "df = check_cu_11_2(df)\n",
    "df"
   ]
  },
  {
   "cell_type": "markdown",
   "id": "cdafee17",
   "metadata": {},
   "source": [
    "---"
   ]
  },
  {
   "cell_type": "markdown",
   "id": "a7e977fa",
   "metadata": {},
   "source": [
    "## cu_11_3"
   ]
  },
  {
   "cell_type": "markdown",
   "id": "001afe40",
   "metadata": {},
   "source": [
    "\n",
    "| 字段 | 内容 |\n",
    "|------|------|\n",
    "| subject | 上市公司控股股东 | 实际控制人 |\n",
    "| condition | 上市公司被本所公开谴责未满3个月 |\n",
    "| constrain | 不得减持其所持有的本公司股份 |\n",
    "| contextual_info | nan |\n",
    "| note | 三个月按照90个自然日计算, 含处罚日当日;  |\n",
    "| relation | nan |\n",
    "| target | nan |\n",
    "| type | 数值化执行单元 |\n",
    "| comments | nan |\n",
    "| prompt_tokens | 2023 |\n",
    "| completion_tokens | 5516 |\n"
   ]
  },
  {
   "cell_type": "markdown",
   "id": "73f173d1",
   "metadata": {},
   "source": [
    "### 代码实现"
   ]
  },
  {
   "cell_type": "code",
   "execution_count": null,
   "id": "bd7fe682",
   "metadata": {},
   "outputs": [],
   "source": [
    "import pandas as pd\n",
    "\n",
    "def check_cu_11_3(df):\n",
    "    '''\n",
    "    检查cu_11_3的合规性：\n",
    "    主体：上市公司控股股东 | 实际控制人\n",
    "    条件：上市公司被本所公开谴责未满90天\n",
    "    约束：不得减持股份\n",
    "    '''\n",
    "    df = df.copy()\n",
    "\n",
    "    # 初始化标记列\n",
    "    df['cu_11_3_subject'] = False\n",
    "    df['cu_11_3_condition'] = False\n",
    "    df['cu_11_3_constraint'] = True  # 默认未减持\n",
    "\n",
    "    # 1. 验证责任主体\n",
    "    subject_mask = df['股东身份'].isin(['控股股东', '实际控制人'])\n",
    "    df.loc[subject_mask, 'cu_11_3_subject'] = True\n",
    "\n",
    "    # 2. 验证触发条件\n",
    "    # 获取各公司最新公开谴责日期\n",
    "    condemn_dates = (df[df['公司涉嫌证券期货违法犯罪事件'] == '被本所公开谴责']\n",
    "                     .groupby('公司简称')['日期']\n",
    "                     .max()\n",
    "                     .reset_index()\n",
    "                     .rename(columns={'日期': '最新谴责日'}))\n",
    "    \n",
    "    # 合并谴责日期到主表\n",
    "    df = df.merge(condemn_dates, on='公司简称', how='left')\n",
    "    \n",
    "    # 计算自然日间隔（含处罚当日）\n",
    "    if not condemn_dates.empty:\n",
    "        df['自然日差'] = (df['日期'] - df['最新谴责日']).dt.days\n",
    "        condition_mask = (df['自然日差'] >= 0) & (df['自然日差'] < 90)\n",
    "        df.loc[condition_mask, 'cu_11_3_condition'] = True\n",
    "        df['cu_11_3_condition'] = df['cu_11_3_condition'].fillna(False)\n",
    "        df.drop(['最新谴责日', '自然日差'], axis=1, inplace=True, errors='ignore')\n",
    "    else:\n",
    "        df['cu_11_3_condition'] = False\n",
    "\n",
    "    # 3. 验证约束条件\n",
    "    df['cu_11_3_constraint'] = (df['当日减持比例'] == 0)\n",
    "\n",
    "    return df"
   ]
  },
  {
   "cell_type": "code",
   "execution_count": null,
   "id": "54f7ef0d",
   "metadata": {},
   "outputs": [],
   "source": [
    "df = check_cu_11_3(df)\n",
    "df"
   ]
  },
  {
   "cell_type": "markdown",
   "id": "50bddb36",
   "metadata": {},
   "source": [
    "---"
   ]
  },
  {
   "cell_type": "markdown",
   "id": "e8db4fbc",
   "metadata": {},
   "source": [
    "## cu_11_4"
   ]
  },
  {
   "cell_type": "markdown",
   "id": "41f8e49f",
   "metadata": {},
   "source": [
    "\n",
    "| 字段 | 内容 |\n",
    "|------|------|\n",
    "| subject | 上市公司控股股东 | 实际控制人 |\n",
    "| condition | 市公司股票因可能触及重大违法强制退市情形，而被本所实施退市风险警示，在本所规定的限制减持期限内的 |\n",
    "| constrain | 不得减持其所持有的本公司股份 |\n",
    "| contextual_info | nan |\n",
    "| note | nan |\n",
    "| relation | nan |\n",
    "| target | nan |\n",
    "| type | 数值化执行单元 |\n",
    "| comments | nan |\n",
    "| prompt_tokens | 2028 |\n",
    "| completion_tokens | 10501 |\n"
   ]
  },
  {
   "cell_type": "markdown",
   "id": "f7e89634",
   "metadata": {},
   "source": [
    "### 代码实现"
   ]
  },
  {
   "cell_type": "code",
   "execution_count": null,
   "id": "12a16072",
   "metadata": {},
   "outputs": [],
   "source": [
    "import pandas as pd\n",
    "from collections import defaultdict\n",
    "\n",
    "def check_cu_11_4(df):\n",
    "    '''\n",
    "    检查cu_11_4的合规性：\n",
    "    主体：上市公司控股股东 | 实际控制人\n",
    "    条件：公司股票因重大违法被实施退市风险警示且在限制期内\n",
    "    约束：不得减持股份\n",
    "    '''\n",
    "    df = df.copy()\n",
    "    \n",
    "    # 初始化标记列\n",
    "    df['cu_11_4_subject'] = False\n",
    "    df['cu_11_4_condition'] = False\n",
    "    df['cu_11_4_constraint'] = None\n",
    "    \n",
    "    # 1. 验证责任主体\n",
    "    df['cu_11_4_subject'] = df['股东身份'].isin(['控股股东', '实际控制人'])\n",
    "    \n",
    "    # 2. 验证触发条件（基于立案调查后180天限制期）\n",
    "    # 获取公司被立案调查的日期\n",
    "    investigation_mask = df['公司涉嫌证券期货违法犯罪事件'] == '被中国证监会及其派出机构立案调查'\n",
    "    investigation_dates = df[investigation_mask][['公司简称', '日期']].drop_duplicates()\n",
    "    \n",
    "    # 构建公司限制期区间\n",
    "    company_periods = defaultdict(list)\n",
    "    for _, row in investigation_dates.iterrows():\n",
    "        company = row['公司简称']\n",
    "        start_date = row['日期']\n",
    "        end_date = start_date + pd.Timedelta(days=180)\n",
    "        company_periods[company].append((start_date, end_date))\n",
    "    \n",
    "    # 检查日期是否在限制期内\n",
    "    def is_in_restriction(row):\n",
    "        company = row['公司简称']\n",
    "        current_date = row['日期']\n",
    "        periods = company_periods.get(company, [])\n",
    "        for start, end in periods:\n",
    "            if start <= current_date <= end:\n",
    "                return True\n",
    "        return False\n",
    "    \n",
    "    df['cu_11_4_condition'] = df.apply(is_in_restriction, axis=1)\n",
    "    \n",
    "    # 3. 验证约束条件（仅对符合主体和条件的行进行检查）\n",
    "    mask = df['cu_11_4_subject'] & df['cu_11_4_condition']\n",
    "    df.loc[mask, 'cu_11_4_constraint'] = (df.loc[mask, '当日减持比例'] <= 0)\n",
    "    \n",
    "    return df"
   ]
  },
  {
   "cell_type": "code",
   "execution_count": null,
   "id": "f72d59f6",
   "metadata": {},
   "outputs": [],
   "source": [
    "df = check_cu_11_4(df)\n",
    "df"
   ]
  },
  {
   "cell_type": "markdown",
   "id": "2beef522",
   "metadata": {},
   "source": [
    "---"
   ]
  },
  {
   "cell_type": "markdown",
   "id": "43a6c091",
   "metadata": {},
   "source": [
    "# Law Article 12"
   ]
  },
  {
   "cell_type": "markdown",
   "id": "1631eb5b",
   "metadata": {},
   "source": [
    "## cu_12_1"
   ]
  },
  {
   "cell_type": "markdown",
   "id": "d37be7ac",
   "metadata": {},
   "source": [
    "\n",
    "| 字段 | 内容 |\n",
    "|------|------|\n",
    "| subject | 公开发行股票并上市时的控股股东 | 公开发行股票并上市时的实际控制人 |\n",
    "| condition | 计划通过集中竞价交易或大宗交易减持股份且首次披露减持计划, 且不存在已经按照本指引第四条披露减持计划，或者中国证监会另有规定的情况的 |\n",
    "| constrain | 不得存在下列情形：最近20个交易日内任一交易日股票收盘价低于公开发行股票并上市的发行价格 |\n",
    "| contextual_info | 股票收盘价以公开发行股票并上市之日为基准向后复权计算 |\n",
    "| note | 不考虑已经按照本指引第四条披露减持计划，或者中国证监会另有规定的情况; 公司上市前30个交易日不会披露减持计划 |\n",
    "| relation | nan |\n",
    "| target | nan |\n",
    "| type | 数值化执行单元 |\n",
    "| comments | nan |\n",
    "| prompt_tokens | 2106 |\n",
    "| completion_tokens | 10107 |\n"
   ]
  },
  {
   "cell_type": "markdown",
   "id": "82392df5",
   "metadata": {},
   "source": [
    "### 代码实现"
   ]
  },
  {
   "cell_type": "code",
   "execution_count": null,
   "id": "08d18b75",
   "metadata": {},
   "outputs": [],
   "source": [
    "import pandas as pd\n",
    "\n",
    "def check_cu_12_1(df):\n",
    "    '''\n",
    "    检查cu_12_1的合规性：\n",
    "    主体：公开发行股票并上市时的控股股东或实际控制人\n",
    "    条件：首次通过竞价/大宗交易减持计划\n",
    "    约束：最近20个交易日内无收盘价低于发行价（复权后）\n",
    "    '''\n",
    "    df = df.copy()\n",
    "    \n",
    "    # 初始化标记列\n",
    "    df['cu_12_1_subject'] = False\n",
    "    df['cu_12_1_condition'] = False\n",
    "    df['cu_12_1_constraint'] = None\n",
    "    \n",
    "    # 1. 验证责任主体：上市时的控股股东或实际控制人\n",
    "    # 找到每个公司的第一个非空收盘价的日期（上市日期）\n",
    "    first_close_dates = df[df['收盘价'].notna()].groupby('公司简称')['日期'].min().reset_index()\n",
    "    first_close_dates.rename(columns={'日期': '上市日期'}, inplace=True)\n",
    "    \n",
    "    # 合并到原数据以获取每个公司的上市日期\n",
    "    df = df.merge(first_close_dates, on='公司简称', how='left')\n",
    "    \n",
    "    # 收集上市时的控股股东和实际控制人\n",
    "    subject_holders = set()\n",
    "    for company in df['公司简称'].unique():\n",
    "        ipo_date = first_close_dates.loc[first_close_dates['公司简称'] == company, '上市日期'].iloc[0]\n",
    "        # 筛选上市日期的控股股东和实际控制人\n",
    "        mask = (df['公司简称'] == company) & (df['日期'] == ipo_date) & (df['股东身份'].isin(['控股股东', '实际控制人']))\n",
    "        holders = df[mask]['股东'].unique()\n",
    "        subject_holders.update([(company, h) for h in holders])\n",
    "    \n",
    "    # 标记subject列\n",
    "    df['cu_12_1_subject'] = df.apply(lambda row: (row['公司简称'], row['股东']) in subject_holders, axis=1)\n",
    "    \n",
    "    # 2. 验证触发条件：首次披露减持计划且方式正确\n",
    "    # 找到每个股东首次披露减持计划的日期\n",
    "    first_disclosures = df[df['存在减持计划']].groupby(['公司简称', '股东'])['计划披露日'].min().reset_index()\n",
    "    first_disclosures.rename(columns={'计划披露日': '首次计划披露日'}, inplace=True)\n",
    "    \n",
    "    # 合并到原数据\n",
    "    df = df.merge(first_disclosures, on=['公司简称', '股东'], how='left')\n",
    "    \n",
    "    # 条件判断\n",
    "    valid_condition = (\n",
    "        df['存在减持计划'] &\n",
    "        (df['计划披露日'] == df['首次计划披露日']) &\n",
    "        df['减持方式'].isin(['竞价交易', '大宗交易'])\n",
    "    )\n",
    "    df['cu_12_1_condition'] = valid_condition\n",
    "    \n",
    "    # 3. 验证约束条件：最近20个交易日无收盘价低于发行价（复权后）\n",
    "    # 计算复权收盘价\n",
    "    df['复权收盘价'] = df['收盘价'] * df['复权因子']\n",
    "    df['收盘价低于发行价'] = df['复权收盘价'] < df['发行价格']\n",
    "    \n",
    "    # 按公司分组，按日期排序，计算每个日期前20个交易日的窗口\n",
    "    df_sorted = df.sort_values(['公司简称', '日期'])\n",
    "    df_sorted['最近20日存在收盘价低于发行价'] = df_sorted.groupby('公司简称')['收盘价低于发行价'].transform(\n",
    "        lambda x: x.rolling(20, min_periods=1).apply(lambda y: y.any(), raw=True)\n",
    "    )\n",
    "    \n",
    "    # 创建辅助字典\n",
    "    aux_dict = df_sorted.set_index(['公司简称', '日期'])['最近20日存在收盘价低于发行价'].to_dict()\n",
    "    \n",
    "    # 处理符合条件的行\n",
    "    mask = df['cu_12_1_subject'] & df['cu_12_1_condition']\n",
    "    # 获取计划披露日对应的标记\n",
    "    df.loc[mask, 'cu_12_1_constraint'] = df[mask].apply(\n",
    "        lambda row: aux_dict.get((row['公司简称'], row['计划披露日']), True), axis=1\n",
    "    )\n",
    "    # 取反，因为约束是不得存在该情况\n",
    "    df.loc[mask, 'cu_12_1_constraint'] = ~df.loc[mask, 'cu_12_1_constraint']\n",
    "    \n",
    "    # 清理中间列\n",
    "    df.drop(columns=['上市日期', '首次计划��露日', '复权收盘价', '收盘价低于发行价'], inplace=True, errors='ignore')\n",
    "    \n",
    "    return df"
   ]
  },
  {
   "cell_type": "code",
   "execution_count": null,
   "id": "9097da5a",
   "metadata": {},
   "outputs": [],
   "source": [
    "df = check_cu_12_1(df)\n",
    "df"
   ]
  },
  {
   "cell_type": "markdown",
   "id": "1e6e577d",
   "metadata": {},
   "source": [
    "---"
   ]
  },
  {
   "cell_type": "markdown",
   "id": "1adf4ce3",
   "metadata": {},
   "source": [
    "## cu_12_2"
   ]
  },
  {
   "cell_type": "markdown",
   "id": "bf7ce227",
   "metadata": {},
   "source": [
    "\n",
    "| 字段 | 内容 |\n",
    "|------|------|\n",
    "| subject | 上市公司控股股东 | 实际控制人 | 一致行动人 |\n",
    "| condition | 计划通过集中竞价交易或大宗交易减持股份且首次披露减持计划, 且不存在已经按照本指引第四条披露减持计划，或者中国证监会另有规定的情况的 |\n",
    "| constrain | 不得存在下列情形：最近20个交易日内，上市公司任一交易日股票收盘价低于最近一个会计年度或者最近一期财务会计报告期末每股归属于上市公司股东的净资产 |\n",
    "| contextual_info | 股票收盘价以最近一个会计年度或者最近一期财务会计报告资产负债表日为基准分别向后复权计算 |\n",
    "| note | 不考虑已经按照本指引第四条披露减持计划，或者中国证监会另有规定的情况; 公司上市的头30个交易日不会披露减持计划; 不考虑一致行动人; \"最近一个会计年度或者最近一期财务会计报告期末\"理解为公司当前最新的财务数据即可, 不用分别形成两个复权收盘价再分别比较; 股票收盘价以最近一个会计年度或者最近一期财务会计报告资产负债表日为基准分别向后复权计算, 如果代码正确而取到此日的收盘价为空说明当日未上市, 不用特殊处理, 保留其为空即可 |\n",
    "| relation | nan |\n",
    "| target | nan |\n",
    "| type | 数值化执行单元 |\n",
    "| comments | nan |\n",
    "| prompt_tokens | 2204 |\n",
    "| completion_tokens | 7932 |\n"
   ]
  },
  {
   "cell_type": "markdown",
   "id": "0d0a8f59",
   "metadata": {},
   "source": [
    "### 代码实现"
   ]
  },
  {
   "cell_type": "code",
   "execution_count": null,
   "id": "202123e0",
   "metadata": {},
   "outputs": [],
   "source": [
    "import pandas as pd\n",
    "\n",
    "def check_cu_12_2(df):\n",
    "    '''\n",
    "    检查cu_12_2的合规性：\n",
    "    主体：控股股东 | 实际控制人\n",
    "    条件：通过竞价/大宗交易首次披露减持计划且不在上市头30日\n",
    "    约束：前20个交易日收盘价均不低于最新每股净资产\n",
    "    '''\n",
    "    df = df.copy()\n",
    "    \n",
    "    # 初始化标记列\n",
    "    df['cu_12_2_subject'] = False\n",
    "    df['cu_12_2_condition'] = False\n",
    "    df['cu_12_2_constraint'] = None\n",
    "    \n",
    "    # 1. 验证责任主体\n",
    "    df['cu_12_2_subject'] = df['股东身份'].isin(['控股股东', '实际控制人'])\n",
    "    \n",
    "    # 2. 验证触发条件\n",
    "    # 计算交易日序号（上市后第N个交易日）\n",
    "    df['交易日序号'] = df.groupby('公司简称')['日期'].rank(method='dense', ascending=True).astype(int)\n",
    "    \n",
    "    # 条件判断要素\n",
    "    valid_method = df['减持方式'].isin(['竞价交易', '大宗交易'])\n",
    "    has_plan = df['存在减持计划']\n",
    "    not_new = df['交易日序号'] > 30  # 排除上市头30日\n",
    "    \n",
    "    # 计算首次披露标记\n",
    "    plan_mask = df['存在减持计划']\n",
    "    df['计划披露日'] = df['计划披露日'].where(plan_mask)  # 仅保留真实披露日\n",
    "    df['首次计划披露日'] = df[plan_mask].groupby(\n",
    "        ['公司简称', '股东'])['计划披露日'].transform('min')\n",
    "    \n",
    "    is_first = (df['计划披露日'] == df['首次计划披露日']) & has_plan\n",
    "    \n",
    "    # 综合条件判断\n",
    "    df['cu_12_2_condition'] = valid_method & has_plan & not_new & is_first\n",
    "    \n",
    "    # 3. 验证约束条件（仅对符合主体和条件的记录进行检查）\n",
    "    # 生成公司维度的交易日序列\n",
    "    company_daily = df.groupby(['公司简称', '日期']).agg({\n",
    "        '收盘价': 'first',\n",
    "        '复权因子': 'first',\n",
    "        '每股净资产': 'first'\n",
    "    }).reset_index().sort_values(['公司简称', '日期'])\n",
    "    \n",
    "    # 计算复权价格并标记低于NAV的情况\n",
    "    company_daily['复权收盘价'] = company_daily['收盘价'] * company_daily['复权因子']\n",
    "    company_daily['低于NAV'] = company_daily['复权收盘价'] < company_daily['每股净资产']\n",
    "    \n",
    "    # 计算前20个交易日内是否存在违规\n",
    "    company_daily['前20日违规'] = company_daily.groupby('公司简称')['低于NAV'].transform(\n",
    "        lambda x: x.rolling(20, min_periods=1).max().shift(1)\n",
    "    )\n",
    "    \n",
    "    # 合并违规标记到原始数据\n",
    "    df = df.merge(\n",
    "        company_daily[['公司简称', '日期', '前20日违规']],\n",
    "        on=['公司简称', '日期'],\n",
    "        how='left'\n",
    "    )\n",
    "    \n",
    "    # 设置约束条件标记\n",
    "    mask = df['cu_12_2_subject'] & df['cu_12_2_condition']\n",
    "    df.loc[mask, 'cu_12_2_constraint'] = ~df.loc[mask, '前20日违规'].fillna(False)\n",
    "    \n",
    "    # 清理中间列\n",
    "    df.drop(['交易日序号', '首次计划披露日', '前20日违规'], axis=1, errors='ignore', inplace=True)\n",
    "    \n",
    "    return df"
   ]
  },
  {
   "cell_type": "code",
   "execution_count": null,
   "id": "b18bd069",
   "metadata": {},
   "outputs": [],
   "source": [
    "df = check_cu_12_2(df)\n",
    "df"
   ]
  },
  {
   "cell_type": "markdown",
   "id": "30a36c2d",
   "metadata": {},
   "source": [
    "---"
   ]
  },
  {
   "cell_type": "markdown",
   "id": "57f5e2d2",
   "metadata": {},
   "source": [
    "## cu_12_3"
   ]
  },
  {
   "cell_type": "markdown",
   "id": "550b0139",
   "metadata": {},
   "source": [
    "\n",
    "| 字段 | 内容 |\n",
    "|------|------|\n",
    "| subject | 上市公司控股股东 | 实际控制人 | 一致行动人 |\n",
    "| condition | 计划通过集中竞价交易或大宗交易减持股份且首次披露减持计划, 且不存在已经按照本指引第四条披露减持计划，或者中国证监会另有规定的情况的 |\n",
    "| constrain | 不得存在下列情形：上市公司最近一期经审计的财务报告的归属于上市公司股东的净利润为负 |\n",
    "| contextual_info | nan |\n",
    "| note | 不考虑中国证监会另有规定的情况; 不考虑一致行动人; 所有财务数据均已经过审计 |\n",
    "| relation | nan |\n",
    "| target | nan |\n",
    "| type | 数值化执行单元 |\n",
    "| comments | nan |\n",
    "| prompt_tokens | 2073 |\n",
    "| completion_tokens | 5498 |\n"
   ]
  },
  {
   "cell_type": "markdown",
   "id": "61fd93a0",
   "metadata": {},
   "source": [
    "### 代码实现"
   ]
  },
  {
   "cell_type": "code",
   "execution_count": null,
   "id": "3bc902f2",
   "metadata": {},
   "outputs": [],
   "source": [
    "import pandas as pd\n",
    "\n",
    "def check_cu_12_3(df):\n",
    "    '''\n",
    "    检查cu_12_3的合规性：\n",
    "    主体：控股股东或实际控制人\n",
    "    条件：首次通过竞价或大宗交易减持计划\n",
    "    约束：公司最近一期净利润非负\n",
    "    '''\n",
    "    df = df.copy()\n",
    "    \n",
    "    # 初始化标记列\n",
    "    df['cu_12_3_subject'] = False\n",
    "    df['cu_12_3_condition'] = False\n",
    "    df['cu_12_3_constraint'] = None\n",
    "    \n",
    "    # 1. 验证责任主体\n",
    "    df['cu_12_3_subject'] = df['股东身份'].isin(['控股股东', '实际控制人'])\n",
    "    \n",
    "    # 2. 验证触发条件\n",
    "    # 计算每个股东首次披露日（仅考虑有效减持计划）\n",
    "    if df['存在减持计划'].any():\n",
    "        # 生成股东维度首次披露日映射\n",
    "        first_disclosure = (\n",
    "            df[df['存在减持计划']]\n",
    "            .groupby(['公司简称', '股东'])['计划披露日']\n",
    "            .min()\n",
    "            .reset_index()\n",
    "            .rename(columns={'计划披露日': '首次披露日'})\n",
    "        )\n",
    "        \n",
    "        # 合并首次披露日信息\n",
    "        df = df.merge(\n",
    "            first_disclosure,\n",
    "            on=['公司简称', '股东'],\n",
    "            how='left'\n",
    "        )\n",
    "        \n",
    "        # 判断条件有效性\n",
    "        valid_condition = (\n",
    "            (df['计划披露日'] == df['首次披露日']) &\n",
    "            df['减持方式'].isin(['竞价交易', '大宗交易']) &\n",
    "            df['存在减持计划']\n",
    "        )\n",
    "        df['cu_12_3_condition'] = valid_condition\n",
    "        df.drop(columns=['首次披露日'], inplace=True)\n",
    "    else:\n",
    "        df['cu_12_3_condition'] = False\n",
    "    \n",
    "    # 3. 验证约束条件（独立标记）\n",
    "    df['cu_12_3_constraint'] = df['净利润'] >= 0\n",
    "    \n",
    "    # 处理空值（根据业务逻辑填充）\n",
    "    df['cu_12_3_constraint'].fillna(False, inplace=True)\n",
    "    \n",
    "    return df"
   ]
  },
  {
   "cell_type": "code",
   "execution_count": null,
   "id": "2fa4b537",
   "metadata": {},
   "outputs": [],
   "source": [
    "df = check_cu_12_3(df)\n",
    "df"
   ]
  },
  {
   "cell_type": "markdown",
   "id": "c7126d51",
   "metadata": {},
   "source": [
    "---"
   ]
  },
  {
   "cell_type": "markdown",
   "id": "084ca975",
   "metadata": {},
   "source": [
    "## cu_12_4"
   ]
  },
  {
   "cell_type": "markdown",
   "id": "614a52c4",
   "metadata": {},
   "source": [
    "\n",
    "| 字段 | 内容 |\n",
    "|------|------|\n",
    "| subject | 上市时控股股东 | 上市时实际控制人（上市后不再具备相关主体身份的也应当遵守） |\n",
    "| condition | 计划通过集中竞价交易或大宗交易减持股份且首次披露减持计划, 且不存在已经按照本指引第四条披露减持计划，或者中国证监会另有规定的情况的 |\n",
    "| constrain | 不得存在下列情形：最近20个交易日内任一交易日股票收盘价低于公开发行股票并上市的发行价格 |\n",
    "| contextual_info | 股票收盘价以公开发行股票并上市之日为基准向后复权计算 |\n",
    "| note | 不考虑中国证监会另有规定的情况 |\n",
    "| relation | nan |\n",
    "| target | nan |\n",
    "| type | 数值化执行单元 |\n",
    "| comments | nan |\n",
    "| prompt_tokens | 2088 |\n",
    "| completion_tokens | 10667 |\n"
   ]
  },
  {
   "cell_type": "markdown",
   "id": "cdc337f8",
   "metadata": {},
   "source": [
    "### 代码实现"
   ]
  },
  {
   "cell_type": "code",
   "execution_count": null,
   "id": "2818a3c0",
   "metadata": {},
   "outputs": [],
   "source": [
    "import pandas as pd\n",
    "\n",
    "def check_cu_12_4(df):\n",
    "    '''\n",
    "    检查cu_12_4的合规性：\n",
    "    主体：上市时控股股东 | 上市时实际控制人（即使之后不再具备身份）\n",
    "    条件：计划通过竞价/大宗减持且首次披露\n",
    "    约束：披露前20个交易日内收盘价（复权）均不低于发行价\n",
    "    '''\n",
    "    df = df.copy()\n",
    "\n",
    "    # 初始化标记列\n",
    "    df['cu_12_4_subject'] = False\n",
    "    df['cu_12_4_condition'] = False\n",
    "    df['cu_12_4_constraint'] = None\n",
    "\n",
    "    # 1. 验证责任主体：上市时的控股股东或实际控制人\n",
    "    # 确定每个公司的上市日期（第一个收盘价非空的日期）\n",
    "    ipo_dates = df[df['收盘价'].notna()].groupby('公司简称')['日期'].min()\n",
    "\n",
    "    # 收集每个公司在上市日的控股股东和实际控制人\n",
    "    subject_holders = {}\n",
    "    for company, ipo_date in ipo_dates.items():\n",
    "        ipo_day = df[(df['公司简称'] == company) & (df['日期'] == ipo_date)]\n",
    "        holders = ipo_day[ipo_day['股东身份'].isin(['控股股东', '实际控制人'])]['股东'].unique()\n",
    "        subject_holders[company] = set(holders)\n",
    "\n",
    "    # 标记subject\n",
    "    df['cu_12_4_subject'] = df.apply(\n",
    "        lambda row: row['股东'] in subject_holders.get(row['公司简称'], set()),\n",
    "        axis=1\n",
    "    )\n",
    "\n",
    "    # 2. 验证触发条件：减持方式为竞价/大宗，存在减持计划，且首次披露\n",
    "    # 条件验证\n",
    "    valid_method = df['减持方式'].isin(['竞价交易', '大宗交易'])\n",
    "    has_plan = df['存在减持计划']\n",
    "    \n",
    "    # 计算首次披露标记\n",
    "    mask_plan = df['存在减持计划']\n",
    "    min_dates = df[mask_plan].groupby(['公司简称', '股东'])['计划披露日'].transform('min')\n",
    "    df['is_first_disclosure'] = False\n",
    "    df.loc[mask_plan, 'is_first_disclosure'] = df.loc[mask_plan, '计划披露日'] == min_dates\n",
    "\n",
    "    # 组合条件\n",
    "    valid_condition = valid_method & has_plan & df['is_first_disclosure']\n",
    "    df['cu_12_4_condition'] = valid_condition\n",
    "\n",
    "    # 3. 验证约束条件：最近20个交易日复权收盘价均不低于发行价\n",
    "    # 预处理复权数据\n",
    "    df['复权收盘价'] = df['收盘价'] * df['复权因子']\n",
    "    company_data = {}\n",
    "    for company, group in df.groupby('公司简称'):\n",
    "        sorted_group = group.sort_values('日期')\n",
    "        company_data[company] = {\n",
    "            'dates': sorted_group['日期'].tolist(),\n",
    "            'adjusted_close': sorted_group['复权收盘价'].tolist(),\n",
    "            'ipo_price': sorted_group['发行价格'].iloc[0]\n",
    "        }\n",
    "\n",
    "    # 定义约束检查函数\n",
    "    def check_price_constraint(row):\n",
    "        if not (row['cu_12_4_subject'] and row['cu_12_4_condition']):\n",
    "            return None\n",
    "        company = row['公司简称']\n",
    "        disclosure_date = row['计划披露日']\n",
    "        data = company_data.get(company)\n",
    "        if not data:\n",
    "            return False\n",
    "        \n",
    "        try:\n",
    "            idx = data['dates'].index(disclosure_date)\n",
    "        except ValueError:\n",
    "            return False\n",
    "        \n",
    "        start_idx = max(0, idx - 19)\n",
    "        window_prices = data['adjusted_close'][start_idx:idx+1]\n",
    "        return all(price >= data['ipo_price'] for price in window_prices)\n",
    "\n",
    "    # 应用约束检查\n",
    "    mask_constraint = df['cu_12_4_subject'] & df['cu_12_4_condition']\n",
    "    df.loc[mask_constraint, 'cu_12_4_constraint'] = df[mask_constraint].apply(check_price_constraint, axis=1)\n",
    "\n",
    "    # 清理临时列\n",
    "    df.drop(columns=['is_first_disclosure', '复权收盘价'], inplace=True, errors='ignore')\n",
    "\n",
    "    return df"
   ]
  },
  {
   "cell_type": "code",
   "execution_count": null,
   "id": "2fa5ddc9",
   "metadata": {},
   "outputs": [],
   "source": [
    "df = check_cu_12_4(df)\n",
    "df"
   ]
  },
  {
   "cell_type": "markdown",
   "id": "ca3849bd",
   "metadata": {},
   "source": [
    "---"
   ]
  },
  {
   "cell_type": "markdown",
   "id": "5909d406",
   "metadata": {},
   "source": [
    "## cu_12_5"
   ]
  },
  {
   "cell_type": "markdown",
   "id": "66d717a8",
   "metadata": {},
   "source": [
    "\n",
    "| 字段 | 内容 |\n",
    "|------|------|\n",
    "| subject | 公开发行时持股5%以上的第一大股东 | 一致行动人 |\n",
    "| condition | 上市公司在公开发行股票并上市时披露为无控股股东、实际控制人, 且计划通过集中竞价交易或大宗交易减持股份且首次披露减持计划, 且不存在已经按照本指引第四条披露减持计划，或者中国证监会另有规定的情况的 |\n",
    "| constrain | 不得存在下列情形：最近20个交易日内任一交易日股票收盘价低于公开发行股票并上市的发行价格 |\n",
    "| contextual_info | 股票收盘价以公开发行股票并上市之日为基准向后复权计算 |\n",
    "| note | 不考虑中国证监会另有规定的情况; 不考虑一致行动人; 假设数据库固定\"公司简称\"后, \"股东\"列包含该公司的全部股东的记录 |\n",
    "| relation | nan |\n",
    "| target | nan |\n",
    "| type | 数值化执行单元 |\n",
    "| comments | nan |\n",
    "| prompt_tokens | 2126 |\n",
    "| completion_tokens | 11613 |\n"
   ]
  },
  {
   "cell_type": "markdown",
   "id": "d7d507c4",
   "metadata": {},
   "source": [
    "### 代码实现"
   ]
  },
  {
   "cell_type": "code",
   "execution_count": null,
   "id": "64fd4c72",
   "metadata": {},
   "outputs": [],
   "source": [
    "import pandas as pd\n",
    "import numpy as np\n",
    "\n",
    "def check_cu_12_5(df):\n",
    "    '''\n",
    "    检查cu_12_5的合规性：\n",
    "    主体：公开发行时持股5%以上的第一大股东\n",
    "    条件：公司无控股股东/实际控制人，通过竞价/大宗减持，首次披露减持计划\n",
    "    约束：最近20个交易日内收盘价不低于发行价（复权后）\n",
    "    '''\n",
    "    df = df.copy()\n",
    "\n",
    "    # 初始化标记列\n",
    "    df['cu_12_5_subject'] = False\n",
    "    df['cu_12_5_condition'] = False\n",
    "    df['cu_12_5_constraint'] = None\n",
    "\n",
    "    # 1. 处理责任主体：公开发行时持股5%以上的第一大股东\n",
    "    # 确定各公司上市日期（首个收盘价非空日期）\n",
    "    ipo_dates = df[df['收盘价'].notna()].groupby('公司简称')['日期'].min().reset_index()\n",
    "    ipo_dates.columns = ['公司简称', '上市日期']\n",
    "    df = df.merge(ipo_dates, on='公司简称', how='left')\n",
    "\n",
    "    # 获取上市当日的股东数据\n",
    "    ipo_shareholders = df[df['日期'] == df['上市日期']][['公司简称', '股东', '持股比例']]\n",
    "    # 计算各公司最大持股比例\n",
    "    max_holdings = ipo_shareholders.groupby('公司简称')['持股比例'].max().reset_index()\n",
    "    max_holdings.columns = ['公司简称', 'max_holding']\n",
    "    ipo_shareholders = ipo_shareholders.merge(max_holdings, on='公司简称')\n",
    "    # 筛选符合条件的股东（持股比例等于最大值且≥5%）\n",
    "    valid_subjects = ipo_shareholders[\n",
    "        (ipo_shareholders['持股比例'] == ipo_shareholders['max_holding']) &\n",
    "        (ipo_shareholders['持股比例'] >= 0.05)\n",
    "    ][['公司简称', '股东']]\n",
    "    # 创建有效主体集合\n",
    "    valid_pairs = set(zip(valid_subjects['公司简称'], valid_subjects['股东']))\n",
    "    # 标记责任主体\n",
    "    df['cu_12_5_subject'] = df.apply(\n",
    "        lambda x: (x['公司简称'], x['股东']) in valid_pairs, axis=1\n",
    "    )\n",
    "\n",
    "    # 2. 处理触发条件\n",
    "    # 检查公司是否无控股股东/实际控制人（上市当日）\n",
    "    control_check = df[df['日期'] == df['上市日期']].groupby('公司简称').apply(\n",
    "        lambda g: g['股东身份'].isin(['控股股东', '实际控制人']).any()\n",
    "    ).reset_index()\n",
    "    control_check.columns = ['公司简称', 'has_control']\n",
    "    df = df.merge(control_check, on='公司简称', how='left')\n",
    "\n",
    "    # 确定首次披露减持计划的日期\n",
    "    first_disclosures = df[df['存在减持计划']].groupby(['公司简称', '股东'])['日期'].min().reset_index()\n",
    "    first_disclosures.columns = ['公司简称', '股东', 'first_disclosure']\n",
    "    df = df.merge(first_disclosures, on=['公司简称', '股东'], how='left')\n",
    "\n",
    "    # 复合条件判断\n",
    "    condition_mask = (\n",
    "        (~df['has_control']) &  # 无控股股东/实际控制人\n",
    "        df['减持方式'].isin(['竞价交易', '大宗交易']) &  # 减持方式符合\n",
    "        df['存在减持计划'] &  # 存在减持计划\n",
    "        (df['日期'] == df['first_disclosure'])  # 是首次披露\n",
    "    )\n",
    "    df.loc[condition_mask, 'cu_12_5_condition'] = True\n",
    "\n",
    "    # 3. 处理约束条件\n",
    "    # 计算复权收盘价\n",
    "    df['复权收盘价'] = df['收盘价'] * df['复权因子']\n",
    "    \n",
    "    # 按公司分组计算滚动20日最低价\n",
    "    df_sorted = df.sort_values(['公司简称', '日期'])\n",
    "    df_sorted['window_min'] = df_sorted.groupby('公司简称')['复权收盘价'].rolling(\n",
    "        window=20, min_periods=1\n",
    "    ).min().reset_index(level=0, drop=True)\n",
    "    \n",
    "    # 合并回原始df\n",
    "    df = df.merge(\n",
    "        df_sorted[['window_min']],\n",
    "        left_index=True,\n",
    "        right_index=True,\n",
    "        how='left'\n",
    "    )\n",
    "    \n",
    "    # 仅对符合条件的数据进行约束检查\n",
    "    constraint_mask = df['cu_12_5_condition']\n",
    "    df.loc[constraint_mask, 'cu_12_5_constraint'] = (\n",
    "        df.loc[constraint_mask, 'window_min'] >= df.loc[constraint_mask, '发行价格']\n",
    "    )\n",
    "\n",
    "    # 清理中间列\n",
    "    df.drop(\n",
    "        columns=['上市日期', 'has_control', 'first_disclosure', '复权收盘价', 'window_min'],\n",
    "        inplace=True,\n",
    "        errors='ignore'\n",
    "    )\n",
    "\n",
    "    return df"
   ]
  },
  {
   "cell_type": "code",
   "execution_count": null,
   "id": "612df06c",
   "metadata": {},
   "outputs": [],
   "source": [
    "df = check_cu_12_5(df)\n",
    "df"
   ]
  },
  {
   "cell_type": "markdown",
   "id": "af868a08",
   "metadata": {},
   "source": [
    "---"
   ]
  },
  {
   "cell_type": "markdown",
   "id": "919c4ffd",
   "metadata": {},
   "source": [
    "# Law Article 13"
   ]
  },
  {
   "cell_type": "markdown",
   "id": "86e8838e",
   "metadata": {},
   "source": [
    "## cu_13_2"
   ]
  },
  {
   "cell_type": "markdown",
   "id": "fa7d02c6",
   "metadata": {},
   "source": [
    "\n",
    "| 字段 | 内容 |\n",
    "|------|------|\n",
    "| subject | 大股东 |\n",
    "| condition | 通过协议转让方式减持股份导致出让方不再具有大股东身份, 且处在减持后6个月内 |\n",
    "| constrain | 继续遵守本指引第四条规定 |\n",
    "| contextual_info | nan |\n",
    "| note | subject项默认为True并且不再处理; 6个月按180个自然日计算, 含处罚日当日; constraint项目不处理, 留为None;  |\n",
    "| relation | should_include |\n",
    "| target | Law_4 |\n",
    "| type | 数值化执行单元 |\n",
    "| comments | 涉及到身份转换的条目, 需要人为介入. 此条目的subject应默认正确, 因为其已经蕴含在condition之中.  |\n",
    "| prompt_tokens | 2049 |\n",
    "| completion_tokens | 6101 |\n"
   ]
  },
  {
   "cell_type": "markdown",
   "id": "454210e7",
   "metadata": {},
   "source": [
    "### 代码实现"
   ]
  },
  {
   "cell_type": "code",
   "execution_count": null,
   "id": "3448a91e",
   "metadata": {},
   "outputs": [],
   "source": [
    "import pandas as pd\n",
    "\n",
    "def check_cu_13_2(df):\n",
    "    '''\n",
    "    检查cu_13_2的合规性：\n",
    "    主体：大股东（默认为True）\n",
    "    条件：通过协议转让减持导致不再是大股东，且在减持后6个月内\n",
    "    约束：不处理\n",
    "    '''\n",
    "    df = df.copy()\n",
    "    \n",
    "    # 初始化标记列\n",
    "    df['cu_13_2_subject'] = True  # 根据要求，subject默认为True\n",
    "    df['cu_13_2_condition'] = False\n",
    "    df['cu_13_2_constraint'] = None  # 根据要求，constraint留为None\n",
    "    \n",
    "    # 筛选触发事件条件\n",
    "    is_protocol_transfer = df['减持方式'] == '协议转让'\n",
    "    is_no_longer_major = ~(\n",
    "        df['股东身份'].isin(['控股股东', '实际控制人', '持股5%以上股东']) | \n",
    "        (df['持股比例'] >= 0.05)\n",
    "    )\n",
    "    trigger_mask = is_protocol_transfer & is_no_longer_major\n",
    "    \n",
    "    # 提取有效触发事件\n",
    "    if trigger_mask.any():\n",
    "        triggers = df.loc[trigger_mask, ['公司简称', '股东', '日期']].copy()\n",
    "        triggers['end_date'] = triggers['日期'] + pd.Timedelta(days=180)\n",
    "        \n",
    "        # 构建时间范围判断器\n",
    "        def check_date_range(row):\n",
    "            mask = (\n",
    "                (triggers['公司简称'] == row['公司简称']) &\n",
    "                (triggers['股东'] == row['股东']) &\n",
    "                (row['日期'] >= triggers['日期']) &\n",
    "                (row['日期'] <= triggers['end_date'])\n",
    "            )\n",
    "            return mask.any()\n",
    "        \n",
    "        # 应用日期范围检查\n",
    "        df['cu_13_2_condition'] = df.apply(check_date_range, axis=1)\n",
    "    \n",
    "    return df"
   ]
  },
  {
   "cell_type": "code",
   "execution_count": null,
   "id": "c9c175c9",
   "metadata": {},
   "outputs": [],
   "source": [
    "df = check_cu_13_2(df)\n",
    "df"
   ]
  },
  {
   "cell_type": "markdown",
   "id": "2b8e30b2",
   "metadata": {},
   "source": [
    "---"
   ]
  },
  {
   "cell_type": "markdown",
   "id": "5976b75e",
   "metadata": {},
   "source": [
    "## cu_13_3"
   ]
  },
  {
   "cell_type": "markdown",
   "id": "66ff128a",
   "metadata": {},
   "source": [
    "\n",
    "| 字段 | 内容 |\n",
    "|------|------|\n",
    "| subject | 控股股东 | 实际控制人 |\n",
    "| condition | 通过协议转让方式减持股份导致其不再具有控股股东、实际控制人身份, 且处于减持后的6个月内 |\n",
    "| constrain | 应当继续遵守本指引第十二条第一款第二、三项规定 |\n",
    "| contextual_info | nan |\n",
    "| note | subject项默认为True并且不再处理; 6个月按180个自然日计算, 含处罚日当日; constraint项目不处理, 留为None;  |\n",
    "| relation | should_include |\n",
    "| target | MEU_12_1;MEU_12_2 |\n",
    "| type | 数值化执行单元 |\n",
    "| comments | 涉及到身份转换的条目, 需要人为介入. 此条目的subject应默认正确, 因为其已经蕴含在condition之中.  |\n",
    "| prompt_tokens | 2063 |\n",
    "| completion_tokens | 6886 |\n"
   ]
  },
  {
   "cell_type": "markdown",
   "id": "d7ecc886",
   "metadata": {},
   "source": [
    "### 代码实现"
   ]
  },
  {
   "cell_type": "code",
   "execution_count": null,
   "id": "f78390f1",
   "metadata": {},
   "outputs": [],
   "source": [
    "import pandas as pd\n",
    "\n",
    "def check_cu_13_3(df):\n",
    "    '''\n",
    "    检查cu_13_3的合规性：\n",
    "    主体：控股股东 | 实际控制人（标记为True）\n",
    "    条件：通过协议转让减持导致失去身份且处于减持后6个月内\n",
    "    约束：不处理\n",
    "    '''\n",
    "    df = df.copy()\n",
    "    \n",
    "    # 1. 标记责任主体（默认全部True）\n",
    "    df['cu_13_3_subject'] = True\n",
    "    \n",
    "    # 2. 初始化条件标记列\n",
    "    df['cu_13_3_condition'] = False\n",
    "    df['cu_13_3_constraint'] = None  # 约束不处理\n",
    "    \n",
    "    # 3. 按公司和股东分组处理\n",
    "    for (company, shareholder), group in df.groupby(['公司简称', '股东']):\n",
    "        group_sorted = group.sort_values('日期')\n",
    "        \n",
    "        # 遍历寻找符合条件的减持事件\n",
    "        for idx in group_sorted.index:\n",
    "            current_row = group_sorted.loc[idx]\n",
    "            \n",
    "            # 条件检查：协议转让减持且当前具有主体身份\n",
    "            if (current_row['减持方式'] == '协议转让' \n",
    "                and current_row['当日减持比例'] > 0\n",
    "                and current_row['股东身份'] in ['控股股东', '实际控制人']):\n",
    "                \n",
    "                # 检查后续身份是否发生变化\n",
    "                subsequent_status = group_sorted.loc[idx:]['股东身份']\n",
    "                if (~subsequent_status.isin(['控股股东', '实际控制人'])).any():\n",
    "                    # 计算时间窗口\n",
    "                    event_date = current_row['日期']\n",
    "                    end_date = event_date + pd.Timedelta(days=180)\n",
    "                    \n",
    "                    # 标记时间窗口内的行\n",
    "                    mask = (\n",
    "                        (df['公司简称'] == company) \n",
    "                        & (df['股东'] == shareholder)\n",
    "                        & (df['日期'] >= event_date)\n",
    "                        & (df['日期'] <= end_date)\n",
    "                    )\n",
    "                    df.loc[mask, 'cu_13_3_condition'] = True\n",
    "\n",
    "    return df"
   ]
  },
  {
   "cell_type": "code",
   "execution_count": null,
   "id": "c52b8286",
   "metadata": {},
   "outputs": [],
   "source": [
    "df = check_cu_13_3(df)\n",
    "df"
   ]
  },
  {
   "cell_type": "markdown",
   "id": "f33a6f0c",
   "metadata": {},
   "source": [
    "---"
   ]
  },
  {
   "cell_type": "markdown",
   "id": "4c13682e",
   "metadata": {},
   "source": [
    "# Law Article 14"
   ]
  },
  {
   "cell_type": "markdown",
   "id": "555f717f",
   "metadata": {},
   "source": [
    "## cu_14_1"
   ]
  },
  {
   "cell_type": "markdown",
   "id": "2a66f7a1",
   "metadata": {},
   "source": [
    "\n",
    "| 字段 | 内容 |\n",
    "|------|------|\n",
    "| subject | 上市公司董监高 |\n",
    "| condition | 上市公司因涉嫌证券期货违法犯罪，在被中国证监会及其派出机构立案调查或者被司法机关立案侦查期间 |\n",
    "| constrain | 不得减持其所持有的本公司股份 |\n",
    "| contextual_info | nan |\n",
    "| note | nan |\n",
    "| relation | nan |\n",
    "| target | nan |\n",
    "| type | 数值化执行单元 |\n",
    "| comments | nan |\n",
    "| prompt_tokens | 2016 |\n",
    "| completion_tokens | 6851 |\n"
   ]
  },
  {
   "cell_type": "markdown",
   "id": "9ac619ff",
   "metadata": {},
   "source": [
    "### 代码实现"
   ]
  },
  {
   "cell_type": "code",
   "execution_count": null,
   "id": "9358f06d",
   "metadata": {},
   "outputs": [],
   "source": [
    "import pandas as pd\n",
    "\n",
    "def check_cu_14_1(df):\n",
    "    '''\n",
    "    检查cu_14_1的合规性：\n",
    "    主体：上市公司董监高\n",
    "    条件：公司因涉嫌证券期货违法犯罪被立案调查/侦查\n",
    "    约束：不得减持股份\n",
    "    '''\n",
    "    df = df.copy()\n",
    "\n",
    "    # 初始化标记列\n",
    "    df['cu_14_1_subject'] = False\n",
    "    df['cu_14_1_condition'] = False\n",
    "    df['cu_14_1_constraint'] = None\n",
    "\n",
    "    # 1. 验证责任主体\n",
    "    df['cu_14_1_subject'] = (df['股东身份'] == '董监高')\n",
    "\n",
    "    # 2. 构建公司调查状态时间线\n",
    "    def build_investigation_status(df):\n",
    "        # 提取公司维度事件并去重\n",
    "        company_events = df[['公司简称', '日期', '公司涉嫌证券期货违法犯罪事件']]\\\n",
    "            .drop_duplicates(subset=['公司简称', '日期'])\\\n",
    "            .sort_values(['公司简称', '日期'])\n",
    "\n",
    "        # 按公司分组处理事件序列\n",
    "        def process_company(group):\n",
    "            group = group.sort_values('日期')\n",
    "            in_investigation = False\n",
    "            status = []\n",
    "            for _, row in group.iterrows():\n",
    "                event = row['公司涉嫌证券期货违法犯罪事件']\n",
    "                if event in ['被中国证监会及其派出机构立案调查', '被司法机关立案侦查']:\n",
    "                    in_investigation = True\n",
    "                elif event in ['中国证监会及其派出机构立案调查结束', '司法机关立案侦查结束']:\n",
    "                    in_investigation = False\n",
    "                status.append(in_investigation)\n",
    "            return pd.DataFrame({\n",
    "                '日期': group['日期'],\n",
    "                'in_investigation': status\n",
    "            })\n",
    "        \n",
    "        # 生成全量公司状态表\n",
    "        status_df = company_events.groupby('公司简称', group_keys=False).apply(process_company)\n",
    "        return status_df.reset_index(drop=True)\n",
    "\n",
    "    # 合并调查状态到原始数据\n",
    "    status_df = build_investigation_status(df)\n",
    "    df = df.merge(status_df, on=['公司简称', '日期'], how='left')\n",
    "    df['cu_14_1_condition'] = df['in_investigation'].fillna(False)\n",
    "\n",
    "    # 3. 验证减持约束（仅对复合主体+条件的记录进行检查）\n",
    "    mask = df['cu_14_1_subject'] & df['cu_14_1_condition']\n",
    "    df.loc[mask, 'cu_14_1_constraint'] = (df.loc[mask, '当日减持比例'] <= 0)\n",
    "\n",
    "    # 清理中间列\n",
    "    df.drop(columns=['in_investigation'], inplace=True, errors='ignore')\n",
    "\n",
    "    return df"
   ]
  },
  {
   "cell_type": "code",
   "execution_count": null,
   "id": "13a77317",
   "metadata": {},
   "outputs": [],
   "source": [
    "df = check_cu_14_1(df)\n",
    "df"
   ]
  },
  {
   "cell_type": "markdown",
   "id": "839806db",
   "metadata": {},
   "source": [
    "---"
   ]
  },
  {
   "cell_type": "markdown",
   "id": "3c1f47b8",
   "metadata": {},
   "source": [
    "## cu_14_2"
   ]
  },
  {
   "cell_type": "markdown",
   "id": "2483813a",
   "metadata": {},
   "source": [
    "\n",
    "| 字段 | 内容 |\n",
    "|------|------|\n",
    "| subject | 上市公司董监高 |\n",
    "| condition | 上市公司因涉嫌证券期货违法犯罪被中国证监会及其派出机构立案调查或者被司法机关立案侦查，在行政处罚决定、刑事判决作出之后未满6个月 |\n",
    "| constrain | 不得减持其所持有的本公司股份 |\n",
    "| contextual_info | nan |\n",
    "| note | nan |\n",
    "| relation | nan |\n",
    "| target | nan |\n",
    "| type | 数值化执行单元 |\n",
    "| comments | nan |\n",
    "| prompt_tokens | 2027 |\n",
    "| completion_tokens | 7149 |\n"
   ]
  },
  {
   "cell_type": "markdown",
   "id": "b86f56ab",
   "metadata": {},
   "source": [
    "### 代码实现"
   ]
  },
  {
   "cell_type": "code",
   "execution_count": null,
   "id": "8728bc7f",
   "metadata": {},
   "outputs": [],
   "source": [
    "import pandas as pd\n",
    "from pandas.tseries.offsets import DateOffset\n",
    "\n",
    "def check_cu_14_2(df):\n",
    "    '''\n",
    "    检查cu_14_2的合规性：\n",
    "    主体：上市公司董监高\n",
    "    条件：公司因涉嫌证券期货违法犯罪被立案调查/侦查，且在处罚/判决后未满6个月\n",
    "    约束：不得减持股份\n",
    "    '''\n",
    "    df = df.copy()\n",
    "    \n",
    "    # 初始化标记列\n",
    "    df['cu_14_2_subject'] = False\n",
    "    df['cu_14_2_condition'] = False\n",
    "    df['cu_14_2_constraint'] = None\n",
    "    \n",
    "    # 1. 验证责任主体\n",
    "    df['cu_14_2_subject'] = (df['股东身份'] == '董监高')\n",
    "    \n",
    "    # 2. 验证触发条件\n",
    "    # 获取公司调查和处罚事件时间轴\n",
    "    investigation_mask = df['公司涉嫌证券期货违法犯罪事件'].isin(['被中国证监会及其派出机构立案调查', '被司法机关立案侦查'])\n",
    "    punishment_mask = df['公司涉嫌证券期货违法犯罪事件'].isin(['行政处罚决定作出', '刑事判决作出'])\n",
    "    \n",
    "    # 构建公司时间线字典\n",
    "    company_timelines = {}\n",
    "    for company, group in df.groupby('公司简称'):\n",
    "        # 收集调查事件时间\n",
    "        investigations = group[investigation_mask]['日期'].tolist()\n",
    "        # 收集有效处罚时间（需有前置调查）\n",
    "        punishments = [\n",
    "            p_date for p_date in group[punishment_mask]['日期']\n",
    "            if any(i_date < p_date for i_date in investigations)\n",
    "        ]\n",
    "        company_timelines[company] = {\n",
    "            'valid_punishments': punishments,\n",
    "            'investigation_dates': investigations\n",
    "        }\n",
    "    \n",
    "    # 条件检查函数\n",
    "    def check_condition(row):\n",
    "        company = row['公司简称']\n",
    "        current_date = row['日期']\n",
    "        punishments = company_timelines.get(company, {}).get('valid_punishments', [])\n",
    "        \n",
    "        for p_date in punishments:\n",
    "            if (current_date >= p_date) and (current_date <= p_date + DateOffset(months=6)):\n",
    "                return True\n",
    "        return False\n",
    "    \n",
    "    df['cu_14_2_condition'] = df.apply(check_condition, axis=1)\n",
    "    \n",
    "    # 3. 验证约束条件\n",
    "    constraint_mask = df['cu_14_2_subject'] & df['cu_14_2_condition']\n",
    "    df.loc[constraint_mask, 'cu_14_2_constraint'] = ~(df.loc[constraint_mask, '当日减持比例'] > 0)\n",
    "    \n",
    "    return df"
   ]
  },
  {
   "cell_type": "code",
   "execution_count": null,
   "id": "08a6e9a4",
   "metadata": {},
   "outputs": [],
   "source": [
    "df = check_cu_14_2(df)\n",
    "df"
   ]
  },
  {
   "cell_type": "markdown",
   "id": "92a6491e",
   "metadata": {},
   "source": [
    "---"
   ]
  },
  {
   "cell_type": "markdown",
   "id": "7a6211ce",
   "metadata": {},
   "source": [
    "## cu_14_3"
   ]
  },
  {
   "cell_type": "markdown",
   "id": "657abbbd",
   "metadata": {},
   "source": [
    "\n",
    "| 字段 | 内容 |\n",
    "|------|------|\n",
    "| subject | 上市公司董监高 |\n",
    "| condition | 本人因涉嫌与该上市公司有关的证券期货违法犯罪，在被中国证监会及其派出机构立案调查或者被司法机关立案侦查期间 |\n",
    "| constrain | 不得减持其所持有的本公司股份 |\n",
    "| contextual_info | nan |\n",
    "| note | nan |\n",
    "| relation | nan |\n",
    "| target | nan |\n",
    "| type | 数值化执行单元 |\n",
    "| comments | nan |\n",
    "| prompt_tokens | 2019 |\n",
    "| completion_tokens | 5528 |\n"
   ]
  },
  {
   "cell_type": "markdown",
   "id": "a7d77f8b",
   "metadata": {},
   "source": [
    "### 代码实现"
   ]
  },
  {
   "cell_type": "code",
   "execution_count": null,
   "id": "2361cf26",
   "metadata": {},
   "outputs": [],
   "source": [
    "import pandas as pd\n",
    "\n",
    "def check_cu_14_3(df):\n",
    "    '''\n",
    "    检查cu_14_3的合规性：\n",
    "    主体：上市公司董监高\n",
    "    条件：因涉嫌证券期货违法犯罪被立案调查/侦查\n",
    "    约束：不得减持股份\n",
    "    '''\n",
    "    df = df.copy()\n",
    "\n",
    "    # 初始化标记列\n",
    "    df['cu_14_3_subject'] = False\n",
    "    df['cu_14_3_condition'] = False\n",
    "    df['cu_14_3_constraint'] = True  # 默认视为合规\n",
    "\n",
    "    # 1. 验证责任主体：上市公司董监高\n",
    "    df['cu_14_3_subject'] = df['股东身份'] == '董监高'\n",
    "\n",
    "    # 2. 验证触发条件：处于立案调查/侦查期间\n",
    "    investigation_status = [\n",
    "        '被中国证监会及其派出机构立案调查',\n",
    "        '被司法机关立案侦查'\n",
    "    ]\n",
    "    df['cu_14_3_condition'] = df['股东涉嫌证券期货违法犯罪事件'].isin(investigation_status)\n",
    "\n",
    "    # 3. 验证约束条件：不得减持（仅对符合主体+条件的行进行约束检查）\n",
    "    mask = df['cu_14_3_subject'] & df['cu_14_3_condition']\n",
    "    df.loc[mask, 'cu_14_3_constraint'] = (df.loc[mask, '当日减持比例'] <= 0)\n",
    "\n",
    "    return df"
   ]
  },
  {
   "cell_type": "code",
   "execution_count": null,
   "id": "d864db4d",
   "metadata": {},
   "outputs": [],
   "source": [
    "df = check_cu_14_3(df)\n",
    "df"
   ]
  },
  {
   "cell_type": "markdown",
   "id": "a0e75dcd",
   "metadata": {},
   "source": [
    "---"
   ]
  },
  {
   "cell_type": "markdown",
   "id": "38d8da15",
   "metadata": {},
   "source": [
    "## cu_14_4"
   ]
  },
  {
   "cell_type": "markdown",
   "id": "68a4f4e0",
   "metadata": {},
   "source": [
    "\n",
    "| 字段 | 内容 |\n",
    "|------|------|\n",
    "| subject | 上市公司董监高 |\n",
    "| condition | 本人因涉嫌与该上市公司有关的证券期货违法犯罪被中国证监会及其派出机构立案调查或者被司法机关立案侦查，在行政处罚决定、刑事判决作出之后未满6个月 |\n",
    "| constrain | 不得减持其所持有的本公司股份 |\n",
    "| contextual_info | nan |\n",
    "| note | 6个月按180个自然日计算, 含处罚日当日 |\n",
    "| relation | nan |\n",
    "| target | nan |\n",
    "| type | 数值化执行单元 |\n",
    "| comments | nan |\n",
    "| prompt_tokens | 2044 |\n",
    "| completion_tokens | 9808 |\n"
   ]
  },
  {
   "cell_type": "markdown",
   "id": "dc92250d",
   "metadata": {},
   "source": [
    "### 代码实现"
   ]
  },
  {
   "cell_type": "code",
   "execution_count": null,
   "id": "223f4149",
   "metadata": {},
   "outputs": [],
   "source": [
    "import pandas as pd\n",
    "\n",
    "def check_cu_14_4(df):\n",
    "    '''\n",
    "    检查cu_14_4的合规性：\n",
    "    主体：上市公司董监高\n",
    "    条件：因涉嫌证券期货违法犯罪被立案调查/侦查，且在处罚后未满180天\n",
    "    约束：不得减持股份\n",
    "    '''\n",
    "    df = df.copy()\n",
    "    \n",
    "    # 初始化标记列\n",
    "    df['cu_14_4_subject'] = False\n",
    "    df['cu_14_4_condition'] = False\n",
    "    df['cu_14_4_constraint'] = None\n",
    "    \n",
    "    # 1. 验证责任主体：股东身份是董监高\n",
    "    df['cu_14_4_subject'] = df['股东身份'] == '董监高'\n",
    "    \n",
    "    # 2. 验证触发条件\n",
    "    # 判断是否被立案调查或侦查过\n",
    "    df['has_been_investigated'] = df.groupby(['公司简称', '股东'])['股东涉嫌证券期货违法犯罪事件'].transform(\n",
    "        lambda x: x.isin(['被中国证监会及其派出机构立案调查', '被司法机关立案侦查']).any()\n",
    "    )\n",
    "    \n",
    "    # 获取每个分组的最新处罚日期\n",
    "    df['latest_penalty_date'] = df.groupby(['公司简称', '股东'])['日期'].transform(\n",
    "        lambda x: x.where(\n",
    "            df['股东涉嫌证券期货违法犯罪事件'].isin(['行政处罚决定作出', '刑事判决作出'])\n",
    "        ).max()\n",
    "    )\n",
    "    \n",
    "    # 计算自然日差\n",
    "    df['days_since_penalty'] = (df['日期'] - df['latest_penalty_date']).dt.days\n",
    "    \n",
    "    # 条件判断：被立案过，且当前日期在处罚后的180天内\n",
    "    df['cu_14_4_condition'] = (\n",
    "        df['has_been_investigated'] & \n",
    "        (df['days_since_penalty'] >= 0) & \n",
    "        (df['days_since_penalty'] <= 180)\n",
    "    )\n",
    "    \n",
    "    # 3. 验证约束条件：独立检查减持行为\n",
    "    df['cu_14_4_constraint'] = (df['当日减持比例'] <= 0)\n",
    "    \n",
    "    # 清理中间列\n",
    "    df.drop(columns=['has_been_investigated', 'latest_penalty_date', 'days_since_penalty'], \n",
    "            inplace=True, errors='ignore')\n",
    "    \n",
    "    return df"
   ]
  },
  {
   "cell_type": "code",
   "execution_count": null,
   "id": "af64b2ae",
   "metadata": {},
   "outputs": [],
   "source": [
    "df = check_cu_14_4(df)\n",
    "df"
   ]
  },
  {
   "cell_type": "markdown",
   "id": "68bc57dc",
   "metadata": {},
   "source": [
    "---"
   ]
  },
  {
   "cell_type": "markdown",
   "id": "dffc5b0e",
   "metadata": {},
   "source": [
    "## cu_14_5"
   ]
  },
  {
   "cell_type": "markdown",
   "id": "23f717e1",
   "metadata": {},
   "source": [
    "\n",
    "| 字段 | 内容 |\n",
    "|------|------|\n",
    "| subject | 上市公司董监高 |\n",
    "| condition | 本人因涉及证券期货违法，被中国证监会行政处罚，罚没款尚未足额缴纳，且不存在法律、行政法规另有规定或减持资金用于缴纳罚没款的情况 |\n",
    "| constrain | 不得减持其所持有的本公司股份 |\n",
    "| contextual_info | nan |\n",
    "| note | 不考虑法律、行政法规另有规定或减持资金用于缴纳罚没款的情况 |\n",
    "| relation | nan |\n",
    "| target | nan |\n",
    "| type | 数值化执行单元 |\n",
    "| comments | 暂不处理, 有空再在模拟数据上加上 |\n",
    "| prompt_tokens | 2046 |\n",
    "| completion_tokens | 3791 |\n"
   ]
  },
  {
   "cell_type": "markdown",
   "id": "f4adc1a1",
   "metadata": {},
   "source": [
    "### 代码实现"
   ]
  },
  {
   "cell_type": "code",
   "execution_count": null,
   "id": "da8dbdb4",
   "metadata": {},
   "outputs": [],
   "source": [
    "import pandas as pd\n",
    "\n",
    "def check_cu_14_5(df):\n",
    "    '''\n",
    "    检查cu_14_5的合规性：\n",
    "    主体：上市公司董监高\n",
    "    条件：因证券期货违法被证监会行政处罚且罚没款未缴\n",
    "    约束：不得减持股份\n",
    "    '''\n",
    "    df = df.copy()\n",
    "    \n",
    "    # 初始化标记列\n",
    "    df['cu_14_5_subject'] = False\n",
    "    df['cu_14_5_condition'] = False\n",
    "    df['cu_14_5_constraint'] = None\n",
    "\n",
    "    # 1. 验证责任主体\n",
    "    df['cu_14_5_subject'] = df['股东身份'] == '董监高'\n",
    "\n",
    "    # 2. 验证触发条件\n",
    "    # 获取行政处罚日期\n",
    "    penalty_events = df[df['股东涉嫌证券期货违法犯罪事件'] == '行政处罚决定作出']\n",
    "    if not penalty_events.empty:\n",
    "        penalty_dates = penalty_events.groupby(['公司简称', '股东'])['日期'].min().reset_index()\n",
    "        penalty_dates.rename(columns={'日期':'penalty_date'}, inplace=True)\n",
    "        df = df.merge(penalty_dates, on=['公司简称', '股东'], how='left')\n",
    "        \n",
    "        # 条件成立判断\n",
    "        condition_mask = (\n",
    "            df['cu_14_5_subject'] & \n",
    "            df['penalty_date'].notna() & \n",
    "            (df['日期'] >= df['penalty_date'])\n",
    "        )\n",
    "        df.loc[condition_mask, 'cu_14_5_condition'] = True\n",
    "        df.drop(columns=['penalty_date'], inplace=True)\n",
    "    else:\n",
    "        df['cu_14_5_condition'] = False\n",
    "\n",
    "    # 3. 验证约束条件\n",
    "    constraint_mask = df['cu_14_5_subject'] & df['cu_14_5_condition']\n",
    "    df.loc[constraint_mask, 'cu_14_5_constraint'] = (df.loc[constraint_mask, '当日减持比例'] <= 0)\n",
    "\n",
    "    return df"
   ]
  },
  {
   "cell_type": "code",
   "execution_count": null,
   "id": "a1ba9e05",
   "metadata": {},
   "outputs": [],
   "source": [
    "df = check_cu_14_5(df)\n",
    "df"
   ]
  },
  {
   "cell_type": "markdown",
   "id": "4c509ede",
   "metadata": {},
   "source": [
    "---"
   ]
  },
  {
   "cell_type": "markdown",
   "id": "c0cc295b",
   "metadata": {},
   "source": [
    "## cu_14_6"
   ]
  },
  {
   "cell_type": "markdown",
   "id": "180f85ca",
   "metadata": {},
   "source": [
    "\n",
    "| 字段 | 内容 |\n",
    "|------|------|\n",
    "| subject | 上市公司董监高 |\n",
    "| condition | 本人因涉及与本上市公司有关的违法违规，被证券交易所公开谴责未满三个月 |\n",
    "| constrain | 不得减持其所持有的本公司股份 |\n",
    "| contextual_info | nan |\n",
    "| note | 三个月按照90个自然日计算, 含处罚日当日;  |\n",
    "| relation | nan |\n",
    "| target | nan |\n",
    "| type | 数值化执行单元 |\n",
    "| comments | nan |\n",
    "| prompt_tokens | 2024 |\n",
    "| completion_tokens | 6691 |\n"
   ]
  },
  {
   "cell_type": "markdown",
   "id": "ef8c1c56",
   "metadata": {},
   "source": [
    "### 代码实现"
   ]
  },
  {
   "cell_type": "code",
   "execution_count": null,
   "id": "2d2b5e4a",
   "metadata": {},
   "outputs": [],
   "source": [
    "import pandas as pd\n",
    "\n",
    "def check_cu_14_6(df):\n",
    "    '''\n",
    "    检查cu_14_6的合规性：\n",
    "    主体：上市公司董监高\n",
    "    条件：被本所公开谴责未满90自然日\n",
    "    约束：不得减持股份\n",
    "    '''\n",
    "    df = df.copy()\n",
    "\n",
    "    # 初始化标记列\n",
    "    df['cu_14_6_subject'] = False\n",
    "    df['cu_14_6_condition'] = False\n",
    "    df['cu_14_6_constraint'] = None\n",
    "\n",
    "    # 1. 验证责任主体：上市公司董监高\n",
    "    df['cu_14_6_subject'] = (df['股东身份'] == '董监高')\n",
    "\n",
    "    # 2. 验证触发条件：被公开谴责未满90自然日\n",
    "    # 生成谴责日期映射表\n",
    "    condemn_df = df[df['股东涉嫌证券期货违法犯罪事件'] == '被本所公开谴责']\n",
    "    if not condemn_df.empty:\n",
    "        # 按股东分组获取所有谴责日期\n",
    "        condemn_dates = (\n",
    "            condemn_df.groupby(['公司简称', '股东'])['日期']\n",
    "            .apply(lambda x: x.tolist())\n",
    "            .reset_index(name='condemn_dates')\n",
    "        )\n",
    "        \n",
    "        # 合并谴责日期到主表\n",
    "        df = df.merge(condemn_dates, on=['公司简称', '股东'], how='left')\n",
    "        \n",
    "        # 定义日期检查函数\n",
    "        def check_condemn_window(row):\n",
    "            if not isinstance(row.get('condemn_dates'), list):\n",
    "                return False\n",
    "            current_date = row['日期']\n",
    "            for d in row['condemn_dates']:\n",
    "                if d <= current_date <= d + pd.Timedelta(days=89):\n",
    "                    return True\n",
    "            return False\n",
    "        \n",
    "        df['cu_14_6_condition'] = df.apply(check_condemn_window, axis=1)\n",
    "        df.drop(columns=['condemn_dates'], inplace=True)\n",
    "    else:\n",
    "        df['cu_14_6_condition'] = False\n",
    "\n",
    "    # 3. 验证约束条件：不得减持\n",
    "    mask = df['cu_14_6_subject'] & df['cu_14_6_condition']\n",
    "    df.loc[mask, 'cu_14_6_constraint'] = (df.loc[mask, '当日减持比例'] <= 0)\n",
    "\n",
    "    return df"
   ]
  },
  {
   "cell_type": "code",
   "execution_count": null,
   "id": "76ee360d",
   "metadata": {},
   "outputs": [],
   "source": [
    "df = check_cu_14_6(df)\n",
    "df"
   ]
  },
  {
   "cell_type": "markdown",
   "id": "8784b413",
   "metadata": {},
   "source": [
    "---"
   ]
  },
  {
   "cell_type": "markdown",
   "id": "15d2b426",
   "metadata": {},
   "source": [
    "## cu_14_7"
   ]
  },
  {
   "cell_type": "markdown",
   "id": "1bf6f0f1",
   "metadata": {},
   "source": [
    "\n",
    "| 字段 | 内容 |\n",
    "|------|------|\n",
    "| subject | 上市公司董监高 |\n",
    "| condition | 上市公司股票因可能触及重大违法强制退市情形而被本所实施退市风险警示，且处于本所规定的限制转让的期限内 |\n",
    "| constrain | 不得减持其所持有的本公司股份 |\n",
    "| contextual_info | nan |\n",
    "| note | nan |\n",
    "| relation | nan |\n",
    "| target | nan |\n",
    "| type | 数值化执行单元 |\n",
    "| comments | nan |\n",
    "| prompt_tokens | 2024 |\n",
    "| completion_tokens | 8251 |\n"
   ]
  },
  {
   "cell_type": "markdown",
   "id": "d44c6965",
   "metadata": {},
   "source": [
    "### 代码实现"
   ]
  },
  {
   "cell_type": "code",
   "execution_count": null,
   "id": "29e3c86a",
   "metadata": {},
   "outputs": [],
   "source": [
    "import pandas as pd\n",
    "\n",
    "def check_cu_14_7(df):\n",
    "    '''\n",
    "    检查cu_14_7的合规性：\n",
    "    主体：上市公司董监高\n",
    "    条件：公司因重大违法被实施退市风险警示且处于限制转让期\n",
    "    约束：不得减持股份\n",
    "    '''\n",
    "    df = df.copy()\n",
    "    \n",
    "    # 初始化标记列\n",
    "    df['cu_14_7_subject'] = False\n",
    "    df['cu_14_7_condition'] = False\n",
    "    df['cu_14_7_constraint'] = None\n",
    "    \n",
    "    # 1. 验证责任主体\n",
    "    df['cu_14_7_subject'] = df['股东身份'] == '董监高'\n",
    "    \n",
    "    # 2. 预处理公司限制转让期\n",
    "    def get_restriction_periods(group):\n",
    "        periods = []\n",
    "        current_start = None\n",
    "        sorted_group = group.sort_values('日期')\n",
    "        \n",
    "        for _, row in sorted_group.iterrows():\n",
    "            event = row.get('公司涉嫌证券期货违法犯罪事件', None)\n",
    "            if event == '被中国证监会及其派出机构立案调查' and current_start is None:\n",
    "                current_start = row['日期']\n",
    "            elif event in ['中国证监会及其派出机构立案调查结束', '行政处罚决定作出'] and current_start is not None:\n",
    "                periods.append((current_start, row['日期']))\n",
    "                current_start = None\n",
    "        \n",
    "        # 处理未闭环的立案调查\n",
    "        if current_start is not None:\n",
    "            periods.append((current_start, group['日期'].max()))\n",
    "        \n",
    "        return periods\n",
    "    \n",
    "    # 获取各公司限制期列表\n",
    "    company_periods = df.groupby('公司简称', group_keys=False).apply(\n",
    "        lambda g: pd.Series([get_restriction_periods(g)], name='periods')\n",
    "    ).reset_index()\n",
    "    \n",
    "    # 3. 标记条件有效性\n",
    "    def check_condition(row, company_periods_dict):\n",
    "        periods = company_periods_dict.get(row['公司简称'], [])\n",
    "        for (start, end) in periods:\n",
    "            if start <= row['日期'] <= end:\n",
    "                return True\n",
    "        return False\n",
    "    \n",
    "    company_periods_dict = company_periods.set_index('公司简称')['periods'].to_dict()\n",
    "    df['cu_14_7_condition'] = df.apply(\n",
    "        lambda row: check_condition(row, company_periods_dict),\n",
    "        axis=1\n",
    "    )\n",
    "    \n",
    "    # 4. 验证约束条件（独立标记）\n",
    "    df['cu_14_7_constraint'] = (df['当日减持比例'] <= 0)\n",
    "    \n",
    "    return df"
   ]
  },
  {
   "cell_type": "code",
   "execution_count": null,
   "id": "d347e4c8",
   "metadata": {},
   "outputs": [],
   "source": [
    "df = check_cu_14_7(df)\n",
    "df"
   ]
  },
  {
   "cell_type": "markdown",
   "id": "e06831f8",
   "metadata": {},
   "source": [
    "---"
   ]
  },
  {
   "cell_type": "markdown",
   "id": "23557f49",
   "metadata": {},
   "source": [
    "# Law Article 16"
   ]
  },
  {
   "cell_type": "markdown",
   "id": "b587f3ce",
   "metadata": {},
   "source": [
    "## cu_16_1"
   ]
  },
  {
   "cell_type": "markdown",
   "id": "09c25942",
   "metadata": {},
   "source": [
    "\n",
    "| 字段 | 内容 |\n",
    "|------|------|\n",
    "| subject | 上市公司董监高 |\n",
    "| condition | 上市公司年度报告、半年度报告公告前15日内 |\n",
    "| constrain | 不得买卖本公司股份 |\n",
    "| contextual_info | nan |\n",
    "| note | nan |\n",
    "| relation | nan |\n",
    "| target | nan |\n",
    "| type | 数值化执行单元 |\n",
    "| comments | nan |\n",
    "| prompt_tokens | 2004 |\n",
    "| completion_tokens | 3027 |\n"
   ]
  },
  {
   "cell_type": "markdown",
   "id": "edefbb85",
   "metadata": {},
   "source": [
    "### 代码实现"
   ]
  },
  {
   "cell_type": "code",
   "execution_count": null,
   "id": "ba0d638a",
   "metadata": {},
   "outputs": [],
   "source": [
    "import pandas as pd\n",
    "\n",
    "def check_cu_16_1(df):\n",
    "    '''\n",
    "    检查cu_16_1的合规性：\n",
    "    主体：上市公司董监高\n",
    "    条件：处于定期报告公告前15日期间\n",
    "    约束：禁止股份交易\n",
    "    '''\n",
    "    df = df.copy()\n",
    "    \n",
    "    # 初始化标记列\n",
    "    df['cu_16_1_subject'] = False\n",
    "    df['cu_16_1_condition'] = False\n",
    "    df['cu_16_1_constraint'] = None\n",
    "    \n",
    "    # 1. 验证责任主体\n",
    "    df['cu_16_1_subject'] = df['股东身份'] == '董监高'\n",
    "    \n",
    "    # 2. 构建公司定期报告时间索引\n",
    "    def build_report_dates(df):\n",
    "        # 提取所有定期报告公告记录\n",
    "        period_reports = df[df['公告类型'].isin(['年度报告', '半年度报告'])]\n",
    "        # 按公司分组并去重\n",
    "        return period_reports.groupby('公司简称')['公告日期'].apply(\n",
    "            lambda x: x.dt.normalize().drop_duplicates().tolist()\n",
    "        ).to_dict()\n",
    "    \n",
    "    company_report_dates = build_report_dates(df)\n",
    "    \n",
    "    # 3. 验证触发条件\n",
    "    def check_condition(row):\n",
    "        report_dates = company_report_dates.get(row['公司简称'], [])\n",
    "        current_date = row['日期'].normalize()\n",
    "        for rd in report_dates:\n",
    "            if (rd - pd.Timedelta(days=15) <= current_date) and (current_date < rd):\n",
    "                return True\n",
    "        return False\n",
    "    \n",
    "    df['cu_16_1_condition'] = df.apply(check_condition, axis=1)\n",
    "    \n",
    "    # 4. 验证交易约束（基于减持行为判断）\n",
    "    transaction_mask = df['cu_16_1_subject'] & df['cu_16_1_condition']\n",
    "    df.loc[transaction_mask, 'cu_16_1_constraint'] = (\n",
    "        df.loc[transaction_mask, '当日减持比例'] <= 0  # 无减持视为合规\n",
    "    )\n",
    "    \n",
    "    # 处理可能存在的NaN值（当减持比例为NaN时视为无交易）\n",
    "    df['cu_16_1_constraint'] = df['cu_16_1_constraint'].fillna(True)\n",
    "    \n",
    "    return df"
   ]
  },
  {
   "cell_type": "code",
   "execution_count": null,
   "id": "924edaf6",
   "metadata": {},
   "outputs": [],
   "source": [
    "df = check_cu_16_1(df)\n",
    "df"
   ]
  },
  {
   "cell_type": "markdown",
   "id": "bf7bc9ee",
   "metadata": {},
   "source": [
    "---"
   ]
  },
  {
   "cell_type": "markdown",
   "id": "4134b282",
   "metadata": {},
   "source": [
    "## cu_16_2"
   ]
  },
  {
   "cell_type": "markdown",
   "id": "e7e6204b",
   "metadata": {},
   "source": [
    "\n",
    "| 字段 | 内容 |\n",
    "|------|------|\n",
    "| subject | 上市公司董监高 |\n",
    "| condition | 上市公司季度报告、业绩预告、业绩快报公告前5日内 |\n",
    "| constrain | 不得买卖本公司股份 |\n",
    "| contextual_info | nan |\n",
    "| note | 只考虑季度报告情况 |\n",
    "| relation | nan |\n",
    "| target | nan |\n",
    "| type | 数值化执行单元 |\n",
    "| comments | nan |\n",
    "| prompt_tokens | 2012 |\n",
    "| completion_tokens | 5836 |\n"
   ]
  },
  {
   "cell_type": "markdown",
   "id": "fbb6c376",
   "metadata": {},
   "source": [
    "### 代码实现"
   ]
  },
  {
   "cell_type": "code",
   "execution_count": null,
   "id": "fbc36172",
   "metadata": {},
   "outputs": [],
   "source": [
    "import pandas as pd\n",
    "\n",
    "def check_cu_16_2(df):\n",
    "    '''\n",
    "    检查cu_16_2的合规性：\n",
    "    主体：上市公司董监高\n",
    "    条件：处于季度报告公告前5个自然日内\n",
    "    约束：不得买卖本公司股份\n",
    "    '''\n",
    "    df = df.copy()\n",
    "\n",
    "    # 初始化标记列\n",
    "    df['cu_16_2_subject'] = False\n",
    "    df['cu_16_2_condition'] = False\n",
    "    df['cu_16_2_constraint'] = None\n",
    "\n",
    "    # 1. 验证责任主体\n",
    "    df['cu_16_2_subject'] = df['股东身份'] == '董监高'\n",
    "\n",
    "    # 2. 验证触发条件\n",
    "    # 获取季度报告公告信息\n",
    "    quarterly_announcements = df[df['公告类型'] == '季度报告'][['公司简称', '公告日期']].drop_duplicates()\n",
    "    \n",
    "    if not quarterly_announcements.empty:\n",
    "        # 计算有效区间\n",
    "        quarterly_announcements['pre_start'] = quarterly_announcements['公告日期'] - pd.Timedelta(days=5)\n",
    "        quarterly_announcements['pre_end'] = quarterly_announcements['公告日期'] - pd.Timedelta(days=1)\n",
    "        \n",
    "        # 合并有效区间到原始数据\n",
    "        merged = df.merge(quarterly_announcements, on='公司简称', how='left')\n",
    "        \n",
    "        # 判断日期是否在有效区间内\n",
    "        in_window = (merged['日期'] >= merged['pre_start']) & (merged['日期'] <= merged['pre_end'])\n",
    "        condition_mask = in_window.groupby(merged.index).any()\n",
    "        df['cu_16_2_condition'] = condition_mask\n",
    "\n",
    "    # 3. 验证约束条件（所有行独立判断）\n",
    "    df['cu_16_2_constraint'] = df['当日减持比例'] == 0\n",
    "\n",
    "    return df"
   ]
  },
  {
   "cell_type": "code",
   "execution_count": null,
   "id": "87dd6203",
   "metadata": {},
   "outputs": [],
   "source": [
    "df = check_cu_16_2(df)\n",
    "df"
   ]
  },
  {
   "cell_type": "markdown",
   "id": "305ca08c",
   "metadata": {},
   "source": [
    "---"
   ]
  },
  {
   "cell_type": "markdown",
   "id": "b29a1eee",
   "metadata": {},
   "source": [
    "# Law Article 17"
   ]
  },
  {
   "cell_type": "markdown",
   "id": "febfd11b",
   "metadata": {},
   "source": [
    "## cu_17_1"
   ]
  },
  {
   "cell_type": "markdown",
   "id": "7414be79",
   "metadata": {},
   "source": [
    "\n",
    "| 字段 | 内容 |\n",
    "|------|------|\n",
    "| subject | 上市公司董监高 | 离任六个月内的董监高 |\n",
    "| condition | 每年通过集中竞价、大宗交易、协议转让等方式转让股份且不属于因司法强制执行、继承、遗赠、依法分割财产等导致股份变动 |\n",
    "| constrain | 每年转让的股份不得超过其所持本公司股份总数的25% |\n",
    "| contextual_info | nan |\n",
    "| note | 不考虑因司法强制执行、继承、遗赠、依法分割财产等导致股份变动的情况; 6个月按180个自然日计算, 含处罚日当日; 年按照自然年计算; 计算持股数量限制时以持股比例为准, 而非绝对数量.  |\n",
    "| relation | refer_to |\n",
    "| target | MEU_18_1;MEU_18_2;MEU_18_3;MEU_18_4 |\n",
    "| type | 数值化执行单元 |\n",
    "| comments | nan |\n",
    "| prompt_tokens | 2173 |\n",
    "| completion_tokens | 9368 |\n"
   ]
  },
  {
   "cell_type": "markdown",
   "id": "a84d4ea0",
   "metadata": {},
   "source": [
    "### 代码实现"
   ]
  },
  {
   "cell_type": "code",
   "execution_count": null,
   "id": "ed8466b4",
   "metadata": {},
   "outputs": [],
   "source": [
    "import pandas as pd\n",
    "\n",
    "def check_cu_17_1(df):\n",
    "    '''\n",
    "    检查cu_17_1的合规性：\n",
    "    主体：上市公司董监高 | 离任六个月内的董监高\n",
    "    条件：每年通过集中竞价、大宗交易、协议转让等方式转让股份且不属于例外情况\n",
    "    约束：每年转让的股份不得超过所持本公司股份总数的25%\n",
    "    '''\n",
    "    df = df.copy()\n",
    "    \n",
    "    # 初始化标记列\n",
    "    df['cu_17_1_subject'] = False\n",
    "    df['cu_17_1_condition'] = False\n",
    "    df['cu_17_1_constraint'] = None\n",
    "    \n",
    "    # 1. 验证责任主体\n",
    "    # 现任董监高\n",
    "    is_current = df['股东身份'] == '董监高'\n",
    "    # 离任董监高且离任日期在180天内\n",
    "    is_former = (\n",
    "        (df['股东身份'] == '离任董监高') &\n",
    "        ((df['日期'] - df['离任日期']).dt.days <= 180)\n",
    "    )\n",
    "    df['cu_17_1_subject'] = is_current | is_former\n",
    "    \n",
    "    # 2. 验证触发条件\n",
    "    valid_condition = (\n",
    "        df['减持方式'].isin(['竞价交易', '大宗交易', '协议转让']) &\n",
    "        (df['当日减持比例'] > 0)\n",
    "    )\n",
    "    df['cu_17_1_condition'] = valid_condition\n",
    "    \n",
    "    # 3. 验证约束条件\n",
    "    # 添加年份列\n",
    "    df['year'] = df['日期'].dt.year\n",
    "    \n",
    "    # 按公司、股东、年份分组获取年初持股比例\n",
    "    df_sorted = df.sort_values(['公司简称', '股东', 'year', '日期'])\n",
    "    year_start_shares = df_sorted.groupby(['公司简称', '股东', 'year'])['持股比例'].first().reset_index()\n",
    "    year_start_shares.rename(columns={'持股比例': '年初持股比例'}, inplace=True)\n",
    "    df = df.merge(year_start_shares, on=['公司简称', '股东', 'year'], how='left')\n",
    "    \n",
    "    # 计算累计减持比例\n",
    "    df_sorted['累计减持比例'] = df_sorted.groupby(['公司简称', '股东', 'year'])['当日减持比例'].cumsum()\n",
    "    df['累计减持比例'] = df_sorted['累计减持比例']\n",
    "    \n",
    "    # 判断约束条件\n",
    "    df['cu_17_1_constraint'] = True\n",
    "    mask = df['当日减持比例'] > 0\n",
    "    df.loc[mask, 'cu_17_1_constraint'] = (\n",
    "        df.loc[mask, '累计减持比例'] <= (df.loc[mask, '年初持股比例'] * 0.25)\n",
    "    )\n",
    "    \n",
    "    # 处理空值（无减持记录时默认合规）\n",
    "    df['cu_17_1_constraint'] = df['cu_17_1_constraint'].fillna(True)\n",
    "    \n",
    "    return df"
   ]
  },
  {
   "cell_type": "code",
   "execution_count": null,
   "id": "9bf5ea20",
   "metadata": {},
   "outputs": [],
   "source": [
    "df = check_cu_17_1(df)\n",
    "df"
   ]
  },
  {
   "cell_type": "markdown",
   "id": "b41b3d8f",
   "metadata": {},
   "source": [
    "---"
   ]
  },
  {
   "cell_type": "markdown",
   "id": "cca30ccf",
   "metadata": {},
   "source": [
    "## cu_17_2"
   ]
  },
  {
   "cell_type": "markdown",
   "id": "6591d79e",
   "metadata": {},
   "source": [
    "\n",
    "| 字段 | 内容 |\n",
    "|------|------|\n",
    "| subject | 上市公司董监高 |\n",
    "| condition | 所持股份不超过1000股 |\n",
    "| constrain | 可一次全部转让且不受前款转让比例限制 |\n",
    "| contextual_info | nan |\n",
    "| note | 不需要处理constrain项, 保留其为None |\n",
    "| relation | exclude |\n",
    "| target | MEU_17_1 |\n",
    "| type | 数值化执行单元 |\n",
    "| comments | nan |\n",
    "| prompt_tokens | 2017 |\n",
    "| completion_tokens | 880 |\n"
   ]
  },
  {
   "cell_type": "markdown",
   "id": "c1c0a2d9",
   "metadata": {},
   "source": [
    "### 代码实现"
   ]
  },
  {
   "cell_type": "code",
   "execution_count": null,
   "id": "e2006a4f",
   "metadata": {},
   "outputs": [],
   "source": [
    "import pandas as pd\n",
    "\n",
    "def check_cu_17_2(df):\n",
    "    '''\n",
    "    检查cu_17_2的合规性：\n",
    "    主体：上市公司董监高\n",
    "    条件：所持股份不超过1000股\n",
    "    约束：保留为None\n",
    "    '''\n",
    "    df = df.copy()\n",
    "    \n",
    "    # 初始化标记列\n",
    "    df['cu_17_2_subject'] = False\n",
    "    df['cu_17_2_condition'] = False\n",
    "    df['cu_17_2_constraint'] = None  # 根据要求保留为None\n",
    "    \n",
    "    # 1. 验证责任主体：上市公司现任董监高\n",
    "    df.loc[df['股东身份'] == '董监高', 'cu_17_2_subject'] = True\n",
    "    \n",
    "    # 2. 验证触发条件：当日持股数量≤1000股\n",
    "    # 根据数据说明，持股数量单位为股且数据完整\n",
    "    df.loc[df['持股数量'] <= 1000, 'cu_17_2_condition'] = True\n",
    "    \n",
    "    return df"
   ]
  },
  {
   "cell_type": "code",
   "execution_count": null,
   "id": "c1879eec",
   "metadata": {},
   "outputs": [],
   "source": [
    "df = check_cu_17_2(df)\n",
    "df"
   ]
  },
  {
   "cell_type": "markdown",
   "id": "82f15e2a",
   "metadata": {},
   "source": [
    "---"
   ]
  },
  {
   "cell_type": "markdown",
   "id": "3eff4d3f",
   "metadata": {},
   "source": [
    "# Law Article 23"
   ]
  },
  {
   "cell_type": "markdown",
   "id": "9ecf64d9",
   "metadata": {},
   "source": [
    "## cu_23_1"
   ]
  },
  {
   "cell_type": "markdown",
   "id": "05f4f594",
   "metadata": {},
   "source": [
    "\n",
    "| 字段 | 内容 |\n",
    "|------|------|\n",
    "| subject | 上市公司大股东 | 董监高 |\n",
    "| condition | nan |\n",
    "| constrain | 不得融券卖出本公司股份 |\n",
    "| contextual_info | nan |\n",
    "| note | nan |\n",
    "| relation | nan |\n",
    "| target | nan |\n",
    "| type | 数值化执行单元 |\n",
    "| comments | nan |\n",
    "| prompt_tokens | 1999 |\n",
    "| completion_tokens | 6797 |\n"
   ]
  },
  {
   "cell_type": "markdown",
   "id": "5b723009",
   "metadata": {},
   "source": [
    "### 代码实现"
   ]
  },
  {
   "cell_type": "code",
   "execution_count": null,
   "id": "e5615e08",
   "metadata": {},
   "outputs": [],
   "source": [
    "import pandas as pd\n",
    "\n",
    "def check_cu_23_1(df):\n",
    "    '''\n",
    "    检查cu_23_1的合规性：\n",
    "    主体：上市公司大股东 | 董监高\n",
    "    约束：禁止融券卖出本公司股份\n",
    "    '''\n",
    "    df = df.copy()\n",
    "\n",
    "    # 初始化标记列\n",
    "    df['cu_23_1_subject'] = False\n",
    "    df['cu_23_1_condition'] = True  # 无触发条件\n",
    "    df['cu_23_1_constraint'] = True  # 默认合规\n",
    "\n",
    "    # 1. 验证责任主体\n",
    "    # 大股东判断：身份标识或持股比例≥5%\n",
    "    is_major = (\n",
    "        df['股东身份'].isin(['控股股东', '实际控制人', '持股5%以上股东']) |\n",
    "        (df['持股比例'] >= 0.05)\n",
    "    )\n",
    "    # 董监高判断\n",
    "    is_director = df['股东身份'] == '董监高'\n",
    "    df.loc[is_major | is_director, 'cu_23_1_subject'] = True\n",
    "\n",
    "    # 3. 验证约束条件（仅对责任主体进行约束检查）\n",
    "    # 融券卖出标记为违规\n",
    "    mask = df['cu_23_1_subject'] & (df['减持方式'] == '融券卖出')\n",
    "    df.loc[mask, 'cu_23_1_constraint'] = False\n",
    "\n",
    "    return df"
   ]
  },
  {
   "cell_type": "code",
   "execution_count": null,
   "id": "fd3c881c",
   "metadata": {},
   "outputs": [],
   "source": [
    "df = check_cu_23_1(df)\n",
    "df"
   ]
  },
  {
   "cell_type": "markdown",
   "id": "01ba99ea",
   "metadata": {},
   "source": [
    "---"
   ]
  }
 ],
 "metadata": {},
 "nbformat": 4,
 "nbformat_minor": 5
}

{
 "cells": [
  {
   "cell_type": "code",
   "execution_count": null,
   "id": "7d6d29bc",
   "metadata": {},
   "outputs": [],
   "source": [
    "# 读取模拟数据\n",
    "import pandas as pd\n",
    "df = pd.read_csv('data_simulation/data_generated/data_simulate_08.csv')\n",
    "date_columns = ['日期', '上市日期', '公告日期', '计划披露日', '计划开始日', '计划结束日', '离任日期']\n",
    "for col in date_columns:\n",
    "    df[col] = pd.to_datetime(df[col])\n",
    "df"
   ]
  },
  {
   "cell_type": "markdown",
   "id": "785481c7",
   "metadata": {},
   "source": [
    "# Law Article 4"
   ]
  },
  {
   "cell_type": "markdown",
   "id": "3c62a661",
   "metadata": {},
   "source": [
    "## MEU_4_1"
   ]
  },
  {
   "cell_type": "markdown",
   "id": "0b1ba1da",
   "metadata": {},
   "source": [
    "\n",
    "| 字段 | 内容 |\n",
    "|------|------|\n",
    "| subject | 上市公司大股东 | 董监高 |\n",
    "| condition | 计划通过本所集中竞价或大宗交易减持股份 |\n",
    "| constrain | 应当及时通知公司，并在首次卖出的15个交易日前向本所报告并预先披露减持计划 |\n",
    "| contextual_info | nan |\n",
    "| note | 不考虑是否及时通知公司 |\n",
    "| relation | nan |\n",
    "| target | nan |\n",
    "| type | 实际执行单元 |\n",
    "| comments | nan |\n",
    "| prompt_tokens | 1725 |\n",
    "| completion_tokens | 7141 |\n"
   ]
  },
  {
   "cell_type": "markdown",
   "id": "84b65e15",
   "metadata": {},
   "source": [
    "### 代码实现"
   ]
  },
  {
   "cell_type": "code",
   "execution_count": null,
   "id": "6782a07d",
   "metadata": {},
   "outputs": [],
   "source": [
    "import pandas as pd\n",
    "\n",
    "def check_meu_4_1(df):\n",
    "    '''\n",
    "    检查MEU_4_1的合规性：\n",
    "    \"subject\": \"上市公司大股东 | 董监高\", \n",
    "    \"condition\": \"计划通过本所集中竞价或大宗交易减持股份\", \n",
    "    \"constraint\": \"应当及时通知公司，并在首次卖出的15个交易日前向本所报告并预先披露减持计划\", \n",
    "    \"contextual_info\": NaN\n",
    "    额外要求：不考虑是否及时通知公司\n",
    "    '''\n",
    "\n",
    "    df = df.copy()\n",
    "\n",
    "    # 初始化标记列\n",
    "    df['meu_4_1_subject'] = False\n",
    "    df['meu_4_1_condition'] = False\n",
    "    df['meu_4_1_constraint'] = False\n",
    "\n",
    "    # 1. 标记valid的subject（上市公司大股东 | 董监高）\n",
    "    # 大股东判断：控股股东/实际控制人/持股5%以上股东 或 持股比例>=5%\n",
    "    is_major_shareholder = (\n",
    "        df['股东身份'].isin(['控股股东', '实际控制人', '持股5%以上股东']) |\n",
    "        (df['持股比例'] >= 0.05)\n",
    "    )\n",
    "    # 董监高判断：股东身份为董监高（不含离任）\n",
    "    is_director = (df['股东身份'] == '董监高')\n",
    "    valid_subject = is_major_shareholder | is_director\n",
    "\n",
    "    # 2. 标记valid的condition（存在减持计划且减持方式为竞价/大宗）\n",
    "    valid_condition = (\n",
    "        df['存在减持计划'] & \n",
    "        df['减持方式'].isin(['竞价交易', '大宗交易'])\n",
    "    )\n",
    "\n",
    "    # 3. 标记valid的constraint（披露日早于开始日至少15自然日）\n",
    "    # 计算自然日差（假设日期列已对齐交易日）\n",
    "    days_diff = (df['计划开始日'] - df['计划披露日']).dt.days\n",
    "    # 约束条件：存在减持计划且时间差>=15天\n",
    "    valid_constraint = (\n",
    "        df['存在减持计划'] & \n",
    "        (days_diff >= 15)\n",
    "    )\n",
    "\n",
    "    # 更新标记列\n",
    "    df.loc[valid_subject, 'meu_4_1_subject'] = True\n",
    "    df.loc[valid_condition, 'meu_4_1_condition'] = True\n",
    "    df.loc[valid_constraint, 'meu_4_1_constraint'] = True\n",
    "\n",
    "    return df"
   ]
  },
  {
   "cell_type": "code",
   "execution_count": null,
   "id": "f39f3908",
   "metadata": {},
   "outputs": [],
   "source": [
    "df = check_meu_4_1(df)\n",
    "df"
   ]
  },
  {
   "cell_type": "markdown",
   "id": "a7a44038",
   "metadata": {},
   "source": [
    "---"
   ]
  },
  {
   "cell_type": "markdown",
   "id": "cc9823dc",
   "metadata": {},
   "source": [
    "## MEU_4_7"
   ]
  },
  {
   "cell_type": "markdown",
   "id": "87bbdfba",
   "metadata": {},
   "source": [
    "\n",
    "| 字段 | 内容 |\n",
    "|------|------|\n",
    "| subject | 上市公司大股东 | 董监高 |\n",
    "| condition | 披露减持计划 |\n",
    "| constrain | 每次披露的减持计划中减持时间区间不得超过3个月 |\n",
    "| contextual_info | nan |\n",
    "| note | 三个月按照90个自然日计算 |\n",
    "| relation | nan |\n",
    "| target | nan |\n",
    "| type | 实际执行单元 |\n",
    "| comments | nan |\n",
    "| prompt_tokens | 1709 |\n",
    "| completion_tokens | 5009 |\n"
   ]
  },
  {
   "cell_type": "markdown",
   "id": "1421063b",
   "metadata": {},
   "source": [
    "### 代码实现"
   ]
  },
  {
   "cell_type": "code",
   "execution_count": null,
   "id": "61caff13",
   "metadata": {},
   "outputs": [],
   "source": [
    "import pandas as pd\n",
    "\n",
    "def check_meu_4_7(df):\n",
    "    '''\n",
    "    验证MEU_4_7合规性：\n",
    "    - subject: 上市公司大股东或董监高\n",
    "    - condition: 披露减持计划\n",
    "    - constraint: 减持时间区间不超过90自然日\n",
    "    '''\n",
    "    df = df.copy()\n",
    "\n",
    "    # 初始化合规性标记列\n",
    "    df['meu_4_7_subject'] = False\n",
    "    df['meu_4_7_condition'] = False\n",
    "    df['meu_4_7_constraint'] = None\n",
    "\n",
    "    # 1. 验证责任主体\n",
    "    # 判断大股东（含持股5%以上）或董监高\n",
    "    is_major_shareholder = (\n",
    "        df['股东身份'].isin(['控股股东', '实际控制人', '持股5%以上股东']) |\n",
    "        (df['持股比例'] >= 0.05)\n",
    "    )\n",
    "    is_director = df['股东身份'] == '董监高'\n",
    "    valid_subject = is_major_shareholder | is_director\n",
    "\n",
    "    # 2. 验证触发条件\n",
    "    valid_condition = df['存在减持计划']\n",
    "\n",
    "    # 3. 验证时间区间约束（独立检查）\n",
    "    # 计算自然日差并判断有效性\n",
    "    has_valid_dates = df['计划开始日'].notna() & df['计划结束日'].notna()\n",
    "    end_after_start = df['计划结束日'] >= df['计划开始日']\n",
    "    days_diff = (df['计划结束日'] - df['计划开始日']).dt.days\n",
    "    valid_constraint = has_valid_dates & end_after_start & (days_diff <= 90)\n",
    "\n",
    "    # 标记各条件满足情况\n",
    "    df.loc[valid_subject, 'meu_4_7_subject'] = True\n",
    "    df.loc[valid_condition, 'meu_4_7_condition'] = True\n",
    "    df.loc[valid_constraint, 'meu_4_7_constraint'] = True\n",
    "    df.loc[~valid_constraint, 'meu_4_7_constraint'] = False\n",
    "\n",
    "    return df"
   ]
  },
  {
   "cell_type": "code",
   "execution_count": null,
   "id": "593abed9",
   "metadata": {},
   "outputs": [],
   "source": [
    "df = check_meu_4_7(df)\n",
    "df"
   ]
  },
  {
   "cell_type": "markdown",
   "id": "d7632544",
   "metadata": {},
   "source": [
    "---"
   ]
  },
  {
   "cell_type": "markdown",
   "id": "3bf713e4",
   "metadata": {},
   "source": [
    "## MEU_4_8"
   ]
  },
  {
   "cell_type": "markdown",
   "id": "53d55490",
   "metadata": {},
   "source": [
    "\n",
    "| 字段 | 内容 |\n",
    "|------|------|\n",
    "| subject | 上市公司大股东 | 董监高 |\n",
    "| condition | 拟在3个月内通过集中竞价交易减持股份的总数超过公司股份总数1% |\n",
    "| constrain | 应当在首次卖出的30个交易日前预先披露减持计划 |\n",
    "| contextual_info | nan |\n",
    "| note | nan |\n",
    "| relation | nan |\n",
    "| target | nan |\n",
    "| type | 实际执行单元 |\n",
    "| comments | nan |\n",
    "| prompt_tokens | 1717 |\n",
    "| completion_tokens | 7786 |\n"
   ]
  },
  {
   "cell_type": "markdown",
   "id": "52c985e5",
   "metadata": {},
   "source": [
    "### 代码实现"
   ]
  },
  {
   "cell_type": "code",
   "execution_count": null,
   "id": "a0c5b25a",
   "metadata": {},
   "outputs": [],
   "source": [
    "import pandas as pd\n",
    "\n",
    "def check_meu_4_8(df):\n",
    "    '''\n",
    "    检查MEU_4_8合规性：\n",
    "    subject: 上市公司大股东 | 董监高\n",
    "    condition: 拟在3个月内通过集中竞价交易减持股份总数超1%\n",
    "    constraint: 需在首次卖出30个交易日前披露计划\n",
    "    '''\n",
    "    df = df.copy()\n",
    "\n",
    "    # 初始化合规标记列\n",
    "    df['meu_4_8_subject'] = False\n",
    "    df['meu_4_8_condition'] = False\n",
    "    df['meu_4_8_constraint'] = None  # 初始化为None以便区分未检查状态\n",
    "\n",
    "    # 1. 验证责任主体 (subject)\n",
    "    # 大股东标准：控股股东/实际控制人/持股5%以上股东或持股比例≥5%\n",
    "    is_major_shareholder = (\n",
    "        df['股东身份'].isin(['控股股东', '实际控制人', '持股5%以上股东']) |\n",
    "        (df['持股比例'] >= 0.05)\n",
    "    )\n",
    "    # 董监高标准：直接身份标识\n",
    "    is_director = df['股东身份'] == '董监高'\n",
    "    valid_subject = is_major_shareholder | is_director\n",
    "    df.loc[valid_subject, 'meu_4_8_subject'] = True\n",
    "\n",
    "    # 2. 验证触发条件 (condition)\n",
    "    # 集中竞价交易、存在减持计划、减持比例>1%、时间跨度≤90天\n",
    "    valid_condition = (\n",
    "        (df['减持方式'] == '竞价交易') &\n",
    "        df['存在减持计划'] &\n",
    "        (df['计划减持比例'] > 0.01) &\n",
    "        ((df['计划结束日'] - df['计划开始日']).dt.days <= 90)\n",
    "    )\n",
    "    # 处理空值并标记\n",
    "    valid_condition = valid_condition.fillna(False)\n",
    "    df.loc[valid_condition, 'meu_4_8_condition'] = True\n",
    "\n",
    "    # 3. 验证约束条件 (constraint)\n",
    "    # 计算计划披露日与计划开始日的时间差\n",
    "    days_diff = (df['计划开始日'] - df['计划披露日']).dt.days\n",
    "    valid_constraint = days_diff >= 30\n",
    "    # 空值处理并更新标记列\n",
    "    valid_constraint = valid_constraint.fillna(False)\n",
    "    df.loc[valid_constraint, 'meu_4_8_constraint'] = True\n",
    "    df.loc[~valid_constraint, 'meu_4_8_constraint'] = False\n",
    "\n",
    "    return df"
   ]
  },
  {
   "cell_type": "code",
   "execution_count": null,
   "id": "18a281cb",
   "metadata": {},
   "outputs": [],
   "source": [
    "df = check_meu_4_8(df)\n",
    "df"
   ]
  },
  {
   "cell_type": "markdown",
   "id": "ec5c5ed6",
   "metadata": {},
   "source": [
    "---"
   ]
  },
  {
   "cell_type": "markdown",
   "id": "7c4a0d84",
   "metadata": {},
   "source": [
    "# Law Article 9"
   ]
  },
  {
   "cell_type": "markdown",
   "id": "e365805e",
   "metadata": {},
   "source": [
    "## MEU_9_1"
   ]
  },
  {
   "cell_type": "markdown",
   "id": "31acd0f2",
   "metadata": {},
   "source": [
    "\n",
    "| 字段 | 内容 |\n",
    "|------|------|\n",
    "| subject | 控股股东 | 实际控制人 | 董监高 |\n",
    "| condition | 公司上市时未盈利且处于实现盈利前阶段 |\n",
    "| constrain | 自公司股票上市之日起2个完整会计年度内不得减持公开发行并上市前股份 |\n",
    "| contextual_info | nan |\n",
    "| note | nan |\n",
    "| relation | nan |\n",
    "| target | nan |\n",
    "| type | 实际执行单元 |\n",
    "| comments | nan |\n",
    "| prompt_tokens | 1721 |\n",
    "| completion_tokens | 7556 |\n"
   ]
  },
  {
   "cell_type": "markdown",
   "id": "cf896a09",
   "metadata": {},
   "source": [
    "### 代码实现"
   ]
  },
  {
   "cell_type": "code",
   "execution_count": null,
   "id": "d31c4b81",
   "metadata": {},
   "outputs": [],
   "source": [
    "import pandas as pd\n",
    "\n",
    "def check_meu_9_1(df):\n",
    "    '''\n",
    "    检查MEU_9_1合规性：\n",
    "    subject: 控股股东 | 实际控制人 | 董监高\n",
    "    condition: 公司上市时未盈利且处于实现盈利前阶段\n",
    "    constraint: 自上市之日起2个完整会计年度内不得减持公开发行前股份\n",
    "    '''\n",
    "    df = df.copy()\n",
    "\n",
    "    # 初始化标记列\n",
    "    df['meu_9_1_subject'] = False\n",
    "    df['meu_9_1_condition'] = False\n",
    "    df['meu_9_1_constraint'] = True  # 默认符合约束\n",
    "\n",
    "    # 标记subject(独立检查)\n",
    "    valid_subject = df['股东身份'].isin(['控股股东', '实际控制人', '董监高'])\n",
    "    df.loc[valid_subject, 'meu_9_1_subject'] = True\n",
    "\n",
    "    # 计算公司上市时净利润(按公司映射)\n",
    "    company_ipo_profit = df.groupby('公司简称').apply(\n",
    "        lambda x: x.set_index('日期').loc[x['上市日期'].iloc[0], '净利润']\n",
    "    ).to_dict()\n",
    "    df['_temp_ipo_profit'] = df['公司简称'].map(company_ipo_profit)\n",
    "\n",
    "    # 计算两年后日期(自然年)\n",
    "    df['_temp_two_year'] = df['上市日期'] + pd.DateOffset(years=2)\n",
    "\n",
    "    # 标记condition(独立检查)\n",
    "    ipo_unprofit = (df['_temp_ipo_profit'] <= 0)\n",
    "    in_period = (df['日期'] <= df['_temp_two_year'])\n",
    "    df['meu_9_1_condition'] = ipo_unprofit & in_period\n",
    "\n",
    "    # 标记constraint(独立检查)\n",
    "    has_sold = (df['当日减持比例'] > 0)\n",
    "    df['meu_9_1_constraint'] = ~(in_period & has_sold)\n",
    "\n",
    "    # 清理临时列\n",
    "    df.drop(columns=['_temp_ipo_profit', '_temp_two_year'], inplace=True)\n",
    "    \n",
    "    return df"
   ]
  },
  {
   "cell_type": "code",
   "execution_count": null,
   "id": "503dc4b8",
   "metadata": {},
   "outputs": [],
   "source": [
    "df = check_meu_9_1(df)\n",
    "df"
   ]
  },
  {
   "cell_type": "markdown",
   "id": "c3126502",
   "metadata": {},
   "source": [
    "---"
   ]
  },
  {
   "cell_type": "markdown",
   "id": "57d96406",
   "metadata": {},
   "source": [
    "## MEU_9_3"
   ]
  },
  {
   "cell_type": "markdown",
   "id": "b448b764",
   "metadata": {},
   "source": [
    "\n",
    "| 字段 | 内容 |\n",
    "|------|------|\n",
    "| subject | 董监高 |\n",
    "| condition | 在前款规定的2个完整会计年度期间内离职 |\n",
    "| constrain | 应当继续遵守前款规定的减持限制 |\n",
    "| contextual_info | nan |\n",
    "| note | nan |\n",
    "| relation | refer_to |\n",
    "| target | MEU_9_1 |\n",
    "| type | 实际执行单元 |\n",
    "| comments | nan |\n",
    "| prompt_tokens | 1807 |\n",
    "| completion_tokens | 9305 |\n"
   ]
  },
  {
   "cell_type": "markdown",
   "id": "17c01017",
   "metadata": {},
   "source": [
    "### 代码实现"
   ]
  },
  {
   "cell_type": "code",
   "execution_count": null,
   "id": "620c63c8",
   "metadata": {},
   "outputs": [],
   "source": [
    "import pandas as pd\n",
    "\n",
    "def check_meu_9_3(df):\n",
    "    '''\n",
    "    验证MEU_9_3合规性：\n",
    "    subject: 董监高\n",
    "    condition: 在MEU_9_1规定的2个完整会计年度期间内离职\n",
    "    constraint: 继续遵守减持限制\n",
    "    '''\n",
    "    df = df.copy()\n",
    "\n",
    "    # 初始化标记列\n",
    "    df['meu_9_3_subject'] = False\n",
    "    df['meu_9_3_condition'] = False\n",
    "    df['meu_9_3_constraint'] = None\n",
    "\n",
    "    # 标记valid的subject（董监高或离任董监高）\n",
    "    valid_subject = df['股东身份'].isin(['董监高', '离任董监高'])\n",
    "    df.loc[valid_subject, 'meu_9_3_subject'] = True\n",
    "\n",
    "    # 预处理公司基础信息\n",
    "    company_info = df.groupby('公司简称').apply(\n",
    "        lambda x: pd.Series({\n",
    "            '上市日期': x['上市日期'].iloc[0],\n",
    "            '上市时每股净利润': x.loc[x['日期'] == x['上市日期'].iloc[0], '每股净利润'].values[0] \n",
    "            if not x.loc[x['日期'] == x['上市日期'].iloc[0]].empty else None\n",
    "        })\n",
    "    ).reset_index()\n",
    "\n",
    "    # 预处理股东离职信息\n",
    "    resign_info = df.groupby(['公司简称', '股东']).apply(\n",
    "        lambda x: pd.Series({\n",
    "            '离任日期': x['离任日期'].dropna().iloc[0] \n",
    "            if not x['离任日期'].dropna().empty else None\n",
    "        })\n",
    "    ).reset_index()\n",
    "\n",
    "    # 合并公司信息并计算时间窗口\n",
    "    resign_info = resign_info.merge(company_info, on='公司简称', how='left')\n",
    "    resign_info['两年结束日期'] = resign_info['上市日期'] + pd.DateOffset(years=2)\n",
    "    \n",
    "    # 获取离任时财务数据\n",
    "    eps_ref = df[['公司简称', '日期', '每股净利润']].drop_duplicates()\n",
    "    resign_info = resign_info.merge(\n",
    "        eps_ref,\n",
    "        left_on=['公司简称', '离任日期'],\n",
    "        right_on=['公司简称', '日期'],\n",
    "        how='left'\n",
    "    ).rename(columns={'每股净利润': '离任时每股净利润'})\n",
    "\n",
    "    # 计算condition有效性\n",
    "    resign_info['condition_met'] = (\n",
    "        (resign_info['上市时每股净利润'] < 0) &          # 上市时未盈利\n",
    "        (resign_info['离任时每股净利润'] < 0) &        # 离职时未实现盈利\n",
    "        (resign_info['离任日期'] <= resign_info['两年结束日期']) &  # 离职在时间窗口内\n",
    "        (resign_info['离任日期'] >= resign_info['上市日期'])\n",
    "    )\n",
    "\n",
    "    # 合并condition标记到主表\n",
    "    df = df.merge(\n",
    "        resign_info[['公司简称', '股东', 'condition_met']],\n",
    "        on=['公司简称', '股东'],\n",
    "        how='left'\n",
    "    )\n",
    "    df['meu_9_3_condition'] = df['condition_met'].fillna(False)\n",
    "\n",
    "    # 标记constraint有效性（所有行独立检查）\n",
    "    df['上市日期'] = df.groupby('公司简称')['上市日期'].transform('first')\n",
    "    df['两年结束日期'] = df['上市日期'] + pd.DateOffset(years=2)\n",
    "    in_window = (df['日期'] >= df['上市日期']) & (df['日期'] <= df['两年结束日期'])\n",
    "    has_reduce = df['当日减持比例'] > 0\n",
    "    df['meu_9_3_constraint'] = ~(in_window & has_reduce)\n",
    "\n",
    "    # 清理临时列\n",
    "    df.drop(columns=['condition_met', '上市日期', '两年结束日期'], inplace=True, errors='ignore')\n",
    "    \n",
    "    return df"
   ]
  },
  {
   "cell_type": "code",
   "execution_count": null,
   "id": "74878d55",
   "metadata": {},
   "outputs": [],
   "source": [
    "df = check_meu_9_3(df)\n",
    "df"
   ]
  },
  {
   "cell_type": "markdown",
   "id": "be52407c",
   "metadata": {},
   "source": [
    "---"
   ]
  },
  {
   "cell_type": "markdown",
   "id": "b7d26252",
   "metadata": {},
   "source": [
    "# Law Article 10"
   ]
  },
  {
   "cell_type": "markdown",
   "id": "e129683e",
   "metadata": {},
   "source": [
    "## MEU_10_1"
   ]
  },
  {
   "cell_type": "markdown",
   "id": "d9b3bf64",
   "metadata": {},
   "source": [
    "\n",
    "| 字段 | 内容 |\n",
    "|------|------|\n",
    "| subject | 上市公司大股东 |\n",
    "| condition | 因涉嫌与本上市公司有关的证券期货违法犯罪，在被中国证监会及其派出机构立案调查或者被司法机关立案侦查期间 |\n",
    "| constrain | 不得减持其所持有的本公司股份 |\n",
    "| contextual_info | nan |\n",
    "| note | nan |\n",
    "| relation | nan |\n",
    "| target | nan |\n",
    "| type | 实际执行单元 |\n",
    "| comments | nan |\n",
    "| prompt_tokens | 1711 |\n",
    "| completion_tokens | 3253 |\n"
   ]
  },
  {
   "cell_type": "markdown",
   "id": "4724980b",
   "metadata": {},
   "source": [
    "### 代码实现"
   ]
  },
  {
   "cell_type": "code",
   "execution_count": null,
   "id": "622754bb",
   "metadata": {},
   "outputs": [],
   "source": [
    "import pandas as pd\n",
    "\n",
    "def check_meu_10_1(df):\n",
    "    '''\n",
    "    验证MEU_10_1合规性：\n",
    "    \"subject\": \"上市公司大股东\",\n",
    "    \"condition\": \"因涉嫌与本上市公司有关的证券期货违法犯罪，在被中国证监会及其派出机构立案调查或者被司法机关立案侦查期间\",\n",
    "    \"constraint\": \"不得减持其所持有的本公司股份\"\n",
    "    '''\n",
    "    df = df.copy()\n",
    "\n",
    "    # 初始化标记列\n",
    "    df['meu_10_1_subject'] = False\n",
    "    df['meu_10_1_condition'] = False\n",
    "    df['meu_10_1_constraint'] = None  # 初始化为None便于后续布尔类型填充\n",
    "\n",
    "    # 1. 标记责任主体有效性(上市公司大股东)\n",
    "    # 判断标准：股东身份属于大股东类别或持股比例≥5%\n",
    "    major_shareholder_mask = (\n",
    "        df['股东身份'].isin(['控股股东', '实际控制人', '持股5%以上股东']) |\n",
    "        (df['持股比例'] >= 0.05)\n",
    "    )\n",
    "    df.loc[major_shareholder_mask, 'meu_10_1_subject'] = True\n",
    "\n",
    "    # 2. 标记触发条件有效性(处于被调查/侦查期间)\n",
    "    # 判断标准：股东涉嫌事件包含立案调查/侦查状态\n",
    "    investigation_status = [\n",
    "        '被中国证监会及其派出机构立案调查',\n",
    "        '被司法机关立案侦查'\n",
    "    ]\n",
    "    df['meu_10_1_condition'] = df['股东涉嫌证券期货违法犯罪事件'].isin(investigation_status)\n",
    "\n",
    "    # 3. 标记约束有效性(未减持股份)\n",
    "    # 判断标准：当日减持比例≤0（独立检查，不考虑主体和条件状态）\n",
    "    df['meu_10_1_constraint'] = df['当日减持比例'] <= 0\n",
    "    # 将布尔值转换为True/False显式标记（覆盖None初始值）\n",
    "    df['meu_10_1_constraint'] = df['meu_10_1_constraint'].astype(bool)\n",
    "\n",
    "    return df"
   ]
  },
  {
   "cell_type": "code",
   "execution_count": null,
   "id": "d468189d",
   "metadata": {},
   "outputs": [],
   "source": [
    "df = check_meu_10_1(df)\n",
    "df"
   ]
  },
  {
   "cell_type": "markdown",
   "id": "87d78cc4",
   "metadata": {},
   "source": [
    "---"
   ]
  },
  {
   "cell_type": "markdown",
   "id": "c044318d",
   "metadata": {},
   "source": [
    "## MEU_10_2"
   ]
  },
  {
   "cell_type": "markdown",
   "id": "b0fc0a77",
   "metadata": {},
   "source": [
    "\n",
    "| 字段 | 内容 |\n",
    "|------|------|\n",
    "| subject | 上市公司大股东 |\n",
    "| condition | 因涉嫌与本上市公司有关的证券期货违法犯罪被中国证监会及其派出机构立案调查或者被司法机关立案侦查，在行政处罚决定、刑事判决作出之后未满6个月 |\n",
    "| constrain | 不得减持其所持有的本公司股份 |\n",
    "| contextual_info | nan |\n",
    "| note | nan |\n",
    "| relation | nan |\n",
    "| target | nan |\n",
    "| type | 实际执行单元 |\n",
    "| comments | nan |\n",
    "| prompt_tokens | 1722 |\n",
    "| completion_tokens | 8204 |\n"
   ]
  },
  {
   "cell_type": "markdown",
   "id": "cd0337d6",
   "metadata": {},
   "source": [
    "### 代码实现"
   ]
  },
  {
   "cell_type": "code",
   "execution_count": null,
   "id": "89499741",
   "metadata": {},
   "outputs": [],
   "source": [
    "import pandas as pd\n",
    "\n",
    "def check_meu_10_2(df):\n",
    "    '''\n",
    "    验证MEU_10_2合规性：\n",
    "    - subject: 上市公司大股东（控股股东/实际控制人/持股5%以上股东）\n",
    "    - condition: 因证券违法被调查且在处罚后6个月内\n",
    "    - constraint: 不得减持股份\n",
    "    '''\n",
    "    df = df.copy()\n",
    "\n",
    "    # 初始化合规标记列\n",
    "    df['meu_10_2_subject'] = False\n",
    "    df['meu_10_2_condition'] = False\n",
    "    df['meu_10_2_constraint'] = False\n",
    "\n",
    "    # 1. 验证责任主体（上市公司大股东）\n",
    "    subject_mask = (\n",
    "        df['股东身份'].isin(['控股股东', '实际控制人', '持股5%以上股东']) | \n",
    "        (df['持股比例'] >= 0.05)\n",
    "    )\n",
    "    df.loc[subject_mask, 'meu_10_2_subject'] = True\n",
    "\n",
    "    # 2. 验证触发条件（分组处理时间序列数据）\n",
    "    # 预处理调查状态\n",
    "    investigated_mask = df['股东涉嫌证券期货违法犯罪事件'].isin([\n",
    "        '被中国证监会及其派出机构立案调查',\n",
    "        '被司法机关立案侦查'\n",
    "    ])\n",
    "    has_investigated = df[investigated_mask].groupby(['公司简称', '股东']).size().reset_index()\n",
    "    has_investigated['has_investigated'] = True\n",
    "\n",
    "    # 预处理处罚时间点\n",
    "    penalty_dates = df[df['股东涉嫌证券期货违法犯罪事件'].isin([\n",
    "        '行政处罚决定作出',\n",
    "        '司法机关立案侦查结束'\n",
    "    ])].groupby(['公司简称', '股东'])['日期'].apply(list).reset_index()\n",
    "\n",
    "    # 合并特征数据\n",
    "    df = df.merge(has_investigated[['公司简称', '股东', 'has_investigated']], \n",
    "                on=['公司简称', '股东'], how='left')\n",
    "    df = df.merge(penalty_dates.rename(columns={'日期': 'penalty_dates'}),\n",
    "                on=['公司简称', '股东'], how='left')\n",
    "    \n",
    "    # 处理空值\n",
    "    df['has_investigated'] = df['has_investigated'].fillna(False)\n",
    "    df['penalty_dates'] = df['penalty_dates'].apply(lambda x: x if isinstance(x, list) else [])\n",
    "\n",
    "    # 条件验证函数\n",
    "    def check_condition(row):\n",
    "        if not row['has_investigated']:\n",
    "            return False\n",
    "        for penalty_date in row['penalty_dates']:\n",
    "            if (row['日期'] - penalty_date).days >= 0 and \\\n",
    "               (row['日期'] - penalty_date).days <= 180:\n",
    "                return True\n",
    "        return False\n",
    "\n",
    "    df['meu_10_2_condition'] = df.apply(check_condition, axis=1)\n",
    "\n",
    "    # 3. 验证约束条件（独立检查）\n",
    "    df['meu_10_2_constraint'] = df['当日减持比例'] == 0\n",
    "\n",
    "    # 清理中间列\n",
    "    df.drop(columns=['has_investigated', 'penalty_dates'], inplace=True, errors='ignore')\n",
    "\n",
    "    return df"
   ]
  },
  {
   "cell_type": "code",
   "execution_count": null,
   "id": "d70ec880",
   "metadata": {},
   "outputs": [],
   "source": [
    "df = check_meu_10_2(df)\n",
    "df"
   ]
  },
  {
   "cell_type": "markdown",
   "id": "ca332dd1",
   "metadata": {},
   "source": [
    "---"
   ]
  },
  {
   "cell_type": "markdown",
   "id": "441ea639",
   "metadata": {},
   "source": [
    "## MEU_10_3"
   ]
  },
  {
   "cell_type": "markdown",
   "id": "f8fbadbe",
   "metadata": {},
   "source": [
    "\n",
    "| 字段 | 内容 |\n",
    "|------|------|\n",
    "| subject | 上市公司大股东 |\n",
    "| condition | 因涉及与本上市公司有关的违法违规，被本所公开谴责未满3个月 |\n",
    "| constrain | 不得减持其所持有的本公司股份 |\n",
    "| contextual_info | nan |\n",
    "| note | nan |\n",
    "| relation | nan |\n",
    "| target | nan |\n",
    "| type | 实际执行单元 |\n",
    "| comments | nan |\n",
    "| prompt_tokens | 1704 |\n",
    "| completion_tokens | 5748 |\n"
   ]
  },
  {
   "cell_type": "markdown",
   "id": "e9d5be64",
   "metadata": {},
   "source": [
    "### 代码实现"
   ]
  },
  {
   "cell_type": "code",
   "execution_count": null,
   "id": "a7818810",
   "metadata": {},
   "outputs": [],
   "source": [
    "import pandas as pd\n",
    "\n",
    "def check_meu_10_3(df):\n",
    "    '''\n",
    "    检查MEU_10_3合规性：\n",
    "    subject: 上市公司大股东\n",
    "    condition: 因涉及违法违规被本所公开谴责未满3个月\n",
    "    constraint: 不得减持股份\n",
    "    '''\n",
    "    df = df.copy()\n",
    "    \n",
    "    # 初始化合规标记列\n",
    "    df['meu_10_3_subject'] = False\n",
    "    df['meu_10_3_condition'] = False\n",
    "    df['meu_10_3_constraint'] = None\n",
    "    \n",
    "    # 1. 验证责任主体\n",
    "    is_major_shareholder = (\n",
    "        df['股东身份'].isin(['控股股东', '实际控制人', '持股5%以上股东']) |\n",
    "        (df['持股比例'] >= 0.05)\n",
    "    )\n",
    "    df.loc[is_major_shareholder, 'meu_10_3_subject'] = True\n",
    "    \n",
    "    # 2. 验证触发条件\n",
    "    # 获取股东最近公开谴责日期\n",
    "    condemn_df = df[df['股东涉嫌证券期货违法犯罪事件'] == '被本所公开谴责']\n",
    "    if not condemn_df.empty:\n",
    "        last_condemn = condemn_df.groupby(['公司简称', '股东'])['日期'].max().reset_index()\n",
    "        last_condemn.rename(columns={'日期':'last_condemn_date'}, inplace=True)\n",
    "        df = df.merge(last_condemn, how='left', on=['公司简称', '股东'])\n",
    "        # 计算自然日间隔\n",
    "        df['condemn_days'] = (df['日期'] - df['last_condemn_date']).dt.days\n",
    "        valid_cond = (df['condemn_days'] <= 90) & df['last_condemn_date'].notna()\n",
    "        df.loc[valid_cond, 'meu_10_3_condition'] = True\n",
    "        df.drop(columns=['last_condemn_date', 'condemn_days'], inplace=True)\n",
    "    else:\n",
    "        df['meu_10_3_condition'] = False\n",
    "    \n",
    "    # 3. 验证约束条件（独立检查所有记录）\n",
    "    df['meu_10_3_constraint'] = df['当日减持比例'] <= 0\n",
    "    \n",
    "    return df"
   ]
  },
  {
   "cell_type": "code",
   "execution_count": null,
   "id": "d079715a",
   "metadata": {},
   "outputs": [],
   "source": [
    "df = check_meu_10_3(df)\n",
    "df"
   ]
  },
  {
   "cell_type": "markdown",
   "id": "01b9ed17",
   "metadata": {},
   "source": [
    "---"
   ]
  },
  {
   "cell_type": "markdown",
   "id": "2725ae88",
   "metadata": {},
   "source": [
    "## MEU_10_4"
   ]
  },
  {
   "cell_type": "markdown",
   "id": "56945602",
   "metadata": {},
   "source": [
    "\n",
    "| 字段 | 内容 |\n",
    "|------|------|\n",
    "| subject | 上市公司大股东 |\n",
    "| condition | 因涉及证券期货违法，被中国证监会行政处罚且罚没款尚未足额缴纳，且不存在法律、行政法规另有规定或减持资金用于缴纳罚没款的情形 |\n",
    "| constrain | 不得减持其所持有的本公司股份 |\n",
    "| contextual_info | nan |\n",
    "| note | nan |\n",
    "| relation | nan |\n",
    "| target | nan |\n",
    "| type | 实际执行单元 |\n",
    "| comments | nan |\n",
    "| prompt_tokens | 1723 |\n",
    "| completion_tokens | 7540 |\n"
   ]
  },
  {
   "cell_type": "markdown",
   "id": "fd2cd34a",
   "metadata": {},
   "source": [
    "### 代码实现"
   ]
  },
  {
   "cell_type": "code",
   "execution_count": null,
   "id": "d0c2993c",
   "metadata": {},
   "outputs": [],
   "source": [
    "import pandas as pd\n",
    "\n",
    "def check_meu_10_4(df):\n",
    "    '''\n",
    "    验证MEU_10_4合规性：\n",
    "    subject: 上市公司大股东\n",
    "    condition: 因证券期货违法被行政处罚且罚没款未缴，且不存在例外情形\n",
    "    constraint: 不得减持股份\n",
    "    '''\n",
    "    df = df.copy()\n",
    "\n",
    "    # 初始化合规性标记列\n",
    "    df['meu_10_4_subject'] = False\n",
    "    df['meu_10_4_condition'] = False\n",
    "    df['meu_10_4_constraint'] = None\n",
    "\n",
    "    # 1. 验证责任主体（上市公司大股东）\n",
    "    major_shareholder_mask = (\n",
    "        df['股东身份'].isin(['控股股东', '实际控制人', '持股5%以上股东']) | \n",
    "        (df['持股比例'] >= 0.05)\n",
    "    )\n",
    "    df.loc[major_shareholder_mask, 'meu_10_4_subject'] = True\n",
    "\n",
    "    # 2. 验证触发条件（行政处罚+未足额缴纳+无例外情形）\n",
    "    # 按时间顺序计算行政处罚持续状态\n",
    "    sorted_df = df.sort_values(['公司简称', '股东', '日期'])\n",
    "    sorted_df['行政处罚持续状态'] = (\n",
    "        (sorted_df['股东涉嫌证券期货违法犯罪事件'] == '行政处罚决定作出')\n",
    "        .groupby([sorted_df['公司简称'], sorted_df['股东']])\n",
    "        .cummax()\n",
    "    )\n",
    "    df['行政处罚持续状态'] = sorted_df['行政处罚持续状态'].values  # 保持原始索引顺序\n",
    "    \n",
    "    # 检查例外情形（减持资金用于缴纳罚没款）\n",
    "    exception_mask = df['拟减持原因'] == '缴纳罚没款'\n",
    "    valid_condition = df['行政处罚持续状态'] & ~exception_mask\n",
    "    df.loc[valid_condition, 'meu_10_4_condition'] = True\n",
    "\n",
    "    # 3. 验证约束条件（当日无减持）\n",
    "    df['meu_10_4_constraint'] = df['当日减持比例'].eq(0)\n",
    "\n",
    "    # 清理临时字段\n",
    "    df.drop('行政处罚持续状态', axis=1, inplace=True)\n",
    "    \n",
    "    return df"
   ]
  },
  {
   "cell_type": "code",
   "execution_count": null,
   "id": "1ee5355c",
   "metadata": {},
   "outputs": [],
   "source": [
    "df = check_meu_10_4(df)\n",
    "df"
   ]
  },
  {
   "cell_type": "markdown",
   "id": "c77d2e3e",
   "metadata": {},
   "source": [
    "---"
   ]
  },
  {
   "cell_type": "markdown",
   "id": "2b2b4283",
   "metadata": {},
   "source": [
    "# Law Article 11"
   ]
  },
  {
   "cell_type": "markdown",
   "id": "3aa53335",
   "metadata": {},
   "source": [
    "## MEU_11_1"
   ]
  },
  {
   "cell_type": "markdown",
   "id": "bd690271",
   "metadata": {},
   "source": [
    "\n",
    "| 字段 | 内容 |\n",
    "|------|------|\n",
    "| subject | 上市公司控股股东 | 实际控制人 |\n",
    "| condition | 上市公司因涉嫌证券期货违法犯罪，在被中国证监会及其派出机构立案调查或者被司法机关立案侦查期间 |\n",
    "| constrain | 不得减持其所持有的本公司股份 |\n",
    "| contextual_info | nan |\n",
    "| note | nan |\n",
    "| relation | nan |\n",
    "| target | nan |\n",
    "| type | 实际执行单元 |\n",
    "| comments | nan |\n",
    "| prompt_tokens | 1714 |\n",
    "| completion_tokens | 4512 |\n"
   ]
  },
  {
   "cell_type": "markdown",
   "id": "d136b5b6",
   "metadata": {},
   "source": [
    "### 代码实现"
   ]
  },
  {
   "cell_type": "code",
   "execution_count": null,
   "id": "a2a8ad39",
   "metadata": {},
   "outputs": [],
   "source": [
    "import pandas as pd\n",
    "\n",
    "def check_meu_11_1(df):\n",
    "    '''\n",
    "    检查MEU_11_1合规性：\n",
    "    subject: 上市公司控股股东 | 实际控制人\n",
    "    condition: 公司因涉嫌证券期货违法犯罪被立案调查/侦查期间\n",
    "    constraint: 不得减持股份\n",
    "    \n",
    "    实现逻辑：\n",
    "    1. subject通过股东身份字段直接匹配\n",
    "    2. condition通过公司涉嫌违法事件字段状态判断\n",
    "    3. constraint通过当日减持比例字段数值验证\n",
    "    '''\n",
    "    df = df.copy()\n",
    "\n",
    "    # 初始化合规标记列\n",
    "    df['meu_11_1_subject'] = False\n",
    "    df['meu_11_1_condition'] = False\n",
    "    df['meu_11_1_constraint'] = None\n",
    "\n",
    "    # 标记责任主体 (步骤1)\n",
    "    subject_mask = df['股东身份'].isin(['控股股东', '实际控制人'])\n",
    "    df.loc[subject_mask, 'meu_11_1_subject'] = True\n",
    "\n",
    "    # 标记触发条件 (步骤2)\n",
    "    condition_choices = ['被中国证监会及其派出机构立案调查', '被司法机关立案侦查']\n",
    "    df['meu_11_1_condition'] = df['公司涉嫌证券期货违法犯罪事件'].isin(condition_choices)\n",
    "\n",
    "    # 标记约束条件 (步骤3)\n",
    "    # 当日减持比例>0视为违反约束，注意处理空值\n",
    "    df['meu_11_1_constraint'] = (df['当日减持比例'].fillna(0) <= 0)\n",
    "    \n",
    "    # 将布尔值转换为True/False明确标记\n",
    "    df['meu_11_1_constraint'] = df['meu_11_1_constraint'].map({True: True, False: False})\n",
    "\n",
    "    return df"
   ]
  },
  {
   "cell_type": "code",
   "execution_count": null,
   "id": "49b22dd5",
   "metadata": {},
   "outputs": [],
   "source": [
    "df = check_meu_11_1(df)\n",
    "df"
   ]
  },
  {
   "cell_type": "markdown",
   "id": "f7cacf5c",
   "metadata": {},
   "source": [
    "---"
   ]
  },
  {
   "cell_type": "markdown",
   "id": "337c74d7",
   "metadata": {},
   "source": [
    "## MEU_11_2"
   ]
  },
  {
   "cell_type": "markdown",
   "id": "c4915ab3",
   "metadata": {},
   "source": [
    "\n",
    "| 字段 | 内容 |\n",
    "|------|------|\n",
    "| subject | 上市公司控股股东 | 实际控制人 |\n",
    "| condition | 上市公司因涉嫌证券期货违法犯罪被中国证监会及其派出机构立案调查或者被司法机关立案侦查，在行政处罚决定、刑事判决作出之后未满6个月的 |\n",
    "| constrain | 不得减持其所持有的本公司股份 |\n",
    "| contextual_info | nan |\n",
    "| note | nan |\n",
    "| relation | nan |\n",
    "| target | nan |\n",
    "| type | 实际执行单元 |\n",
    "| comments | nan |\n",
    "| prompt_tokens | 1725 |\n",
    "| completion_tokens | 5506 |\n"
   ]
  },
  {
   "cell_type": "markdown",
   "id": "69bbc5bb",
   "metadata": {},
   "source": [
    "### 代码实现"
   ]
  },
  {
   "cell_type": "code",
   "execution_count": null,
   "id": "c6a380be",
   "metadata": {},
   "outputs": [],
   "source": [
    "import pandas as pd\n",
    "\n",
    "def check_meu_11_2(df):\n",
    "    '''\n",
    "    验证MEU_11_2合规性：\n",
    "    subject: 上市公司控股股东 | 实际控制人\n",
    "    condition: 公司被立案调查/侦查且处于处罚后6个月内\n",
    "    constraint: 不得减持股份\n",
    "    '''\n",
    "    df = df.copy()\n",
    "\n",
    "    # 初始化合规标记列\n",
    "    df['meu_11_2_subject'] = False\n",
    "    df['meu_11_2_condition'] = False\n",
    "    df['meu_11_2_constraint'] = None\n",
    "\n",
    "    # 1. 验证责任主体\n",
    "    valid_subject = df['股东身份'].isin(['控股股东', '实际控制人'])\n",
    "    df.loc[valid_subject, 'meu_11_2_subject'] = True\n",
    "\n",
    "    # 2. 验证触发条件\n",
    "    # 获取公司最近处罚日期\n",
    "    penalty_mask = df['公司涉嫌证券期货违法犯罪事件'].isin(['行政处罚决定作出', '刑事判决作出'])\n",
    "    latest_penalty = df[penalty_mask].groupby('公司简称')['日期'].max().reset_index()\n",
    "    latest_penalty.columns = ['公司简称', 'latest_penalty_date']\n",
    "    \n",
    "    # 合并处罚日期并计算时间差\n",
    "    df = df.merge(latest_penalty, on='公司简称', how='left')\n",
    "    df['penalty_days'] = (df['日期'] - df['latest_penalty_date']).dt.days\n",
    "    valid_condition = (df['penalty_days'] >= 0) & (df['penalty_days'] <= 180)\n",
    "    df.loc[valid_condition, 'meu_11_2_condition'] = True\n",
    "\n",
    "    # 3. 验证约束条件（独立检查）\n",
    "    df['meu_11_2_constraint'] = df['当日减持比例'] == 0\n",
    "    df['meu_11_2_constraint'] = df['meu_11_2_constraint'].astype(bool)\n",
    "\n",
    "    # 清理中间列\n",
    "    df.drop(['latest_penalty_date', 'penalty_days'], axis=1, inplace=True)\n",
    "\n",
    "    return df"
   ]
  },
  {
   "cell_type": "code",
   "execution_count": null,
   "id": "f9972a7e",
   "metadata": {},
   "outputs": [],
   "source": [
    "df = check_meu_11_2(df)\n",
    "df"
   ]
  },
  {
   "cell_type": "markdown",
   "id": "b8f527dd",
   "metadata": {},
   "source": [
    "---"
   ]
  },
  {
   "cell_type": "markdown",
   "id": "e7072fd2",
   "metadata": {},
   "source": [
    "## MEU_11_3"
   ]
  },
  {
   "cell_type": "markdown",
   "id": "036dd49e",
   "metadata": {},
   "source": [
    "\n",
    "| 字段 | 内容 |\n",
    "|------|------|\n",
    "| subject | 上市公司控股股东 | 实际控制人 |\n",
    "| condition | 上市公司被本所公开谴责未满3个月 |\n",
    "| constrain | 不得减持其所持有的本公司股份 |\n",
    "| contextual_info | nan |\n",
    "| note | nan |\n",
    "| relation | nan |\n",
    "| target | nan |\n",
    "| type | 实际执行单元 |\n",
    "| comments | nan |\n",
    "| prompt_tokens | 1703 |\n",
    "| completion_tokens | 5146 |\n"
   ]
  },
  {
   "cell_type": "markdown",
   "id": "2dbec130",
   "metadata": {},
   "source": [
    "### 代码实现"
   ]
  },
  {
   "cell_type": "code",
   "execution_count": null,
   "id": "b267d746",
   "metadata": {},
   "outputs": [],
   "source": [
    "import pandas as pd\n",
    "\n",
    "def check_meu_11_3(df):\n",
    "    '''\n",
    "    验证MEU_11_3合规性：\n",
    "    \"subject\": \"上市公司控股股东 | 实际控制人\", \n",
    "    \"condition\": \"上市公司被本所公开谴责未满3个月\", \n",
    "    \"constraint\": \"不得减持其所持有的本公司股份\"\n",
    "    '''\n",
    "    df = df.copy()\n",
    "\n",
    "    # 初始化标记列\n",
    "    df['meu_11_3_subject'] = False\n",
    "    df['meu_11_3_condition'] = False\n",
    "    df['meu_11_3_constraint'] = None\n",
    "\n",
    "    # 1. 标记valid的subject\n",
    "    valid_subject = df['股东身份'].isin(['控股股东', '实际控制人'])\n",
    "    df.loc[valid_subject, 'meu_11_3_subject'] = True\n",
    "\n",
    "    # 2. 标记valid的condition\n",
    "    # 获取各公司被公开谴责的日期列表\n",
    "    condemn_dates = (\n",
    "        df[df['公司涉嫌证券期货违法犯罪事件'] == '被本所公开谴责']\n",
    "        .groupby('公司简称')['日期']\n",
    "        .apply(list)\n",
    "        .to_dict()\n",
    "    )\n",
    "\n",
    "    # 定义日期检查函数\n",
    "    def check_condemn_window(row):\n",
    "        company = row['公司简称']\n",
    "        current_date = row['日期']\n",
    "        for d in condemn_dates.get(company, []):\n",
    "            if 0 <= (current_date - d).days <= 90:\n",
    "                return True\n",
    "        return False\n",
    "\n",
    "    df['meu_11_3_condition'] = df.apply(check_condemn_window, axis=1)\n",
    "\n",
    "    # 3. 标记valid的constraint（独立检查）\n",
    "    # 通过当日减持比例判断是否发生减持\n",
    "    valid_constraint = df['当日减持比例'] <= 0\n",
    "    df.loc[valid_constraint, 'meu_11_3_constraint'] = True\n",
    "    df.loc[~valid_constraint, 'meu_11_3_constraint'] = False\n",
    "\n",
    "    return df"
   ]
  },
  {
   "cell_type": "code",
   "execution_count": null,
   "id": "e08b5a1b",
   "metadata": {},
   "outputs": [],
   "source": [
    "df = check_meu_11_3(df)\n",
    "df"
   ]
  },
  {
   "cell_type": "markdown",
   "id": "d783cd1e",
   "metadata": {},
   "source": [
    "---"
   ]
  },
  {
   "cell_type": "markdown",
   "id": "fcd1a4ab",
   "metadata": {},
   "source": [
    "## MEU_11_4"
   ]
  },
  {
   "cell_type": "markdown",
   "id": "d4c2319d",
   "metadata": {},
   "source": [
    "\n",
    "| 字段 | 内容 |\n",
    "|------|------|\n",
    "| subject | 上市公司控股股东 | 实际控制人 |\n",
    "| condition | 市公司股票因可能触及重大违法强制退市情形，而被本所实施退市风险警示，在本所规定的限制减持期限内的 |\n",
    "| constrain | 不得减持其所持有的本公司股份 |\n",
    "| contextual_info | nan |\n",
    "| note | nan |\n",
    "| relation | nan |\n",
    "| target | nan |\n",
    "| type | 实际执行单元 |\n",
    "| comments | nan |\n",
    "| prompt_tokens | 1722 |\n",
    "| completion_tokens | 7246 |\n"
   ]
  },
  {
   "cell_type": "markdown",
   "id": "beea273d",
   "metadata": {},
   "source": [
    "### 代码实现"
   ]
  },
  {
   "cell_type": "code",
   "execution_count": null,
   "id": "84bab629",
   "metadata": {},
   "outputs": [],
   "source": [
    "import pandas as pd\n",
    "\n",
    "def check_meu_11_4(df):\n",
    "    '''\n",
    "    检查MEU_11_4合规性：\n",
    "    subject: 控股股东或实际控制人\n",
    "    condition: 公司因重大违法被实施退市风险警示且在限制期内\n",
    "    constraint: 不得减持股份\n",
    "    '''\n",
    "    df = df.copy()\n",
    "\n",
    "    # 初始化标记列\n",
    "    df['meu_11_4_subject'] = False\n",
    "    df['meu_11_4_condition'] = False\n",
    "    df['meu_11_4_constraint'] = None\n",
    "\n",
    "    # 标记valid的subject\n",
    "    valid_subject = df['股东身份'].isin(['控股股东', '实际控制人'])\n",
    "    df.loc[valid_subject, 'meu_11_4_subject'] = True\n",
    "\n",
    "    # 标记valid的condition（需要分组处理公司状态）\n",
    "    def get_restriction_periods(group):\n",
    "        '''识别公司退市风险警示期间'''\n",
    "        periods = []\n",
    "        in_restriction = False\n",
    "        start_date = None\n",
    "        \n",
    "        # 按时间排序处理事件序列\n",
    "        sorted_group = group.sort_values('日期')\n",
    "        for _, row in sorted_group.iterrows():\n",
    "            event = row['公司涉嫌证券期货违法犯罪事件']\n",
    "            current_date = row['日期']\n",
    "            \n",
    "            if event == '被中国证监会及其派出机构立案调查' and not in_restriction:\n",
    "                start_date = current_date\n",
    "                in_restriction = True\n",
    "            elif event in ['中国证监会及其派出机构立案调查结束', '行政处罚决定作出'] and in_restriction:\n",
    "                end_date = current_date\n",
    "                periods.append((start_date, end_date))\n",
    "                in_restriction = False\n",
    "                start_date = None\n",
    "        \n",
    "        # 处理未结束的警示状态\n",
    "        if in_restriction and start_date:\n",
    "            end_date = sorted_group['日期'].max()\n",
    "            periods.append((start_date, end_date))\n",
    "            \n",
    "        return periods\n",
    "\n",
    "    # 获取各公司限制期列表\n",
    "    restriction_dict = df.groupby('公司简称').apply(get_restriction_periods).to_dict()\n",
    "\n",
    "    # 检查日期是否在限制期内\n",
    "    def check_condition(row):\n",
    "        company = row['公司简称']\n",
    "        date = row['日期']\n",
    "        for period in restriction_dict.get(company, []):\n",
    "            if period[0] <= date <= period[1]:\n",
    "                return True\n",
    "        return False\n",
    "\n",
    "    valid_condition = df.apply(check_condition, axis=1)\n",
    "    df.loc[valid_condition, 'meu_11_4_condition'] = True\n",
    "\n",
    "    # 标记valid的constraint（独立检查所有记录）\n",
    "    df['meu_11_4_constraint'] = (df['当日减持比例'] == 0)\n",
    "\n",
    "    return df"
   ]
  },
  {
   "cell_type": "code",
   "execution_count": null,
   "id": "163fb890",
   "metadata": {},
   "outputs": [],
   "source": [
    "df = check_meu_11_4(df)\n",
    "df"
   ]
  },
  {
   "cell_type": "markdown",
   "id": "376fe508",
   "metadata": {},
   "source": [
    "---"
   ]
  },
  {
   "cell_type": "markdown",
   "id": "fdc1f573",
   "metadata": {},
   "source": [
    "# Law Article 12"
   ]
  },
  {
   "cell_type": "markdown",
   "id": "56a31817",
   "metadata": {},
   "source": [
    "## MEU_12_1"
   ]
  },
  {
   "cell_type": "markdown",
   "id": "ca783e78",
   "metadata": {},
   "source": [
    "\n",
    "| 字段 | 内容 |\n",
    "|------|------|\n",
    "| subject | 公开发行股票并上市时的控股股东 | 公开发行股票并上市时的实际控制人 |\n",
    "| condition | 计划通过集中竞价交易或大宗交易减持股份且首次披露减持计划, 且不存在已经按照本指引第四条披露减持计划，或者中国证监会另有规定的情况的 |\n",
    "| constrain | 不得存在下列情形：最近20个交易日内任一交易日股票收盘价低于公开发行股票并上市的发行价格 |\n",
    "| contextual_info | 股票收盘价以公开发行股票并上市之日为基准向后复权计算 |\n",
    "| note | 不考虑中国证监会另有规定的情况 |\n",
    "| relation | nan |\n",
    "| target | nan |\n",
    "| type | 实际执行单元 |\n",
    "| comments | nan |\n",
    "| prompt_tokens | 1778 |\n",
    "| completion_tokens | 6948 |\n"
   ]
  },
  {
   "cell_type": "markdown",
   "id": "99d246dd",
   "metadata": {},
   "source": [
    "### 代码实现"
   ]
  },
  {
   "cell_type": "code",
   "execution_count": null,
   "id": "8980ea03",
   "metadata": {},
   "outputs": [],
   "source": [
    "import pandas as pd\n",
    "\n",
    "def check_meu_12_1(df):\n",
    "    '''\n",
    "    检查MEU_12_1合规性：\n",
    "    subject: 公开发行股票并上市时的控股股东 | 实际控制人\n",
    "    condition: 计划通过集中竞价或大宗交易减持股份且首次披露减持计划\n",
    "    constraint: 最近20个交易日内任一交易日复权收盘价不低于发行价\n",
    "    contextual_info: 复权计算以发行日为准\n",
    "    '''\n",
    "    df = df.copy()\n",
    "\n",
    "    # 初始化标记列\n",
    "    df['meu_12_1_subject'] = False\n",
    "    df['meu_12_1_condition'] = False\n",
    "    df['meu_12_1_constraint'] = None\n",
    "\n",
    "    # 处理subject部分\n",
    "    # 获取各公司上市日期（首个非空收盘价日期）\n",
    "    def get_ipo_date(group):\n",
    "        valid_dates = group[group['收盘价'].notna()]['日期']\n",
    "        return valid_dates.min() if not valid_dates.empty else pd.NaT\n",
    "    company_ipo_dates = df.groupby('公司简称').apply(get_ipo_date).reset_index(name='公司上市日期')\n",
    "    \n",
    "    # 合并上市日期并筛选上市当日股东身份\n",
    "    df = df.merge(company_ipo_dates, on='公司简称', how='left')\n",
    "    ipo_day_mask = (df['日期'] == df['公司上市日期']) & df['股东身份'].isin(['控股股东', '实际控制人'])\n",
    "    valid_subjects = df[ipo_day_mask][['公司简称', '股东']].drop_duplicates()\n",
    "    \n",
    "    # 标记subject合规\n",
    "    df['meu_12_1_subject'] = df.apply(\n",
    "        lambda x: (x['公司简称'], x['股东']) in valid_subjects.values, \n",
    "        axis=1\n",
    "    )\n",
    "\n",
    "    # 处理condition部分\n",
    "    # 获取首次减持计划披露日\n",
    "    has_plan = df[df['存在减持计划']]\n",
    "    first_disclosure = has_plan.groupby(['公司简称', '股东'])['日期'].min().reset_index(name='首次披露日')\n",
    "    \n",
    "    # 合并首次披露日并验证条件\n",
    "    df = df.merge(first_disclosure, on=['公司简称', '股东'], how='left')\n",
    "    valid_condition = (\n",
    "        df['减持方式'].isin(['竞价交易', '大宗交易']) & \n",
    "        df['存在减持计划'] & \n",
    "        (df['日期'] == df['首次披露日'])\n",
    "    )\n",
    "    df['meu_12_1_condition'] = valid_condition\n",
    "\n",
    "    # 处理constraint部分\n",
    "    # 计算复权价格并标记价格违规\n",
    "    df['复权收盘价'] = df['收盘价'] * df['复权因子']\n",
    "    df['价格违规'] = df['复权收盘价'] < df['发行价格']\n",
    "    \n",
    "    # 按公司滚动检查20日窗口\n",
    "    def check_price_violation(group):\n",
    "        group = group.sort_values('日期')\n",
    "        group['20日违规标记'] = group['价格违规'].rolling(20, min_periods=1).apply(any, raw=True)\n",
    "        return group\n",
    "    \n",
    "    df = df.groupby('公司简称', group_keys=False).apply(check_price_violation)\n",
    "    df['meu_12_1_constraint'] = ~df['20日违规标记']\n",
    "\n",
    "    # 清理中间列\n",
    "    df.drop([\n",
    "        '公司上市日期', '首次披露日', \n",
    "        '复权收盘价', '价格违规', '20日违规标记'\n",
    "    ], axis=1, errors='ignore', inplace=True)\n",
    "\n",
    "    return df"
   ]
  },
  {
   "cell_type": "code",
   "execution_count": null,
   "id": "eae5ee89",
   "metadata": {},
   "outputs": [],
   "source": [
    "df = check_meu_12_1(df)\n",
    "df"
   ]
  },
  {
   "cell_type": "markdown",
   "id": "dbc3f94b",
   "metadata": {},
   "source": [
    "---"
   ]
  },
  {
   "cell_type": "markdown",
   "id": "d1b20fac",
   "metadata": {},
   "source": [
    "## MEU_12_2"
   ]
  },
  {
   "cell_type": "markdown",
   "id": "d70f8b3e",
   "metadata": {},
   "source": [
    "\n",
    "| 字段 | 内容 |\n",
    "|------|------|\n",
    "| subject | 上市公司控股股东 | 实际控制人 | 一致行动人 |\n",
    "| condition | 计划通过集中竞价交易或大宗交易减持股份且首次披露减持计划, 且不存在已经按照本指引第四条披露减持计划，或者中国证监会另有规定的情况的 |\n",
    "| constrain | 不得存在下列情形：最近20个交易日内，上市公司任一交易日股票收盘价低于最近一个会计年度或者最近一期财务会计报告期末每股归属于上市公司股东的净资产 |\n",
    "| contextual_info | 股票收盘价以最近一个会计年度或者最近一期财务会计报告资产负债表日为基准分别向后复权计算 |\n",
    "| note | 不考虑中国证监会另有规定的情况 |\n",
    "| relation | nan |\n",
    "| target | nan |\n",
    "| type | 实际执行单元 |\n",
    "| comments | nan |\n",
    "| prompt_tokens | 1787 |\n",
    "| completion_tokens | 6694 |\n"
   ]
  },
  {
   "cell_type": "markdown",
   "id": "b8a609ab",
   "metadata": {},
   "source": [
    "### 代码实现"
   ]
  },
  {
   "cell_type": "code",
   "execution_count": null,
   "id": "3fb18b3a",
   "metadata": {},
   "outputs": [],
   "source": [
    "import pandas as pd\n",
    "\n",
    "def check_meu_12_2(df):\n",
    "    '''\n",
    "    验证MEU_12_2合规性：\n",
    "    subject: 上市公司控股股东 | 实际控制人 | 一致行动人\n",
    "    condition: 计划通过集中竞价或大宗交易减持且首次披露计划\n",
    "    constraint: 最近20个交易日内收盘价不低于最近财务报告每股净资产\n",
    "    \n",
    "    处理逻辑：\n",
    "    1. subject验证控股股东和实际控制人（一致行动人无数据支持）\n",
    "    2. condition验证交易方式、减持计划及首次披露\n",
    "    3. constraint验证复权后股价与净资产关系\n",
    "    '''\n",
    "    df = df.copy()\n",
    "    \n",
    "    # 初始化结果列\n",
    "    df['meu_12_2_subject'] = False\n",
    "    df['meu_12_2_condition'] = False\n",
    "    df['meu_12_2_constraint'] = None\n",
    "    \n",
    "    # 1. SUBJECT验证（控股股东/实际控制人）\n",
    "    valid_subject = df['股东身份'].isin(['控股股东', '实际控制人'])\n",
    "    df.loc[valid_subject, 'meu_12_2_subject'] = True\n",
    "    \n",
    "    # 2. CONDITION验证\n",
    "    # 交易方式验证\n",
    "    valid_trade_type = df['减持方式'].isin(['竞价交易', '大宗交易'])\n",
    "    # 首次披露验证（按股东维度）\n",
    "    df_sorted = df.sort_values(by='日期')\n",
    "    first_disclosure = (\n",
    "        df_sorted.groupby(['公司简称', '股东'], group_keys=False)\n",
    "        ['存在减持计划'].transform(lambda x: x & (x.cumsum() == 1))\n",
    "    )\n",
    "    valid_condition = valid_trade_type & df['存在减持计划'] & first_disclosure\n",
    "    df.loc[valid_condition, 'meu_12_2_condition'] = True\n",
    "    \n",
    "    # 3. CONSTRAINT验证\n",
    "    # 计算复权价格并判断\n",
    "    df['复权收盘价'] = df['收盘价'] * df['复权因子']\n",
    "    df['price_below_na'] = df['复权收盘价'] < df['每股净资产']\n",
    "    \n",
    "    # 按公司维度滚动检查20交易日\n",
    "    df_sorted = df.sort_values(by='日期')\n",
    "    window_check = (\n",
    "        df_sorted.groupby('公司简称', group_keys=False)\n",
    "        ['price_below_na'].rolling(window=20, min_periods=1)\n",
    "        .apply(lambda x: x.any()).astype(bool)\n",
    "    )\n",
    "    df['constraint_violated'] = window_check.reset_index(level=0, drop=True)\n",
    "    df['meu_12_2_constraint'] = ~df['constraint_violated']\n",
    "    \n",
    "    # 清理中间列\n",
    "    df.drop(['复权收盘价', 'price_below_na', 'constraint_violated'], \n",
    "            axis=1, inplace=True)\n",
    "    \n",
    "    return df"
   ]
  },
  {
   "cell_type": "code",
   "execution_count": null,
   "id": "f4383cce",
   "metadata": {},
   "outputs": [],
   "source": [
    "df = check_meu_12_2(df)\n",
    "df"
   ]
  },
  {
   "cell_type": "markdown",
   "id": "9a2a7358",
   "metadata": {},
   "source": [
    "---"
   ]
  },
  {
   "cell_type": "markdown",
   "id": "bd12b7c8",
   "metadata": {},
   "source": [
    "## MEU_12_3"
   ]
  },
  {
   "cell_type": "markdown",
   "id": "49892e3d",
   "metadata": {},
   "source": [
    "\n",
    "| 字段 | 内容 |\n",
    "|------|------|\n",
    "| subject | 上市公司控股股东 | 实际控制人 | 一致行动人 |\n",
    "| condition | 计划通过集中竞价交易或大宗交易减持股份且首次披露减持计划, 且不存在已经按照本指引第四条披露减持计划，或者中国证监会另有规定的情况的 |\n",
    "| constrain | 不得存在下列情形：上市公司最近一期经审计的财务报告的归属于上市公司股东的净利润为负 |\n",
    "| contextual_info | nan |\n",
    "| note | 不考虑中国证监会另有规定的情况 |\n",
    "| relation | nan |\n",
    "| target | nan |\n",
    "| type | 实际执行单元 |\n",
    "| comments | nan |\n",
    "| prompt_tokens | 1752 |\n",
    "| completion_tokens | 3516 |\n"
   ]
  },
  {
   "cell_type": "markdown",
   "id": "577b60e1",
   "metadata": {},
   "source": [
    "### 代码实现"
   ]
  },
  {
   "cell_type": "code",
   "execution_count": null,
   "id": "b2cd3585",
   "metadata": {},
   "outputs": [],
   "source": [
    "import pandas as pd\n",
    "\n",
    "def check_meu_12_3(df):\n",
    "    '''\n",
    "    检查MEU_12_3合规性：\n",
    "    subject: 上市公司控股股东 | 实际控制人 | 一致行动人\n",
    "    condition: 计划通过集中竞价或大宗交易减持股份且首次披露减持计划\n",
    "    constraint: 最近一期经审计净利润不得为负\n",
    "    '''\n",
    "    df = df.copy()\n",
    "\n",
    "    # 初始化标记列\n",
    "    df['meu_12_3_subject'] = False\n",
    "    df['meu_12_3_condition'] = False\n",
    "    df['meu_12_3_constraint'] = None\n",
    "\n",
    "    # 1. 标记valid的subject\n",
    "    # 处理控股股东和实际控制人（数据中无一致行动人字段）\n",
    "    valid_subject = df['股东身份'].isin(['控股股东', '实际控制人'])\n",
    "    df.loc[valid_subject, 'meu_12_3_subject'] = True\n",
    "\n",
    "    # 2. 标记valid的condition\n",
    "    # 按公司和股东分组处理首次披露\n",
    "    df_sorted = df.sort_values(['公司简称', '股东', '日期'])\n",
    "    grouped = df_sorted.groupby(['公司简称', '股东'])\n",
    "    # 计算历史减持计划累计次数（不含当前行）\n",
    "    df_sorted['prev_plan_count'] = grouped['存在减持计划'].cumsum() - df_sorted['存在减持计划']\n",
    "    df = df_sorted.sort_index()\n",
    "\n",
    "    # 条件验证\n",
    "    valid_condition = (\n",
    "        df['减持方式'].isin(['竞价交易', '大宗交易']) &  # 交易方式验证\n",
    "        df['存在减持计划'] &  # 存在减持计划\n",
    "        (df['prev_plan_count'] == 0)  # 首次披露验证\n",
    "    )\n",
    "    df.loc[valid_condition, 'meu_12_3_condition'] = True\n",
    "\n",
    "    # 3. 标记valid的constraint（独立检查）\n",
    "    # 净利润>=0时满足约束\n",
    "    df['meu_12_3_constraint'] = df['净利润'] >= 0\n",
    "\n",
    "    # 清理临时列\n",
    "    df.drop('prev_plan_count', axis=1, inplace=True, errors='ignore')\n",
    "\n",
    "    return df"
   ]
  },
  {
   "cell_type": "code",
   "execution_count": null,
   "id": "2641c834",
   "metadata": {},
   "outputs": [],
   "source": [
    "df = check_meu_12_3(df)\n",
    "df"
   ]
  },
  {
   "cell_type": "markdown",
   "id": "b56e982d",
   "metadata": {},
   "source": [
    "---"
   ]
  },
  {
   "cell_type": "markdown",
   "id": "c3d6f063",
   "metadata": {},
   "source": [
    "## MEU_12_4"
   ]
  },
  {
   "cell_type": "markdown",
   "id": "e716dc8e",
   "metadata": {},
   "source": [
    "\n",
    "| 字段 | 内容 |\n",
    "|------|------|\n",
    "| subject | 控股股东 | 实际控制人（上市后不再具备相关主体身份的） |\n",
    "| condition | 计划通过集中竞价交易或大宗交易减持股份且首次披露减持计划, 且不存在已经按照本指引第四条披露减持计划，或者中国证监会另有规定的情况的 |\n",
    "| constrain | 不得存在下列情形：最近20个交易日内任一交易日股票收盘价低于公开发行股票并上市的发行价格 |\n",
    "| contextual_info | 股票收盘价以公开发行股票并上市之日为基准向后复权计算 |\n",
    "| note | 不考虑中国证监会另有规定的情况 |\n",
    "| relation | nan |\n",
    "| target | nan |\n",
    "| type | 实际执行单元 |\n",
    "| comments | nan |\n",
    "| prompt_tokens | 1775 |\n",
    "| completion_tokens | 7249 |\n"
   ]
  },
  {
   "cell_type": "markdown",
   "id": "fba5cedf",
   "metadata": {},
   "source": [
    "### 代码实现"
   ]
  },
  {
   "cell_type": "code",
   "execution_count": null,
   "id": "1e98f7fb",
   "metadata": {},
   "outputs": [],
   "source": [
    "import pandas as pd\n",
    "\n",
    "def check_meu_12_4(df):\n",
    "    '''\n",
    "    验证MEU_12_4合规性：\n",
    "    subject: 上市时是控股股东/实际控制人且当前已不具备该身份\n",
    "    condition: 首次披露竞价/大宗减持计划\n",
    "    constraint: 最近20交易日无复权收盘价低于发行价\n",
    "    '''\n",
    "    df = df.copy()\n",
    "    \n",
    "    # 初始化结果列\n",
    "    df['meu_12_4_subject'] = False\n",
    "    df['meu_12_4_condition'] = False\n",
    "    df['meu_12_4_constraint'] = False\n",
    "    \n",
    "    # ================== SUBJECT验证 ==================\n",
    "    # 构建公司上市时控股股东/实际控制人字典\n",
    "    ipo_entities = (df.sort_values('日期')\n",
    "                    .groupby('公司简称')\n",
    "                    .apply(lambda g: set(g[g['日期'] == g['上市日期'].iloc[0]]\n",
    "                                        .query(\"股东身份 in ['控股股东','实际控制人']\")['股东'])))\n",
    "    \n",
    "    # 标记符合主体条件\n",
    "    df['is_ipo_entity'] = df.apply(\n",
    "        lambda x: x['股东'] in ipo_entities.get(x['公司简称'], set()), axis=1)\n",
    "    valid_subject = df['is_ipo_entity'] & ~df['股东身份'].isin(['控股股东','实际控制人'])\n",
    "    df.loc[valid_subject, 'meu_12_4_subject'] = True\n",
    "\n",
    "    # ================== CONDITION验证 ==================\n",
    "    # 计算首次计划披露日期\n",
    "    first_plan = (df[df['存在减持计划']]\n",
    "                 .sort_values('日期')\n",
    "                 .groupby(['公司简称','股东'])['日期']\n",
    "                 .first()\n",
    "                 .reset_index(name='首披日'))\n",
    "    \n",
    "    # 合并首披日并验证条件\n",
    "    df = df.merge(first_plan, how='left')\n",
    "    valid_condition = (\n",
    "        df['存在减持计划'] & \n",
    "        (df['日期'] == df['首披日']) & \n",
    "        df['减持方式'].isin(['竞价交易','大宗交易'])\n",
    "    )\n",
    "    df.loc[valid_condition, 'meu_12_4_condition'] = True\n",
    "\n",
    "    # ================== CONSTRAINT验证 ==================\n",
    "    # 计算复权价格\n",
    "    df['复权价'] = df['收盘价'] * df['复权因子']\n",
    "    \n",
    "    # 按公司计算滚动窗口内最低价\n",
    "    df_sorted = df.sort_values(['公司简称','日期'])\n",
    "    df_sorted['发行价'] = df_sorted.groupby('公司简称')['发行价格'].transform('first')\n",
    "    window_check = df_sorted.groupby('公司简称', group_keys=False).apply(\n",
    "        lambda g: g['复权价'].rolling(20, min_periods=1).apply(\n",
    "            lambda x: (x < g['发行价'].iloc[0]).any()))\n",
    "    \n",
    "    # 标记约束违规\n",
    "    df_sorted['meu_12_4_constraint'] = ~(window_check > 0)\n",
    "    df = df_sorted.sort_index().drop(columns=['复权价','发行价'])\n",
    "    \n",
    "    return df.drop(columns=['is_ipo_entity','首披日'], errors='ignore')"
   ]
  },
  {
   "cell_type": "code",
   "execution_count": null,
   "id": "6a3119b0",
   "metadata": {},
   "outputs": [],
   "source": [
    "df = check_meu_12_4(df)\n",
    "df"
   ]
  },
  {
   "cell_type": "markdown",
   "id": "99a55089",
   "metadata": {},
   "source": [
    "---"
   ]
  },
  {
   "cell_type": "markdown",
   "id": "734bc1c9",
   "metadata": {},
   "source": [
    "## MEU_12_5"
   ]
  },
  {
   "cell_type": "markdown",
   "id": "af850230",
   "metadata": {},
   "source": [
    "\n",
    "| 字段 | 内容 |\n",
    "|------|------|\n",
    "| subject | 公开发行时持股5%以上的第一大股东 | 一致行动人 |\n",
    "| condition | 上市公司在公开发行股票并上市时披露为无控股股东、实际控制人, 且计划通过集中竞价交易或大宗交易减持股份且首次披露减持计划, 且不存在已经按照本指引第四条披露减持计划，或者中国证监会另有规定的情况的 |\n",
    "| constrain | 不得存在下列情形：最近20个交易日内任一交易日股票收盘价低于公开发行股票并上市的发行价格 |\n",
    "| contextual_info | 股票收盘价以公开发行股票并上市之日为基准向后复权计算 |\n",
    "| note | 不考虑中国证监会另有规定的情况 |\n",
    "| relation | nan |\n",
    "| target | nan |\n",
    "| type | 实际执行单元 |\n",
    "| comments | nan |\n",
    "| prompt_tokens | 1793 |\n",
    "| completion_tokens | 6905 |\n"
   ]
  },
  {
   "cell_type": "markdown",
   "id": "ee48e2e1",
   "metadata": {},
   "source": [
    "### 代码实现"
   ]
  },
  {
   "cell_type": "code",
   "execution_count": null,
   "id": "4b53f528",
   "metadata": {},
   "outputs": [],
   "source": [
    "import pandas as pd\n",
    "\n",
    "def check_meu_12_5(df):\n",
    "    df = df.copy()\n",
    "    \n",
    "    # 初始化标记列\n",
    "    df['meu_12_5_subject'] = False\n",
    "    df['meu_12_5_condition'] = False\n",
    "    df['meu_12_5_constraint'] = None\n",
    "    \n",
    "    # ================== SUBJECT CHECK ==================\n",
    "    # 验证公开发行时持股5%以上的第一大股东\n",
    "    # 1. 获取各公司上市日期和发行价格\n",
    "    company_ipo_info = df.groupby('公司简称').agg(\n",
    "        上市日期=('上市日期', 'first'),\n",
    "        发行价格=('发行价格', 'first')\n",
    "    ).reset_index()\n",
    "    \n",
    "    # 2. 找出各公司上市时的第一大股东\n",
    "    major_shareholders = {}\n",
    "    for _, row in company_ipo_info.iterrows():\n",
    "        company = row['公司简称']\n",
    "        ipo_date = row['上市日期']\n",
    "        \n",
    "        # 获取上市当天的股东数据\n",
    "        ipo_day_data = df[(df['公司简称'] == company) & (df['日期'] == ipo_date)]\n",
    "        \n",
    "        if not ipo_day_data.empty:\n",
    "            # 找到最大持股比例的股东\n",
    "            max_ratio = ipo_day_data['持股比例'].max()\n",
    "            if max_ratio >= 0.05:\n",
    "                valid_shareholders = ipo_day_data[ipo_day_data['持股比例'] == max_ratio]['股东'].unique()\n",
    "                major_shareholders[company] = list(valid_shareholders)\n",
    "            else:\n",
    "                major_shareholders[company] = []\n",
    "    \n",
    "    # 3. 标记有效subject\n",
    "    df['meu_12_5_subject'] = df.apply(\n",
    "        lambda x: x['股东'] in major_shareholders.get(x['公司简称'], []),\n",
    "        axis=1\n",
    "    )\n",
    "    \n",
    "    # ================== CONDITION CHECK ==================\n",
    "    # 验证上市公司无实际控制人且首次披露减持计划\n",
    "    # 1. 检查公司是否无实际控制人\n",
    "    df['company_no_control'] = df.groupby('公司简称')['股东身份'].transform(\n",
    "        lambda x: ~x.isin(['控股股东', '实际控制人']).any()\n",
    "    )\n",
    "    \n",
    "    # 2. 验证减持方式\n",
    "    valid_method = df['减持方式'].isin(['竞价交易', '大宗交易'])\n",
    "    \n",
    "    # 3. 首次减持计划标记\n",
    "    df.sort_values(['公司简称', '股东', '日期'], inplace=True)\n",
    "    df['plan_seq'] = df.groupby(['公司简称', '股东'])['存在减持计划'].cumsum()\n",
    "    first_plan = (df['存在减持计划']) & (df['plan_seq'] == 1)\n",
    "    \n",
    "    # 组合条件\n",
    "    df['meu_12_5_condition'] = df['company_no_control'] & valid_method & first_plan\n",
    "    \n",
    "    # ================== CONSTRAINT CHECK ==================\n",
    "    # 验证20日收盘价不低于发行价\n",
    "    # 1. 计算复权价格\n",
    "    df['复权收盘价'] = df['收盘价'] * df['复权因子']\n",
    "    \n",
    "    # 2. 获取发行价格\n",
    "    df = df.merge(company_ipo_info[['公司简称', '发行价格']], on='公司简称', how='left')\n",
    "    \n",
    "    # 3. 滚动检查最近20个交易日\n",
    "    df.sort_values(['公司简称', '日期'], inplace=True)\n",
    "    df['price_valid'] = df.groupby('公司简称').apply(\n",
    "        lambda g: g['复权收盘价'].rolling(20, min_periods=1).min() >= g['发行价格']\n",
    "    ).reset_index(level=0, drop=True)\n",
    "    \n",
    "    df['meu_12_5_constraint'] = df['price_valid']\n",
    "    \n",
    "    # 清理中间列\n",
    "    df.drop(columns=['company_no_control', 'plan_seq', '复权收盘价', '发行价格', 'price_valid'],\n",
    "           inplace=True, errors='ignore')\n",
    "    \n",
    "    return df"
   ]
  },
  {
   "cell_type": "code",
   "execution_count": null,
   "id": "6d025130",
   "metadata": {},
   "outputs": [],
   "source": [
    "df = check_meu_12_5(df)\n",
    "df"
   ]
  },
  {
   "cell_type": "markdown",
   "id": "ac0d22f0",
   "metadata": {},
   "source": [
    "---"
   ]
  },
  {
   "cell_type": "markdown",
   "id": "5f02fd83",
   "metadata": {},
   "source": [
    "# Law Article 13"
   ]
  },
  {
   "cell_type": "markdown",
   "id": "9b982aec",
   "metadata": {},
   "source": [
    "## MEU_13_2"
   ]
  },
  {
   "cell_type": "markdown",
   "id": "daa2b323",
   "metadata": {},
   "source": [
    "\n",
    "| 字段 | 内容 |\n",
    "|------|------|\n",
    "| subject | 大股东 |\n",
    "| condition | 通过协议转让方式减持股份导致出让方不再具有大股东身份, 且处在减持后6个月内 |\n",
    "| constrain | 继续遵守本指引第四条规定 |\n",
    "| contextual_info | nan |\n",
    "| note | nan |\n",
    "| relation | should_include |\n",
    "| target | Law_4 |\n",
    "| type | 实际执行单元 |\n",
    "| comments | nan |\n",
    "| prompt_tokens | 1709 |\n",
    "| completion_tokens | 7409 |\n"
   ]
  },
  {
   "cell_type": "markdown",
   "id": "0411a6d5",
   "metadata": {},
   "source": [
    "### 代码实现"
   ]
  },
  {
   "cell_type": "code",
   "execution_count": null,
   "id": "b62c5b90",
   "metadata": {},
   "outputs": [],
   "source": [
    "import pandas as pd\n",
    "\n",
    "def check_meu_13_2(df):\n",
    "    '''\n",
    "    检查MEU_13_2合规性：\n",
    "    subject: 大股东（控股股东/实际控制人/持股5%以上股东或持股比例≥5%）\n",
    "    condition: 通过协议转让减持导致失去大股东身份且在减持后6个月内\n",
    "    constraint: 继续遵守第四条（假设为减持预披露要求）\n",
    "    '''\n",
    "    df = df.copy()\n",
    "    \n",
    "    # 初始化标记列\n",
    "    df['meu_13_2_subject'] = False\n",
    "    df['meu_13_2_condition'] = False\n",
    "    df['meu_13_2_constraint'] = False\n",
    "\n",
    "    # 1. 标记subject有效性\n",
    "    major_roles = ['控股股东', '实际控制人', '持股5%以上股东']\n",
    "    df['meu_13_2_subject'] = df['股东身份'].isin(major_roles) | (df['持股比例'] >= 0.05)\n",
    "\n",
    "    # 2. 标记condition有效性（分组处理股东减持事件）\n",
    "    for (company, shareholder), group in df.groupby(['公司简称', '股东']):\n",
    "        # 找出协议转让且导致失去大股东资格的日期\n",
    "        condition_dates = group[\n",
    "            (group['减持方式'] == '协议转让') &\n",
    "            (group['持股比例'] < 0.05)  # 减持后失去大股东身份\n",
    "        ]['日期']\n",
    "        \n",
    "        # 标记后续6个月内的交易日\n",
    "        for trigger_date in condition_dates:\n",
    "            mask = (\n",
    "                (df['公司简称'] == company) &\n",
    "                (df['股东'] == shareholder) &\n",
    "                (df['日期'].between(\n",
    "                    trigger_date,\n",
    "                    trigger_date + pd.DateOffset(months=6) - pd.DateOffset(days=1),\n",
    "                    inclusive='both'\n",
    "                ))\n",
    "            )\n",
    "            df.loc[mask, 'meu_13_2_condition'] = True\n",
    "\n",
    "    # 3. 标记constraint有效性（独立检查所有减持计划的预披露）\n",
    "    df['预披露天数'] = (df['计划开始日'] - df['计划披露日']).dt.days\n",
    "    df['meu_13_2_constraint'] = df['存在减持计划'] & (df['预披露天数'] >= 15)\n",
    "\n",
    "    return df"
   ]
  },
  {
   "cell_type": "code",
   "execution_count": null,
   "id": "ba14462f",
   "metadata": {},
   "outputs": [],
   "source": [
    "df = check_meu_13_2(df)\n",
    "df"
   ]
  },
  {
   "cell_type": "markdown",
   "id": "bf70e4c4",
   "metadata": {},
   "source": [
    "---"
   ]
  },
  {
   "cell_type": "markdown",
   "id": "ada55de8",
   "metadata": {},
   "source": [
    "## MEU_13_3"
   ]
  },
  {
   "cell_type": "markdown",
   "id": "90bf4e80",
   "metadata": {},
   "source": [
    "\n",
    "| 字段 | 内容 |\n",
    "|------|------|\n",
    "| subject | 控股股东 | 实际控制人 |\n",
    "| condition | 通过协议转让方式减持股份导致其不再具有控股股东、实际控制人身份, 且处于减持后的6个月内 |\n",
    "| constrain | 应当继续遵守本指引第十二条第一款第二、三项规定 |\n",
    "| contextual_info | nan |\n",
    "| note | nan |\n",
    "| relation | should_include |\n",
    "| target | MEU_12_1;MEU_12_2 |\n",
    "| type | 实际执行单元 |\n",
    "| comments | nan |\n",
    "| prompt_tokens | 1723 |\n",
    "| completion_tokens | 9385 |\n"
   ]
  },
  {
   "cell_type": "markdown",
   "id": "b960f480",
   "metadata": {},
   "source": [
    "### 代码实现"
   ]
  },
  {
   "cell_type": "code",
   "execution_count": null,
   "id": "9297e8b5",
   "metadata": {},
   "outputs": [],
   "source": [
    "import pandas as pd\n",
    "\n",
    "def check_meu_13_3(df):\n",
    "    '''\n",
    "    检查MEU_13_3的合规性：\n",
    "    subject: 控股股东 | 实际控制人\n",
    "    condition: 通过协议转让减持导致失去身份，且在减持后的6个月内\n",
    "    constraint: 继续遵守第十二条相关规定（假设检查减持后的六个月内是否有减持行为）\n",
    "    '''\n",
    "    df = df.copy()\n",
    "    \n",
    "    # 初始化标记列\n",
    "    df['meu_13_3_subject'] = df['股东身份'].isin(['控股股东', '实际控制人'])\n",
    "    df['meu_13_3_condition'] = False\n",
    "    df['meu_13_3_constraint'] = True  # 初始假设为True\n",
    "    \n",
    "    # 处理condition和constraint\n",
    "    # 分组处理每个公司和股东\n",
    "    def process_group(group):\n",
    "        # 找到所有协议转让且subject为True的行\n",
    "        protocol_mask = (group['减持方式'] == '协议转让') & (group['meu_13_3_subject'])\n",
    "        protocol_dates = group.loc[protocol_mask, '日期'].tolist()\n",
    "        \n",
    "        # 检查每个协议转让日期是否导致身份变化\n",
    "        for date in protocol_dates:\n",
    "            # 找到该日期之后的行\n",
    "            subsequent = group[group['日期'] > date]\n",
    "            if not subsequent.empty:\n",
    "                # 检查后续第一个行是否身份变化\n",
    "                first_subsequent = subsequent.iloc[0]\n",
    "                if not first_subsequent['meu_13_3_subject']:\n",
    "                    # 触发点date，计算六个月后的日期\n",
    "                    end_date = date + pd.DateOffset(months=6)\n",
    "                    # 标记condition为True\n",
    "                    condition_mask = (group['日期'] >= date) & (group['日期'] <= end_date)\n",
    "                    group.loc[condition_mask, 'meu_13_3_condition'] = True\n",
    "        \n",
    "        # 独立处理constraint：检查所有减持后的六个月内是否有减持行为\n",
    "        dissolution_dates = group[group['当日减持比例'] > 0]['日期']\n",
    "        for date in dissolution_dates:\n",
    "            end_date = date + pd.DateOffset(months=6)\n",
    "            constraint_mask = (group['日期'] > date) & (group['日期'] <= end_date)\n",
    "            group.loc[constraint_mask, 'meu_13_3_constraint'] = False\n",
    "        \n",
    "        return group\n",
    "    \n",
    "    df = df.groupby(['公司简称', '股东'], group_keys=False).apply(process_group)\n",
    "    \n",
    "    return df"
   ]
  },
  {
   "cell_type": "code",
   "execution_count": null,
   "id": "46ba708a",
   "metadata": {},
   "outputs": [],
   "source": [
    "df = check_meu_13_3(df)\n",
    "df"
   ]
  },
  {
   "cell_type": "markdown",
   "id": "64de1c39",
   "metadata": {},
   "source": [
    "---"
   ]
  },
  {
   "cell_type": "markdown",
   "id": "6657d158",
   "metadata": {},
   "source": [
    "# Law Article 14"
   ]
  },
  {
   "cell_type": "markdown",
   "id": "6645849d",
   "metadata": {},
   "source": [
    "## MEU_14_1"
   ]
  },
  {
   "cell_type": "markdown",
   "id": "f7ee882d",
   "metadata": {},
   "source": [
    "\n",
    "| 字段 | 内容 |\n",
    "|------|------|\n",
    "| subject | 上市公司董监高 |\n",
    "| condition | 上市公司因涉嫌证券期货违法犯罪，在被中国证监会及其派出机构立案调查或者被司法机关立案侦查期间 |\n",
    "| constrain | 不得减持其所持有的本公司股份 |\n",
    "| contextual_info | nan |\n",
    "| note | nan |\n",
    "| relation | nan |\n",
    "| target | nan |\n",
    "| type | 实际执行单元 |\n",
    "| comments | nan |\n",
    "| prompt_tokens | 1710 |\n",
    "| completion_tokens | 4302 |\n"
   ]
  },
  {
   "cell_type": "markdown",
   "id": "a986b625",
   "metadata": {},
   "source": [
    "### 代码实现"
   ]
  },
  {
   "cell_type": "code",
   "execution_count": null,
   "id": "1619375e",
   "metadata": {},
   "outputs": [],
   "source": [
    "import pandas as pd\n",
    "\n",
    "def check_meu_14_1(df):\n",
    "    '''\n",
    "    检查MEU_14_1合规性：\n",
    "    subject: 上市公司董监高\n",
    "    condition: 公司因涉嫌证券期货违法犯罪被立案调查或侦查期间\n",
    "    constraint: 不得减持股份\n",
    "    '''\n",
    "    df = df.copy()\n",
    "\n",
    "    # 初始化标记列\n",
    "    df['meu_14_1_subject'] = False\n",
    "    df['meu_14_1_condition'] = False\n",
    "    df['meu_14_1_constraint'] = None\n",
    "\n",
    "    # 1. 验证责任主体：股东身份为董监高\n",
    "    valid_subject = df['股东身份'] == '董监高'\n",
    "    df.loc[valid_subject, 'meu_14_1_subject'] = True\n",
    "\n",
    "    # 2. 验证触发条件：公司处于被立案调查/侦查状态\n",
    "    investigation_conditions = ['被中国证监会及其派出机构立案调查', '被司法机关立案侦查']\n",
    "    valid_condition = df['公司涉嫌证券期货违法犯罪事件'].isin(investigation_conditions)\n",
    "    df.loc[valid_condition, 'meu_14_1_condition'] = True\n",
    "\n",
    "    # 3. 验证约束条件：当日无减持行为\n",
    "    # 处理空值并转换为数值型\n",
    "    df['当日减持比例'] = pd.to_numeric(df['当日减持比例'], errors='coerce').fillna(0)\n",
    "    valid_constraint = df['当日减持比例'] == 0\n",
    "    # 设置约束标记\n",
    "    df.loc[valid_constraint, 'meu_14_1_constraint'] = True\n",
    "    df.loc[~valid_constraint, 'meu_14_1_constraint'] = False\n",
    "\n",
    "    return df"
   ]
  },
  {
   "cell_type": "code",
   "execution_count": null,
   "id": "5e9d801c",
   "metadata": {},
   "outputs": [],
   "source": [
    "df = check_meu_14_1(df)\n",
    "df"
   ]
  },
  {
   "cell_type": "markdown",
   "id": "4d9c6355",
   "metadata": {},
   "source": [
    "---"
   ]
  },
  {
   "cell_type": "markdown",
   "id": "143872bc",
   "metadata": {},
   "source": [
    "## MEU_14_2"
   ]
  },
  {
   "cell_type": "markdown",
   "id": "e38cbe10",
   "metadata": {},
   "source": [
    "\n",
    "| 字段 | 内容 |\n",
    "|------|------|\n",
    "| subject | 上市公司董监高 |\n",
    "| condition | 上市公司因涉嫌证券期货违法犯罪被中国证监会及其派出机构立案调查或者被司法机关立案侦查，在行政处罚决定、刑事判决作出之后未满6个月 |\n",
    "| constrain | 不得减持其所持有的本公司股份 |\n",
    "| contextual_info | nan |\n",
    "| note | nan |\n",
    "| relation | nan |\n",
    "| target | nan |\n",
    "| type | 实际执行单元 |\n",
    "| comments | nan |\n",
    "| prompt_tokens | 1721 |\n",
    "| completion_tokens | 5117 |\n"
   ]
  },
  {
   "cell_type": "markdown",
   "id": "2edc6426",
   "metadata": {},
   "source": [
    "### 代码实现"
   ]
  },
  {
   "cell_type": "code",
   "execution_count": null,
   "id": "b28cbfe2",
   "metadata": {},
   "outputs": [],
   "source": [
    "import pandas as pd\n",
    "\n",
    "def check_meu_14_2(df):\n",
    "    '''\n",
    "    合规性检查函数：MEU_14_2\n",
    "    subject: 上市公司董监高\n",
    "    condition: 公司因证券期货违法犯罪被立案调查/侦查且处罚决定/刑事判决未满6个月\n",
    "    constraint: 不得减持股份\n",
    "    '''\n",
    "    df = df.copy()\n",
    "\n",
    "    # 初始化标记列\n",
    "    df['meu_14_2_subject'] = False\n",
    "    df['meu_14_2_condition'] = False\n",
    "    df['meu_14_2_constraint'] = None\n",
    "\n",
    "    # 1. 标记责任主体 (上市公司董监高)\n",
    "    subject_mask = df['股东身份'] == '董监高'\n",
    "    df.loc[subject_mask, 'meu_14_2_subject'] = True\n",
    "\n",
    "    # 2. 标记触发条件 (处罚后未满6个月)\n",
    "    # 筛选处罚相关事件\n",
    "    penalty_events = df[df['公司涉嫌证券期货违法犯罪事件'].isin(['行政处罚决定作出', '刑事判决作出'])]\n",
    "    \n",
    "    # 按公司获取最新处罚日期\n",
    "    latest_penalty = penalty_events.groupby('公司简称')['公告日期'].max().reset_index()\n",
    "    latest_penalty.rename(columns={'公告日期':'latest_penalty_date'}, inplace=True)\n",
    "    \n",
    "    # 合并处罚日期到主表\n",
    "    df = df.merge(latest_penalty, on='公司简称', how='left')\n",
    "    \n",
    "    # 计算自然日间隔\n",
    "    if 'latest_penalty_date' in df.columns:\n",
    "        df['penalty_days'] = (df['日期'] - df['latest_penalty_date']).dt.days\n",
    "        condition_mask = (df['penalty_days'] >= 0) & (df['penalty_days'] <= 180)\n",
    "        df.loc[condition_mask, 'meu_14_2_condition'] = True\n",
    "\n",
    "    # 3. 标记约束条件 (不得减持)\n",
    "    df['meu_14_2_constraint'] = df['当日减持比例'] <= 0  # 无减持为合规\n",
    "    \n",
    "    # 清理辅助列\n",
    "    df.drop(['latest_penalty_date', 'penalty_days'], axis=1, errors='ignore', inplace=True)\n",
    "    \n",
    "    return df"
   ]
  },
  {
   "cell_type": "code",
   "execution_count": null,
   "id": "e7514793",
   "metadata": {},
   "outputs": [],
   "source": [
    "df = check_meu_14_2(df)\n",
    "df"
   ]
  },
  {
   "cell_type": "markdown",
   "id": "efeaefb9",
   "metadata": {},
   "source": [
    "---"
   ]
  },
  {
   "cell_type": "markdown",
   "id": "d1315b95",
   "metadata": {},
   "source": [
    "## MEU_14_3"
   ]
  },
  {
   "cell_type": "markdown",
   "id": "00da2c5f",
   "metadata": {},
   "source": [
    "\n",
    "| 字段 | 内容 |\n",
    "|------|------|\n",
    "| subject | 上市公司董监高 |\n",
    "| condition | 本人因涉嫌与该上市公司有关的证券期货违法犯罪，在被中国证监会及其派出机构立案调查或者被司法机关立案侦查期间 |\n",
    "| constrain | 不得减持其所持有的本公司股份 |\n",
    "| contextual_info | nan |\n",
    "| note | nan |\n",
    "| relation | nan |\n",
    "| target | nan |\n",
    "| type | 实际执行单元 |\n",
    "| comments | nan |\n",
    "| prompt_tokens | 1713 |\n",
    "| completion_tokens | 3719 |\n"
   ]
  },
  {
   "cell_type": "markdown",
   "id": "0ac20c13",
   "metadata": {},
   "source": [
    "### 代码实现"
   ]
  },
  {
   "cell_type": "code",
   "execution_count": null,
   "id": "3b2139f5",
   "metadata": {},
   "outputs": [],
   "source": [
    "import pandas as pd\n",
    "\n",
    "def check_meu_14_3(df):\n",
    "    '''\n",
    "    验证MEU_14_3合规性：\n",
    "    subject: 上市公司董监高\n",
    "    condition: 因涉嫌证券期货违法犯罪被立案调查/侦查期间\n",
    "    constraint: 不得减持股份\n",
    "    '''\n",
    "    df = df.copy()\n",
    "\n",
    "    # 初始化合规性标记列\n",
    "    df['meu_14_3_subject'] = False\n",
    "    df['meu_14_3_condition'] = False\n",
    "    df['meu_14_3_constraint'] = None\n",
    "\n",
    "    # 1. 验证责任主体（当前在任的董监高）\n",
    "    valid_subject = df['股东身份'] == '董监高'\n",
    "    df.loc[valid_subject, 'meu_14_3_subject'] = True\n",
    "\n",
    "    # 2. 验证触发条件（处于被立案调查/侦查状态）\n",
    "    investigation_status = ['被中国证监会及其派出机构立案调查', '被司法机关立案侦查']\n",
    "    valid_condition = df['股东涉嫌证券期货违法犯罪事件'].isin(investigation_status)\n",
    "    df.loc[valid_condition, 'meu_14_3_condition'] = True\n",
    "\n",
    "    # 3. 验证约束条件（当日未发生减持行为）\n",
    "    # 注意：此处独立检查，不考虑subject和condition是否满足\n",
    "    valid_constraint = (df['当日减持比例'] <= 0)\n",
    "    df.loc[valid_constraint, 'meu_14_3_constraint'] = True\n",
    "    df.loc[~valid_constraint, 'meu_14_3_constraint'] = False\n",
    "\n",
    "    return df"
   ]
  },
  {
   "cell_type": "code",
   "execution_count": null,
   "id": "37caf09a",
   "metadata": {},
   "outputs": [],
   "source": [
    "df = check_meu_14_3(df)\n",
    "df"
   ]
  },
  {
   "cell_type": "markdown",
   "id": "035fa4a6",
   "metadata": {},
   "source": [
    "---"
   ]
  },
  {
   "cell_type": "markdown",
   "id": "92ef3036",
   "metadata": {},
   "source": [
    "## MEU_14_4"
   ]
  },
  {
   "cell_type": "markdown",
   "id": "18451425",
   "metadata": {},
   "source": [
    "\n",
    "| 字段 | 内容 |\n",
    "|------|------|\n",
    "| subject | 上市公司董监高 |\n",
    "| condition | 本人因涉嫌与该上市公司有关的证券期货违法犯罪被中国证监会及其派出机构立案调查或者被司法机关立案侦查，在行政处罚决定、刑事判决作出之后未满6个月 |\n",
    "| constrain | 不得减持其所持有的本公司股份 |\n",
    "| contextual_info | nan |\n",
    "| note | nan |\n",
    "| relation | nan |\n",
    "| target | nan |\n",
    "| type | 实际执行单元 |\n",
    "| comments | nan |\n",
    "| prompt_tokens | 1724 |\n",
    "| completion_tokens | 6450 |\n"
   ]
  },
  {
   "cell_type": "markdown",
   "id": "2758338d",
   "metadata": {},
   "source": [
    "### 代码实现"
   ]
  },
  {
   "cell_type": "code",
   "execution_count": null,
   "id": "ad67ba86",
   "metadata": {},
   "outputs": [],
   "source": [
    "import pandas as pd\n",
    "\n",
    "def check_meu_14_4(df):\n",
    "    '''\n",
    "    检查MEU_14_4合规性：\n",
    "    subject: 上市公司董监高\n",
    "    condition: 因涉嫌证券期货违法犯罪被立案且处罚后未满6个月\n",
    "    constraint: 不得减持股份\n",
    "    '''\n",
    "    df = df.copy()\n",
    "\n",
    "    # 初始化标记列\n",
    "    df['meu_14_4_subject'] = False\n",
    "    df['meu_14_4_condition'] = False\n",
    "    df['meu_14_4_constrain'] = True  # 默认未减持\n",
    "\n",
    "    # 1.标记subject(上市公司董监高)\n",
    "    df['meu_14_4_subject'] = df['股东身份'].isin(['董监高'])\n",
    "\n",
    "    # 2.标记condition(被立案且处罚后未满6个月)\n",
    "    # 按股东分组处理\n",
    "    grouped = df.groupby(['公司简称', '股东'], group_keys=False)\n",
    "    \n",
    "    # 判断是否被立案调查/侦查过\n",
    "    df['_investigated'] = grouped['股东涉嫌证券期货违法犯罪事件'].transform(\n",
    "        lambda x: x.isin(['被中国证监会及其派出机构立案调查', '被司法机关立案侦查']).any()\n",
    "    )\n",
    "    \n",
    "    # 获取最新行政处罚日期\n",
    "    penalty_dates = df[df['股东涉嫌证券期货违法犯罪事件'] == '行政处罚决定作出']\\\n",
    "        .groupby(['公司简称', '股东'])['日期'].max().rename('penalty_date')\n",
    "    df = df.merge(penalty_dates, how='left', on=['公司简称', '股东'])\n",
    "    \n",
    "    # 计算自然日间隔\n",
    "    df['_penalty_days'] = (df['日期'] - df['penalty_date']).dt.days\n",
    "    valid_penalty = (df['_penalty_days'] >= 0) & (df['_penalty_days'] <= 180)\n",
    "    \n",
    "    # 综合条件判断\n",
    "    df['meu_14_4_condition'] = df['_investigated'] & valid_penalty & df['penalty_date'].notna()\n",
    "\n",
    "    # 3.标记constraint(当日无减持)\n",
    "    df['meu_14_4_constrain'] = (df['当日减持比例'] <= 0)\n",
    "\n",
    "    # 清理中间列\n",
    "    df.drop(['_investigated', 'penalty_date', '_penalty_days'], axis=1, inplace=True, errors='ignore')\n",
    "    \n",
    "    return df"
   ]
  },
  {
   "cell_type": "code",
   "execution_count": null,
   "id": "f98cc524",
   "metadata": {},
   "outputs": [],
   "source": [
    "df = check_meu_14_4(df)\n",
    "df"
   ]
  },
  {
   "cell_type": "markdown",
   "id": "34340b8f",
   "metadata": {},
   "source": [
    "---"
   ]
  },
  {
   "cell_type": "markdown",
   "id": "2a03740a",
   "metadata": {},
   "source": [
    "## MEU_14_5"
   ]
  },
  {
   "cell_type": "markdown",
   "id": "bc143142",
   "metadata": {},
   "source": [
    "\n",
    "| 字段 | 内容 |\n",
    "|------|------|\n",
    "| subject | 上市公司董监高 |\n",
    "| condition | 本人因涉及证券期货违法，被中国证监会行政处罚，罚没款尚未足额缴纳，且不存在法律、行政法规另有规定或减持资金用于缴纳罚没款的情况 |\n",
    "| constrain | 不得减持其所持有的本公司股份 |\n",
    "| contextual_info | nan |\n",
    "| note | 不考虑法律、行政法规另有规定或减持资金用于缴纳罚没款的情况 |\n",
    "| relation | nan |\n",
    "| target | nan |\n",
    "| type | 实际执行单元 |\n",
    "| comments | nan |\n",
    "| prompt_tokens | 1740 |\n",
    "| completion_tokens | 4183 |\n"
   ]
  },
  {
   "cell_type": "markdown",
   "id": "144038ba",
   "metadata": {},
   "source": [
    "### 代码实现"
   ]
  },
  {
   "cell_type": "code",
   "execution_count": null,
   "id": "43559694",
   "metadata": {},
   "outputs": [],
   "source": [
    "import pandas as pd\n",
    "\n",
    "def check_meu_14_5(df):\n",
    "    '''\n",
    "    检查MEU_14_5合规性：\n",
    "    \"subject\": \"上市公司董监高\",\n",
    "    \"condition\": \"被证监会行政处罚且罚没款未缴\",\n",
    "    \"constraint\": \"不得减持股份\",\n",
    "    实现逻辑：\n",
    "    1. subject检查：股东身份为董监高\n",
    "    2. condition检查：存在行政处罚决定且未缴款（通过事件字段判断）\n",
    "    3. constraint检查：当日无减持行为（通过减持比例判断）\n",
    "    '''\n",
    "    df = df.copy()\n",
    "\n",
    "    # 初始化合规标记列\n",
    "    df['meu_14_5_subject'] = False\n",
    "    df['meu_14_5_condition'] = False\n",
    "    df['meu_14_5_constraint'] = None\n",
    "\n",
    "    # 1. 验证责任主体（上市公司董监高）\n",
    "    subject_mask = df['股东身份'] == '董监高'\n",
    "    df.loc[subject_mask, 'meu_14_5_subject'] = True\n",
    "\n",
    "    # 2. 验证触发条件（存在未缴款的行政处罚）\n",
    "    # 根据数据字段直接匹配行政处罚决定状态\n",
    "    condition_mask = df['股东涉嫌证券期货违法犯罪事件'] == '行政处罚决定作出'\n",
    "    df.loc[condition_mask, 'meu_14_5_condition'] = True\n",
    "\n",
    "    # 3. 验证约束条件（未发生减持行为）\n",
    "    # 通过当日减持比例判断，0表示无减持\n",
    "    constraint_mask = df['当日减持比例'] == 0\n",
    "    df.loc[constraint_mask, 'meu_14_5_constraint'] = True\n",
    "    df.loc[~constraint_mask, 'meu_14_5_constraint'] = False\n",
    "\n",
    "    return df"
   ]
  },
  {
   "cell_type": "code",
   "execution_count": null,
   "id": "ee5980ce",
   "metadata": {},
   "outputs": [],
   "source": [
    "df = check_meu_14_5(df)\n",
    "df"
   ]
  },
  {
   "cell_type": "markdown",
   "id": "9de71984",
   "metadata": {},
   "source": [
    "---"
   ]
  },
  {
   "cell_type": "markdown",
   "id": "40f459c7",
   "metadata": {},
   "source": [
    "## MEU_14_6"
   ]
  },
  {
   "cell_type": "markdown",
   "id": "ae229405",
   "metadata": {},
   "source": [
    "\n",
    "| 字段 | 内容 |\n",
    "|------|------|\n",
    "| subject | 上市公司董监高 |\n",
    "| condition | 本人因涉及与本上市公司有关的违法违规，被证券交易所公开谴责未满三个月 |\n",
    "| constrain | 不得减持其所持有的本公司股份 |\n",
    "| contextual_info | nan |\n",
    "| note | nan |\n",
    "| relation | nan |\n",
    "| target | nan |\n",
    "| type | 实际执行单元 |\n",
    "| comments | nan |\n",
    "| prompt_tokens | 1704 |\n",
    "| completion_tokens | 5533 |\n"
   ]
  },
  {
   "cell_type": "markdown",
   "id": "2957ccb8",
   "metadata": {},
   "source": [
    "### 代码实现"
   ]
  },
  {
   "cell_type": "code",
   "execution_count": null,
   "id": "93785573",
   "metadata": {},
   "outputs": [],
   "source": [
    "import pandas as pd\n",
    "\n",
    "def check_meu_14_6(df):\n",
    "    '''\n",
    "    检查MEU_14_6合规性：\n",
    "    subject: 上市公司董监高\n",
    "    condition: 被交易所公开谴责未满三个月\n",
    "    constraint: 不得减持股份\n",
    "    \n",
    "    处理逻辑：\n",
    "    1. subject标记：股东身份为\"董监高\"\n",
    "    2. condition标记：按股东追踪最近谴责日期，计算90天窗口期\n",
    "    3. constraint标记：当日无减持行为（减持比例<=0）\n",
    "    '''\n",
    "    df = df.copy()\n",
    "\n",
    "    # 初始化标记列\n",
    "    df['meu_14_6_subject'] = False\n",
    "    df['meu_14_6_condition'] = False\n",
    "    df['meu_14_6_constraint'] = None\n",
    "\n",
    "    # 标记valid的subject\n",
    "    df['meu_14_6_subject'] = df['股东身份'] == '董监高'\n",
    "\n",
    "    # 标记valid的condition\n",
    "    # 创建临时谴责日期列\n",
    "    df['_condemn_date'] = pd.NaT\n",
    "    condemn_mask = df['股东涉嫌证券期货违法犯罪事件'] == '被本所公开谴责'\n",
    "    df.loc[condemn_mask, '_condemn_date'] = df.loc[condemn_mask, '日期']\n",
    "    \n",
    "    # 按股东计算累积最大谴责日期\n",
    "    df['_last_condemn'] = df.groupby(['公司简称', '股东'])['_condemn_date'].cummax()\n",
    "    \n",
    "    # 计算自然日差\n",
    "    date_diff = df['日期'] - df['_last_condemn']\n",
    "    valid_condition = (date_diff <= pd.Timedelta(days=90)) & df['_last_condemn'].notna()\n",
    "    df['meu_14_6_condition'] = valid_condition\n",
    "\n",
    "    # 标记valid的constraint（独立检查）\n",
    "    df['meu_14_6_constraint'] = (df['当日减持比例'] <= 0) | df['当日减持比例'].isna()\n",
    "    df['meu_14_6_constraint'] = df['meu_14_6_constraint'].astype(bool)\n",
    "\n",
    "    # 清理临时列\n",
    "    df.drop(columns=['_condemn_date', '_last_condemn'], inplace=True)\n",
    "\n",
    "    return df"
   ]
  },
  {
   "cell_type": "code",
   "execution_count": null,
   "id": "b6cc0343",
   "metadata": {},
   "outputs": [],
   "source": [
    "df = check_meu_14_6(df)\n",
    "df"
   ]
  },
  {
   "cell_type": "markdown",
   "id": "0766443a",
   "metadata": {},
   "source": [
    "---"
   ]
  },
  {
   "cell_type": "markdown",
   "id": "fceb4cea",
   "metadata": {},
   "source": [
    "## MEU_14_7"
   ]
  },
  {
   "cell_type": "markdown",
   "id": "715f661b",
   "metadata": {},
   "source": [
    "\n",
    "| 字段 | 内容 |\n",
    "|------|------|\n",
    "| subject | 上市公司董监高 |\n",
    "| condition | 上市公司股票因可能触及重大违法强制退市情形而被本所实施退市风险警示，且处于本所规定的限制转让的期限内 |\n",
    "| constrain | 不得减持其所持有的本公司股份 |\n",
    "| contextual_info | nan |\n",
    "| note | nan |\n",
    "| relation | nan |\n",
    "| target | nan |\n",
    "| type | 实际执行单元 |\n",
    "| comments | nan |\n",
    "| prompt_tokens | 1718 |\n",
    "| completion_tokens | 8122 |\n"
   ]
  },
  {
   "cell_type": "markdown",
   "id": "640cc6e6",
   "metadata": {},
   "source": [
    "### 代码实现"
   ]
  },
  {
   "cell_type": "code",
   "execution_count": null,
   "id": "efd62d34",
   "metadata": {},
   "outputs": [],
   "source": [
    "import pandas as pd\n",
    "\n",
    "def check_meu_14_7(df):\n",
    "    '''\n",
    "    检查MEU_14_7合规性：\n",
    "    subject: 上市公司董监高\n",
    "    condition: 公司股票因重大违法强制退市风险被实施退市风险警示且处于限制转让期\n",
    "    constraint: 不得减持所持股份\n",
    "    \n",
    "    实现逻辑：\n",
    "    1. subject标记：股东身份为\"董监高\"\n",
    "    2. condition标记：公司存在重大违法调查且处于限制转让期\n",
    "    3. constraint标记：当日无减持行为\n",
    "    '''\n",
    "    df = df.copy()\n",
    "\n",
    "    # 初始化标记列\n",
    "    df['meu_14_7_subject'] = False\n",
    "    df['meu_14_7_condition'] = False\n",
    "    df['meu_14_7_constraint'] = None\n",
    "\n",
    "    # 标记subject：股东身份为董监高\n",
    "    valid_subject = df['股东身份'] == '董监高'\n",
    "    df.loc[valid_subject, 'meu_14_7_subject'] = True\n",
    "\n",
    "    # 标记condition：公司处于限制转让期\n",
    "    def _calc_restriction(group):\n",
    "        # 获取公司所有重大违法调查日期\n",
    "        investigation_dates = group[group['公司涉嫌证券期货违法犯罪事件'] == '被中国证监会及其派出机构立案调查']['日期'].unique()\n",
    "        # 生成限制转让期(假设调查后180自然日)\n",
    "        restriction_periods = [\n",
    "            (date, date + pd.Timedelta(days=180)) \n",
    "            for date in investigation_dates\n",
    "        ]\n",
    "        # 标记当前日期是否在任意限制期内\n",
    "        group['in_restriction'] = group['日期'].apply(\n",
    "            lambda x: any(start <= x <= end for start, end in restriction_periods)\n",
    "        )\n",
    "        return group\n",
    "    \n",
    "    df = df.groupby('公司简称', group_keys=False).apply(_calc_restriction)\n",
    "    valid_condition = df['in_restriction']\n",
    "    df.loc[valid_condition, 'meu_14_7_condition'] = True\n",
    "\n",
    "    # 标记constraint：当日无减持\n",
    "    valid_constraint = df['当日减持比例'] == 0\n",
    "    df.loc[valid_constraint, 'meu_14_7_constraint'] = True\n",
    "    df.loc[~valid_constraint, 'meu_14_7_constraint'] = False\n",
    "\n",
    "    # 清理辅助列\n",
    "    df.drop(columns=['in_restriction'], inplace=True, errors='ignore')\n",
    "\n",
    "    return df"
   ]
  },
  {
   "cell_type": "code",
   "execution_count": null,
   "id": "f0a7e3dd",
   "metadata": {},
   "outputs": [],
   "source": [
    "df = check_meu_14_7(df)\n",
    "df"
   ]
  },
  {
   "cell_type": "markdown",
   "id": "c4117211",
   "metadata": {},
   "source": [
    "---"
   ]
  },
  {
   "cell_type": "markdown",
   "id": "ce6eeccb",
   "metadata": {},
   "source": [
    "# Law Article 16"
   ]
  },
  {
   "cell_type": "markdown",
   "id": "7fb8ddbb",
   "metadata": {},
   "source": [
    "## MEU_16_1"
   ]
  },
  {
   "cell_type": "markdown",
   "id": "bef4dae1",
   "metadata": {},
   "source": [
    "\n",
    "| 字段 | 内容 |\n",
    "|------|------|\n",
    "| subject | 上市公司董监高 |\n",
    "| condition | 上市公司年度报告、半年度报告公告前15日内 |\n",
    "| constrain | 不得买卖本公司股份 |\n",
    "| contextual_info | nan |\n",
    "| note | nan |\n",
    "| relation | nan |\n",
    "| target | nan |\n",
    "| type | 实际执行单元 |\n",
    "| comments | nan |\n",
    "| prompt_tokens | 1698 |\n",
    "| completion_tokens | 4784 |\n"
   ]
  },
  {
   "cell_type": "markdown",
   "id": "d169f421",
   "metadata": {},
   "source": [
    "### 代码实现"
   ]
  },
  {
   "cell_type": "code",
   "execution_count": null,
   "id": "43854306",
   "metadata": {},
   "outputs": [],
   "source": [
    "import pandas as pd\n",
    "\n",
    "def check_meu_16_1(df):\n",
    "    '''\n",
    "    检查MEU_16_1合规性：\n",
    "    - subject: 上市公司董监高\n",
    "    - condition: 处于年报/半年报公告前15日内\n",
    "    - constraint: 当日无股份买卖行为\n",
    "    '''\n",
    "    df = df.copy()\n",
    "    \n",
    "    # 初始化标记列\n",
    "    df['meu_16_1_subject'] = False\n",
    "    df['meu_16_1_condition'] = False\n",
    "    df['meu_16_1_constraint'] = None\n",
    "\n",
    "    # 1. 验证责任主体（独立检查）\n",
    "    valid_subject = df['股东身份'] == '董监高'\n",
    "    df.loc[valid_subject, 'meu_16_1_subject'] = True\n",
    "\n",
    "    # 2. 验证触发条件（按公司分组检查）\n",
    "    # 构建公司报告日期字典（年报/半年报）\n",
    "    report_dates = df[df['公告类型'].isin(['年度报告', '半年度报告'])]\n",
    "    company_report_dates = report_dates.groupby('公司简称')['公告日期'].apply(lambda x: x.unique().tolist()).to_dict()\n",
    "    \n",
    "    # 定义自然日窗口检查函数\n",
    "    def check_report_window(row):\n",
    "        company = row['公司简称']\n",
    "        current_date = row['日期']\n",
    "        for report_date in company_report_dates.get(company, []):\n",
    "            if (report_date - pd.Timedelta(days=15)) <= current_date < report_date:\n",
    "                return True\n",
    "        return False\n",
    "    \n",
    "    valid_condition = df.apply(check_report_window, axis=1)\n",
    "    df.loc[valid_condition, 'meu_16_1_condition'] = True\n",
    "\n",
    "    # 3. 验证约束内容（独立检查）\n",
    "    # 通过当日减持比例判断是否发生交易\n",
    "    valid_constraint = df['当日减持比例'] == 0\n",
    "    df.loc[valid_constraint, 'meu_16_1_constraint'] = True\n",
    "    df.loc[~valid_constraint, 'meu_16_1_constraint'] = False\n",
    "\n",
    "    return df"
   ]
  },
  {
   "cell_type": "code",
   "execution_count": null,
   "id": "702c36de",
   "metadata": {},
   "outputs": [],
   "source": [
    "df = check_meu_16_1(df)\n",
    "df"
   ]
  },
  {
   "cell_type": "markdown",
   "id": "264d0be9",
   "metadata": {},
   "source": [
    "---"
   ]
  },
  {
   "cell_type": "markdown",
   "id": "d696c00c",
   "metadata": {},
   "source": [
    "## MEU_16_2"
   ]
  },
  {
   "cell_type": "markdown",
   "id": "babde4ad",
   "metadata": {},
   "source": [
    "\n",
    "| 字段 | 内容 |\n",
    "|------|------|\n",
    "| subject | 上市公司董监高 |\n",
    "| condition | 上市公司季度报告、业绩预告、业绩快报公告前5日内 |\n",
    "| constrain | 不得买卖本公司股份 |\n",
    "| contextual_info | nan |\n",
    "| note | nan |\n",
    "| relation | nan |\n",
    "| target | nan |\n",
    "| type | 实际执行单元 |\n",
    "| comments | nan |\n",
    "| prompt_tokens | 1701 |\n",
    "| completion_tokens | 6500 |\n"
   ]
  },
  {
   "cell_type": "markdown",
   "id": "efc22e36",
   "metadata": {},
   "source": [
    "### 代码实现"
   ]
  },
  {
   "cell_type": "code",
   "execution_count": null,
   "id": "4aa7e9bb",
   "metadata": {},
   "outputs": [],
   "source": [
    "import pandas as pd\n",
    "\n",
    "def check_meu_16_2(df):\n",
    "    '''\n",
    "    检查MEU_16_2合规性：\n",
    "    subject: 上市公司董监高\n",
    "    condition: 处于季度报告/业绩预告/业绩快报公告前5日内\n",
    "    constraint: 不得买卖本公司股份\n",
    "    '''\n",
    "    df = df.copy()\n",
    "    \n",
    "    # 初始化标记列\n",
    "    df['meu_16_2_subject'] = False\n",
    "    df['meu_16_2_condition'] = False\n",
    "    df['meu_16_2_constraint'] = False\n",
    "    \n",
    "    # 标记valid的subject（董监高）\n",
    "    valid_subject = df['股东身份'] == '董监高'\n",
    "    df.loc[valid_subject, 'meu_16_2_subject'] = True\n",
    "    \n",
    "    # 标记valid的condition（公告前5日）\n",
    "    # 获取有效公告日期\n",
    "    relevant_ann = df[\n",
    "        df['公告类型'].isin(['季度报告', '业绩预告', '业绩快报']) \n",
    "        & df['公告日期'].notna()\n",
    "    ]\n",
    "    ann_dates = relevant_ann[['公司简称', '公告日期']].drop_duplicates()\n",
    "    \n",
    "    # 生成所有前5日日期集合\n",
    "    pre_dates_set = set()\n",
    "    for _, row in ann_dates.iterrows():\n",
    "        ann_date = row['公告日期']\n",
    "        for days_back in range(5, 0, -1):\n",
    "            pre_date = ann_date - pd.Timedelta(days=days_back)\n",
    "            pre_dates_set.add((row['公司简称'], pre_date))\n",
    "    \n",
    "    # 标记符合条件的日期\n",
    "    df['meu_16_2_condition'] = df.apply(\n",
    "        lambda x: (x['公司简称'], x['日期']) in pre_dates_set,\n",
    "        axis=1\n",
    "    )\n",
    "    \n",
    "    # 标记valid的constraint（无减持）\n",
    "    valid_constraint = df['当日减持比例'] == 0\n",
    "    df.loc[valid_constraint, 'meu_16_2_constraint'] = True\n",
    "    \n",
    "    return df"
   ]
  },
  {
   "cell_type": "code",
   "execution_count": null,
   "id": "4d09344b",
   "metadata": {},
   "outputs": [],
   "source": [
    "df = check_meu_16_2(df)\n",
    "df"
   ]
  },
  {
   "cell_type": "markdown",
   "id": "98002ed2",
   "metadata": {},
   "source": [
    "---"
   ]
  },
  {
   "cell_type": "markdown",
   "id": "fe592c94",
   "metadata": {},
   "source": [
    "# Law Article 17"
   ]
  },
  {
   "cell_type": "markdown",
   "id": "2068792e",
   "metadata": {},
   "source": [
    "## MEU_17_1"
   ]
  },
  {
   "cell_type": "markdown",
   "id": "62da73e8",
   "metadata": {},
   "source": [
    "\n",
    "| 字段 | 内容 |\n",
    "|------|------|\n",
    "| subject | 上市公司董监高 |\n",
    "| condition | 在其就任时确定的任期内和任期届满后6个月内，每年通过集中竞价、大宗交易、协议转让等方式转让股份且不属于因司法强制执行、继承、遗赠、依法分割财产等导致股份变动 |\n",
    "| constrain | 每年转让的股份不得超过其所持本公司股份总数的25% |\n",
    "| contextual_info | nan |\n",
    "| note | nan |\n",
    "| relation | refer_to |\n",
    "| target | MEU_18_1;MEU_18_2;MEU_18_3;MEU_18_4 |\n",
    "| type | 实际执行单元 |\n",
    "| comments | 不考虑因司法强制执行、继承、遗赠、依法分割财产等导致股份变动的情况 |\n",
    "| prompt_tokens | 1821 |\n",
    "| completion_tokens | 7230 |\n"
   ]
  },
  {
   "cell_type": "markdown",
   "id": "c8e15a68",
   "metadata": {},
   "source": [
    "### 代码实现"
   ]
  },
  {
   "cell_type": "code",
   "execution_count": null,
   "id": "b9d7a0e5",
   "metadata": {},
   "outputs": [],
   "source": [
    "import pandas as pd\n",
    "\n",
    "def check_meu_17_1(df):\n",
    "    '''\n",
    "    验证MEU_17_1合规性：\n",
    "    subject: 上市公司董监高\n",
    "    condition: 在任期内及离任后6个月内通过指定方式转让股份且非特殊原因\n",
    "    constraint: 年转让量不超过上年末持股的25%\n",
    "    '''\n",
    "    df = df.copy()\n",
    "\n",
    "    # 初始化标记列\n",
    "    df['meu_17_1_subject'] = False\n",
    "    df['meu_17_1_condition'] = False\n",
    "    df['meu_17_1_constraint'] = False\n",
    "\n",
    "    # 标记subject\n",
    "    valid_subject = df['股东身份'] == '董监高'\n",
    "    df.loc[valid_subject, 'meu_17_1_subject'] = True\n",
    "\n",
    "    # 标记condition\n",
    "    # 时间条件（任期内或离任后6个月）\n",
    "    time_cond = (\n",
    "        df['离任日期'].isna() |  # 在任情况\n",
    "        (df['日期'] <= df['离任日期'] + pd.DateOffset(months=6))  # 离任后6个月\n",
    "    )\n",
    "    # 减持方式条件\n",
    "    method_cond = df['减持方式'].isin(['竞价交易', '大宗交易', '协议转让'])\n",
    "    # 排除特殊原因\n",
    "    reason_cond = ~df['拟减持原因'].isin(['司法强制执行', '继承', '遗赠', '依法分割财产'])\n",
    "    valid_condition = time_cond & method_cond & reason_cond\n",
    "    df.loc[valid_condition, 'meu_17_1_condition'] = True\n",
    "\n",
    "    # 标记constraint（独立检查）\n",
    "    # 计算每日减持数量\n",
    "    df.sort_values(['公司简称', '股东', '日期'], inplace=True)\n",
    "    df['prev_持股数量'] = df.groupby(['公司简称', '股东'])['持股数量'].shift(1)\n",
    "    df['当日减持数量'] = (df['prev_持股数量'] - df['持股数量']).clip(lower=0)\n",
    "\n",
    "    # 获取上年末持股基数\n",
    "    df['year'] = df['日期'].dt.year\n",
    "    # 生成年末基准数据\n",
    "    year_end = df.groupby(['公司简称', '股东', 'year']).apply(lambda x: x.loc[x['日期'].idxmax()])\n",
    "    base_df = year_end[['公司简称', '股东', 'year', '持股数量']].reset_index()\n",
    "    base_df['base_year'] = base_df['year'] + 1\n",
    "    # 合并基准数据\n",
    "    df = df.merge(\n",
    "        base_df[['公司简称', '股东', 'base_year', '持股数量']],\n",
    "        left_on=['公司简称', '股东', 'year'],\n",
    "        right_on=['公司简称', '股东', 'base_year'],\n",
    "        how='left',\n",
    "        suffixes=('', '_base')\n",
    "    )\n",
    "    # 计算年累计减持量\n",
    "    df['年累计减持'] = df.groupby(['公司简称', '股东', 'year'])['当日减持数量'].cumsum()\n",
    "    # 验证约束条件\n",
    "    valid_constraint = (df['年累计减持'] <= df['持股数量_base'] * 0.25) & df['持股数量_base'].notna()\n",
    "    df.loc[valid_constraint, 'meu_17_1_constraint'] = True\n",
    "\n",
    "    # 清理中间列\n",
    "    df.drop(['prev_持股数量', '当日减持数量', 'year', '持股数量_base', 'base_year', '年累计减持'], \n",
    "            axis=1, errors='ignore', inplace=True)\n",
    "\n",
    "    return df"
   ]
  },
  {
   "cell_type": "code",
   "execution_count": null,
   "id": "a7f4f502",
   "metadata": {},
   "outputs": [],
   "source": [
    "df = check_meu_17_1(df)\n",
    "df"
   ]
  },
  {
   "cell_type": "markdown",
   "id": "eb52b0fb",
   "metadata": {},
   "source": [
    "---"
   ]
  },
  {
   "cell_type": "markdown",
   "id": "b220e9e6",
   "metadata": {},
   "source": [
    "## MEU_17_2"
   ]
  },
  {
   "cell_type": "markdown",
   "id": "80c12d00",
   "metadata": {},
   "source": [
    "\n",
    "| 字段 | 内容 |\n",
    "|------|------|\n",
    "| subject | 上市公司董监高 |\n",
    "| condition | 所持股份不超过1000股 |\n",
    "| constrain | 可一次全部转让且不受前款转让比例限制 |\n",
    "| contextual_info | nan |\n",
    "| note | nan |\n",
    "| relation | exclude |\n",
    "| target | MEU_17_1 |\n",
    "| type | 实际执行单元 |\n",
    "| comments | nan |\n",
    "| prompt_tokens | 1701 |\n",
    "| completion_tokens | 2813 |\n"
   ]
  },
  {
   "cell_type": "markdown",
   "id": "fd3eb223",
   "metadata": {},
   "source": [
    "### 代码实现"
   ]
  },
  {
   "cell_type": "code",
   "execution_count": null,
   "id": "0332fb4b",
   "metadata": {},
   "outputs": [],
   "source": [
    "import pandas as pd\n",
    "\n",
    "def check_meu_17_2(df):\n",
    "    '''\n",
    "    检查MEU_17_2合规性：\n",
    "    subject: 上市公司董监高\n",
    "    condition: 所持股份不超过1000股\n",
    "    constraint: 可一次全部转让且不受前款转让比例限制\n",
    "    '''\n",
    "    df = df.copy()\n",
    "    \n",
    "    # 初始化标记列\n",
    "    df['meu_17_2_subject'] = False\n",
    "    df['meu_17_2_condition'] = False\n",
    "    df['meu_17_2_constraint'] = None  # 初始化为None便于布尔值填充\n",
    "    \n",
    "    # 1. 验证责任主体：上市公司董监高\n",
    "    # 根据股东身份字段直接匹配\n",
    "    valid_subject = df['股东身份'] == '董监高'\n",
    "    df.loc[valid_subject, 'meu_17_2_subject'] = True\n",
    "    \n",
    "    # 2. 验证触发条件：持股数量≤1000股\n",
    "    # 直接比较数值型字段\n",
    "    valid_condition = df['持股数量'] <= 1000\n",
    "    df.loc[valid_condition, 'meu_17_2_condition'] = True\n",
    "    \n",
    "    # 3. 验证约束条件：一次性全部转让\n",
    "    # 通过当日/累计减持比例判断是否清仓\n",
    "    valid_constraint = (\n",
    "        (df['当日减持比例'] == 1.0) |  # 当日清仓\n",
    "        (df['累计减持比例'] == 1.0)    # 累计清仓\n",
    "    )\n",
    "    df.loc[valid_constraint, 'meu_17_2_constraint'] = True\n",
    "    df.loc[~valid_constraint, 'meu_17_2_constraint'] = False\n",
    "    \n",
    "    return df"
   ]
  },
  {
   "cell_type": "code",
   "execution_count": null,
   "id": "18f842a1",
   "metadata": {},
   "outputs": [],
   "source": [
    "df = check_meu_17_2(df)\n",
    "df"
   ]
  },
  {
   "cell_type": "markdown",
   "id": "e8f2a810",
   "metadata": {},
   "source": [
    "---"
   ]
  },
  {
   "cell_type": "markdown",
   "id": "7333fa2b",
   "metadata": {},
   "source": [
    "# Law Article 23"
   ]
  },
  {
   "cell_type": "markdown",
   "id": "8e093ea5",
   "metadata": {},
   "source": [
    "## MEU_23_1"
   ]
  },
  {
   "cell_type": "markdown",
   "id": "d7b7919b",
   "metadata": {},
   "source": [
    "\n",
    "| 字段 | 内容 |\n",
    "|------|------|\n",
    "| subject | 上市公司大股东 | 董监高 |\n",
    "| condition | nan |\n",
    "| constrain | 不得融券卖出本公司股份 |\n",
    "| contextual_info | nan |\n",
    "| note | nan |\n",
    "| relation | nan |\n",
    "| target | nan |\n",
    "| type | 实际执行单元 |\n",
    "| comments | nan |\n",
    "| prompt_tokens | 1693 |\n",
    "| completion_tokens | 6991 |\n"
   ]
  },
  {
   "cell_type": "markdown",
   "id": "e5302fc0",
   "metadata": {},
   "source": [
    "### 代码实现"
   ]
  },
  {
   "cell_type": "code",
   "execution_count": null,
   "id": "e750f47e",
   "metadata": {},
   "outputs": [],
   "source": [
    "import pandas as pd\n",
    "\n",
    "def check_meu_23_1(df):\n",
    "    '''\n",
    "    检查MEU_23_1合规性：\n",
    "    \"subject\": \"上市公司大股东 | 董监高\",\n",
    "    \"condition\": NaN,\n",
    "    \"constraint\": \"不得融券卖出本公司股份\",\n",
    "    \"contextual_info\": NaN\n",
    "    '''\n",
    "    df = df.copy()\n",
    "\n",
    "    # 初始化标记列\n",
    "    df['meu_23_1_subject'] = False\n",
    "    df['meu_23_1_condition'] = False  # 初始化为False，后续统一处理\n",
    "    df['meu_23_1_constraint'] = None  # 初始化为None，后续用布尔值填充\n",
    "\n",
    "    # 1. 标记valid的subject（大股东或董监高）\n",
    "    # 判断逻辑：股东身份属于董监高/控股股东/实际控制人，或持股比例≥5%\n",
    "    subject_criteria = (\n",
    "        df['股东身份'].isin(['董监高', '控股股东', '实际控制人']) |\n",
    "        (df['持股比例'] >= 0.05)\n",
    "    )\n",
    "    df.loc[subject_criteria, 'meu_23_1_subject'] = True\n",
    "\n",
    "    # 2. 标记valid的condition（由于MEU中condition为NaN，视为无条件触发，所有行标记为True）\n",
    "    df['meu_23_1_condition'] = True  # 无条件约束，所有行条件满足\n",
    "\n",
    "    # 3. 标记valid的constraint（减持方式非融券卖出）\n",
    "    # 独立检查：无论subject是否满足，只要减持方式是融券卖出即违规\n",
    "    constraint_met = (df['减持方式'] != '融券卖出')\n",
    "    df['meu_23_1_constraint'] = constraint_met  # True表示合规，False表示违规\n",
    "\n",
    "    return df"
   ]
  },
  {
   "cell_type": "code",
   "execution_count": null,
   "id": "1e9a21be",
   "metadata": {},
   "outputs": [],
   "source": [
    "df = check_meu_23_1(df)\n",
    "df"
   ]
  },
  {
   "cell_type": "markdown",
   "id": "04c4f4f9",
   "metadata": {},
   "source": [
    "---"
   ]
  }
 ],
 "metadata": {},
 "nbformat": 4,
 "nbformat_minor": 5
}

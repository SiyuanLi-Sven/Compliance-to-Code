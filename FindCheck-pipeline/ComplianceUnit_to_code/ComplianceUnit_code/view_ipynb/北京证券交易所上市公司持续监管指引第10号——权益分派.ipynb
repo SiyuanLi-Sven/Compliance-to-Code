{
 "cells": [
  {
   "cell_type": "code",
   "execution_count": null,
   "id": "70af5618",
   "metadata": {},
   "outputs": [],
   "source": [
    "# 读取模拟数据\n",
    "import pandas as pd\n",
    "df = pd.read_csv('data_simulation/data_generated/data_simulate_10.csv')\n",
    "df"
   ]
  },
  {
   "cell_type": "markdown",
   "id": "7a879d77",
   "metadata": {},
   "source": [
    "# Law Article 13"
   ]
  },
  {
   "cell_type": "markdown",
   "id": "99e42784",
   "metadata": {},
   "source": [
    "## MEU_13_1"
   ]
  },
  {
   "cell_type": "markdown",
   "id": "dd8c38a6",
   "metadata": {},
   "source": [
    "\n",
    "| 字段 | 内容 |\n",
    "|------|------|\n",
    "| subject | 上市公司 |\n",
    "| condition | 合并资产负债表、母公司资产负债表中本年末未分配利润均为正值且报告期内盈利，未进行现金分红或最近三年现金分红总额低于最近三年年均净利润30% |\n",
    "| constraint | 应当在权益分派方案中披露：结合所处行业特点、发展阶段和自身经营模式、盈利水平、偿债能力、资金需求等因素，未进行现金分红或现金分红水平较低原因的说明 |\n",
    "| contextual_info | nan |\n",
    "| note | nan |\n",
    "| relation | nan |\n",
    "| target | nan |\n",
    "| type | 实际执行单元 |\n",
    "| comments | nan |\n",
    "| prompt_tokens | 2057 |\n",
    "| completion_tokens | 11085 |\n"
   ]
  },
  {
   "cell_type": "markdown",
   "id": "3a9d2bdf",
   "metadata": {},
   "source": [
    "### 代码实现"
   ]
  },
  {
   "cell_type": "code",
   "execution_count": null,
   "id": "c9796f98",
   "metadata": {},
   "outputs": [],
   "source": [
    "import pandas as pd\n",
    "from utils.tool_for_agents import llm_content_check\n",
    "\n",
    "def check_meu_13_1(df):\n",
    "    '''\n",
    "    检查MEU_13_1合规性：\n",
    "    subject: 上市公司\n",
    "    condition: 1.合并/母公司资产负债表未分配利润均为正值 2.报告期盈利 3.未分红或三年分红低于三年均利30%\n",
    "    constraint: 需在权益分派方案中披露分红原因说明\n",
    "    '''\n",
    "    \n",
    "    # 初始化合规列\n",
    "    df['meu_13_1_subject'] = None  # 所有记录主体均为上市公司\n",
    "    df['meu_13_1_condition'] = None\n",
    "    df['meu_13_1_constraint'] = None\n",
    "\n",
    "    # 条件验证（分三步处理复杂逻辑）\n",
    "    # 1. 资产负债表校验\n",
    "    balance_condition = (\n",
    "        (df['合并报表未分配利润'] > 0) &\n",
    "        (df['母公司报表未分配利润'] > 0)\n",
    "    )\n",
    "\n",
    "    # 2. 盈利能力校验\n",
    "    profitability_condition = (df['净利润'] > 0)\n",
    "\n",
    "    # 3. 分红比例校验（需跨期计算）\n",
    "    def check_dividend_ratio(row):\n",
    "        try:\n",
    "            # 获取当前财务年度\n",
    "            current_year = row['财务数据日期'].year\n",
    "            \n",
    "            # 筛选公司近三年年报\n",
    "            mask = (\n",
    "                (df['公司简称'] == row['公司简称']) &\n",
    "                (df['财务数据日期'].dt.year.between(current_year-2, current_year)) &\n",
    "                (df['财务数据日期'].dt.month == 12)\n",
    "            )\n",
    "            annual_data = df[mask].sort_values('财务数据日期')\n",
    "            \n",
    "            # 需要完整三年数据\n",
    "            if len(annual_data) < 3:\n",
    "                return False\n",
    "                \n",
    "            # 计算分红总额和净利润均值\n",
    "            total_dividend = annual_data['现金分红金额'].sum()\n",
    "            avg_profit = annual_data['净利润'].mean()\n",
    "            \n",
    "            # 判断分红比例条件\n",
    "            return (total_dividend == 0) or (avg_profit != 0 and total_dividend < avg_profit * 0.3)\n",
    "        except:\n",
    "            return False\n",
    "\n",
    "    df['dividend_condition'] = df.apply(check_dividend_ratio, axis=1)\n",
    "    \n",
    "    # 综合条件判断\n",
    "    df['meu_13_1_condition'] = (\n",
    "        balance_condition &\n",
    "        profitability_condition &\n",
    "        df['dividend_condition']\n",
    "    )\n",
    "\n",
    "    # 约束条件验证（使用LLM内容检查）\n",
    "    constraint_desc = '''结合所处行业特点、发展阶段和自身经营模式、盈利水平、\n",
    "    偿债能力、资金需求等因素，未进行现金分红或现金分红水平较低原因的说明'''\n",
    "    \n",
    "    df.loc[df['meu_13_1_condition'], 'meu_13_1_constraint'] = df[\n",
    "        df['meu_13_1_condition']\n",
    "    ]['权益分派方案文本'].apply(\n",
    "        lambda x: llm_content_check(x, constraint_desc) if pd.notna(x) else False\n",
    "    )\n",
    "\n",
    "\n",
    "    return df"
   ]
  },
  {
   "cell_type": "code",
   "execution_count": null,
   "id": "da872948",
   "metadata": {},
   "outputs": [],
   "source": [
    "df = check_meu_13_1(df)\n",
    "df"
   ]
  },
  {
   "cell_type": "markdown",
   "id": "9884eaa3",
   "metadata": {},
   "source": [
    "---"
   ]
  },
  {
   "cell_type": "markdown",
   "id": "f3358956",
   "metadata": {},
   "source": [
    "## MEU_13_2"
   ]
  },
  {
   "cell_type": "markdown",
   "id": "48ab32a2",
   "metadata": {},
   "source": [
    "\n",
    "| 字段 | 内容 |\n",
    "|------|------|\n",
    "| subject | 上市公司 |\n",
    "| condition | 合并资产负债表、母公司资产负债表中本年末未分配利润均为正值且报告期内盈利，未进行现金分红或最近三年现金分红总额低于最近三年年均净利润30% |\n",
    "| constraint | 应当在权益分派方案中披露：留存未分配利润的预计用途以及收益情况 |\n",
    "| contextual_info | nan |\n",
    "| note | nan |\n",
    "| relation | nan |\n",
    "| target | nan |\n",
    "| type | 实际执行单元 |\n",
    "| comments | nan |\n",
    "| prompt_tokens | 2034 |\n",
    "| completion_tokens | 7261 |\n"
   ]
  },
  {
   "cell_type": "markdown",
   "id": "1021a62e",
   "metadata": {},
   "source": [
    "### 代码实现"
   ]
  },
  {
   "cell_type": "code",
   "execution_count": null,
   "id": "089cef9d",
   "metadata": {},
   "outputs": [],
   "source": [
    "import pandas as pd\n",
    "from utils.tool_for_agents import llm_content_check\n",
    "\n",
    "def check_meu_13_2(df):\n",
    "    '''\n",
    "    检验MEU_13_2合规性：\n",
    "    subject: 上市公司\n",
    "    condition: 合并及母公司资产负债表未分配利润均为正且报告期盈利，且未分红或近三年分红低于年均净利30%\n",
    "    constraint: 需在权益分派方案中披露留存利润用途及收益\n",
    "    '''\n",
    "    \n",
    "    # 初始化标记列\n",
    "    df['meu_13_2_subject'] = True  # 所有行主体均为上市公司\n",
    "    df['meu_13_2_condition'] = None\n",
    "    df['meu_13_2_constraint'] = None\n",
    "    \n",
    "    # 条件判断预处理\n",
    "    is_annual_report = df['财务数据日期'].dt.month == 12  # 年报标识\n",
    "    \n",
    "    # 条件1: 合并及母公司未分配利润均为正\n",
    "    profit_condition = (df['合并报表未分配利润'] > 0) & (df['母公司报表未分配利润'] > 0)\n",
    "    \n",
    "    # 条件2: 报告期盈利\n",
    "    profit_report = df['净利润'] > 0\n",
    "    \n",
    "    # 条件3: 未分红或近三年分红低于年均净利30% (仅年报处理)\n",
    "    df['cash_dividend_3y_sum'] = pd.NA\n",
    "    df['avg_net_profit_3y'] = pd.NA\n",
    "    \n",
    "    # 年报数据处理\n",
    "    annual_mask = is_annual_report & profit_condition & profit_report\n",
    "    annual_df = df[annual_mask].copy()\n",
    "    \n",
    "    if not annual_df.empty:\n",
    "        # 按公司分组计算三年滚动指标\n",
    "        annual_df.sort_values(['公司简称', '财务数据日期'], inplace=True)\n",
    "        \n",
    "        # 计算三年现金分红总和\n",
    "        annual_df['cash_dividend_3y_sum'] = annual_df.groupby('公司简称')['现金分红金额']\\\n",
    "            .transform(lambda s: s.rolling(3, min_periods=3).sum())\n",
    "        \n",
    "        # 计算三年平均净利润\n",
    "        annual_df['net_profit_3y_sum'] = annual_df.groupby('公司简称')['净利润']\\\n",
    "            .transform(lambda s: s.rolling(3, min_periods=3).sum())\n",
    "        annual_df['avg_net_profit_3y'] = annual_df['net_profit_3y_sum'] / 3\n",
    "        \n",
    "        # 合并计算结果\n",
    "        df.update(annual_df[['cash_dividend_3y_sum', 'avg_net_profit_3y']])\n",
    "        \n",
    "        # 条件3判断\n",
    "        cond3 = (\n",
    "            (~annual_df['是否实施现金分红']) | \n",
    "            (annual_df['cash_dividend_3y_sum'] < annual_df['avg_net_profit_3y'] * 0.3)\n",
    "        )\n",
    "        df.loc[annual_df.index, 'meu_13_2_condition'] = cond3\n",
    "    \n",
    "    # 约束条件检查\n",
    "    constraint_mask = df['meu_13_2_condition'] & df['meu_13_2_subject']\n",
    "    df.loc[constraint_mask, 'meu_13_2_constraint'] = df.loc[constraint_mask, '权益分派方案文本'].apply(\n",
    "        lambda x: llm_content_check(x, \"留存未分配利润的预计用途以及收益情况\") if pd.notna(x) else False\n",
    "    )\n",
    "    \n",
    "    \n",
    "    return df"
   ]
  },
  {
   "cell_type": "code",
   "execution_count": null,
   "id": "44ff71b5",
   "metadata": {},
   "outputs": [],
   "source": [
    "df = check_meu_13_2(df)\n",
    "df"
   ]
  },
  {
   "cell_type": "markdown",
   "id": "ce19b54f",
   "metadata": {},
   "source": [
    "---"
   ]
  },
  {
   "cell_type": "markdown",
   "id": "8a993065",
   "metadata": {},
   "source": [
    "## MEU_13_3"
   ]
  },
  {
   "cell_type": "markdown",
   "id": "fa9b761c",
   "metadata": {},
   "source": [
    "\n",
    "| 字段 | 内容 |\n",
    "|------|------|\n",
    "| subject | 上市公司 |\n",
    "| condition | 合并资产负债表、母公司资产负债表中本年末未分配利润均为正值且报告期内盈利，未进行现金分红或最近三年现金分红总额低于最近三年年均净利润30% |\n",
    "| constraint | 应当在权益分派方案中披露：公司在相应期间是否按照中国证券监督管理委员会相关规定为中小股东参与现金分红决策提供了便利 |\n",
    "| contextual_info | nan |\n",
    "| note | nan |\n",
    "| relation | nan |\n",
    "| target | nan |\n",
    "| type | 实际执行单元 |\n",
    "| comments | nan |\n",
    "| prompt_tokens | 2043 |\n",
    "| completion_tokens | 8462 |\n"
   ]
  },
  {
   "cell_type": "markdown",
   "id": "0bbb40b8",
   "metadata": {},
   "source": [
    "### 代码实现"
   ]
  },
  {
   "cell_type": "code",
   "execution_count": null,
   "id": "53c45d81",
   "metadata": {},
   "outputs": [],
   "source": [
    "import pandas as pd\n",
    "from utils.tool_for_agents import llm_content_check\n",
    "\n",
    "def check_meu_13_3(df):\n",
    "    '''\n",
    "    验证上市公司在满足特定利润条件和分红限制时是否披露中小股东参与决策便利\n",
    "    \"subject\": \"上市公司\",\n",
    "    \"condition\": \"合并及母公司未分配利润为正+报告期盈利+未分红或三年分红不足净利润30%\",\n",
    "    \"constraint\": \"需在权益分派方案中披露中小股东参与决策便利条款\"\n",
    "    '''\n",
    "    \n",
    "    # 初始化合规标记列\n",
    "    df['meu_13_3_subject'] = True  # 所有行默认符合主体要求\n",
    "    df['meu_13_3_condition'] = None\n",
    "    df['meu_13_3_constraint'] = None\n",
    "\n",
    "    # 预处理财务日期并筛选年报数据\n",
    "    df['财务数据日期'] = pd.to_datetime(df['财务数据日期'])\n",
    "    annual_mask = df['财务数据日期'].dt.month == 12\n",
    "    annual_df = df[annual_mask].copy()\n",
    "\n",
    "    if not annual_df.empty:\n",
    "        # 按公司分组计算三年滚动指标\n",
    "        annual_df = annual_df.sort_values(by=['公司简称', '财务数据日期'])\n",
    "        \n",
    "        # 计算三年现金分红总和\n",
    "        annual_df['cash_div_3yr'] = annual_df.groupby('公司简称')['现金分红金额']\\\n",
    "            .transform(lambda s: s.rolling(3, min_periods=3).sum())\n",
    "        \n",
    "        # 计算三年平均净利润\n",
    "        annual_df['net_profit_3yr_avg'] = annual_df.groupby('公司简称')['净利润']\\\n",
    "            .transform(lambda s: s.rolling(3, min_periods=3).sum() / 3)\n",
    "        \n",
    "        # 将计算结果合并回原数据框\n",
    "        df = df.merge(\n",
    "            annual_df[['cash_div_3yr', 'net_profit_3yr_avg']],\n",
    "            how='left', left_index=True, right_index=True\n",
    "        )\n",
    "\n",
    "        # 条件验证逻辑\n",
    "        profit_condition = (\n",
    "            (df['合并报表未分配利润'] > 0) &\n",
    "            (df['母公司报表未分配利润'] > 0) &\n",
    "            (df['净利润'] > 0)\n",
    "        )\n",
    "        \n",
    "        dividend_condition = (\n",
    "            (~df['是否实施现金分红']) |  # 未分红情形\n",
    "            (df['cash_div_3yr'] < df['net_profit_3yr_avg'] * 0.3)  # 分红不足情形\n",
    "        )\n",
    "        \n",
    "        # 综合条件标记（仅限年报数据）\n",
    "        df['meu_13_3_condition'] = annual_mask & profit_condition & dividend_condition\n",
    "        \n",
    "        # 约束条件验证（仅当满足主体和条件时触发）\n",
    "        need_check_mask = df['meu_13_3_subject'] & df['meu_13_3_condition']\n",
    "        df.loc[need_check_mask, 'meu_13_3_constraint'] = df.loc[need_check_mask, '权益分派方案文本'].apply(\n",
    "            lambda text: llm_content_check(\n",
    "                text, \n",
    "                \"公司在相应期间是否按照中国证券监督管理委员会相关规定为中小股东参与现金分红决策提供了便利\"\n",
    "            )\n",
    "        )\n",
    "\n",
    "    return df"
   ]
  },
  {
   "cell_type": "code",
   "execution_count": null,
   "id": "d9d5bb4c",
   "metadata": {},
   "outputs": [],
   "source": [
    "df = check_meu_13_3(df)\n",
    "df"
   ]
  },
  {
   "cell_type": "markdown",
   "id": "6bbf79d2",
   "metadata": {},
   "source": [
    "---"
   ]
  },
  {
   "cell_type": "markdown",
   "id": "9f8aa9a3",
   "metadata": {},
   "source": [
    "## MEU_13_4"
   ]
  },
  {
   "cell_type": "markdown",
   "id": "abc2379b",
   "metadata": {},
   "source": [
    "\n",
    "| 字段 | 内容 |\n",
    "|------|------|\n",
    "| subject | 上市公司 |\n",
    "| condition | 合并资产负债表、母公司资产负债表中本年末未分配利润均为正值且报告期内盈利，未进行现金分红或最近三年现金分红总额低于最近三年年均净利润30% |\n",
    "| constraint | 应当在权益分派方案中披露：公司为增强投资者回报水平拟采取的措施 |\n",
    "| contextual_info | nan |\n",
    "| note | nan |\n",
    "| relation | nan |\n",
    "| target | nan |\n",
    "| type | 实际执行单元 |\n",
    "| comments | nan |\n",
    "| prompt_tokens | 2033 |\n",
    "| completion_tokens | 9013 |\n"
   ]
  },
  {
   "cell_type": "markdown",
   "id": "03a5484e",
   "metadata": {},
   "source": [
    "### 代码实现"
   ]
  },
  {
   "cell_type": "code",
   "execution_count": null,
   "id": "926b1038",
   "metadata": {},
   "outputs": [],
   "source": [
    "import pandas as pd\n",
    "from utils.tool_for_agents import llm_content_check\n",
    "\n",
    "def check_meu_13_4(df):\n",
    "    '''\n",
    "    验证上市公司在特定财务条件下的信息披露合规性\n",
    "    \"subject\": \"上市公司\",\n",
    "    \"condition\": \"合并/母公司资产负债表未分配利润正值且盈利，且未分红或三年分红不足\",\n",
    "    \"constraint\": \"需在权益分派方案中披露投资者回报措施\"\n",
    "    '''\n",
    "    # 初始化标记列\n",
    "    df['meu_13_4_subject'] = True  # 所有记录均为上市公司\n",
    "    df['meu_13_4_condition'] = None\n",
    "    df['meu_13_4_constraint'] = None\n",
    "\n",
    "    # 条件A: 年末双报表未分配利润正值且当期盈利\n",
    "    is_year_end = df['财务数据日期'].dt.month == 12\n",
    "    positive_retained = (df['合并报表未分配利润'] > 0) & (df['母公司报表未分配利润'] > 0)\n",
    "    profitable = df['净利润'] > 0\n",
    "    valid_condition_A = is_year_end & positive_retained & profitable\n",
    "\n",
    "    # 条件B: 未分红或三年分红不足\n",
    "    # 计算三年分红及利润指标\n",
    "    annual_mask = df['财务数据日期'].dt.month == 12\n",
    "    annual_df = df[annual_mask].copy().sort_values(['公司简称', '财务数据日期'])\n",
    "    \n",
    "    # 计算滚动三年指标\n",
    "    annual_df['三年现金分红总额'] = annual_df.groupby('公司简称')['现金分红金额'].transform(\n",
    "        lambda x: x.rolling(3, min_periods=3).sum())\n",
    "    annual_df['三年净利润总和'] = annual_df.groupby('公司简称')['净利润'].transform(\n",
    "        lambda x: x.rolling(3, min_periods=3).sum())\n",
    "    annual_df['三年年均净利润'] = annual_df['三年净利润总和'] / 3\n",
    "\n",
    "    # 合并回原始数据\n",
    "    df = df.merge(\n",
    "        annual_df[['公司简称', '财务数据日期', '三年现金分红总额', '三年年均净利润']],\n",
    "        how='left',\n",
    "        on=['公司简称', '财务数据日期']\n",
    "    )\n",
    "\n",
    "    # 构建条件B判断\n",
    "    no_dividend = ~df['是否实施现金分红']\n",
    "    insufficient_dividend = (\n",
    "        df['是否实施现金分红'] & \n",
    "        (df['三年现金分红总额'] < df['三年年均净利润'] * 0.3)\n",
    "    ).fillna(False)\n",
    "    valid_condition_B = no_dividend | insufficient_dividend\n",
    "\n",
    "    # 综合条件判断\n",
    "    df['meu_13_4_condition'] = valid_condition_A & valid_condition_B\n",
    "\n",
    "    # 约束条件检查\n",
    "    constraint_desc = \"为增强投资者回报水平拟采取的措施\"\n",
    "    df['meu_13_4_constraint'] = df.apply(\n",
    "        lambda x: llm_content_check(x['权益分派方案文本'], constraint_desc) \n",
    "        if x['meu_13_4_condition'] else False,\n",
    "        axis=1\n",
    "    )\n",
    "\n",
    "    return df"
   ]
  },
  {
   "cell_type": "code",
   "execution_count": null,
   "id": "db069a19",
   "metadata": {},
   "outputs": [],
   "source": [
    "df = check_meu_13_4(df)\n",
    "df"
   ]
  },
  {
   "cell_type": "markdown",
   "id": "c4d97cda",
   "metadata": {},
   "source": [
    "---"
   ]
  },
  {
   "cell_type": "markdown",
   "id": "5604285e",
   "metadata": {},
   "source": [
    "## MEU_13_5"
   ]
  },
  {
   "cell_type": "markdown",
   "id": "0c2603f8",
   "metadata": {},
   "source": [
    "\n",
    "| 字段 | 内容 |\n",
    "|------|------|\n",
    "| subject | 上市公司 |\n",
    "| condition | 母公司资产负债表中未分配利润为负值但合并资产负债表中未分配利润为正值 |\n",
    "| constraint | 应当在权益分派相关公告中披露上市公司控股子公司向母公司实施利润分配的情况 |\n",
    "| contextual_info | nan |\n",
    "| note | nan |\n",
    "| relation | nan |\n",
    "| target | nan |\n",
    "| type | 实际执行单元 |\n",
    "| comments | nan |\n",
    "| prompt_tokens | 2016 |\n",
    "| completion_tokens | 5512 |\n"
   ]
  },
  {
   "cell_type": "markdown",
   "id": "62a107b4",
   "metadata": {},
   "source": [
    "### 代码实现"
   ]
  },
  {
   "cell_type": "code",
   "execution_count": null,
   "id": "85a747e9",
   "metadata": {},
   "outputs": [],
   "source": [
    "import pandas as pd\n",
    "from utils.tool_for_agents import llm_content_check\n",
    "\n",
    "def check_meu_13_5(df):\n",
    "    '''\n",
    "    检查MEU_13_5合规性：\n",
    "    - subject: 上市公司（所有记录默认符合）\n",
    "    - condition: 母公司未分配利润<0且合并报表未分配利润>0\n",
    "    - constraint: 权益分派公告需披露子公司向母公司利润分配情况\n",
    "    '''\n",
    "    \n",
    "    # 初始化合规标记列\n",
    "    df['meu_13_5_subject'] = True  # 所有记录主体均为上市公司\n",
    "    df['meu_13_5_condition'] = None\n",
    "    df['meu_13_5_constraint'] = None  # 默认视为满足约束\n",
    "    \n",
    "    # 标记条件满足情况\n",
    "    # 条件判断：母公司未分配利润为负且合并报表为正\n",
    "    valid_condition = (df['母公司报表未分配利润'] < 0) & (df['合并报表未分配利润'] > 0)\n",
    "    df['meu_13_5_condition'] = valid_condition\n",
    "    \n",
    "    # 约束条件处理\n",
    "    target_description = \"上市公司控股子公司向母公司实施利润分配的情况\"\n",
    "    # 仅当同时满足以下情况需要检查：1.条件成立 2.实际进行权益分派\n",
    "    need_check_mask = valid_condition & df['是否进行权益分派']\n",
    "    \n",
    "    # 使用LLM检查分派方案文本\n",
    "    df.loc[need_check_mask, 'meu_13_5_constraint'] = df.loc[need_check_mask, '权益分派方案文本'].apply(\n",
    "        lambda text: llm_content_check(text, target_description) if pd.notnull(text) else False\n",
    "    )\n",
    "    \n",
    "    return df"
   ]
  },
  {
   "cell_type": "code",
   "execution_count": null,
   "id": "a54afd81",
   "metadata": {},
   "outputs": [],
   "source": [
    "df = check_meu_13_5(df)\n",
    "df"
   ]
  },
  {
   "cell_type": "markdown",
   "id": "5644dd07",
   "metadata": {},
   "source": [
    "---"
   ]
  },
  {
   "cell_type": "markdown",
   "id": "9c305039",
   "metadata": {},
   "source": [
    "## MEU_13_6"
   ]
  },
  {
   "cell_type": "markdown",
   "id": "eae114f9",
   "metadata": {},
   "source": [
    "\n",
    "| 字段 | 内容 |\n",
    "|------|------|\n",
    "| subject | 上市公司 |\n",
    "| condition | 母公司资产负债表中未分配利润为负值但合并资产负债表中未分配利润为正值 |\n",
    "| constraint | 应当在权益分派相关公告中披露公司为增强投资者回报水平拟采取的措施 |\n",
    "| contextual_info | nan |\n",
    "| note | nan |\n",
    "| relation | nan |\n",
    "| target | nan |\n",
    "| type | 实际执行单元 |\n",
    "| comments | nan |\n",
    "| prompt_tokens | 2016 |\n",
    "| completion_tokens | 3050 |\n"
   ]
  },
  {
   "cell_type": "markdown",
   "id": "8f012ed4",
   "metadata": {},
   "source": [
    "### 代码实现"
   ]
  },
  {
   "cell_type": "code",
   "execution_count": null,
   "id": "d2bf3b06",
   "metadata": {},
   "outputs": [],
   "source": [
    "import pandas as pd\n",
    "from utils.tool_for_agents import llm_content_check\n",
    "\n",
    "def check_meu_13_6(df):\n",
    "    '''\n",
    "    验证上市公司在母公司未分配利润为负但合并报表为正时，是否披露增强回报措施\n",
    "    \n",
    "    \"subject\": \"上市公司\",\n",
    "    \"condition\": \"母公司资产负债表中未分配利润为负值但合并资产负债表中未分配利润为正值\",\n",
    "    \"constraint\": \"应当在权益分派相关公告中披露公司为增强投资者回报水平拟采取的措施\"\n",
    "    '''\n",
    "    \n",
    "    # 初始化所有标记列\n",
    "    df['meu_13_6_subject'] = True  # 所有记录主体都是上市公司\n",
    "    df['meu_13_6_condition'] = None\n",
    "    df['meu_13_6_constraint'] = None\n",
    "    \n",
    "    # 1. 验证condition条件\n",
    "    parent_profit_negative = df['母公司报表未分配利润'] < 0\n",
    "    consolidated_profit_positive = df['合并报表未分配利润'] > 0\n",
    "    condition_met = parent_profit_negative & consolidated_profit_positive\n",
    "    df.loc[condition_met, 'meu_13_6_condition'] = True\n",
    "    \n",
    "    # 2. 验证constraint约束（仅当condition满足时检查）\n",
    "    if condition_met.any():\n",
    "        # 获取需要检查的公告文本\n",
    "        target_desc = \"为增强投资者回报水平拟采取的措施\"\n",
    "        \n",
    "        # 对满足条件的行进行内容检查\n",
    "        constrained_mask = condition_met & df['权益分派方案文本'].notna()\n",
    "        df.loc[constrained_mask, 'meu_13_6_constraint'] = df.loc[constrained_mask, '权益分派方案文本'].apply(\n",
    "            lambda text: llm_content_check(text, target_desc)\n",
    "        )\n",
    "        \n",
    "        # 处理文本为空的情况（视为未披露）\n",
    "        df.loc[condition_met & df['权益分派方案文本'].isna(), 'meu_13_6_constraint'] = False\n",
    "    \n",
    "    return df"
   ]
  },
  {
   "cell_type": "code",
   "execution_count": null,
   "id": "136ca1fa",
   "metadata": {},
   "outputs": [],
   "source": [
    "df = check_meu_13_6(df)\n",
    "df"
   ]
  },
  {
   "cell_type": "markdown",
   "id": "816e32b9",
   "metadata": {},
   "source": [
    "---"
   ]
  },
  {
   "cell_type": "markdown",
   "id": "6c4dd819",
   "metadata": {},
   "source": [
    "# Law Article 14"
   ]
  },
  {
   "cell_type": "markdown",
   "id": "d8648d7c",
   "metadata": {},
   "source": [
    "## MEU_14_1"
   ]
  },
  {
   "cell_type": "markdown",
   "id": "318879b9",
   "metadata": {},
   "source": [
    "\n",
    "| 字段 | 内容 |\n",
    "|------|------|\n",
    "| subject | 上市公司 |\n",
    "| condition | 合并资产负债表、母公司资产负债表中本年末未分配利润均为正值且报告期内盈利，且最近连续两个会计年度经审计的下列财务报表项目金额合计占总资产的50%以上：交易性金融资产、衍生金融资产（套期保值工具除外）、债权投资、其他债权投资、其他权益工具投资、其他非流动金融资产、其他流动资产（待抵扣增值税、预缴税费、合同取得成本等与经营活动相关的资产除外），且未进行现金分红或者现金分红总额低于当年净利润50% |\n",
    "| constraint | 应当在权益分派方案中结合前述财务报表列报项目的具体情况说明现金分红方案确定的依据及未来增强投资者回报的规划 |\n",
    "| contextual_info | 财务报表项目具体范围包含：交易性金融资产、衍生金融资产（套期保值工具除外）、债权投资、其他债权投资、其他权益工具投资、其他非流动金融资产、其他流动资产（待抵扣增值税、预缴税费、合同取得成本等与经营活动相关的资产除外） |\n",
    "| note | nan |\n",
    "| relation | nan |\n",
    "| target | nan |\n",
    "| type | 实际执行单元 |\n",
    "| comments | nan |\n",
    "| prompt_tokens | 2173 |\n",
    "| completion_tokens | 10263 |\n"
   ]
  },
  {
   "cell_type": "markdown",
   "id": "f86d6196",
   "metadata": {},
   "source": [
    "### 代码实现"
   ]
  },
  {
   "cell_type": "code",
   "execution_count": null,
   "id": "77e0ad0b",
   "metadata": {},
   "outputs": [],
   "source": [
    "import pandas as pd\n",
    "from utils.tool_for_agents import llm_content_check\n",
    "\n",
    "def check_meu_14_1(df):\n",
    "    '''\n",
    "    验证上市公司在特定财务条件下的现金分红方案披露合规性\n",
    "    \"subject\": \"上市公司\", \n",
    "    \"condition\": \"合并及母公司未分配利润为正+连续两年金融资产占比超50%+现金分红不足净利润50%\", \n",
    "    \"constraint\": \"需在权益分派方案中说明依据及回报规划\", \n",
    "    \"contextual_info\": \"金融资产范围包含交易性金融资产等7项（特定项目除外）\"\n",
    "    '''\n",
    "    # 初始化标记列\n",
    "    df['meu_14_1_subject'] = True  # 所有行均为上市公司\n",
    "    df['meu_14_1_condition'] = None\n",
    "    df['meu_14_1_constraint'] = None\n",
    "\n",
    "    # 预处理：按公司分组并计算历史数据\n",
    "    df_sorted = df.sort_values(['公司简称', '财务数据日期'])\n",
    "    grouped = df_sorted.groupby('公司简称')\n",
    "\n",
    "    # 计算前一年度财务指标\n",
    "    financial_columns = ['总资产', '交易性金融资产', '衍生金融资产', '债权投资', '其他债权投资',\n",
    "                        '其他权益工具投资', '其他非流动金融资产', '其他流动资产']\n",
    "    for col in financial_columns:\n",
    "        df_sorted[f'prev_{col}'] = grouped[col].shift(1)\n",
    "\n",
    "    # 合并回原始索引顺序\n",
    "    df = df_sorted.reset_index(drop=True).reindex(df.index)\n",
    "\n",
    "    # 条件验证逻辑\n",
    "    # 1. 基础财务条件\n",
    "    is_annual = df['财务数据日期'].dt.month == 12\n",
    "    profit_condition = (\n",
    "        (df['合并报表未分配利润'] > 0) &\n",
    "        (df['母公司报表未分配利润'] > 0) &\n",
    "        (df['净利润'] > 0)\n",
    "    )\n",
    "\n",
    "    # 2. 金融资产占比条件\n",
    "    current_fa = (\n",
    "        df['交易性金融资产'] + \n",
    "        df['衍生金融资产'] +  # 假设已排除套期工具\n",
    "        df['债权投资'] +\n",
    "        df['其他债权投资'] +\n",
    "        df['其他权益工具投资'] +\n",
    "        df['其他非流动金融资产'] +\n",
    "        df['其他流动资产']  # 假设已排除特定项目\n",
    "    )\n",
    "    prev_fa = (\n",
    "        df['prev_交易性金融资产'] + \n",
    "        df['prev_衍生金融资产'] +\n",
    "        df['prev_债权投资'] +\n",
    "        df['prev_其他债权投资'] +\n",
    "        df['prev_其他权益工具投资'] +\n",
    "        df['prev_其他非流动金融资产'] +\n",
    "        df['prev_其他流动资产']\n",
    "    )\n",
    "    fa_ratio_condition = (\n",
    "        (current_fa / df['总资产'] >= 0.5) &\n",
    "        (prev_fa / df['prev_总资产'] >= 0.5) &\n",
    "        df['prev_总资产'].notna()\n",
    "    )\n",
    "\n",
    "    # 3. 现金分红条件\n",
    "    dividend_condition = (\n",
    "        ~df['是否实施现金分红'] | \n",
    "        (df['现金分红金额'] < df['净利润'] * 0.5)\n",
    "    )\n",
    "\n",
    "    # 综合条件判断\n",
    "    valid_condition = (\n",
    "        is_annual &\n",
    "        profit_condition &\n",
    "        fa_ratio_condition &\n",
    "        dividend_condition\n",
    "    )\n",
    "    df['meu_14_1_condition'] = valid_condition\n",
    "\n",
    "    # 约束条件验证\n",
    "    constraint_desc = \"结合前述财务报表列报项目的具体情况说明现金分红方案确定的依据及未来增强投资者回报的规划\"\n",
    "    need_check = valid_condition & df['是否进行权益分派']\n",
    "    df.loc[need_check, 'meu_14_1_constraint'] = df.loc[need_check, '权益分派方案文本'].apply(\n",
    "        lambda x: llm_content_check(x, constraint_desc) if pd.notnull(x) else False\n",
    "    )\n",
    "\n",
    "\n",
    "    return df"
   ]
  },
  {
   "cell_type": "code",
   "execution_count": null,
   "id": "0ea4f03a",
   "metadata": {},
   "outputs": [],
   "source": [
    "df = check_meu_14_1(df)\n",
    "df"
   ]
  },
  {
   "cell_type": "markdown",
   "id": "b719c7e2",
   "metadata": {},
   "source": [
    "---"
   ]
  },
  {
   "cell_type": "markdown",
   "id": "c4309c4d",
   "metadata": {},
   "source": [
    "# Law Article 15"
   ]
  },
  {
   "cell_type": "markdown",
   "id": "bb81e835",
   "metadata": {},
   "source": [
    "## MEU_15_1"
   ]
  },
  {
   "cell_type": "markdown",
   "id": "64eed5bf",
   "metadata": {},
   "source": [
    "\n",
    "| 字段 | 内容 |\n",
    "|------|------|\n",
    "| subject | 上市公司 |\n",
    "| condition | 权益分派方案中现金分红的金额达到或者超过当期净利润的100%且达到或者超过当期末未分配利润的50% |\n",
    "| constraint | 应当同时披露是否影响偿债能力、过去十二个月内是否使用过募集资金补充流动资金以及未来十二个月内是否计划使用募集资金补充流动资金等内容 |\n",
    "| contextual_info | nan |\n",
    "| note | nan |\n",
    "| relation | nan |\n",
    "| target | nan |\n",
    "| type | 实际执行单元 |\n",
    "| comments | nan |\n",
    "| prompt_tokens | 2041 |\n",
    "| completion_tokens | 5042 |\n"
   ]
  },
  {
   "cell_type": "markdown",
   "id": "6dbc7a92",
   "metadata": {},
   "source": [
    "### 代码实现"
   ]
  },
  {
   "cell_type": "code",
   "execution_count": null,
   "id": "3ca0a9cd",
   "metadata": {},
   "outputs": [],
   "source": [
    "import pandas as pd\n",
    "from utils.tool_for_agents import llm_content_check\n",
    "\n",
    "def check_meu_15_1(df):\n",
    "    '''\n",
    "    验证上市公司在超高比例分红时的信息披露合规性\n",
    "    subject: 上市公司\n",
    "    condition: 现金分红≥净利润100%且≥未分配利润50%\n",
    "    constraint: 需披露偿债影响、募集资金使用情况\n",
    "    '''\n",
    "    \n",
    "    # 初始化合规标记列\n",
    "    df['meu_15_1_subject'] = True  # 所有记录主体均为上市公司\n",
    "    df['meu_15_1_condition'] = None\n",
    "    df['meu_15_1_constraint'] = None\n",
    "    \n",
    "\n",
    "    # 条件验证：现金分红达标\n",
    "    cash_condition = (\n",
    "        (df['现金分红金额'] >= df['净利润']) & \n",
    "        (df['现金分红金额'] >= df['合并报表未分配利润'] * 0.5)\n",
    "    )\n",
    "    df.loc[cash_condition, 'meu_15_1_condition'] = True\n",
    "    \n",
    "    # 约束验证：信息披露完整性\n",
    "    def check_disclosure(text):\n",
    "        if pd.isna(text):\n",
    "            return False\n",
    "        return (\n",
    "            llm_content_check(text, \"是否影响偿债能力\") &\n",
    "            llm_content_check(text, \"过去十二个月内是否使用过募集资金补充流动资金\") &\n",
    "            llm_content_check(text, \"未来十二个月内是否计划使用募集资金补充流动资金\")\n",
    "        )\n",
    "    \n",
    "    df.loc[cash_condition, 'meu_15_1_constraint'] = df['权益分派方案文本'].apply(check_disclosure)\n",
    "    \n",
    "    \n",
    "    return df"
   ]
  },
  {
   "cell_type": "code",
   "execution_count": null,
   "id": "b0810175",
   "metadata": {},
   "outputs": [],
   "source": [
    "df = check_meu_15_1(df)\n",
    "df"
   ]
  },
  {
   "cell_type": "markdown",
   "id": "f79eed01",
   "metadata": {},
   "source": [
    "---"
   ]
  },
  {
   "cell_type": "markdown",
   "id": "43ce6a27",
   "metadata": {},
   "source": [
    "## MEU_15_2"
   ]
  },
  {
   "cell_type": "markdown",
   "id": "6165e6a7",
   "metadata": {},
   "source": [
    "\n",
    "| 字段 | 内容 |\n",
    "|------|------|\n",
    "| subject | 上市公司 |\n",
    "| condition | 最近一个会计年度的财务会计报告被出具非无保留意见的审计报告或者带与持续经营相关的重大不确定性段落的无保留意见的审计报告，且实施现金分红的 |\n",
    "| constraint | 应当根据公司盈利能力、融资能力及其成本、偿债能力及现金流等情况披露现金分红方案的合理性，是否导致公司营运资金不足或者影响公司正常生产经营 |\n",
    "| contextual_info | nan |\n",
    "| note | nan |\n",
    "| relation | nan |\n",
    "| target | nan |\n",
    "| type | 实际执行单元 |\n",
    "| comments | nan |\n",
    "| prompt_tokens | 2052 |\n",
    "| completion_tokens | 4557 |\n"
   ]
  },
  {
   "cell_type": "markdown",
   "id": "9435da8a",
   "metadata": {},
   "source": [
    "### 代码实现"
   ]
  },
  {
   "cell_type": "code",
   "execution_count": null,
   "id": "cd59df84",
   "metadata": {},
   "outputs": [],
   "source": [
    "import pandas as pd\n",
    "from utils.tool_for_agents import llm_content_check\n",
    "\n",
    "def check_meu_15_2(df):\n",
    "    '''\n",
    "    合规性检验函数：MEU_15_2\n",
    "    \"subject\": \"上市公司\",\n",
    "    \"condition\": \"最近一个会计年度的财务会计报告被出具非无保留意见的审计报告或者带与持续经营相关的重大不确定性段落的无保留意见的审计报告，且实施现金分红的\",\n",
    "    \"constraint\": \"应当根据公司盈利能力、融资能力及其成本、偿债能力及现金流等情况披露现金分红方案的合理性，是否导致公司营运资金不足或者影响公司正常生产经营\"\n",
    "    '''\n",
    "\n",
    "    # 初始化标记列\n",
    "    df['meu_15_2_subject'] = True  # 所有行均为上市公司\n",
    "    df['meu_15_2_condition'] = None\n",
    "    df['meu_15_2_constraint'] = None \n",
    "\n",
    "    # 标记条件1：审计意见类型\n",
    "    audit_condition = df['审计意见'].isin(['保留意见', '非标准无保留意见'])\n",
    "    # 标记条件2：实施现金分红\n",
    "    dividend_condition = df['是否实施现金分红']\n",
    "    # 合并条件\n",
    "    valid_condition = audit_condition & dividend_condition\n",
    "    df['meu_15_2_condition'] = valid_condition\n",
    "\n",
    "    # 标记约束（仅当满足主体和条件时检查）\n",
    "    constraint_description = \"根据公司盈利能力、融资能力及其成本、偿债能力及现金流等情况披露现金分红方案的合理性，是否导致公司营运资金不足或者影响公司正常生产经营\"\n",
    "    mask = df['meu_15_2_subject'] & df['meu_15_2_condition']\n",
    "    \n",
    "    # 对满足条件的行进行内容检查\n",
    "    df.loc[mask, 'meu_15_2_constraint'] = df.loc[mask].apply(\n",
    "        lambda row: llm_content_check(row['权益分派方案文本'], constraint_description) if pd.notna(row['权益分派方案文本']) else False,\n",
    "        axis=1\n",
    "    )\n",
    "\n",
    "    return df"
   ]
  },
  {
   "cell_type": "code",
   "execution_count": null,
   "id": "68d3aa07",
   "metadata": {},
   "outputs": [],
   "source": [
    "df = check_meu_15_2(df)\n",
    "df"
   ]
  },
  {
   "cell_type": "markdown",
   "id": "504e6a9a",
   "metadata": {},
   "source": [
    "---"
   ]
  },
  {
   "cell_type": "markdown",
   "id": "e12cb5e8",
   "metadata": {},
   "source": [
    "## MEU_15_3"
   ]
  },
  {
   "cell_type": "markdown",
   "id": "0cf3520d",
   "metadata": {},
   "source": [
    "\n",
    "| 字段 | 内容 |\n",
    "|------|------|\n",
    "| subject | 上市公司 |\n",
    "| condition | 报告期末资产负债率超过80%且当期经营活动产生的现金流量净额为负，且现金分红金额超过当期净利润50%的 |\n",
    "| constraint | 应当根据公司盈利能力、融资能力及其成本、偿债能力及现金流等情况披露现金分红方案的合理性，是否导致公司营运资金不足或者影响公司正常生产经营 |\n",
    "| contextual_info | nan |\n",
    "| note | nan |\n",
    "| relation | nan |\n",
    "| target | nan |\n",
    "| type | 实际执行单元 |\n",
    "| comments | nan |\n",
    "| prompt_tokens | 2040 |\n",
    "| completion_tokens | 3297 |\n"
   ]
  },
  {
   "cell_type": "markdown",
   "id": "ac3ef3e2",
   "metadata": {},
   "source": [
    "### 代码实现"
   ]
  },
  {
   "cell_type": "code",
   "execution_count": null,
   "id": "b1c0011a",
   "metadata": {},
   "outputs": [],
   "source": [
    "import pandas as pd\n",
    "from utils.tool_for_agents import llm_content_check\n",
    "\n",
    "def check_meu_15_3(df):\n",
    "    '''\n",
    "    验证MEU_15_3合规性：\n",
    "    \"subject\": \"上市公司\",\n",
    "    \"condition\": \"报告期末资产负债率超过80%且当期经营活动产生的现金流量净额为负，且现金分红金额超过当期净利润50%的\",\n",
    "    \"constraint\": \"应当根据公司盈利能力、融资能力及其成本、偿债能力及现金流等情况披露现金分红方案的合理性，是否导致公司营运资金不足或者影响公司正常生产经营\"\n",
    "    '''\n",
    "    \n",
    "    # 初始化标记列\n",
    "    df['meu_15_3_subject'] = True  # 所有记录主体均为上市公司\n",
    "    df['meu_15_3_condition'] = None\n",
    "    df['meu_15_3_constraint'] = None\n",
    "\n",
    "\n",
    "    # 1. 验证condition条件\n",
    "    cond_leverage = df['资产负债率'] > 0.8  # 资产负债率超过80%\n",
    "    cond_cashflow = df['经营活动现金流量净额'] < 0  # 经营活动现金流为负\n",
    "    cond_dividend = df['现金分红金额'] > (df['净利润'] * 0.5)  # 分红超净利润50%\n",
    "    \n",
    "    valid_condition = cond_leverage & cond_cashflow & cond_dividend\n",
    "    df.loc[valid_condition, 'meu_15_3_condition'] = True\n",
    "\n",
    "    # 2. 验证constraint条件（仅当condition满足时检查）\n",
    "    constraint_desc = '''披露现金分红方案的合理性，是否导致公司营运资金不足或者影响公司正常生产经营，\n",
    "                         包括对公司盈利能力、融资能力及其成本、偿债能力及现金流等情况的说明'''\n",
    "    \n",
    "    # 仅对触发条件的记录进行内容检查\n",
    "    mask = valid_condition & df['是否实施现金分红']\n",
    "    df.loc[mask, 'meu_15_3_constraint'] = df[mask].apply(\n",
    "        lambda x: llm_content_check(x['权益分派方案文本'], constraint_desc), \n",
    "        axis=1\n",
    "    )\n",
    "\n",
    "    return df"
   ]
  },
  {
   "cell_type": "code",
   "execution_count": null,
   "id": "47994896",
   "metadata": {},
   "outputs": [],
   "source": [
    "df = check_meu_15_3(df)\n",
    "df"
   ]
  },
  {
   "cell_type": "markdown",
   "id": "b56111d3",
   "metadata": {},
   "source": [
    "---"
   ]
  },
  {
   "cell_type": "markdown",
   "id": "d9c070ab",
   "metadata": {},
   "source": [
    "# Law Article 18"
   ]
  },
  {
   "cell_type": "markdown",
   "id": "2092e912",
   "metadata": {},
   "source": [
    "## MEU_18_1"
   ]
  },
  {
   "cell_type": "markdown",
   "id": "789323da",
   "metadata": {},
   "source": [
    "\n",
    "| 字段 | 内容 |\n",
    "|------|------|\n",
    "| subject | 上市公司 |\n",
    "| condition | 披露高送转方案且最近两年同期净利润持续增长 |\n",
    "| constraint | 每股送转股比例不得高于上市公司最近两年同期净利润的复合增长率 |\n",
    "| contextual_info | nan |\n",
    "| note | nan |\n",
    "| relation | refer_to |\n",
    "| target | MEU_31_2;MEU_17_1 |\n",
    "| type | 实际执行单元 |\n",
    "| comments | nan |\n",
    "| prompt_tokens | 2176 |\n",
    "| completion_tokens | 10773 |\n"
   ]
  },
  {
   "cell_type": "markdown",
   "id": "a7bb4fea",
   "metadata": {},
   "source": [
    "### 代码实现"
   ]
  },
  {
   "cell_type": "code",
   "execution_count": null,
   "id": "1361ad97",
   "metadata": {},
   "outputs": [],
   "source": [
    "import pandas as pd\n",
    "import numpy as np\n",
    "\n",
    "def check_meu_18_1(df):\n",
    "    # 创建副本避免修改原数据\n",
    "    df = df.copy()\n",
    "    \n",
    "    # 初始化合规标记列\n",
    "    df['meu_18_1_subject'] = True  # 所有行均为上市公司主体\n",
    "    df['meu_18_1_condition'] = None\n",
    "    df['meu_18_1_constraint'] = None\n",
    "\n",
    "    # 条件1: 高送转方案判断\n",
    "    df['送转合计'] = df['送股比例'] + df['转增比例']\n",
    "    high_send = (df['送转合计'] >= 5) & df['是否进行权益分派']\n",
    "\n",
    "    # 条件2: 净利润持续增长判断\n",
    "    # 生成年季信息\n",
    "    df['year'] = df['财务数据日期'].dt.year\n",
    "    df['quarter'] = df['财务数据日期'].dt.quarter\n",
    "    \n",
    "    # 获取前两年同期数据\n",
    "    prev_df = df[['公司简称', 'year', 'quarter', '净利润']].copy()\n",
    "    prev_df['year'] += 1\n",
    "    prev_df.rename(columns={'净利润': 'prev_net'}, inplace=True)\n",
    "    df = df.merge(prev_df, on=['公司简称', 'year', 'quarter'], how='left')\n",
    "\n",
    "    prev_prev_df = df[['公司简称', 'year', 'quarter', '净利润']].copy()\n",
    "    prev_prev_df['year'] += 2\n",
    "    prev_prev_df.rename(columns={'净利润': 'prev_prev_net'}, inplace=True)\n",
    "    df = df.merge(prev_prev_df, on=['公司简称', 'year', 'quarter'], how='left')\n",
    "\n",
    "    # 计算连续增长条件\n",
    "    growth_condition = (df['净利润'] > df['prev_net']) & (df['prev_net'] > df['prev_prev_net'])\n",
    "    df['meu_18_1_condition'] = high_send & growth_condition.fillna(False)\n",
    "\n",
    "    # 约束条件: 送转比例<=复合增长率\n",
    "    # 计算复合增长率\n",
    "    denominator = df['prev_prev_net'].abs().replace(0, np.nan)\n",
    "    ratio = df['净利润'] / denominator\n",
    "    compound_growth = np.sqrt(ratio.where(ratio > 0)) - 1\n",
    "    \n",
    "    # 计算送转比例\n",
    "    send_ratio = df['送转合计'] / 10\n",
    "    \n",
    "    # 标记约束有效性\n",
    "    valid_constraint = send_ratio <= compound_growth\n",
    "    df['meu_18_1_constraint'] = df['meu_18_1_condition'] & valid_constraint.fillna(False)\n",
    "\n",
    "    # 清理中间列\n",
    "    df.drop(columns=['送转合计', 'year', 'quarter', 'prev_net', 'prev_prev_net'], inplace=True)\n",
    "    \n",
    "    return df"
   ]
  },
  {
   "cell_type": "code",
   "execution_count": null,
   "id": "9a1e2c06",
   "metadata": {},
   "outputs": [],
   "source": [
    "df = check_meu_18_1(df)\n",
    "df"
   ]
  },
  {
   "cell_type": "markdown",
   "id": "d147aa34",
   "metadata": {},
   "source": [
    "---"
   ]
  },
  {
   "cell_type": "markdown",
   "id": "f05b0a1b",
   "metadata": {},
   "source": [
    "## MEU_18_2"
   ]
  },
  {
   "cell_type": "markdown",
   "id": "ac051939",
   "metadata": {},
   "source": [
    "\n",
    "| 字段 | 内容 |\n",
    "|------|------|\n",
    "| subject | 上市公司 |\n",
    "| condition | 披露高送转方案且在报告期内实施再融资、并购重组等导致净资产有较大变化 |\n",
    "| constraint | 每股送转股比例不得高于上市公司报告期末净资产较之于期初净资产的增长率 |\n",
    "| contextual_info | nan |\n",
    "| note | nan |\n",
    "| relation | refer_to |\n",
    "| target | MEU_17_1 |\n",
    "| type | 实际执行单元 |\n",
    "| comments | nan |\n",
    "| prompt_tokens | 2110 |\n",
    "| completion_tokens | 7418 |\n"
   ]
  },
  {
   "cell_type": "markdown",
   "id": "66935ad1",
   "metadata": {},
   "source": [
    "### 代码实现"
   ]
  },
  {
   "cell_type": "code",
   "execution_count": null,
   "id": "74809aae",
   "metadata": {},
   "outputs": [],
   "source": [
    "import pandas as pd\n",
    "\n",
    "def check_meu_18_2(df):\n",
    "    '''\n",
    "    合规性检查函数：MEU_18_2\n",
    "    subject: 上市公司\n",
    "    condition: 披露高送转方案且在报告期内实施再融资、并购重组等导致净资产有较大变化\n",
    "    constraint: 每股送转股比例不得高于上市公司报告期末净资产较之于期初净资产的增长率\n",
    "    '''\n",
    "    # 初始化标记列\n",
    "    df['meu_18_2_subject'] = True  # 所有行均为上市公司\n",
    "    df['meu_18_2_condition'] = None\n",
    "    df['meu_18_2_constraint'] = None\n",
    "\n",
    "    # 条件验证：高送转方案 (每10股送转合计≥5股)\n",
    "    high_send_condition = (df['送股比例'] + df['转增比例']) >= 5\n",
    "\n",
    "    # 条件验证：再融资/并购重组事件（通过公告类型判断）\n",
    "    event_pattern = r'增发|配股|并购|重组|非公开发行|重大资产'\n",
    "    has_refinance = df['公告类型'].str.contains(event_pattern, case=False, na=False)\n",
    "\n",
    "    # 合并条件验证结果\n",
    "    df['meu_18_2_condition'] = high_send_condition & has_refinance\n",
    "\n",
    "    # 约束验证：计算实际净资产增长率\n",
    "    df_sorted = df.sort_values(['公司简称', '财务数据日期'])\n",
    "    df_sorted['prev_净资产'] = df_sorted.groupby('公司简称')['净资产'].shift(1)\n",
    "    df_sorted['实际净资产增长率'] = (df_sorted['净资产'] - df_sorted['prev_净资产']) / df_sorted['prev_净资产']\n",
    "    df = df_sorted.reset_index(drop=True)\n",
    "\n",
    "    # 计算送转股比例约束\n",
    "    total_send_ratio = (df['送股比例'] + df['转增比例']) / 10\n",
    "    df['meu_18_2_constraint'] = total_send_ratio <= df['实际净资产增长率']\n",
    "\n",
    "    # 清理临时列\n",
    "    df.drop(['prev_净资产', '实际净资产增长率'], axis=1, errors='ignore')\n",
    "    \n",
    "    return df"
   ]
  },
  {
   "cell_type": "code",
   "execution_count": null,
   "id": "6e4a7221",
   "metadata": {},
   "outputs": [],
   "source": [
    "df = check_meu_18_2(df)\n",
    "df"
   ]
  },
  {
   "cell_type": "markdown",
   "id": "427ac2da",
   "metadata": {},
   "source": [
    "---"
   ]
  },
  {
   "cell_type": "markdown",
   "id": "dd7f2e74",
   "metadata": {},
   "source": [
    "## MEU_18_3"
   ]
  },
  {
   "cell_type": "markdown",
   "id": "bad277d5",
   "metadata": {},
   "source": [
    "\n",
    "| 字段 | 内容 |\n",
    "|------|------|\n",
    "| subject | 上市公司 |\n",
    "| condition | 披露高送转方案且最近两年净利润持续增长且最近三年每股收益均不低于1元且上市公司认为确有必要且依据年度财务报表进行高送转 |\n",
    "| constraint | 应当充分披露高送转的主要考虑及其合理性且送转股后每股收益不低于0.5元 |\n",
    "| contextual_info | nan |\n",
    "| note | \"每股收益\"简化为采用\"每股净利润\" |\n",
    "| relation | refer_to |\n",
    "| target | MEU_17_1 |\n",
    "| type | 实际执行单元 |\n",
    "| comments | nan |\n",
    "| prompt_tokens | 2136 |\n",
    "| completion_tokens | 7837 |\n"
   ]
  },
  {
   "cell_type": "markdown",
   "id": "457c3ebd",
   "metadata": {},
   "source": [
    "### 代码实现"
   ]
  },
  {
   "cell_type": "code",
   "execution_count": null,
   "id": "3ae45212",
   "metadata": {},
   "outputs": [],
   "source": [
    "import pandas as pd\n",
    "from utils.tool_for_agents import llm_content_check\n",
    "\n",
    "def check_meu_18_3(df):\n",
    "    '''\n",
    "    验证上市公司高送转方案的合规性：\n",
    "    \"subject\": \"上市公司\",\n",
    "    \"condition\": \"披露高送转方案且最近两年净利润持续增长且最近三年每股收益均不低于1元且上市公司认为确有必要且依据年度财务报表进行高送转\",\n",
    "    \"constraint\": \"应当充分披露高送转的主要考虑及其合理性且送转股后每股收益不低于0.5元\"\n",
    "    '''\n",
    "    \n",
    "    # 初始化合规标记列\n",
    "    df['meu_18_3_subject'] = True  # 所有记录主体均为上市公司\n",
    "    df['meu_18_3_condition'] = None\n",
    "    df['meu_18_3_constraint'] = None\n",
    "\n",
    "    # 转换财务数据日期格式\n",
    "    df['财务数据日期'] = pd.to_datetime(df['财务数据日期'])\n",
    "    \n",
    "    # ======================\n",
    "    # 条件验证部分\n",
    "    # ======================\n",
    "    \n",
    "    # 1. 年度报表标识（假设12月为年报月份）\n",
    "    is_annual_report = df['财务数据日期'].dt.month == 12\n",
    "    \n",
    "    # 2. 高送转方案验证（每10股送转≥5股）\n",
    "    sz_ratio = df['送股比例'] + df['转增比例']\n",
    "    high_sz = sz_ratio >= 5\n",
    "    \n",
    "    # 3. 净利润持续增长验证\n",
    "    df['prev_year_net'] = df.groupby('公司简称')['净利润'].shift(1)\n",
    "    df['prev_prev_year_net'] = df.groupby('公司简称')['净利润'].shift(2)\n",
    "    net_growth = (df['净利润'] > df['prev_year_net']) & (df['prev_year_net'] > df['prev_prev_year_net'])\n",
    "    \n",
    "    # 4. 每股收益验证（三年EPS≥1）\n",
    "    df['eps_prev1'] = df.groupby('公司简称')['每股净利润'].shift(1)\n",
    "    df['eps_prev2'] = df.groupby('公司简称')['每股净利润'].shift(2)\n",
    "    eps_valid = (df['每股净利润'] >= 1) & (df['eps_prev1'] >= 1) & (df['eps_prev2'] >= 1)\n",
    "    \n",
    "    # 5. 必要性验证（LLM内容检查）\n",
    "    necessity_check = df['权益分派方案文本'].apply(\n",
    "        lambda x: llm_content_check(x, \"上市公司认为确有必要实施高送转\") if pd.notnull(x) else False\n",
    "    )\n",
    "    \n",
    "    # 6. 权益分派执行标记\n",
    "    is_distributed = df['是否进行权益分派']\n",
    "    \n",
    "    # 综合条件判断\n",
    "    condition_met = (\n",
    "        is_annual_report &\n",
    "        high_sz &\n",
    "        net_growth &\n",
    "        eps_valid &\n",
    "        necessity_check &\n",
    "        is_distributed\n",
    "    )\n",
    "    df.loc[condition_met, 'meu_18_3_condition'] = True\n",
    "    \n",
    "    # ======================\n",
    "    # 约束验证部分\n",
    "    # ======================\n",
    "    \n",
    "    # 1. 合理性披露检查\n",
    "    disclosure_check = df['权益分派方案文本'].apply(\n",
    "        lambda x: llm_content_check(x, \"高送转的主要考虑及其合理性\") if pd.notnull(x) else False\n",
    "    )\n",
    "    \n",
    "    # 2. 送转后EPS计算\n",
    "    expansion_ratio = sz_ratio / 10  # 转换为股本扩张比例\n",
    "    post_eps = df['每股净利润'] / (1 + expansion_ratio)\n",
    "    eps_constraint = post_eps >= 0.5\n",
    "    \n",
    "    # 综合约束判断\n",
    "    constraint_met = disclosure_check & eps_constraint\n",
    "    df.loc[constraint_met, 'meu_18_3_constraint'] = True\n",
    "    \n",
    "    \n",
    "    # 清理中间列\n",
    "    df.drop(columns=['prev_year_net', 'prev_prev_year_net', 'eps_prev1', 'eps_prev2'], \n",
    "            inplace=True, errors='ignore')\n",
    "    \n",
    "    return df"
   ]
  },
  {
   "cell_type": "code",
   "execution_count": null,
   "id": "737acc6d",
   "metadata": {},
   "outputs": [],
   "source": [
    "df = check_meu_18_3(df)\n",
    "df"
   ]
  },
  {
   "cell_type": "markdown",
   "id": "31a24657",
   "metadata": {},
   "source": [
    "---"
   ]
  },
  {
   "cell_type": "markdown",
   "id": "43282345",
   "metadata": {},
   "source": [
    "# Law Article 19"
   ]
  },
  {
   "cell_type": "markdown",
   "id": "ef881bb7",
   "metadata": {},
   "source": [
    "## MEU_19_1"
   ]
  },
  {
   "cell_type": "markdown",
   "id": "6db699b9",
   "metadata": {},
   "source": [
    "\n",
    "| 字段 | 内容 |\n",
    "|------|------|\n",
    "| subject | 上市公司 |\n",
    "| condition | 报告期尚未产生收入 |\n",
    "| constraint | 不得披露高送转方案 |\n",
    "| contextual_info | nan |\n",
    "| note | nan |\n",
    "| relation | refer_to |\n",
    "| target | MEU_17_1 |\n",
    "| type | 实际执行单元 |\n",
    "| comments | nan |\n",
    "| prompt_tokens | 2083 |\n",
    "| completion_tokens | 4630 |\n"
   ]
  },
  {
   "cell_type": "markdown",
   "id": "f03cb95c",
   "metadata": {},
   "source": [
    "### 代码实现"
   ]
  },
  {
   "cell_type": "code",
   "execution_count": null,
   "id": "f206f505",
   "metadata": {},
   "outputs": [],
   "source": [
    "import pandas as pd\n",
    "\n",
    "def check_meu_19_1(df):\n",
    "    '''\n",
    "    检查MEU_19_1合规性：\n",
    "    - subject: 上市公司（所有记录默认满足）\n",
    "    - condition: 报告期尚未产生收入（使用净利润<=0近似判断）\n",
    "    - constraint: 未披露高送转方案（送转合计<5股）\n",
    "    '''\n",
    "\n",
    "    # 初始化标记列\n",
    "    df['meu_19_1_subject'] = True  # 所有记录均为上市公司\n",
    "    df['meu_19_1_condition'] = None\n",
    "    df['meu_19_1_constraint'] = None\n",
    "\n",
    "    # 标记condition：报告期尚未产生收入（使用净利润<=0近似判断）\n",
    "    # 注意：法律条文中的\"产生收入\"应指营业收入，但数据中无该字段，此处用净利润作为替代指标\n",
    "    df['meu_19_1_condition'] = df['净利润'] <= 0\n",
    "\n",
    "    # 标记constraint：未披露高送转方案\n",
    "    # 计算送转合计（处理空值为0）\n",
    "    total_distribution = df['送股比例'].fillna(0) + df['转增比例'].fillna(0)\n",
    "    # 判断是否达到高送转标准（每10股送转≥5股）\n",
    "    is_high_distribution = total_distribution >= 5\n",
    "    # 约束成立条件：未进行权益分派 或 分派但未达高送转标准\n",
    "    df['meu_19_1_constraint'] = ~(df['是否进行权益分派'] & is_high_distribution)\n",
    "\n",
    "    return df"
   ]
  },
  {
   "cell_type": "code",
   "execution_count": null,
   "id": "4f920335",
   "metadata": {},
   "outputs": [],
   "source": [
    "df = check_meu_19_1(df)\n",
    "df"
   ]
  },
  {
   "cell_type": "markdown",
   "id": "a7135bef",
   "metadata": {},
   "source": [
    "---"
   ]
  },
  {
   "cell_type": "markdown",
   "id": "df815081",
   "metadata": {},
   "source": [
    "## MEU_19_2"
   ]
  },
  {
   "cell_type": "markdown",
   "id": "b38414f0",
   "metadata": {},
   "source": [
    "\n",
    "| 字段 | 内容 |\n",
    "|------|------|\n",
    "| subject | 上市公司 |\n",
    "| condition | 净利润为负 |\n",
    "| constraint | 不得披露高送转方案 |\n",
    "| contextual_info | nan |\n",
    "| note | nan |\n",
    "| relation | refer_to |\n",
    "| target | MEU_17_1 |\n",
    "| type | 实际执行单元 |\n",
    "| comments | nan |\n",
    "| prompt_tokens | 2081 |\n",
    "| completion_tokens | 4348 |\n"
   ]
  },
  {
   "cell_type": "markdown",
   "id": "494914ba",
   "metadata": {},
   "source": [
    "### 代码实现"
   ]
  },
  {
   "cell_type": "code",
   "execution_count": null,
   "id": "92023c2b",
   "metadata": {},
   "outputs": [],
   "source": [
    "import pandas as pd\n",
    "\n",
    "def check_meu_19_2(df):\n",
    "    '''\n",
    "    检查MEU_19_2合规性：\n",
    "    subject: 上市公司\n",
    "    condition: 净利润为负\n",
    "    constraint: 不得披露高送转方案\n",
    "    contextual_info: 高送转定义参考MEU_17_1（每10股合计送转≥5股）\n",
    "    '''\n",
    "    # 初始化标记列\n",
    "    df['meu_19_2_subject'] = True  # 数据主体均为上市公司\n",
    "    df['meu_19_2_condition'] = None\n",
    "    df['meu_19_2_constraint'] = None\n",
    "\n",
    "    # 标记条件满足情况 --------------------------------------------------------\n",
    "    # 1.标记subject（所有行已默认True）\n",
    "    \n",
    "    # 2.标记condition（净利润为负）\n",
    "    df['meu_19_2_condition'] = df['净利润'] < 0\n",
    "    \n",
    "    # 3.标记constraint（未披露高送转）\n",
    "    # 计算高送转条件：进行权益分派且送转合计≥5股/10股\n",
    "    high_send_condition = (\n",
    "        df['是否进行权益分派'] & \n",
    "        ((df['送股比例'] + df['转增比例']) >= 5)\n",
    "    )\n",
    "    df['meu_19_2_constraint'] = ~high_send_condition  # 约束满足=未实施高送转\n",
    "\n",
    "    return df"
   ]
  },
  {
   "cell_type": "code",
   "execution_count": null,
   "id": "2ed72c0c",
   "metadata": {},
   "outputs": [],
   "source": [
    "df = check_meu_19_2(df)\n",
    "df"
   ]
  },
  {
   "cell_type": "markdown",
   "id": "8f9be073",
   "metadata": {},
   "source": [
    "---"
   ]
  },
  {
   "cell_type": "markdown",
   "id": "487482e9",
   "metadata": {},
   "source": [
    "## MEU_19_3"
   ]
  },
  {
   "cell_type": "markdown",
   "id": "af970bc1",
   "metadata": {},
   "source": [
    "\n",
    "| 字段 | 内容 |\n",
    "|------|------|\n",
    "| subject | 上市公司 |\n",
    "| condition | 净利润同比下降50%以上 |\n",
    "| constraint | 不得披露高送转方案 |\n",
    "| contextual_info | nan |\n",
    "| note | nan |\n",
    "| relation | refer_to |\n",
    "| target | MEU_17_1 |\n",
    "| type | 实际执行单元 |\n",
    "| comments | nan |\n",
    "| prompt_tokens | 2083 |\n",
    "| completion_tokens | 3810 |\n"
   ]
  },
  {
   "cell_type": "markdown",
   "id": "9dea604d",
   "metadata": {},
   "source": [
    "### 代码实现"
   ]
  },
  {
   "cell_type": "code",
   "execution_count": null,
   "id": "a06ce998",
   "metadata": {},
   "outputs": [],
   "source": [
    "import pandas as pd\n",
    "\n",
    "def check_meu_19_3(df):\n",
    "    '''\n",
    "    验证MEU_19_3合规性:\n",
    "    - subject: 上市公司（所有记录默认满足）\n",
    "    - condition: 净利润同比下降50%以上（净利润增长率<=-0.5）\n",
    "    - constraint: 不得披露高送转方案（送股+转增<5股）\n",
    "    '''\n",
    "\n",
    "    # 初始化标记列\n",
    "    df['meu_19_3_subject'] = True  # 所有记录主体均为上市公司\n",
    "    df['meu_19_3_condition'] = None\n",
    "    df['meu_19_3_constraint'] = None\n",
    "\n",
    "    # 标记条件满足情况\n",
    "    # 1. 验证净利润同比下降50%以上（单季度同比）\n",
    "    df['meu_19_3_condition'] = df['净利润增长率'] <= -0.5\n",
    "\n",
    "    # 2. 验证高送转约束（仅当主体和条件同时满足时检查）\n",
    "    # 计算送转总和（处理可能的NaN值）\n",
    "    send_ratio = df['送股比例'].fillna(0)\n",
    "    transfer_ratio = df['转增比例'].fillna(0)\n",
    "    high_send = (send_ratio + transfer_ratio) >= 5\n",
    "\n",
    "    # 确定需要检查约束的有效范围\n",
    "    mask = df['meu_19_3_subject'] & df['meu_19_3_condition']\n",
    "    # 在约束范围内标记违规（存在高送转）\n",
    "    df.loc[mask, 'meu_19_3_constraint'] = ~high_send[mask]\n",
    "\n",
    "    return df"
   ]
  },
  {
   "cell_type": "code",
   "execution_count": null,
   "id": "dd58b844",
   "metadata": {},
   "outputs": [],
   "source": [
    "df = check_meu_19_3(df)\n",
    "df"
   ]
  },
  {
   "cell_type": "markdown",
   "id": "fb613a67",
   "metadata": {},
   "source": [
    "---"
   ]
  },
  {
   "cell_type": "markdown",
   "id": "fc2aa3cb",
   "metadata": {},
   "source": [
    "## MEU_19_4"
   ]
  },
  {
   "cell_type": "markdown",
   "id": "3016f2fd",
   "metadata": {},
   "source": [
    "\n",
    "| 字段 | 内容 |\n",
    "|------|------|\n",
    "| subject | 上市公司 |\n",
    "| condition | 送转股后每股收益低于0.2元 |\n",
    "| constraint | 不得披露高送转方案 |\n",
    "| contextual_info | nan |\n",
    "| note | \"每股收益\"简化为采用\"每股净利润\" |\n",
    "| relation | refer_to |\n",
    "| target | MEU_17_1 |\n",
    "| type | 实际执行单元 |\n",
    "| comments | nan |\n",
    "| prompt_tokens | 2098 |\n",
    "| completion_tokens | 7258 |\n"
   ]
  },
  {
   "cell_type": "markdown",
   "id": "b632dff7",
   "metadata": {},
   "source": [
    "### 代码实现"
   ]
  },
  {
   "cell_type": "code",
   "execution_count": null,
   "id": "276d6ee0",
   "metadata": {},
   "outputs": [],
   "source": [
    "import pandas as pd\n",
    "\n",
    "def check_meu_19_4(df):\n",
    "    '''\n",
    "    检查上市公司在送转股后每股收益低于0.2元时是否违规披露高送转方案。\n",
    "    MEU内容:\n",
    "    - subject: 上市公司\n",
    "    - condition: 送转股后每股收益低于0.2元\n",
    "    - constraint: 不得披露高送转方案\n",
    "    '''\n",
    "\n",
    "    # 初始化标记列\n",
    "    df['meu_19_4_subject'] = True  # 所有行主体均为上市公司\n",
    "    df['meu_19_4_condition'] = None\n",
    "    df['meu_19_4_constraint'] = None\n",
    "\n",
    "    # 计算高送转条件（每10股送转合计≥5股）\n",
    "    total_sz_ratio = df['送股比例'] + df['转增比例']\n",
    "    is_high_sz = total_sz_ratio >= 5\n",
    "\n",
    "    # 计算送转后每股收益（考虑股本扩张效应）\n",
    "    df['post_eps'] = df['每股净利润'] * 10 / (10 + total_sz_ratio)\n",
    "\n",
    "    # 条件验证：实际实施高送转且送转后EPS<0.2\n",
    "    valid_condition = (\n",
    "        df['是否进行权益分派'] & \n",
    "        is_high_sz & \n",
    "        (df['post_eps'] < 0.2)\n",
    "    )\n",
    "    df['meu_19_4_condition'] = valid_condition\n",
    "\n",
    "    # 约束验证：当条件成立时不得实施高送转\n",
    "    df['meu_19_4_constraint'] = ~valid_condition\n",
    "\n",
    "    # 清理中间列\n",
    "    df.drop(columns=['post_eps'], inplace=True, errors='ignore')\n",
    "\n",
    "    return df"
   ]
  },
  {
   "cell_type": "code",
   "execution_count": null,
   "id": "c708f5af",
   "metadata": {},
   "outputs": [],
   "source": [
    "df = check_meu_19_4(df)\n",
    "df"
   ]
  },
  {
   "cell_type": "markdown",
   "id": "f7538c56",
   "metadata": {},
   "source": [
    "---"
   ]
  },
  {
   "cell_type": "markdown",
   "id": "4fec4309",
   "metadata": {},
   "source": [
    "## MEU_19_5"
   ]
  },
  {
   "cell_type": "markdown",
   "id": "9b1788fe",
   "metadata": {},
   "source": [
    "\n",
    "| 字段 | 内容 |\n",
    "|------|------|\n",
    "| subject | 上市公司 |\n",
    "| condition | 相关股东在前三个月存在减持情形 |\n",
    "| constraint | 不得披露高送转方案 |\n",
    "| contextual_info | 相关股东指公司的提议股东和控股股东及其一致行动人、董事、监事及高级管理人员 |\n",
    "| note | nan |\n",
    "| relation | refer_to |\n",
    "| target | MEU_17_1 |\n",
    "| type | 实际执行单元 |\n",
    "| comments | nan |\n",
    "| prompt_tokens | 2105 |\n",
    "| completion_tokens | 2801 |\n"
   ]
  },
  {
   "cell_type": "markdown",
   "id": "9f67fb31",
   "metadata": {},
   "source": [
    "### 代码实现"
   ]
  },
  {
   "cell_type": "code",
   "execution_count": null,
   "id": "e5e4487e",
   "metadata": {},
   "outputs": [],
   "source": [
    "import pandas as pd\n",
    "\n",
    "def check_meu_19_5(df):\n",
    "    '''\n",
    "    验证MEU_19_5合规性:\n",
    "    - subject: 上市公司\n",
    "    - condition: 相关股东前三个月存在减持情形\n",
    "    - constraint: 不得披露高送转方案\n",
    "    '''\n",
    "\n",
    "    # 初始化标记列\n",
    "    df['meu_19_5_subject'] = True  # 所有记录主体均为上市公司\n",
    "    df['meu_19_5_condition'] = df['相关股东前三个月内存在减持情形']\n",
    "    df['meu_19_5_constraint'] = None\n",
    "\n",
    "    # 计算高送转方案指标（每10股合计送转≥5股）\n",
    "    total_distribution = df['送股比例'] + df['转增比例']\n",
    "    is_high_send = total_distribution >= 5\n",
    "    \n",
    "    # 判断是否实际披露高送转（需同时满足权益分派和送转比例条件）\n",
    "    has_high_send_plan = df['是否进行权益分派'] & is_high_send\n",
    "    df['meu_19_5_constraint'] = ~has_high_send_plan\n",
    "\n",
    "\n",
    "    return df"
   ]
  },
  {
   "cell_type": "code",
   "execution_count": null,
   "id": "9f1adc86",
   "metadata": {},
   "outputs": [],
   "source": [
    "df = check_meu_19_5(df)\n",
    "df"
   ]
  },
  {
   "cell_type": "markdown",
   "id": "a5ae3918",
   "metadata": {},
   "source": [
    "---"
   ]
  },
  {
   "cell_type": "markdown",
   "id": "1b584a12",
   "metadata": {},
   "source": [
    "## MEU_19_6"
   ]
  },
  {
   "cell_type": "markdown",
   "id": "d1c2ffcd",
   "metadata": {},
   "source": [
    "\n",
    "| 字段 | 内容 |\n",
    "|------|------|\n",
    "| subject | 上市公司 |\n",
    "| condition | 相关股东在后三个月存在减持计划 |\n",
    "| constraint | 不得披露高送转方案 |\n",
    "| contextual_info | 相关股东指公司的提议股东和控股股东及其一致行动人、董事、监事及高级管理人员 |\n",
    "| note | nan |\n",
    "| relation | refer_to |\n",
    "| target | MEU_17_1 |\n",
    "| type | 实际执行单元 |\n",
    "| comments | nan |\n",
    "| prompt_tokens | 2105 |\n",
    "| completion_tokens | 5459 |\n"
   ]
  },
  {
   "cell_type": "markdown",
   "id": "a410a441",
   "metadata": {},
   "source": [
    "### 代码实现"
   ]
  },
  {
   "cell_type": "code",
   "execution_count": null,
   "id": "7983820c",
   "metadata": {},
   "outputs": [],
   "source": [
    "import pandas as pd\n",
    "\n",
    "def check_meu_19_6(df):\n",
    "    '''\n",
    "    验证上市公司在相关股东存在未来三个月减持计划时是否违规披露高送转方案\n",
    "    MEU_19_6参数:\n",
    "    - subject: 上市公司\n",
    "    - condition: 相关股东在后三个月存在减持计划\n",
    "    - constraint: 不得披露高送转方案\n",
    "    - contextual_info: 相关股东定义及高送转标准参考\n",
    "    '''\n",
    "\n",
    "    # 初始化合规标记列\n",
    "    df['meu_19_6_subject'] = True  # 数据源默认均为上市公司\n",
    "    df['meu_19_6_condition'] = None\n",
    "    df['meu_19_6_constraint'] = None\n",
    "\n",
    "\n",
    "    # 1. 标记valid的subject（所有行默认满足）\n",
    "    # 根据数据特性，假设所有记录主体均为上市公司\n",
    "\n",
    "    # 2. 标记valid的condition\n",
    "    df['meu_19_6_condition'] = df['相关股东后三个月存在减持计划']\n",
    "\n",
    "    # 3. 标记valid的constraint\n",
    "    # 计算高送转标准（每10股合计≥5股）\n",
    "    high_song_zhuan = (df['送股比例'] + df['转增比例']) >= 5\n",
    "    # 结合权益分派实施状态\n",
    "    high_song_zhuan = df['是否进行权益分派'] & high_song_zhuan\n",
    "    # 约束有效性判断：当condition为True时不得存在高送转\n",
    "    df['meu_19_6_constraint'] = (~high_song_zhuan) | (~df['meu_19_6_condition'])\n",
    "\n",
    "    return df"
   ]
  },
  {
   "cell_type": "code",
   "execution_count": null,
   "id": "ad3e60c1",
   "metadata": {},
   "outputs": [],
   "source": [
    "df = check_meu_19_6(df)\n",
    "df"
   ]
  },
  {
   "cell_type": "markdown",
   "id": "77bcef2e",
   "metadata": {},
   "source": [
    "---"
   ]
  }
 ],
 "metadata": {
  "kernelspec": {
   "display_name": "GE311",
   "language": "python",
   "name": "python3"
  },
  "language_info": {
   "codemirror_mode": {
    "name": "ipython",
    "version": 3
   },
   "file_extension": ".py",
   "mimetype": "text/x-python",
   "name": "python",
   "nbconvert_exporter": "python",
   "pygments_lexer": "ipython3",
   "version": "3.11.11"
  }
 },
 "nbformat": 4,
 "nbformat_minor": 5
}

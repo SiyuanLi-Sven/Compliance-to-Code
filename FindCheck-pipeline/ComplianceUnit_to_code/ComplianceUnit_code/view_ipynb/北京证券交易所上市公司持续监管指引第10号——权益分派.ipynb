{
 "cells": [
  {
   "cell_type": "code",
   "execution_count": null,
   "id": "85c820a1",
   "metadata": {},
   "outputs": [],
   "source": [
    "# 读取模拟数据\n",
    "# 读取模拟数据\n",
    "import pandas as pd\n",
    "df = pd.read_csv('data_simulation/data_generated/data_simulate_10.csv')\n",
    "date_columns = [\"财务数据日期\", \"公告日期\", \"日期\"]\n",
    "for col in date_columns:\n",
    "    df[col] = pd.to_datetime(df[col])\n",
    "df"
   ]
  },
  {
   "cell_type": "markdown",
   "id": "e2fa382e",
   "metadata": {},
   "source": [
    "# Law Article 13"
   ]
  },
  {
   "cell_type": "markdown",
   "id": "afb52e18",
   "metadata": {},
   "source": [
    "## cu_13_1"
   ]
  },
  {
   "cell_type": "markdown",
   "id": "c9acdcd9",
   "metadata": {},
   "source": [
    "\n",
    "| 字段 | 内容 |\n",
    "|------|------|\n",
    "| subject | 上市公司 |\n",
    "| condition | 合并资产负债表、母公司资产负债表中本年末未分配利润均为正值且报告期内盈利，未进行现金分红或最近三年现金分红总额低于最近三年年均净利润30% |\n",
    "| constraint | 应当在权益分派方案中披露：结合所处行业特点、发展阶段和自身经营模式、盈利水平、偿债能力、资金需求等因素，未进行现金分红或现金分红水平较低原因的说明 |\n",
    "| contextual_info | nan |\n",
    "| note | 只考虑上市后年报分红情况; \"本年\"理解为上一个最新的年报的数据; 最近三年理解为检查上市后的最近三年年报情况, 上市不足三年的取上市后所有年的年报情况 |\n",
    "| relation | refer_to |\n",
    "| target | MEU_31_2 |\n",
    "| type | 数值化执行单元 |\n",
    "| comments | nan |\n",
    "| prompt_tokens | 2512 |\n",
    "| completion_tokens | 11821 |\n"
   ]
  },
  {
   "cell_type": "markdown",
   "id": "d01be6d7",
   "metadata": {},
   "source": [
    "### 代码实现"
   ]
  },
  {
   "cell_type": "code",
   "execution_count": null,
   "id": "e8a0eca4",
   "metadata": {},
   "outputs": [],
   "source": [
    "import pandas as pd\n",
    "\n",
    "def check_cu_13_1(df):\n",
    "    '''\n",
    "    检查cu_13_1的合规性：\n",
    "    主体：上市公司\n",
    "    条件：合并和母公司未分配利润均为正值且报告期内盈利，且未分红或最近三年分红不足\n",
    "    约束：权益分派方案中披露原因说明\n",
    "    '''\n",
    "    df = df.copy()\n",
    "    \n",
    "    # 初始化标记列\n",
    "    df['cu_13_1_subject'] = True  # 所有行都是上市公司\n",
    "    df['cu_13_1_condition'] = False\n",
    "    df['cu_13_1_constraint'] = False\n",
    "\n",
    "    # 转换日期格式\n",
    "    df['财务数据日期'] = pd.to_datetime(df['财务数据日期'])\n",
    "    \n",
    "    # 筛选年报数据（12月31日）\n",
    "    annual_mask = df['财务数据日期'].dt.month == 12\n",
    "    annual_df = df[annual_mask].copy()\n",
    "    \n",
    "    if not annual_df.empty:\n",
    "        # 按公司分组处理\n",
    "        annual_grouped = annual_df.groupby('公司简称', group_keys=False)\n",
    "        \n",
    "        # 计算三年滚动窗口\n",
    "        def calculate_window(group):\n",
    "            group = group.sort_values('财务数据日期')\n",
    "            group['cash_dividend_3y_sum'] = group['现金分红金额'].rolling(3, min_periods=1).sum()\n",
    "            group['net_profit_3y_avg'] = group['净利润'].rolling(3, min_periods=1).mean()\n",
    "            return group\n",
    "            \n",
    "        annual_df = annual_grouped.apply(calculate_window)\n",
    "        \n",
    "        # 合并计算结果回原dataframe\n",
    "        df = df.merge(\n",
    "            annual_df[['公司简称', '财务数据日期', 'cash_dividend_3y_sum', 'net_profit_3y_avg']],\n",
    "            on=['公司简称', '财务数据日期'],\n",
    "            how='left'\n",
    "        )\n",
    "        \n",
    "        # 条件判断\n",
    "        cond_a = (df['合并报表未分配利润'] > 0) & (df['母公司报表未分配利润'] > 0)\n",
    "        cond_b = df['净利润'] > 0\n",
    "        cond_c = (~df['是否实施现金分红']) | (df['cash_dividend_3y_sum'] < df['net_profit_3y_avg'] * 0.3)\n",
    "        \n",
    "        # 组合条件并标记年报行\n",
    "        df.loc[annual_mask, 'cu_13_1_condition'] = (cond_a & cond_b & cond_c)[annual_mask]\n",
    "\n",
    "    # 约束条件检查（仅当满足主体和条件时检查）\n",
    "    mask = df['cu_13_1_subject'] & df['cu_13_1_condition'] & df['是否进行权益分派']\n",
    "    df.loc[mask, 'cu_13_1_constraint'] = df.loc[mask, '权益分派方案文本'].apply(\n",
    "        lambda text: llm_content_check(\n",
    "            text, \n",
    "            \"结合所处行业特点、发展阶段和自身经营模式、盈利水平、偿债能力、资金需求等因素，\"\n",
    "            \"未进行现金分红或现金分红水平较低原因的说明\"\n",
    "        )\n",
    "    )\n",
    "\n",
    "    return df"
   ]
  },
  {
   "cell_type": "code",
   "execution_count": null,
   "id": "42fc0753",
   "metadata": {},
   "outputs": [],
   "source": [
    "df = check_cu_13_1(df)\n",
    "df"
   ]
  },
  {
   "cell_type": "markdown",
   "id": "e00f58f7",
   "metadata": {},
   "source": [
    "---"
   ]
  },
  {
   "cell_type": "markdown",
   "id": "b237ab56",
   "metadata": {},
   "source": [
    "## cu_13_2"
   ]
  },
  {
   "cell_type": "markdown",
   "id": "0559cfae",
   "metadata": {},
   "source": [
    "\n",
    "| 字段 | 内容 |\n",
    "|------|------|\n",
    "| subject | 上市公司 |\n",
    "| condition | 合并资产负债表、母公司资产负债表中本年末未分配利润均为正值且报告期内盈利，未进行现金分红或最近三年现金分红总额低于最近三年年均净利润30% |\n",
    "| constraint | 应当在权益分派方案中披露：留存未分配利润的预计用途以及收益情况 |\n",
    "| contextual_info | nan |\n",
    "| note | 只考虑上市后年报分红情况; \"本年\"理解为上一个最新的年报的数据; 最近三年理解为检查上市后的最近三年年报情况, 上市不足三年的取上市后所有年的年报情况 |\n",
    "| relation | refer_to |\n",
    "| target | MEU_31_2 |\n",
    "| type | 数值化执行单元 |\n",
    "| comments | nan |\n",
    "| prompt_tokens | 2489 |\n",
    "| completion_tokens | 9919 |\n"
   ]
  },
  {
   "cell_type": "markdown",
   "id": "c2f68c7e",
   "metadata": {},
   "source": [
    "### 代码实现"
   ]
  },
  {
   "cell_type": "code",
   "execution_count": null,
   "id": "926319bd",
   "metadata": {},
   "outputs": [],
   "source": [
    "import pandas as pd\n",
    "from utils.tool_for_agents import llm_content_check\n",
    "\n",
    "def check_cu_13_2(df):\n",
    "    df = df.copy()\n",
    "    # 初始化标记列\n",
    "    df['cu_13_2_subject'] = True  # 所有上市公司均为责任主体\n",
    "    df['cu_13_2_condition'] = False\n",
    "    df['cu_13_2_constraint'] = None\n",
    "\n",
    "    # 转换日期格式并筛选年报数据\n",
    "    df['财务数据日期'] = pd.to_datetime(df['财务数据日期'])\n",
    "    is_annual_report = (df['财务数据日期'].dt.month == 12) & (df['财务数据日期'].dt.day == 31)\n",
    "    \n",
    "    # 预处理年报数据集\n",
    "    annual_data = df[is_annual_report].copy()\n",
    "    annual_data['年份'] = annual_data['财务数据日期'].dt.year\n",
    "\n",
    "    # 按公司构建年报时序数据\n",
    "    annual_records = {}\n",
    "    for company in annual_data['公司简称'].unique():\n",
    "        company_df = annual_data[annual_data['公司简称'] == company].sort_values('年份')\n",
    "        annual_records[company] = company_df\n",
    "\n",
    "    # 条件检查主逻辑\n",
    "    for idx, row in df[is_annual_report].iterrows():\n",
    "        # 基础财务条件验证\n",
    "        profit_condition = (row['合并报表未分配利润'] > 0) and (row['母公司报表未分配利润'] > 0)\n",
    "        profitability = row['净利润'] > 0\n",
    "        \n",
    "        if not (profit_condition and profitability):\n",
    "            continue\n",
    "\n",
    "        # 现金分红条件验证\n",
    "        company_data = annual_records.get(row['公司简称'], pd.DataFrame())\n",
    "        current_year = row['财务数据日期'].year\n",
    "        \n",
    "        # 获取上市后最近三年年报\n",
    "        valid_years = company_data[(company_data['年份'] >= current_year-2) & (company_data['年份'] <= current_year)]\n",
    "        \n",
    "        # 计算分红约束指标\n",
    "        if not row['是否实施现金分红']:\n",
    "            df.loc[idx, 'cu_13_2_condition'] = True\n",
    "        else:\n",
    "            total_dividend = valid_years['现金分红金额'].sum()\n",
    "            avg_profit = valid_years['净利润'].mean() if not valid_years.empty else 0\n",
    "            if total_dividend < avg_profit * 0.3:\n",
    "                df.loc[idx, 'cu_13_2_condition'] = True\n",
    "\n",
    "    # 约束条件检查（仅对符合主体和条件的行）\n",
    "    condition_mask = df['cu_13_2_subject'] & df['cu_13_2_condition']\n",
    "    df.loc[condition_mask, 'cu_13_2_constraint'] = df.loc[condition_mask, '权益分派方案文本'].apply(\n",
    "        lambda x: llm_content_check(x, \"留存未分配利润的预计用途以及收益情况\") if pd.notna(x) else False\n",
    "    )\n",
    "\n",
    "    return df"
   ]
  },
  {
   "cell_type": "code",
   "execution_count": null,
   "id": "91b3eb4f",
   "metadata": {},
   "outputs": [],
   "source": [
    "df = check_cu_13_2(df)\n",
    "df"
   ]
  },
  {
   "cell_type": "markdown",
   "id": "8a157e10",
   "metadata": {},
   "source": [
    "---"
   ]
  },
  {
   "cell_type": "markdown",
   "id": "582c2bb9",
   "metadata": {},
   "source": [
    "## cu_13_3"
   ]
  },
  {
   "cell_type": "markdown",
   "id": "9d01b0e8",
   "metadata": {},
   "source": [
    "\n",
    "| 字段 | 内容 |\n",
    "|------|------|\n",
    "| subject | 上市公司 |\n",
    "| condition | 合并资产负债表、母公司资产负债表中本年末未分配利润均为正值且报告期内盈利，未进行现金分红或最近三年现金分红总额低于最近三年年均净利润30% |\n",
    "| constraint | 应当在权益分派方案中披露：公司在相应期间是否按照中国证券监督管理委员会相关规定为中小股东参与现金分红决策提供了便利 |\n",
    "| contextual_info | nan |\n",
    "| note | 只考虑上市后年报分红情况; \"本年\"理解为上一个最新的年报的数据; 最近三年理解为检查上市后的最近三年年报情况, 上市不足三年的取上市后所有年的年报情况 |\n",
    "| relation | refer_to |\n",
    "| target | MEU_31_2 |\n",
    "| type | 数值化执行单元 |\n",
    "| comments | nan |\n",
    "| prompt_tokens | 2498 |\n",
    "| completion_tokens | 10105 |\n"
   ]
  },
  {
   "cell_type": "markdown",
   "id": "1b52a195",
   "metadata": {},
   "source": [
    "### 代码实现"
   ]
  },
  {
   "cell_type": "code",
   "execution_count": null,
   "id": "d84e535f",
   "metadata": {},
   "outputs": [],
   "source": [
    "import pandas as pd\n",
    "from utils.tool_for_agents import llm_content_check\n",
    "\n",
    "def check_cu_13_3(df):\n",
    "    '''\n",
    "    检查cu_13_3的合规性：\n",
    "    主体：上市公司\n",
    "    条件：合并和母公司资产负债表未分配利润均为正，报告期内盈利，且未分红或最近三年分红总额低于年均净利润30%\n",
    "    约束：权益分派方案中披露是否为中小股东参与现金分红决策提供便利\n",
    "    '''\n",
    "    df = df.copy()\n",
    "    \n",
    "    # 初始化标记列\n",
    "    df['cu_13_3_subject'] = True  # 所有公司都是上市公司\n",
    "    df['cu_13_3_condition'] = False\n",
    "    df['cu_13_3_constraint'] = None\n",
    "    \n",
    "    # 处理条件部分\n",
    "    # 筛选年报数据行（财务数据日期为12月）\n",
    "    is_annual = df['财务数据日期'].dt.month == 12\n",
    "    annual_df = df[is_annual].copy()\n",
    "    \n",
    "    if not annual_df.empty:\n",
    "        # 按公司分组并排序\n",
    "        annual_df.sort_values(['公司简称', '财务数据日期'], inplace=True)\n",
    "        \n",
    "        # 计算前两年的现金分红和净利润\n",
    "        annual_df['prev1_cash'] = annual_df.groupby('公司简称')['现金分红金额'].shift(1)\n",
    "        annual_df['prev2_cash'] = annual_df.groupby('公司简称')['现金分红金额'].shift(2)\n",
    "        annual_df['prev1_net'] = annual_df.groupby('公司简称')['净利润'].shift(1)\n",
    "        annual_df['prev2_net'] = annual_df.groupby('公司简称')['净利润'].shift(2)\n",
    "        \n",
    "        # 计算现金分红总和和净利润总和\n",
    "        annual_df['cash_sum'] = annual_df['现金分红金额'].fillna(0)\n",
    "        annual_df['cash_sum'] += annual_df['prev1_cash'].fillna(0)\n",
    "        annual_df['cash_sum'] += annual_df['prev2_cash'].fillna(0)\n",
    "        \n",
    "        annual_df['net_sum'] = annual_df['净利润'].fillna(0)\n",
    "        annual_df['net_sum'] += annual_df['prev1_net'].fillna(0)\n",
    "        annual_df['net_sum'] += annual_df['prev2_net'].fillna(0)\n",
    "        \n",
    "        # 计算实际年数\n",
    "        annual_df['year_count'] = 1\n",
    "        annual_df['year_count'] += (~annual_df['prev1_cash'].isnull()).astype(int)\n",
    "        annual_df['year_count'] += (~annual_df['prev2_cash'].isnull()).astype(int)\n",
    "        \n",
    "        # 计算年均净利润\n",
    "        annual_df['avg_net'] = annual_df['net_sum'] / annual_df['year_count'].replace(0, 1)  # 防止除零\n",
    "        \n",
    "        # 现金分红条件：未分红或总和 < 年均净利润的30%\n",
    "        condition_cash = (annual_df['cash_sum'] == 0) | (annual_df['cash_sum'] < (annual_df['avg_net'] * 0.3))\n",
    "        \n",
    "        # 其他条件：未分配利润均为正，净利润为正\n",
    "        condition_met = (\n",
    "            (annual_df['合并报表未分配利润'] > 0) &\n",
    "            (annual_df['母公司报表未分配利润'] > 0) &\n",
    "            (annual_df['净利润'] > 0) &\n",
    "            condition_cash\n",
    "        )\n",
    "        \n",
    "        # 将条件结果合并回原df\n",
    "        annual_df['condition_met'] = condition_met\n",
    "        merge_keys = ['公司简称', '财务数据日期']\n",
    "        merged = df.merge(\n",
    "            annual_df[merge_keys + ['condition_met']],\n",
    "            on=merge_keys,\n",
    "            how='left',\n",
    "            suffixes=('', '_annual')\n",
    "        )\n",
    "        df['cu_13_3_condition'] = merged['condition_met'].fillna(False)\n",
    "    \n",
    "    # 处理约束部分\n",
    "    # 仅当subject和condition为True，且进行了权益分派时检查\n",
    "    mask = (df['cu_13_3_subject']) & (df['cu_13_3_condition']) & (df['是否进行权益分派'])\n",
    "    df.loc[mask, 'cu_13_3_constraint'] = df.loc[mask, '权益分派方案文本'].apply(\n",
    "        lambda text: llm_content_check(text, \"公司在相应期间是否按照中国证券监督管理委员会相关规定为中小股东参与现金分红决策提供了便利\")\n",
    "    )\n",
    "    \n",
    "    return df"
   ]
  },
  {
   "cell_type": "code",
   "execution_count": null,
   "id": "31071ab9",
   "metadata": {},
   "outputs": [],
   "source": [
    "df = check_cu_13_3(df)\n",
    "df"
   ]
  },
  {
   "cell_type": "markdown",
   "id": "a2b998e0",
   "metadata": {},
   "source": [
    "---"
   ]
  },
  {
   "cell_type": "markdown",
   "id": "444f0279",
   "metadata": {},
   "source": [
    "## cu_13_4"
   ]
  },
  {
   "cell_type": "markdown",
   "id": "75bbaf6f",
   "metadata": {},
   "source": [
    "\n",
    "| 字段 | 内容 |\n",
    "|------|------|\n",
    "| subject | 上市公司 |\n",
    "| condition | 合并资产负债表、母公司资产负债表中本年末未分配利润均为正值且报告期内盈利，未进行现金分红或最近三年现金分红总额低于最近三年年均净利润30% |\n",
    "| constraint | 应当在权益分派方案中披露：公司为增强投资者回报水平拟采取的措施 |\n",
    "| contextual_info | nan |\n",
    "| note | 只考虑上市后年报分红情况; \"本年\"理解为上一个最新的年报的数据; 最近三年理解为检查上市后的最近三年年报情况, 上市不足三年的取上市后所有年的年报情况 |\n",
    "| relation | refer_to |\n",
    "| target | MEU_31_2 |\n",
    "| type | 数值化执行单元 |\n",
    "| comments | nan |\n",
    "| prompt_tokens | 2488 |\n",
    "| completion_tokens | 8395 |\n"
   ]
  },
  {
   "cell_type": "markdown",
   "id": "8d965720",
   "metadata": {},
   "source": [
    "### 代码实现"
   ]
  },
  {
   "cell_type": "code",
   "execution_count": null,
   "id": "c1de7cb7",
   "metadata": {},
   "outputs": [],
   "source": [
    "import pandas as pd\n",
    "from utils.tool_for_agents import llm_content_check\n",
    "\n",
    "def check_cu_13_4(df):\n",
    "    '''\n",
    "    检查cu_13_4的合规性：\n",
    "    主体：上市公司\n",
    "    条件：合并/母公司未分配利润为正+报告期盈利+分红不足\n",
    "    约束：权益分派方案需披露增强回报措施\n",
    "    '''\n",
    "    df = df.copy()\n",
    "    \n",
    "    # 初始化标记列\n",
    "    df['cu_13_4_subject'] = True  # 所有行均为上市公司\n",
    "    df['cu_13_4_condition'] = False\n",
    "    df['cu_13_4_constraint'] = None\n",
    "\n",
    "    # 预处理步骤：获取各公司最新年报数据\n",
    "    annual_mask = df['财务数据日期'].dt.month == 12\n",
    "    annual_reports = df[annual_mask].sort_values(['公司简称', '财务数据日期'])\n",
    "    \n",
    "    # 获取每个公司最新年报数据\n",
    "    latest_annual = annual_reports.groupby('公司简称').tail(1)\n",
    "    df = df.merge(\n",
    "        latest_annual[['公司简称', '合并报表未分配利润', '母公司报表未分配利润', '净利润']]\n",
    "            .rename(columns={\n",
    "                '合并报表未分配利润': 'latest_合并未分配利润',\n",
    "                '母公司报表未分配利润': 'latest_母公司未分配利润',\n",
    "                '净利润': 'latest_净利润'\n",
    "            }),\n",
    "        on='公司简称',\n",
    "        how='left'\n",
    "    )\n",
    "\n",
    "    # 预处理步骤：计算最近三年分红数据\n",
    "    def get_three_year_data(group):\n",
    "        return group.tail(3)  # 取最近三年\n",
    "    \n",
    "    three_year_reports = annual_reports.groupby('公司简称', group_keys=False).apply(get_three_year_data)\n",
    "    \n",
    "    # 计算分红总额和年均净利润\n",
    "    dividend_sum = three_year_reports.groupby('公司简称')['现金分红金额'].sum().reset_index(name='三年分红总额')\n",
    "    profit_avg = three_year_reports.groupby('公司简称')['净利润'].mean().reset_index(name='年均净利润')\n",
    "    \n",
    "    df = df.merge(dividend_sum, on='公司简称', how='left')\n",
    "    df = df.merge(profit_avg, on='公司简称', how='left')\n",
    "\n",
    "    # 填充缺失值\n",
    "    df['三年分红总额'] = df['三年分红总额'].fillna(0)\n",
    "    df['年均净利润'] = df['年均净利润'].fillna(float('inf'))  # 避免除零错误\n",
    "\n",
    "    # 条件判断\n",
    "    condition_1 = (df['latest_合并未分配利润'] > 0) & (df['latest_母公司未分配利润'] > 0)\n",
    "    condition_2 = df['latest_净利润'] > 0\n",
    "    condition_3 = (df['三年分红总额'] == 0) | (df['三年分红总额'] < df['年均净利润'] * 0.3)\n",
    "    \n",
    "    df['cu_13_4_condition'] = condition_1 & condition_2 & condition_3\n",
    "\n",
    "    # 约束条件检查（仅当进行权益分派时）\n",
    "    constraint_mask = df['cu_13_4_condition'] & df['是否进行权益分派']\n",
    "    df.loc[constraint_mask, 'cu_13_4_constraint'] = df.loc[constraint_mask, '权益分派方案文本'].apply(\n",
    "        lambda x: llm_content_check(x, \"为增强投资者回报水平拟采取的措施\") if pd.notnull(x) else False\n",
    "    )\n",
    "\n",
    "    # 清理中间列\n",
    "    df.drop(columns=[\n",
    "        'latest_合并未分配利润', 'latest_母公司未分配利润', 'latest_净利润',\n",
    "        '三年分红总额', '年均净利润'\n",
    "    ], inplace=True, errors='ignore')\n",
    "\n",
    "    return df"
   ]
  },
  {
   "cell_type": "code",
   "execution_count": null,
   "id": "172570cd",
   "metadata": {},
   "outputs": [],
   "source": [
    "df = check_cu_13_4(df)\n",
    "df"
   ]
  },
  {
   "cell_type": "markdown",
   "id": "deb30338",
   "metadata": {},
   "source": [
    "---"
   ]
  },
  {
   "cell_type": "markdown",
   "id": "df9e770e",
   "metadata": {},
   "source": [
    "## cu_13_5"
   ]
  },
  {
   "cell_type": "markdown",
   "id": "08c0216d",
   "metadata": {},
   "source": [
    "\n",
    "| 字段 | 内容 |\n",
    "|------|------|\n",
    "| subject | 上市公司 |\n",
    "| condition | 母公司资产负债表中未分配利润为负值但合并资产负债表中未分配利润为正值 |\n",
    "| constraint | 应当在权益分派相关公告中披露上市公司控股子公司向母公司实施利润分配的情况 |\n",
    "| contextual_info | nan |\n",
    "| note | 主体默认为True, 不区分在上市前还是上市后 |\n",
    "| relation | nan |\n",
    "| target | nan |\n",
    "| type | 数值化执行单元 |\n",
    "| comments | nan |\n",
    "| prompt_tokens | 2398 |\n",
    "| completion_tokens | 4939 |\n"
   ]
  },
  {
   "cell_type": "markdown",
   "id": "971e89f2",
   "metadata": {},
   "source": [
    "### 代码实现"
   ]
  },
  {
   "cell_type": "code",
   "execution_count": null,
   "id": "5999d5c1",
   "metadata": {},
   "outputs": [],
   "source": [
    "import pandas as pd\n",
    "from utils.tool_for_agents import llm_content_check\n",
    "\n",
    "def check_cu_13_5(df):\n",
    "    '''\n",
    "    检查cu_13_5的合规性：\n",
    "    主体：上市公司（默认全部符合）\n",
    "    条件：母公司未分配利润为负且合并报表未分配利润为正\n",
    "    约束：在权益分派公告中披露子公司向母公司分配利润的情况\n",
    "    '''\n",
    "    df = df.copy()\n",
    "    \n",
    "    # 初始化标记列\n",
    "    df['cu_13_5_subject'] = True  # 根据要求主体默认全部为True\n",
    "    df['cu_13_5_condition'] = (df['母公司报表未分配利润'] < 0) & (df['合并报表未分配利润'] > 0)\n",
    "    df['cu_13_5_constraint'] = None\n",
    "    \n",
    "    # 确定需要检查约束的行（同时满足主体和条件）\n",
    "    mask = df['cu_13_5_subject'] & df['cu_13_5_condition']\n",
    "    \n",
    "    # 定义需要检查的披露内容\n",
    "    constraint_description = \"披露上市公司控股子公司向母公司实施利润分配的情况\"\n",
    "    \n",
    "    # 对符合条件的行进行约束检查\n",
    "    df.loc[mask, 'cu_13_5_constraint'] = df.loc[mask, '权益分派方案文本'].apply(\n",
    "        lambda text: llm_content_check(text, constraint_description) if pd.notnull(text) else False\n",
    "    )\n",
    "    \n",
    "    # 处理文本为空的情况（视为未披露）\n",
    "    df.loc[mask & df['权益分派方案文本'].isna(), 'cu_13_5_constraint'] = False\n",
    "    \n",
    "    return df"
   ]
  },
  {
   "cell_type": "code",
   "execution_count": null,
   "id": "7f2def91",
   "metadata": {},
   "outputs": [],
   "source": [
    "df = check_cu_13_5(df)\n",
    "df"
   ]
  },
  {
   "cell_type": "markdown",
   "id": "310c1cce",
   "metadata": {},
   "source": [
    "---"
   ]
  },
  {
   "cell_type": "markdown",
   "id": "8cec2ee7",
   "metadata": {},
   "source": [
    "## cu_13_6"
   ]
  },
  {
   "cell_type": "markdown",
   "id": "29aca9e4",
   "metadata": {},
   "source": [
    "\n",
    "| 字段 | 内容 |\n",
    "|------|------|\n",
    "| subject | 上市公司 |\n",
    "| condition | 母公司资产负债表中未分配利润为负值但合并资产负债表中未分配利润为正值 |\n",
    "| constraint | 应当在权益分派相关公告中披露公司为增强投资者回报水平拟采取的措施 |\n",
    "| contextual_info | nan |\n",
    "| note | 主体默认为True, 不区分在上市前还是上市后 |\n",
    "| relation | nan |\n",
    "| target | nan |\n",
    "| type | 数值化执行单元 |\n",
    "| comments | nan |\n",
    "| prompt_tokens | 2398 |\n",
    "| completion_tokens | 2933 |\n"
   ]
  },
  {
   "cell_type": "markdown",
   "id": "75881f3f",
   "metadata": {},
   "source": [
    "### 代码实现"
   ]
  },
  {
   "cell_type": "code",
   "execution_count": null,
   "id": "b8466bba",
   "metadata": {},
   "outputs": [],
   "source": [
    "import pandas as pd\n",
    "from utils.tool_for_agents import llm_content_check\n",
    "\n",
    "def check_cu_13_6(df):\n",
    "    '''\n",
    "    检查cu_13_6的合规性：\n",
    "    主体：上市公司（默认全部符合）\n",
    "    条件：母公司未分配利润<0且合并报表未分配利润>0\n",
    "    约束：权益分派公告需披露增强回报措施\n",
    "    '''\n",
    "    df = df.copy()\n",
    "    \n",
    "    # 1. 标记责任主体（所有行均为上市公司）\n",
    "    df['cu_13_6_subject'] = True\n",
    "    \n",
    "    # 2. 标记触发条件\n",
    "    df['cu_13_6_condition'] = (\n",
    "        (df['母公司报表未分配利润'] < 0) & \n",
    "        (df['合并报表未分配利润'] > 0)\n",
    "    )\n",
    "    \n",
    "    # 3. 初始化约束列\n",
    "    df['cu_13_6_constraint'] = None\n",
    "    \n",
    "    # 筛选需要检查约束的情形：主体条件符合且实施权益分派\n",
    "    mask = (\n",
    "        df['cu_13_6_subject'] & \n",
    "        df['cu_13_6_condition'] & \n",
    "        df['是否进行权益分派']\n",
    "    )\n",
    "    \n",
    "    # 对符合条件的记录进行内容检查\n",
    "    constraint_desc = \"为增强投资者回报水平拟采取的措施\"\n",
    "    df.loc[mask, 'cu_13_6_constraint'] = df.loc[mask, '权益分派方案文本'].apply(\n",
    "        lambda text: llm_content_check(text, constraint_desc) if pd.notna(text) else False\n",
    "    )\n",
    "    \n",
    "    return df"
   ]
  },
  {
   "cell_type": "code",
   "execution_count": null,
   "id": "02e2246f",
   "metadata": {},
   "outputs": [],
   "source": [
    "df = check_cu_13_6(df)\n",
    "df"
   ]
  },
  {
   "cell_type": "markdown",
   "id": "fafecaa9",
   "metadata": {},
   "source": [
    "---"
   ]
  },
  {
   "cell_type": "markdown",
   "id": "3272c564",
   "metadata": {},
   "source": [
    "# Law Article 14"
   ]
  },
  {
   "cell_type": "markdown",
   "id": "c429f3bb",
   "metadata": {},
   "source": [
    "## cu_14_1"
   ]
  },
  {
   "cell_type": "markdown",
   "id": "330ae2a0",
   "metadata": {},
   "source": [
    "\n",
    "| 字段 | 内容 |\n",
    "|------|------|\n",
    "| subject | 上市公司 |\n",
    "| condition | 合并资产负债表、母公司资产负债表中本年末未分配利润均为正值且报告期内盈利，且最近连续两个会计年度经审计的下列财务报表项目金额合计占总资产的50%以上：交易性金融资产、衍生金融资产（套期保值工具除外）、债权投资、其他债权投资、其他权益工具投资、其他非流动金融资产、其他流动资产（待抵扣增值税、预缴税费、合同取得成本等与经营活动相关的资产除外），且未进行现金分红或者现金分红总额低于当年净利润50% |\n",
    "| constraint | 应当在权益分派方案中结合前述财务报表列报项目的具体情况说明现金分红方案确定的依据及未来增强投资者回报的规划 |\n",
    "| contextual_info | 财务报表项目具体范围包含：交易性金融资产、衍生金融资产（套期保值工具除外）、债权投资、其他债权投资、其他权益工具投资、其他非流动金融资产、其他流动资产（待抵扣增值税、预缴税费、合同取得成本等与经营活动相关的资产除外） |\n",
    "| note | 主体默认为True, 不区分在上市前还是上市后; 只考虑年报情况; 数据已经排除在contextual_info中提及的除外项目 |\n",
    "| relation | refer_to |\n",
    "| target | MEU_31_2 |\n",
    "| type | 数值化执行单元 |\n",
    "| comments | nan |\n",
    "| prompt_tokens | 2622 |\n",
    "| completion_tokens | 6019 |\n"
   ]
  },
  {
   "cell_type": "markdown",
   "id": "d324b51b",
   "metadata": {},
   "source": [
    "### 代码实现"
   ]
  },
  {
   "cell_type": "code",
   "execution_count": null,
   "id": "1b2d3988",
   "metadata": {},
   "outputs": [],
   "source": [
    "import pandas as pd\n",
    "from utils.tool_for_agents import llm_content_check\n",
    "\n",
    "def check_cu_14_1(df):\n",
    "    df = df.copy()\n",
    "    \n",
    "    # 初始化标记列\n",
    "    df['cu_14_1_subject'] = True  # 上市公司默认全部符合主体要求\n",
    "    df['cu_14_1_condition'] = False\n",
    "    df['cu_14_1_constraint'] = None\n",
    "    \n",
    "    # 条件1: 未分配利润正值校验\n",
    "    profit_condition = (\n",
    "        (df['合并报表未分配利润'] > 0) & \n",
    "        (df['母公司报表未分配利润'] > 0)\n",
    "    )\n",
    "    \n",
    "    # 条件2: 报告期盈利校验\n",
    "    profitability_condition = (df['净利润'] > 0)\n",
    "    \n",
    "    # 条件3: 金融资产占比校验（仅处理年报数据）\n",
    "    df['财务数据日期'] = pd.to_datetime(df['财务数据日期'])\n",
    "    is_annual_report = df['财务数据日期'].dt.month == 12\n",
    "    \n",
    "    # 计算金融资产合计（已排除例外项目）\n",
    "    financial_assets = df[is_annual_report].eval(\n",
    "        '交易性金融资产 + 衍生金融资产 + 债权投资 + 其他债权投资 + '\n",
    "        '其他权益工具投资 + 其他非流动金融资产 + 其他流动资产'\n",
    "    )\n",
    "    \n",
    "    # 按公司分组计算连续两年占比\n",
    "    def check_consecutive_years(group):\n",
    "        group = group.sort_values('财务数据日期')\n",
    "        group['prev_year_ratio'] = group['金融资产总额'].shift(1) / group['总资产'].shift(1)\n",
    "        group['current_year_ratio'] = group['金融资产总额'] / group['总资产']\n",
    "        return (group['prev_year_ratio'] >= 0.5) & (group['current_year_ratio'] >= 0.5)\n",
    "    \n",
    "    ratio_condition = df[is_annual_report].groupby('公司简称', group_keys=False).apply(check_consecutive_years)\n",
    "    df.loc[ratio_condition.reindex(df.index, fill_value=False).index, 'ratio_flag'] = True\n",
    "    \n",
    "    # 条件4: 分红合规校验\n",
    "    dividend_condition = (\n",
    "        (~df['是否实施现金分红']) | \n",
    "        (df['现金分红金额'] < df['净利润'] * 0.5)\n",
    "    )\n",
    "    \n",
    "    # 综合条件判断\n",
    "    final_condition = (\n",
    "        profit_condition & \n",
    "        profitability_condition & \n",
    "        df['ratio_flag'].fillna(False) & \n",
    "        dividend_condition\n",
    "    )\n",
    "    df.loc[final_condition, 'cu_14_1_condition'] = True\n",
    "    \n",
    "    # 约束条件检查（仅对符合主体和条件的记录）\n",
    "    mask = df['cu_14_1_subject'] & df['cu_14_1_condition']\n",
    "    if mask.any():\n",
    "        constraint_desc = \"结合交易性金融资产、衍生金融资产等财务报表列报项目的具体情况说明现金分红方案确定的依据及未来增强投资者回报的规划\"\n",
    "        df.loc[mask, 'cu_14_1_constraint'] = df.loc[mask, '权益分派方案文本'].apply(\n",
    "            lambda x: llm_content_check(x, constraint_desc) if pd.notnull(x) else False\n",
    "        )\n",
    "    \n",
    "    # 清理中间列\n",
    "    df.drop(columns=['ratio_flag'], errors='ignore', inplace=True)\n",
    "    \n",
    "    return df"
   ]
  },
  {
   "cell_type": "code",
   "execution_count": null,
   "id": "9f93f52d",
   "metadata": {},
   "outputs": [],
   "source": [
    "df = check_cu_14_1(df)\n",
    "df"
   ]
  },
  {
   "cell_type": "markdown",
   "id": "d4d05308",
   "metadata": {},
   "source": [
    "---"
   ]
  },
  {
   "cell_type": "markdown",
   "id": "b21a8e74",
   "metadata": {},
   "source": [
    "# Law Article 15"
   ]
  },
  {
   "cell_type": "markdown",
   "id": "61d1c6b7",
   "metadata": {},
   "source": [
    "## cu_15_1"
   ]
  },
  {
   "cell_type": "markdown",
   "id": "a310e3af",
   "metadata": {},
   "source": [
    "\n",
    "| 字段 | 内容 |\n",
    "|------|------|\n",
    "| subject | 上市公司 |\n",
    "| condition | 权益分派方案中现金分红的金额达到或者超过当期净利润的100%且达到或者超过当期末未分配利润的50% |\n",
    "| constraint | 应当同时披露是否影响偿债能力、过去十二个月内是否使用过募集资金补充流动资金以及未来十二个月内是否计划使用募集资金补充流动资金等内容 |\n",
    "| contextual_info | nan |\n",
    "| note | 未分配利润以合并报表的为准; 主体默认为True, 不区分在上市前还是上市后 |\n",
    "| relation | refer_to |\n",
    "| target | MEU_31_2 |\n",
    "| type | 数值化执行单元 |\n",
    "| comments | nan |\n",
    "| prompt_tokens | 2480 |\n",
    "| completion_tokens | 2664 |\n"
   ]
  },
  {
   "cell_type": "markdown",
   "id": "7106f730",
   "metadata": {},
   "source": [
    "### 代码实现"
   ]
  },
  {
   "cell_type": "code",
   "execution_count": null,
   "id": "cc4adee6",
   "metadata": {},
   "outputs": [],
   "source": [
    "import pandas as pd\n",
    "from utils.tool_for_agents import llm_content_check\n",
    "\n",
    "def check_cu_15_1(df):\n",
    "    df = df.copy()\n",
    "    \n",
    "    # 初始化标记列\n",
    "    df['cu_15_1_subject'] = True  # 所有公司均为上市公司\n",
    "    df['cu_15_1_condition'] = False\n",
    "    df['cu_15_1_constraint'] = None\n",
    "    \n",
    "    # 条件验证：现金分红金额双指标达标\n",
    "    cash_condition = (\n",
    "        df['是否实施现金分红'] &  # 必须实际实施现金分红\n",
    "        (df['现金分红金额'] >= df['净利润']) &  # 达到净利润100%\n",
    "        (df['现金分红金额'] >= df['合并报表未分配利润'] * 0.5)  # 达到未分配利润50%\n",
    "    )\n",
    "    df.loc[cash_condition, 'cu_15_1_condition'] = True\n",
    "    \n",
    "    # 约束验证：仅对触发条件的记录检查披露内容\n",
    "    mask = df['cu_15_1_condition']  # 主体默认为True无需重复判断\n",
    "    constraint_desc = \"是否影响偿债能力、过去十二个月内是否使用过募集资金补充流动资金以及未来十二个月内是否计划使用募集资金补充流动资金\"\n",
    "    \n",
    "    df.loc[mask, 'cu_15_1_constraint'] = df.loc[mask, '权益分派方案文本'].apply(\n",
    "        lambda text: llm_content_check(text, constraint_desc) if pd.notna(text) else False\n",
    "    )\n",
    "    \n",
    "    return df"
   ]
  },
  {
   "cell_type": "code",
   "execution_count": null,
   "id": "89793d75",
   "metadata": {},
   "outputs": [],
   "source": [
    "df = check_cu_15_1(df)\n",
    "df"
   ]
  },
  {
   "cell_type": "markdown",
   "id": "60192125",
   "metadata": {},
   "source": [
    "---"
   ]
  },
  {
   "cell_type": "markdown",
   "id": "36c6f1f6",
   "metadata": {},
   "source": [
    "## cu_15_2"
   ]
  },
  {
   "cell_type": "markdown",
   "id": "b0cd7ce7",
   "metadata": {},
   "source": [
    "\n",
    "| 字段 | 内容 |\n",
    "|------|------|\n",
    "| subject | 上市公司 |\n",
    "| condition | 最近一个会计年度的财务会计报告被出具非无保留意见的审计报告或者带与持续经营相关的重大不确定性段落的无保留意见的审计报告，且实施现金分红的 |\n",
    "| constraint | 应当根据公司盈利能力、融资能力及其成本、偿债能力及现金流等情况披露现金分红方案的合理性，是否导致公司营运资金不足或者影响公司正常生产经营 |\n",
    "| contextual_info | nan |\n",
    "| note | 对应到我们数据库中记录的类型: 保留意见, 非标准无保留意见. 主体默认为True, 不区分在上市前还是上市后 |\n",
    "| relation | nan |\n",
    "| target | nan |\n",
    "| type | 数值化执行单元 |\n",
    "| comments | nan |\n",
    "| prompt_tokens | 2453 |\n",
    "| completion_tokens | 3039 |\n"
   ]
  },
  {
   "cell_type": "markdown",
   "id": "dc6eb1c7",
   "metadata": {},
   "source": [
    "### 代码实现"
   ]
  },
  {
   "cell_type": "code",
   "execution_count": null,
   "id": "ad1e6abb",
   "metadata": {},
   "outputs": [],
   "source": [
    "import pandas as pd\n",
    "from utils.tool_for_agents import llm_content_check\n",
    "\n",
    "def check_cu_15_2(df):\n",
    "    '''\n",
    "    检查cu_15_2的合规性：\n",
    "    主体：上市公司\n",
    "    条件：最近会计年度审计意见为非无保留意见或带持续经营重大不确定性段落，且实施现金分红\n",
    "    约束：披露现金分红方案的合理性及对营运资金和生产经营的影响\n",
    "    '''\n",
    "    df = df.copy()\n",
    "\n",
    "    # 初始化标记列\n",
    "    df['cu_15_2_subject'] = True  # 所有公司均为上市公司\n",
    "    df['cu_15_2_condition'] = False\n",
    "    df['cu_15_2_constraint'] = None\n",
    "\n",
    "    # 2. 验证触发条件（独立标记）\n",
    "    # 审计意见类型检查（保留意见/非标无保留）\n",
    "    audit_condition = df['审计意见'].isin(['保留意见', '非标准无保留意见'])\n",
    "    # 现金分红实施检查\n",
    "    dividend_condition = df['是否实施现金分红']\n",
    "    df['cu_15_2_condition'] = audit_condition & dividend_condition\n",
    "\n",
    "    # 3. 验证约束条件（仅当主体和条件都满足时）\n",
    "    valid_mask = df['cu_15_2_subject'] & df['cu_15_2_condition']\n",
    "    constraint_desc = \"根据公司盈利能力、融资能力及其成本、偿债能力及现金流等情况披露现金分红方案的合理性，是否导致公司营运资金不足或者影响公司正常生产经营\"\n",
    "    \n",
    "    # 使用LLM进行文本内容核查\n",
    "    df.loc[valid_mask, 'cu_15_2_constraint'] = df.loc[valid_mask, '权益分派方案文本'].apply(\n",
    "        lambda text: llm_content_check(text, constraint_desc) if pd.notnull(text) else False\n",
    "    )\n",
    "\n",
    "    return df"
   ]
  },
  {
   "cell_type": "code",
   "execution_count": null,
   "id": "d52af811",
   "metadata": {},
   "outputs": [],
   "source": [
    "df = check_cu_15_2(df)\n",
    "df"
   ]
  },
  {
   "cell_type": "markdown",
   "id": "d8d04697",
   "metadata": {},
   "source": [
    "---"
   ]
  },
  {
   "cell_type": "markdown",
   "id": "eb2cda92",
   "metadata": {},
   "source": [
    "## cu_15_3"
   ]
  },
  {
   "cell_type": "markdown",
   "id": "46dedc5a",
   "metadata": {},
   "source": [
    "\n",
    "| 字段 | 内容 |\n",
    "|------|------|\n",
    "| subject | 上市公司 |\n",
    "| condition | 报告期末资产负债率超过80%且当期经营活动产生的现金流量净额为负，且现金分红金额超过当期净利润50%的 |\n",
    "| constraint | 应当根据公司盈利能力、融资能力及其成本、偿债能力及现金流等情况披露现金分红方案的合理性，是否导致公司营运资金不足或者影响公司正常生产经营 |\n",
    "| contextual_info | nan |\n",
    "| note | 主体默认为True, 不区分在上市前还是上市后 |\n",
    "| relation | refer_to |\n",
    "| target | MEU_31_2 |\n",
    "| type | 数值化执行单元 |\n",
    "| comments | nan |\n",
    "| prompt_tokens | 2469 |\n",
    "| completion_tokens | 1758 |\n"
   ]
  },
  {
   "cell_type": "markdown",
   "id": "928da2a7",
   "metadata": {},
   "source": [
    "### 代码实现"
   ]
  },
  {
   "cell_type": "code",
   "execution_count": null,
   "id": "7f0d79ad",
   "metadata": {},
   "outputs": [],
   "source": [
    "import pandas as pd\n",
    "from utils.tool_for_agents import llm_content_check\n",
    "\n",
    "def check_cu_15_3(df):\n",
    "    '''\n",
    "    检查cu_15_3的合规性：\n",
    "    主体：上市公司（默认全部符合）\n",
    "    条件：资产负债率>80% & 经营现金流为负 & 现金分红>净利润50%\n",
    "    约束：需披露分红方案合理性分析\n",
    "    '''\n",
    "    df = df.copy()\n",
    "    \n",
    "    # 初始化标记列\n",
    "    df['cu_15_3_subject'] = True  # 根据要求主体默认为True\n",
    "    df['cu_15_3_condition'] = False\n",
    "    df['cu_15_3_constraint'] = None\n",
    "\n",
    "    # 1. 验证触发条件（三要素同时满足）\n",
    "    # 条件1：资产负债率超过80%\n",
    "    cond_leverage = df['资产负债率'] > 0.8\n",
    "    \n",
    "    # 条件2：经营活动现金流为负\n",
    "    cond_cashflow = df['经营活动现金流量净额'] < 0\n",
    "    \n",
    "    # 条件3：现金分红超过净利润50%（需确保净利润为正）\n",
    "    cond_dividend = (df['现金分红金额'] > 0.5 * df['净利润']) & (df['净利润'] > 0)\n",
    "    \n",
    "    # 合并条件\n",
    "    df['cu_15_3_condition'] = cond_leverage & cond_cashflow & cond_dividend\n",
    "\n",
    "    # 2. 验证约束条件（仅对符合条件的主体检查）\n",
    "    mask = df['cu_15_3_condition']\n",
    "    constraint_description = \"根据公司盈利能力、融资能力及其成本、偿债能力及现金流等情况披露现金分红方案的合理性，是否导致公司营运资金不足或者影响公司正常生产经营\"\n",
    "    \n",
    "    # 仅对符合条件的记录进行内容检查\n",
    "    df.loc[mask, 'cu_15_3_constraint'] = df[mask].apply(\n",
    "        lambda row: llm_content_check(row['权益分派方案文本'], constraint_description) \n",
    "        if pd.notnull(row['权益分派方案文本']) else False,\n",
    "        axis=1\n",
    "    )\n",
    "\n",
    "    return df"
   ]
  },
  {
   "cell_type": "code",
   "execution_count": null,
   "id": "fef35525",
   "metadata": {},
   "outputs": [],
   "source": [
    "df = check_cu_15_3(df)\n",
    "df"
   ]
  },
  {
   "cell_type": "markdown",
   "id": "6168bf65",
   "metadata": {},
   "source": [
    "---"
   ]
  },
  {
   "cell_type": "markdown",
   "id": "322d0333",
   "metadata": {},
   "source": [
    "# Law Article 18"
   ]
  },
  {
   "cell_type": "markdown",
   "id": "9509b0ab",
   "metadata": {},
   "source": [
    "## cu_18_1"
   ]
  },
  {
   "cell_type": "markdown",
   "id": "042a6f88",
   "metadata": {},
   "source": [
    "\n",
    "| 字段 | 内容 |\n",
    "|------|------|\n",
    "| subject | 上市公司 |\n",
    "| condition | 披露高送转方案且最近两年同期净利润持续增长 |\n",
    "| constraint | 每股送转股比例不得高于上市公司最近两年同期净利润的复合增长率 |\n",
    "| contextual_info | nan |\n",
    "| note | 主体默认为True, 不区分在上市前还是上市后; 按照refer的单元的要求, 应当只处理财务数据为年报或半年报的记录 |\n",
    "| relation | refer_to |\n",
    "| target | MEU_31_2;MEU_17_1 |\n",
    "| type | 数值化执行单元 |\n",
    "| comments | nan |\n",
    "| prompt_tokens | 2467 |\n",
    "| completion_tokens | 11964 |\n"
   ]
  },
  {
   "cell_type": "markdown",
   "id": "79b684f6",
   "metadata": {},
   "source": [
    "### 代码实现"
   ]
  },
  {
   "cell_type": "code",
   "execution_count": null,
   "id": "8f7dc1d8",
   "metadata": {},
   "outputs": [],
   "source": [
    "import pandas as pd\n",
    "import numpy as np\n",
    "\n",
    "def check_cu_18_1(df):\n",
    "    '''\n",
    "    检查cu_18_1的合规性：\n",
    "    主体：上市公司（所有行标记为True）\n",
    "    条件：披露高送转方案且最近两年同期净利润持续增长\n",
    "    约束：送转比例不超过净利润复合增长率\n",
    "    '''\n",
    "    df = df.copy()\n",
    "    \n",
    "    # 初始化标记列\n",
    "    df['cu_18_1_subject'] = True\n",
    "    df['cu_18_1_condition'] = False\n",
    "    df['cu_18_1_constraint'] = False\n",
    "    \n",
    "    # 转换财务数据日期格式\n",
    "    df['财务数据日期'] = pd.to_datetime(df['财务数据日期'])\n",
    "    \n",
    "    # 1. 条件验证准备\n",
    "    # 确定财务期间类型（年报/半年报）\n",
    "    df['财务期间类型'] = df['财务数据日期'].dt.month.apply(\n",
    "        lambda m: '年报' if m == 12 else '半年报' if m == 6 else '其他'\n",
    "    )\n",
    "    valid_period_mask = df['财务期间类型'].isin(['年报', '半年报'])\n",
    "    \n",
    "    # 2. 条件验证\n",
    "    # 条件一：实施高送转\n",
    "    cond_high_transfer = df['是否实施股票股利'] | df['是否公积金转增股本']\n",
    "    \n",
    "    # 按公司和期间类型分组排序\n",
    "    grouped = df.groupby(['公司简称', '财务期间类型'], group_keys=False)\n",
    "    df_sorted = grouped.apply(lambda g: g.sort_values('财务数据日期'))\n",
    "    \n",
    "    # 计算前两期净利润\n",
    "    df_sorted['prev1_net'] = grouped['净利润'].shift(1)\n",
    "    df_sorted['prev2_net'] = grouped['净利润'].shift(2)\n",
    "    \n",
    "    # 合并回原始数据\n",
    "    df = df.merge(\n",
    "        df_sorted[['公司简称', '财务数据日期', 'prev1_net', 'prev2_net']],\n",
    "        on=['公司简称', '财务数据日期'],\n",
    "        how='left'\n",
    "    )\n",
    "    \n",
    "    # 条件二：净利润连续增长\n",
    "    cond_growth = (df['净利润'] > df['prev1_net']) & (df['prev1_net'] > df['prev2_net'])\n",
    "    cond_growth = cond_growth.fillna(False)\n",
    "    \n",
    "    # 综合条件标记\n",
    "    df.loc[valid_period_mask & cond_high_transfer & cond_growth, 'cu_18_1_condition'] = True\n",
    "    \n",
    "    # 3. 约束验证\n",
    "    # 计算送转比例\n",
    "    df['送转比例'] = (df['送股比例'].fillna(0) + df['转增比例'].fillna(0)) / 10\n",
    "    \n",
    "    # 计算复合增长率\n",
    "    with np.errstate(divide='ignore', invalid='ignore'):\n",
    "        growth_rate = np.sqrt(df['净利润'] / df['prev2_net']) - 1\n",
    "    \n",
    "    # 有效性检查（正增长且分母不为零）\n",
    "    valid_growth = (df['prev2_net'] > 0) & (df['净利润'] > 0) & df['prev2_net'].notna()\n",
    "    \n",
    "    # 约束条件判断\n",
    "    constraint_met = (df['送转比例'] <= growth_rate) & valid_growth\n",
    "    df['cu_18_1_constraint'] = constraint_met.fillna(False)\n",
    "    \n",
    "    return df"
   ]
  },
  {
   "cell_type": "code",
   "execution_count": null,
   "id": "81954652",
   "metadata": {},
   "outputs": [],
   "source": [
    "df = check_cu_18_1(df)\n",
    "df"
   ]
  },
  {
   "cell_type": "markdown",
   "id": "8c154019",
   "metadata": {},
   "source": [
    "---"
   ]
  },
  {
   "cell_type": "markdown",
   "id": "a78ac130",
   "metadata": {},
   "source": [
    "## cu_18_2"
   ]
  },
  {
   "cell_type": "markdown",
   "id": "8d528490",
   "metadata": {},
   "source": [
    "\n",
    "| 字段 | 内容 |\n",
    "|------|------|\n",
    "| subject | 上市公司 |\n",
    "| condition | 披露高送转方案且在报告期内实施再融资、并购重组等导致净资产有较大变化 |\n",
    "| constraint | 每股送转股比例不得高于上市公司报告期末净资产较之于期初净资产的增长率 |\n",
    "| contextual_info | nan |\n",
    "| note | 简化假设: 不考虑年报季报的区别, 所有的披露都是单季度的口径. 只考虑本期和上期. 主体默认为True, 不区分在上市前还是上市后 |\n",
    "| relation | refer_to |\n",
    "| target | MEU_17_1 |\n",
    "| type | 数值化执行单元 |\n",
    "| comments | nan |\n",
    "| prompt_tokens | 2476 |\n",
    "| completion_tokens | 6612 |\n"
   ]
  },
  {
   "cell_type": "markdown",
   "id": "3cac602d",
   "metadata": {},
   "source": [
    "### 代码实现"
   ]
  },
  {
   "cell_type": "code",
   "execution_count": null,
   "id": "680caabd",
   "metadata": {},
   "outputs": [],
   "source": [
    "import pandas as pd\n",
    "\n",
    "def check_cu_18_2(df):\n",
    "    '''\n",
    "    检查cu_18_2的合规性：\n",
    "    主体：上市公司（默认全部成立）\n",
    "    条件：披露高送转且报告期净资产发生显著变化\n",
    "    约束：送转比例不超过净资产增长率\n",
    "    '''\n",
    "    df = df.copy()\n",
    "    \n",
    "    # 初始化标记列\n",
    "    df['cu_18_2_subject'] = True  # 所有行主体自动成立\n",
    "    df['cu_18_2_condition'] = False\n",
    "    df['cu_18_2_constraint'] = False\n",
    "\n",
    "    # 计算净资产增长率（按公司分组滚动计算）\n",
    "    df['净资产_上期'] = df.groupby('公司简称')['净资产'].shift(1)\n",
    "    df['净资产增长率'] = (df['净资产'] - df['净资产_上期']) / df['净资产_上期']\n",
    "\n",
    "    # 1. 条件验证（需同时满足两个条件）\n",
    "    # 条件1：存在高送转方案（股票股利或转增股本）\n",
    "    has_high_distribution = df['是否实施股票股利'] | df['是否公积金转增股本']\n",
    "    \n",
    "    # 条件2：净资产发生显著变化（假设增长率绝对值≥5%为显著）\n",
    "    significant_change = df['净资产增长率'].abs() >= 0.05\n",
    "    \n",
    "    df.loc[has_high_distribution & significant_change, 'cu_18_2_condition'] = True\n",
    "\n",
    "    # 2. 约束验证（所有行独立检查）\n",
    "    # 计算每股送转比例（每10股转送数转换为每股比例）\n",
    "    df['每股送转比例'] = (df['送股比例'] + df['转增比例']) / 10.0\n",
    "    \n",
    "    # 约束条件：送转比例≤净资产增长率（处理NaN和负增长率情况）\n",
    "    valid_constraint = (\n",
    "        (df['每股送转比例'] <= df['净资产增长率']) & \n",
    "        df['净资产增长率'].notna() &\n",
    "        (df['净资产增长率'] > 0)  # 仅当增长率为正时约束有意义\n",
    "    )\n",
    "    df['cu_18_2_constraint'] = valid_constraint.fillna(False)\n",
    "\n",
    "    # 清理中间列\n",
    "    df.drop(columns=['净资产_上期', '每股送转比例'], inplace=True, errors='ignore')\n",
    "    \n",
    "    return df"
   ]
  },
  {
   "cell_type": "code",
   "execution_count": null,
   "id": "1579e1b0",
   "metadata": {},
   "outputs": [],
   "source": [
    "df = check_cu_18_2(df)\n",
    "df"
   ]
  },
  {
   "cell_type": "markdown",
   "id": "32a42124",
   "metadata": {},
   "source": [
    "---"
   ]
  },
  {
   "cell_type": "markdown",
   "id": "55a0eb75",
   "metadata": {},
   "source": [
    "## cu_18_3"
   ]
  },
  {
   "cell_type": "markdown",
   "id": "f20b5e6e",
   "metadata": {},
   "source": [
    "\n",
    "| 字段 | 内容 |\n",
    "|------|------|\n",
    "| subject | 上市公司 |\n",
    "| condition | 披露高送转方案且最近两年净利润持续增长且最近三年每股收益均不低于1元且上市公司认为确有必要且依据年度财务报表进行高送转 |\n",
    "| constraint | 应当充分披露高送转的主要考虑及其合理性且送转股后每股收益不低于0.5元 |\n",
    "| contextual_info | nan |\n",
    "| note | \"每股收益\"简化为采用\"每股净利润\";主体默认为True, 不区分在上市前还是上市后; 只考虑年报的情况 |\n",
    "| relation | refer_to |\n",
    "| target | MEU_31_2;MEU_17_1 |\n",
    "| type | 数值化执行单元 |\n",
    "| comments | nan |\n",
    "| prompt_tokens | 2491 |\n",
    "| completion_tokens | 10356 |\n"
   ]
  },
  {
   "cell_type": "markdown",
   "id": "f018db93",
   "metadata": {},
   "source": [
    "### 代码实现"
   ]
  },
  {
   "cell_type": "code",
   "execution_count": null,
   "id": "d397bb89",
   "metadata": {},
   "outputs": [],
   "source": [
    "import pandas as pd\n",
    "from utils.tool_for_agents import llm_content_check\n",
    "\n",
    "def check_cu_18_3(df):\n",
    "    '''\n",
    "    检查cu_18_3的合规性：\n",
    "    主体：上市公司（默认全部符合）\n",
    "    条件：需同时满足：\n",
    "        1. 年报披露高送转方案（股票股利或公积金转增）\n",
    "        2. 最近两年净利润持续增长（逐年递增）\n",
    "        3. 最近三年每股收益≥1元\n",
    "        4. 公告包含必要性说明\n",
    "    约束：需同时满足：\n",
    "        1. 披露合理性说明\n",
    "        2. 送转后每股收益≥0.5元\n",
    "    '''\n",
    "    df = df.copy()\n",
    "    \n",
    "    # 初始化标记列\n",
    "    df['cu_18_3_subject'] = True\n",
    "    df['cu_18_3_condition'] = False\n",
    "    df['cu_18_3_constraint'] = None\n",
    "\n",
    "    # 预处理财务日期\n",
    "    df['财务数据日期'] = pd.to_datetime(df['财务数据日期'])\n",
    "    is_annual = df['财务数据日期'].dt.month == 12\n",
    "    has_high_sz = df['是否实施股票股利'] | df['是否公积金转增股本']\n",
    "\n",
    "    # 按公司分组计算历史财务指标\n",
    "    original_index = df.index\n",
    "    df_sorted = df.sort_values(['公司简称', '财务数据日期'])\n",
    "    \n",
    "    # 计算历史净利润和每股收益\n",
    "    df_sorted['prev1_net'] = df_sorted.groupby('公司简称')['净利润'].shift(1)\n",
    "    df_sorted['prev2_net'] = df_sorted.groupby('公司简称')['净利润'].shift(2)\n",
    "    df_sorted['prev1_eps'] = df_sorted.groupby('公司简称')['每股净利润'].shift(1)\n",
    "    df_sorted['prev2_eps'] = df_sorted.groupby('公司简称')['每股净利润'].shift(2)\n",
    "    \n",
    "    # 标记净利润持续增长\n",
    "    net_growth = (df_sorted['净利润'] > df_sorted['prev1_net']) & (df_sorted['prev1_net'] > df_sorted['prev2_net'])\n",
    "    \n",
    "    # 标记三年EPS达标\n",
    "    eps_valid = (df_sorted['每股净利润'] >= 1) & (df_sorted['prev1_eps'] >= 1) & (df_sorted['prev2_eps'] >= 1)\n",
    "    \n",
    "    # 回填计算结果\n",
    "    df_sorted = df_sorted.set_index(original_index)\n",
    "    df['net_growth'] = df_sorted['net_growth'].reindex(df.index, fill_value=False)\n",
    "    df['eps_valid'] = df_sorted['eps_valid'].reindex(df.index, fill_value=False)\n",
    "\n",
    "    # 必要性检查（仅高送转年报）\n",
    "    df['necessary_check'] = False\n",
    "    mask = is_annual & has_high_sz\n",
    "    df.loc[mask, 'necessary_check'] = df[mask]['权益分派方案文本'].apply(\n",
    "        lambda x: llm_content_check(x, \"上市公司认为确有必要实施高送转的说明\")\n",
    "    )\n",
    "\n",
    "    # 组合条件\n",
    "    df['cu_18_3_condition'] = (\n",
    "        is_annual &\n",
    "        has_high_sz &\n",
    "        df['net_growth'] &\n",
    "        df['eps_valid'] &\n",
    "        df['necessary_check']\n",
    "    )\n",
    "\n",
    "    # 约束检查（仅对符合条件的主体）\n",
    "    mask = df['cu_18_3_condition']\n",
    "    \n",
    "    # 合理性披露检查\n",
    "    df['disclosure_check'] = False\n",
    "    df.loc[mask, 'disclosure_check'] = df[mask]['权益分派方案文本'].apply(\n",
    "        lambda x: llm_content_check(x, \"充分披露高送转的主要考虑及其合理性\")\n",
    "    )\n",
    "    \n",
    "    # 计算送转后EPS\n",
    "    sz_ratio = (df['送股比例'] + df['转增比例']) / 10\n",
    "    df['post_sz_eps'] = df['每股净利润'] / (1 + sz_ratio)\n",
    "    eps_constraint = df['post_sz_eps'] >= 0.5\n",
    "    \n",
    "    # 组合约束条件\n",
    "    df.loc[mask, 'cu_18_3_constraint'] = df[mask]['disclosure_check'] & eps_constraint[mask]\n",
    "\n",
    "    return df"
   ]
  },
  {
   "cell_type": "code",
   "execution_count": null,
   "id": "960ba5fd",
   "metadata": {},
   "outputs": [],
   "source": [
    "df = check_cu_18_3(df)\n",
    "df"
   ]
  },
  {
   "cell_type": "markdown",
   "id": "2a9ca99f",
   "metadata": {},
   "source": [
    "---"
   ]
  },
  {
   "cell_type": "markdown",
   "id": "f2a6c6cd",
   "metadata": {},
   "source": [
    "# Law Article 19"
   ]
  },
  {
   "cell_type": "markdown",
   "id": "26ca4ae9",
   "metadata": {},
   "source": [
    "## cu_19_1"
   ]
  },
  {
   "cell_type": "markdown",
   "id": "a6bb5d64",
   "metadata": {},
   "source": [
    "\n",
    "| 字段 | 内容 |\n",
    "|------|------|\n",
    "| subject | 上市公司 |\n",
    "| condition | 报告期尚未产生收入 |\n",
    "| constraint | 不得披露高送转方案 |\n",
    "| contextual_info | nan |\n",
    "| note | \"收入\"见\"营业收入\";主体默认为True, 不区分在上市前还是上市后 |\n",
    "| relation | refer_to |\n",
    "| target | MEU_17_1 |\n",
    "| type | 数值化执行单元 |\n",
    "| comments | nan |\n",
    "| prompt_tokens | 2427 |\n",
    "| completion_tokens | 3592 |\n"
   ]
  },
  {
   "cell_type": "markdown",
   "id": "cfc771be",
   "metadata": {},
   "source": [
    "### 代码实现"
   ]
  },
  {
   "cell_type": "code",
   "execution_count": null,
   "id": "c7caa0a5",
   "metadata": {},
   "outputs": [],
   "source": [
    "import pandas as pd\n",
    "\n",
    "def check_cu_19_1(df):\n",
    "    '''\n",
    "    检查cu_19_1的合规性：\n",
    "    主体：上市公司（所有行均为True）\n",
    "    条件：报告期营业收入为0\n",
    "    约束：未实施高送转（送转股比例合计<5股）\n",
    "    '''\n",
    "    df = df.copy()\n",
    "\n",
    "    # 初始化标记列\n",
    "    df['cu_19_1_subject'] = True  # 所有公司均为上市公司\n",
    "    df['cu_19_1_condition'] = (df['营业收入'] == 0)\n",
    "    \n",
    "    # 计算高送转指标（每10股送转合计≥5股）\n",
    "    has_equity_plan = df['是否实施股票股利'] | df['是否公积金转增股本']\n",
    "    total_ratio = df['送股比例'] + df['转增比例']\n",
    "    is_high_ratio = total_ratio >= 5\n",
    "    \n",
    "    # 标记约束条件（存在高送转方案则违规）\n",
    "    df['cu_19_1_constraint'] = ~(has_equity_plan & is_high_ratio)\n",
    "\n",
    "    return df"
   ]
  },
  {
   "cell_type": "code",
   "execution_count": null,
   "id": "b06b10f1",
   "metadata": {},
   "outputs": [],
   "source": [
    "df = check_cu_19_1(df)\n",
    "df"
   ]
  },
  {
   "cell_type": "markdown",
   "id": "2da25327",
   "metadata": {},
   "source": [
    "---"
   ]
  },
  {
   "cell_type": "markdown",
   "id": "f4c2d815",
   "metadata": {},
   "source": [
    "## cu_19_2"
   ]
  },
  {
   "cell_type": "markdown",
   "id": "af280979",
   "metadata": {},
   "source": [
    "\n",
    "| 字段 | 内容 |\n",
    "|------|------|\n",
    "| subject | 上市公司 |\n",
    "| condition | 净利润为负 |\n",
    "| constraint | 不得披露高送转方案 |\n",
    "| contextual_info | nan |\n",
    "| note | 主体默认为True, 不区分在上市前还是上市后 |\n",
    "| relation | refer_to |\n",
    "| target | MEU_31_2;MEU_17_1 |\n",
    "| type | 数值化执行单元 |\n",
    "| comments | nan |\n",
    "| prompt_tokens | 2429 |\n",
    "| completion_tokens | 8227 |\n"
   ]
  },
  {
   "cell_type": "markdown",
   "id": "90003cb3",
   "metadata": {},
   "source": [
    "### 代码实现"
   ]
  },
  {
   "cell_type": "code",
   "execution_count": null,
   "id": "6c406a5c",
   "metadata": {},
   "outputs": [],
   "source": [
    "import pandas as pd\n",
    "\n",
    "def check_cu_19_2(df):\n",
    "    '''\n",
    "    检查cu_19_2的合规性：\n",
    "    主体：上市公司（所有行均为True）\n",
    "    条件：净利润为负\n",
    "    约束：不得披露高送转方案（送股比例+转增比例>=5视为高送转）\n",
    "    '''\n",
    "    df = df.copy()\n",
    "\n",
    "    # 初始化标记列\n",
    "    df['cu_19_2_subject'] = True  # 所有公司均为上市公司\n",
    "    df['cu_19_2_condition'] = df['净利润'] < 0\n",
    "    df['cu_19_2_constraint'] = True  # 默认合规\n",
    "\n",
    "    # 计算送转比例总和（每10股送转合计）\n",
    "    total_ratio = df['送股比例'] + df['转增比例']\n",
    "    \n",
    "    # 识别高送转方案（权益分派且送转比例≥5）\n",
    "    high_transfer = df['是否进行权益分派'] & (total_ratio >= 5)\n",
    "    \n",
    "    # 标记违规情形\n",
    "    df.loc[high_transfer, 'cu_19_2_constraint'] = False\n",
    "\n",
    "    return df"
   ]
  },
  {
   "cell_type": "code",
   "execution_count": null,
   "id": "9ddf596e",
   "metadata": {},
   "outputs": [],
   "source": [
    "df = check_cu_19_2(df)\n",
    "df"
   ]
  },
  {
   "cell_type": "markdown",
   "id": "ffef47f2",
   "metadata": {},
   "source": [
    "---"
   ]
  },
  {
   "cell_type": "markdown",
   "id": "353057e1",
   "metadata": {},
   "source": [
    "## cu_19_3"
   ]
  },
  {
   "cell_type": "markdown",
   "id": "187433fd",
   "metadata": {},
   "source": [
    "\n",
    "| 字段 | 内容 |\n",
    "|------|------|\n",
    "| subject | 上市公司 |\n",
    "| condition | 净利润同比下降50%以上 |\n",
    "| constraint | 不得披露高送转方案 |\n",
    "| contextual_info | nan |\n",
    "| note | 主体默认为True, 不区分在上市前还是上市后; 净利润下降的检查考虑单季度同比 |\n",
    "| relation | refer_to |\n",
    "| target | MEU_17_1 |\n",
    "| type | 数值化执行单元 |\n",
    "| comments | nan |\n",
    "| prompt_tokens | 2431 |\n",
    "| completion_tokens | 9561 |\n"
   ]
  },
  {
   "cell_type": "markdown",
   "id": "49b39f8c",
   "metadata": {},
   "source": [
    "### 代码实现"
   ]
  },
  {
   "cell_type": "code",
   "execution_count": null,
   "id": "51adacf2",
   "metadata": {},
   "outputs": [],
   "source": [
    "import pandas as pd\n",
    "\n",
    "def check_cu_19_3(df):\n",
    "    '''\n",
    "    检查cu_19_3的合规性：\n",
    "    主体：上市公司（默认全部符合）\n",
    "    条件：单季度净利润同比下降50%以上\n",
    "    约束：不得披露高送转方案（送转比例合计每10股≥5股）\n",
    "    '''\n",
    "    df = df.copy()\n",
    "    \n",
    "    # 初始化标记列\n",
    "    df['cu_19_3_subject'] = True  # 所有行主体均为上市公司\n",
    "    df['cu_19_3_condition'] = False\n",
    "    df['cu_19_3_constraint'] = True  # 默认未披露高送转\n",
    "    \n",
    "    # 1. 处理条件：净利润同比下降50%以上（单季度同比）\n",
    "    # 按公司和财务数据日期排序计算同比\n",
    "    original_index = df.index\n",
    "    df_sorted = df.sort_values(['公司简称', '财务数据日期'])\n",
    "    \n",
    "    # 计算去年同季净利润（向前滚动4个季度）\n",
    "    df_sorted['去年同季净利润'] = df_sorted.groupby('公司简称')['净利润'].shift(4)\n",
    "    \n",
    "    # 计算同比降幅（仅处理去年净利润为正的情况）\n",
    "    mask = (\n",
    "        (df_sorted['去年同季净利润'] > 0) &\n",
    "        ((df_sorted['去年同季净利润'] - df_sorted['净利润']) / df_sorted['去年同季净利润'] >= 0.5)\n",
    "    )\n",
    "    df_sorted.loc[mask, 'cu_19_3_condition'] = True\n",
    "    \n",
    "    # 恢复原始索引顺序\n",
    "    df = df_sorted.sort_index()\n",
    "    \n",
    "    # 2. 处理约束：高送转方案判断\n",
    "    # 计算总送转比例（送股+转增）并检查是否实施\n",
    "    total_ratio = df['送股比例'] + df['转增比例']\n",
    "    implemented = df['是否实施股票股利'] | df['是否公积金转增股本']\n",
    "    df.loc[implemented & (total_ratio >= 5), 'cu_19_3_constraint'] = False\n",
    "    \n",
    "    return df"
   ]
  },
  {
   "cell_type": "code",
   "execution_count": null,
   "id": "6c7ba7c7",
   "metadata": {},
   "outputs": [],
   "source": [
    "df = check_cu_19_3(df)\n",
    "df"
   ]
  },
  {
   "cell_type": "markdown",
   "id": "370e3cc8",
   "metadata": {},
   "source": [
    "---"
   ]
  },
  {
   "cell_type": "markdown",
   "id": "6b910afc",
   "metadata": {},
   "source": [
    "## cu_19_4"
   ]
  },
  {
   "cell_type": "markdown",
   "id": "31f1943f",
   "metadata": {},
   "source": [
    "\n",
    "| 字段 | 内容 |\n",
    "|------|------|\n",
    "| subject | 上市公司 |\n",
    "| condition | 送转股后每股收益低于0.2元 |\n",
    "| constraint | 不得披露高送转方案 |\n",
    "| contextual_info | nan |\n",
    "| note | \"每股收益\"简化为采用\"每股净利润\"; 主体默认为True, 不区分在上市前还是上市后 |\n",
    "| relation | refer_to |\n",
    "| target | MEU_17_1 |\n",
    "| type | 数值化执行单元 |\n",
    "| comments | nan |\n",
    "| prompt_tokens | 2438 |\n",
    "| completion_tokens | 6055 |\n"
   ]
  },
  {
   "cell_type": "markdown",
   "id": "6d5927ff",
   "metadata": {},
   "source": [
    "### 代码实现"
   ]
  },
  {
   "cell_type": "code",
   "execution_count": null,
   "id": "3a16fb8a",
   "metadata": {},
   "outputs": [],
   "source": [
    "import pandas as pd\n",
    "\n",
    "def check_cu_19_4(df):\n",
    "    '''\n",
    "    检查cu_19_4的合规性：\n",
    "    主体：上市公司（所有行均为True）\n",
    "    条件：送转股后每股收益低于0.2元\n",
    "    约束：不得披露高送转方案\n",
    "    '''\n",
    "    df = df.copy()\n",
    "\n",
    "    # 初始化标记列\n",
    "    df['cu_19_4_subject'] = True  # 所有公司均为上市公司\n",
    "    df['cu_19_4_condition'] = False\n",
    "    df['cu_19_4_constraint'] = True  # 默认约束成立\n",
    "\n",
    "    # 1. 条件判断：送转股后每股收益<0.2元\n",
    "    # 仅当存在送转股行为时进行计算\n",
    "    has_stock_dividend = df['是否实施股票股利'] | df['是否公积金转增股本']\n",
    "    \n",
    "    # 计算股本扩张比例（每10股送转合计股数/10）\n",
    "    expansion_ratio = (df['送股比例'] + df['转增比例']) / 10\n",
    "    \n",
    "    # 计算送转后每股收益\n",
    "    eps_after = df['每股净利润'] / (1 + expansion_ratio)\n",
    "    \n",
    "    # 标记条件成立的情况\n",
    "    condition_mask = has_stock_dividend & (eps_after < 0.2)\n",
    "    df.loc[condition_mask, 'cu_19_4_condition'] = True\n",
    "\n",
    "    # 2. 约束判断：条件成立时不得实施高送转\n",
    "    # 当且仅当条件成立且实际存在送转行为时违反约束\n",
    "    violation_mask = df['cu_19_4_condition'] & has_stock_dividend\n",
    "    df.loc[violation_mask, 'cu_19_4_constraint'] = False\n",
    "\n",
    "    return df"
   ]
  },
  {
   "cell_type": "code",
   "execution_count": null,
   "id": "e68b7ea6",
   "metadata": {},
   "outputs": [],
   "source": [
    "df = check_cu_19_4(df)\n",
    "df"
   ]
  },
  {
   "cell_type": "markdown",
   "id": "906eb7de",
   "metadata": {},
   "source": [
    "---"
   ]
  },
  {
   "cell_type": "markdown",
   "id": "bf404ef4",
   "metadata": {},
   "source": [
    "## cu_19_5"
   ]
  },
  {
   "cell_type": "markdown",
   "id": "adf6d194",
   "metadata": {},
   "source": [
    "\n",
    "| 字段 | 内容 |\n",
    "|------|------|\n",
    "| subject | 上市公司 |\n",
    "| condition | 相关股东在前三个月存在减持情形 |\n",
    "| constraint | 不得披露高送转方案 |\n",
    "| contextual_info | 相关股东指公司的提议股东和控股股东及其一致行动人、董事、监事及高级管理人员 |\n",
    "| note | 主体默认为True, 不区分在上市前还是上市后 |\n",
    "| relation | refer_to |\n",
    "| target | MEU_17_1 |\n",
    "| type | 数值化执行单元 |\n",
    "| comments | nan |\n",
    "| prompt_tokens | 2443 |\n",
    "| completion_tokens | 1968 |\n"
   ]
  },
  {
   "cell_type": "markdown",
   "id": "33c2c8fd",
   "metadata": {},
   "source": [
    "### 代码实现"
   ]
  },
  {
   "cell_type": "code",
   "execution_count": null,
   "id": "be32d17e",
   "metadata": {},
   "outputs": [],
   "source": [
    "import pandas as pd\n",
    "\n",
    "def check_cu_19_5(df):\n",
    "    '''\n",
    "    检查cu_19_5的合规性：\n",
    "    主体：上市公司（默认全部满足）\n",
    "    条件：相关股东前三个月存在减持情形\n",
    "    约束：不得披露高送转方案（股票股利/转增股本）\n",
    "    '''\n",
    "    df = df.copy()\n",
    "\n",
    "    # 1. 标记责任主体（所有公司均为上市公司）\n",
    "    df['cu_19_5_subject'] = True  # 根据附加说明主体默认为True\n",
    "\n",
    "    # 2. 标记触发条件（直接映射布尔列）\n",
    "    df['cu_19_5_condition'] = df['相关股东前三个月内存在减持情形']\n",
    "\n",
    "    # 3. 标记约束条件（高送转方案判断）\n",
    "    # 高送转定义为实施股票股利或公积金转增股本\n",
    "    has_high_send = df['是否实施股票股利'] | df['是否公积金转增股本']\n",
    "    df['cu_19_5_constraint'] = ~has_high_send\n",
    "\n",
    "    return df"
   ]
  },
  {
   "cell_type": "code",
   "execution_count": null,
   "id": "c7d5e4ef",
   "metadata": {},
   "outputs": [],
   "source": [
    "df = check_cu_19_5(df)\n",
    "df"
   ]
  },
  {
   "cell_type": "markdown",
   "id": "f56bd571",
   "metadata": {},
   "source": [
    "---"
   ]
  },
  {
   "cell_type": "markdown",
   "id": "d2453035",
   "metadata": {},
   "source": [
    "## cu_19_6"
   ]
  },
  {
   "cell_type": "markdown",
   "id": "77f04cbe",
   "metadata": {},
   "source": [
    "\n",
    "| 字段 | 内容 |\n",
    "|------|------|\n",
    "| subject | 上市公司 |\n",
    "| condition | 相关股东在后三个月存在减持计划 |\n",
    "| constraint | 不得披露高送转方案 |\n",
    "| contextual_info | 相关股东指公司的提议股东和控股股东及其一致行动人、董事、监事及高级管理人员 |\n",
    "| note | 主体默认为True, 不区分在上市前还是上市后 |\n",
    "| relation | refer_to |\n",
    "| target | MEU_17_1 |\n",
    "| type | 数值化执行单元 |\n",
    "| comments | nan |\n",
    "| prompt_tokens | 2443 |\n",
    "| completion_tokens | 3460 |\n"
   ]
  },
  {
   "cell_type": "markdown",
   "id": "71f45024",
   "metadata": {},
   "source": [
    "### 代码实现"
   ]
  },
  {
   "cell_type": "code",
   "execution_count": null,
   "id": "76beda9b",
   "metadata": {},
   "outputs": [],
   "source": [
    "import pandas as pd\n",
    "\n",
    "def check_cu_19_6(df):\n",
    "    '''\n",
    "    检查cu_19_6的合规性：\n",
    "    主体：上市公司（所有行标记为True）\n",
    "    条件：相关股东后三个月存在减持计划\n",
    "    约束：未披露高送转方案（未实施股票股利或转增股本）\n",
    "    '''\n",
    "    df = df.copy()\n",
    "    \n",
    "    # 初始化标记列\n",
    "    df['cu_19_6_subject'] = True  # 所有上市公司主体均有效\n",
    "    \n",
    "    # 标记触发条件\n",
    "    df['cu_19_6_condition'] = df['相关股东后三个月存在减持计划']\n",
    "    \n",
    "    # 标记约束条件（高送转方案判断）\n",
    "    # 高送转定义为实施股票股利或资本公积转增股本\n",
    "    has_high_send = df['是否实施股票股利'] | df['是否公积金转增股本']\n",
    "    df['cu_19_6_constraint'] = ~has_high_send\n",
    "    \n",
    "    return df"
   ]
  },
  {
   "cell_type": "code",
   "execution_count": null,
   "id": "8ea19b4d",
   "metadata": {},
   "outputs": [],
   "source": [
    "df = check_cu_19_6(df)\n",
    "df"
   ]
  },
  {
   "cell_type": "markdown",
   "id": "fe3599d1",
   "metadata": {},
   "source": [
    "---"
   ]
  }
 ],
 "metadata": {},
 "nbformat": 4,
 "nbformat_minor": 5
}

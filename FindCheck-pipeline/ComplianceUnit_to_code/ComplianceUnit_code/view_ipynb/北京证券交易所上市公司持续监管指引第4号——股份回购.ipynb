{
 "cells": [
  {
   "cell_type": "code",
   "execution_count": null,
   "id": "1c22c2b5",
   "metadata": {},
   "outputs": [],
   "source": [
    "# 读取模拟数据\n",
    "# 读取模拟数据\n",
    "import pandas as pd\n",
    "df = pd.read_csv('data_simulation/data_generated/data_simulate_10.csv')\n",
    "date_columns = [\"财务数据日期\", \"公告日期\", \"日期\"]\n",
    "for col in date_columns:\n",
    "    df[col] = pd.to_datetime(df[col])\n",
    "df"
   ]
  },
  {
   "cell_type": "markdown",
   "id": "a44a1302",
   "metadata": {},
   "source": [
    "# Law Article 4"
   ]
  },
  {
   "cell_type": "markdown",
   "id": "3d34d489",
   "metadata": {},
   "source": [
    "## cu_4_1"
   ]
  },
  {
   "cell_type": "markdown",
   "id": "a7933575",
   "metadata": {},
   "source": [
    "\n",
    "| 字段 | 内容 |\n",
    "|------|------|\n",
    "| subject | 上市公司 |\n",
    "| condition | 因维护公司价值及股东权益所必需回购股份的 |\n",
    "| constraint | 应当符合以下条件之一：（一）公司股票收盘价格低于最近一期每股净资产；（二）连续20个交易日内公司股票收盘价格跌幅累计达到20%；（三）公司股票收盘价格低于最近一年股票最高收盘价格的50%；（四）中国证券监督管理委员会（以下简称中国证监会）规定的其他条件。 |\n",
    "| contextual_info | nan |\n",
    "| note | 1. 决议通过日当日检查. 简化假设; 股价以收盘价为准, 不考虑日内价格变化\n",
    "2. 不考虑（四）中国证券监督管理委员会（以下简称中国证监会）规定的其他条件。3. 一年按照250个交易日计算. 4. condition理解为检查'决议通过日'的情况, 计算各种指标也以该日为基准 |\n",
    "| relation | nan |\n",
    "| target | nan |\n",
    "| type | 数值化执行单元 |\n",
    "| comments | nan |\n",
    "| prompt_tokens | 2171 |\n",
    "| completion_tokens | 6544 |\n"
   ]
  },
  {
   "cell_type": "code",
   "execution_count": null,
   "id": "7ac59d26",
   "metadata": {},
   "outputs": [],
   "source": [
    "# 读取模拟数据\n",
    "# 读取模拟数据\n",
    "import pandas as pd\n",
    "df = pd.read_csv('data_simulation/data_generated/data_simulate_10.csv')\n",
    "date_columns = [\"财务数据日期\", \"公告日期\", \"日期\"]\n",
    "for col in date_columns:\n",
    "    df[col] = pd.to_datetime(df[col])\n",
    "df"
   ]
  },
  {
   "cell_type": "markdown",
   "id": "33f4dc51",
   "metadata": {},
   "source": [
    "### 代码实现"
   ]
  },
  {
   "cell_type": "code",
   "execution_count": null,
   "id": "8a18c468",
   "metadata": {},
   "outputs": [],
   "source": [
    "import pandas as pd\n",
    "\n",
    "def check_cu_4_1(df):\n",
    "    '''\n",
    "    检查cu_4_1的合规性：\n",
    "    主体：上市公司（所有行均为上市公司）\n",
    "    条件：决议通过日存在维护公司价值的回购方案\n",
    "    约束：需满足三个价格条件之一\n",
    "    '''\n",
    "    df = df.copy()\n",
    "    \n",
    "    # 初始化标记列\n",
    "    df['cu_4_1_subject'] = True  # 所有公司均为上市公司\n",
    "    df['cu_4_1_condition'] = False\n",
    "    df['cu_4_1_constraint'] = False\n",
    "    \n",
    "    # 1. 验证触发条件（仅在决议通过日检查）\n",
    "    condition_mask = (\n",
    "        (df['日期'] == df['决议通过日']) &\n",
    "        df['存在回购方案'] &\n",
    "        (df['回购用途'] == '维护公司价值及股东权益所必需')\n",
    "    )\n",
    "    df.loc[condition_mask, 'cu_4_1_condition'] = True\n",
    "    \n",
    "    # 2. 计算约束条件（所有行独立计算）\n",
    "    # 条件一：收盘价低于每股净资产\n",
    "    cond1 = df['收盘价'] < df['每股净资产']\n",
    "    \n",
    "    # 条件二：20交易日累计跌幅超20%\n",
    "    df['20d_prior_close'] = df.groupby('公司简称')['收盘价'].shift(19)\n",
    "    cond2 = ((df['收盘价'] - df['20d_prior_close']) / df['20d_prior_close'] <= -0.2).fillna(False)\n",
    "    \n",
    "    # 条件三：股价低于年高点的50%\n",
    "    df['250d_max'] = df.groupby('公司简称')['收盘价'].transform(lambda x: x.rolling(250, min_periods=1).max())\n",
    "    cond3 = df['收盘价'] <= df['250d_max'] * 0.5\n",
    "    \n",
    "    # 综合约束条件\n",
    "    df['cu_4_1_constraint'] = cond1 | cond2 | cond3\n",
    "    \n",
    "    # 清理中间列\n",
    "    df.drop(columns=['20d_prior_close', '250d_max'], inplace=True, errors='ignore')\n",
    "    \n",
    "    return df"
   ]
  },
  {
   "cell_type": "code",
   "execution_count": null,
   "id": "67b3b8f2",
   "metadata": {},
   "outputs": [],
   "source": [
    "df = check_cu_4_1(df)\n",
    "df"
   ]
  },
  {
   "cell_type": "markdown",
   "id": "fbfa2b33",
   "metadata": {},
   "source": [
    "---"
   ]
  },
  {
   "cell_type": "markdown",
   "id": "9aeb9f5a",
   "metadata": {},
   "source": [
    "# Law Article 13"
   ]
  },
  {
   "cell_type": "markdown",
   "id": "427be2b5",
   "metadata": {},
   "source": [
    "## cu_13_1"
   ]
  },
  {
   "cell_type": "markdown",
   "id": "ede677fe",
   "metadata": {},
   "source": [
    "\n",
    "| 字段 | 内容 |\n",
    "|------|------|\n",
    "| subject | 上市公司 |\n",
    "| condition | 实施竞价回购 |\n",
    "| constraint | 应当符合公司股票上市已满6个月 |\n",
    "| contextual_info | nan |\n",
    "| note | 6个月按照自然月计算 |\n",
    "| relation | nan |\n",
    "| target | nan |\n",
    "| type | 数值化执行单元 |\n",
    "| comments | nan |\n",
    "| prompt_tokens | 2033 |\n",
    "| completion_tokens | 1965 |\n"
   ]
  },
  {
   "cell_type": "code",
   "execution_count": null,
   "id": "f1efa3c5",
   "metadata": {},
   "outputs": [],
   "source": [
    "# 读取模拟数据\n",
    "# 读取模拟数据\n",
    "import pandas as pd\n",
    "df = pd.read_csv('data_simulation/data_generated/data_simulate_10.csv')\n",
    "date_columns = [\"财务数据日期\", \"公告日期\", \"日期\"]\n",
    "for col in date_columns:\n",
    "    df[col] = pd.to_datetime(df[col])\n",
    "df"
   ]
  },
  {
   "cell_type": "markdown",
   "id": "b4789d1b",
   "metadata": {},
   "source": [
    "### 代码实现"
   ]
  },
  {
   "cell_type": "code",
   "execution_count": null,
   "id": "9abfeb65",
   "metadata": {},
   "outputs": [],
   "source": [
    "import pandas as pd\n",
    "\n",
    "def check_cu_13_1(df):\n",
    "    '''\n",
    "    检查cu_13_1的合规性：\n",
    "    主体：上市公司\n",
    "    条件：实施竞价回购\n",
    "    约束：股票上市已满6个自然月\n",
    "    '''\n",
    "    df = df.copy()\n",
    "    \n",
    "    # 初始化标记列\n",
    "    df['cu_13_1_subject'] = True  # 所有公司均为上市公司\n",
    "    df['cu_13_1_condition'] = False\n",
    "    df['cu_13_1_constraint'] = False\n",
    "    \n",
    "    # 1. 验证触发条件：实施竞价回购\n",
    "    # 需要同时满足存在回购方案且回购方式为竞价回购\n",
    "    is_auction_repurchase = (df['回购方式'] == '竞价回购') & df['存在回购方案']\n",
    "    df.loc[is_auction_repurchase, 'cu_13_1_condition'] = True\n",
    "    \n",
    "    # 2. 验证约束条件：上市已满6个自然月\n",
    "    # 计算上市日期+6个月的自然月\n",
    "    six_months_later = df['上市日期'] + pd.DateOffset(months=6)\n",
    "    # 判断当前日期是否满足上市满6个月\n",
    "    df['cu_13_1_constraint'] = df['日期'] >= six_months_later\n",
    "    \n",
    "    return df"
   ]
  },
  {
   "cell_type": "code",
   "execution_count": null,
   "id": "829789e1",
   "metadata": {},
   "outputs": [],
   "source": [
    "df = check_cu_13_1(df)\n",
    "df"
   ]
  },
  {
   "cell_type": "markdown",
   "id": "2ba5ae1d",
   "metadata": {},
   "source": [
    "---"
   ]
  },
  {
   "cell_type": "markdown",
   "id": "41c18301",
   "metadata": {},
   "source": [
    "## cu_13_2"
   ]
  },
  {
   "cell_type": "markdown",
   "id": "4d2b219a",
   "metadata": {},
   "source": [
    "\n",
    "| 字段 | 内容 |\n",
    "|------|------|\n",
    "| subject | 上市公司 |\n",
    "| condition | 实施竞价回购 |\n",
    "| constraint | 应当符合公司最近1年无重大违法行为 |\n",
    "| contextual_info | nan |\n",
    "| note | 年按照自然年计算 |\n",
    "| relation | nan |\n",
    "| target | nan |\n",
    "| type | 数值化执行单元 |\n",
    "| comments | nan |\n",
    "| prompt_tokens | 2032 |\n",
    "| completion_tokens | 4096 |\n"
   ]
  },
  {
   "cell_type": "code",
   "execution_count": null,
   "id": "af1751e5",
   "metadata": {},
   "outputs": [],
   "source": [
    "# 读取模拟数据\n",
    "# 读取模拟数据\n",
    "import pandas as pd\n",
    "df = pd.read_csv('data_simulation/data_generated/data_simulate_10.csv')\n",
    "date_columns = [\"财务数据日期\", \"公告日期\", \"日期\"]\n",
    "for col in date_columns:\n",
    "    df[col] = pd.to_datetime(df[col])\n",
    "df"
   ]
  },
  {
   "cell_type": "markdown",
   "id": "356a4271",
   "metadata": {},
   "source": [
    "### 代码实现"
   ]
  },
  {
   "cell_type": "code",
   "execution_count": null,
   "id": "a467dccd",
   "metadata": {},
   "outputs": [],
   "source": [
    "import pandas as pd\n",
    "\n",
    "def check_cu_13_2(df):\n",
    "    '''\n",
    "    检查cu_13_2的合规性：\n",
    "    主体：上市公司\n",
    "    条件：实施竞价回购\n",
    "    约束：最近1个自然年无重大违法行为\n",
    "    '''\n",
    "    df = df.copy()\n",
    "\n",
    "    # 初始化标记列\n",
    "    df['cu_13_2_subject'] = True  # 所有公司均为上市公司\n",
    "    df['cu_13_2_condition'] = False\n",
    "    df['cu_13_2_constraint'] = None\n",
    "\n",
    "    # 1. 责任主体验证（所有行自动满足）\n",
    "    \n",
    "    # 2. 触发条件验证\n",
    "    df['cu_13_2_condition'] = df['存在回购方案'] & (df['回购方式'] == '竞价回购')\n",
    "\n",
    "    # 3. 约束条件验证（最近自然年无重大违法行为）\n",
    "    # 创建违规年份记录表\n",
    "    violation_mask = df['公司法律情况'] == '重大违法行为'\n",
    "    violation_df = df.loc[violation_mask, ['公司简称', '日期']].copy()\n",
    "    violation_df['violation_year'] = violation_df['日期'].dt.year\n",
    "    company_violation_years = violation_df.groupby(['公司简称', 'violation_year']).size().reset_index()\n",
    "    company_violation_years['has_violation'] = True\n",
    "\n",
    "    # 计算当前年份和前一年份\n",
    "    df['current_year'] = df['日期'].dt.year\n",
    "    df['prev_year'] = df['current_year'] - 1\n",
    "\n",
    "    # 合并违规记录\n",
    "    df = df.merge(\n",
    "        company_violation_years.rename(columns={'violation_year': 'prev_year'}),\n",
    "        on=['公司简称', 'prev_year'],\n",
    "        how='left'\n",
    "    )\n",
    "    \n",
    "    # 标记约束条件\n",
    "    df['cu_13_2_constraint'] = ~df['has_violation'].fillna(False)\n",
    "\n",
    "    # 清理临时列\n",
    "    df.drop(columns=['current_year', 'prev_year', 'violation_year', 'has_violation'], \n",
    "            inplace=True, errors='ignore')\n",
    "\n",
    "    return df"
   ]
  },
  {
   "cell_type": "code",
   "execution_count": null,
   "id": "eb330611",
   "metadata": {},
   "outputs": [],
   "source": [
    "df = check_cu_13_2(df)\n",
    "df"
   ]
  },
  {
   "cell_type": "markdown",
   "id": "18a54fdd",
   "metadata": {},
   "source": [
    "---"
   ]
  },
  {
   "cell_type": "markdown",
   "id": "9535d8d1",
   "metadata": {},
   "source": [
    "## cu_13_7"
   ]
  },
  {
   "cell_type": "markdown",
   "id": "ee9da5b3",
   "metadata": {},
   "source": [
    "\n",
    "| 字段 | 内容 |\n",
    "|------|------|\n",
    "| subject | 上市公司 |\n",
    "| condition | 因触及本指引第四条规定条件而启动回购并减少注册资本 |\n",
    "| constraint | 不适用股票上市已满6个月的要求 |\n",
    "| contextual_info | nan |\n",
    "| note | constraint项保留为None不做处理; 不考虑减少注册资本的情况; 触及本指引第四条理解为检查'决议通过日'的情况, 计算各种指标也以该日为基准 |\n",
    "| relation | refer_to |\n",
    "| target | MEU_4_1 |\n",
    "| type | 数值化执行单元 |\n",
    "| comments | nan |\n",
    "| prompt_tokens | 2117 |\n",
    "| completion_tokens | 4520 |\n"
   ]
  },
  {
   "cell_type": "code",
   "execution_count": null,
   "id": "2d883110",
   "metadata": {},
   "outputs": [],
   "source": [
    "# 读取模拟数据\n",
    "# 读取模拟数据\n",
    "import pandas as pd\n",
    "df = pd.read_csv('data_simulation/data_generated/data_simulate_10.csv')\n",
    "date_columns = [\"财务数据日期\", \"公告日期\", \"日期\"]\n",
    "for col in date_columns:\n",
    "    df[col] = pd.to_datetime(df[col])\n",
    "df"
   ]
  },
  {
   "cell_type": "markdown",
   "id": "c1561f73",
   "metadata": {},
   "source": [
    "### 代码实现"
   ]
  },
  {
   "cell_type": "code",
   "execution_count": null,
   "id": "0fd051a9",
   "metadata": {},
   "outputs": [],
   "source": [
    "import pandas as pd\n",
    "\n",
    "def check_cu_13_7(df):\n",
    "    '''\n",
    "    检查cu_13_7的合规性：\n",
    "    主体：上市公司\n",
    "    条件：因触及指引第四条条件启动回购（决议通过日股价低于每股净资产或净利润）\n",
    "    约束：不适用股票上市满6个月要求（保留为None）\n",
    "    '''\n",
    "    df = df.copy()\n",
    "    \n",
    "    # 初始化标记列\n",
    "    df['cu_13_7_subject'] = True  # 所有公司都是上市公司\n",
    "    df['cu_13_7_condition'] = False\n",
    "    df['cu_13_7_constraint'] = None  # 根据要求保留为None\n",
    "    \n",
    "    # 筛选存在回购方案的行\n",
    "    mask_repo = df['存在回购方案']\n",
    "    if mask_repo.any():\n",
    "        # 获取所有决议通过日及其对应的财务指标\n",
    "        resolution_dates = df.loc[mask_repo, ['公司简称', '决议通过日']].drop_duplicates()\n",
    "        # 合并决议通过日当天的数据\n",
    "        resolution_data = pd.merge(\n",
    "            resolution_dates,\n",
    "            df[['公司简称', '日期', '收盘价减每股净资产', '收盘价减每股净利润']],\n",
    "            left_on=['公司简称', '决议通过日'],\n",
    "            right_on=['公司简称', '日期'],\n",
    "            how='left'\n",
    "        )\n",
    "        # 判断是否满足条件\n",
    "        resolution_data['condition_met'] = (\n",
    "            (resolution_data['收盘价减每股净资产'] <= 0) | \n",
    "            (resolution_data['收盘价减每股净利润'] <= 0)\n",
    "        )\n",
    "        # 合并回原数据框\n",
    "        df = df.merge(\n",
    "            resolution_data[['公司简称', '决议通过日', 'condition_met']],\n",
    "            on=['公司简称', '决议通过日'],\n",
    "            how='left'\n",
    "        )\n",
    "        # 标记条件为True的行\n",
    "        df.loc[mask_repo & df['condition_met'], 'cu_13_7_condition'] = True\n",
    "        # 清理临时列\n",
    "        df.drop(columns=['condition_met'], inplace=True, errors='ignore')\n",
    "    \n",
    "    return df"
   ]
  },
  {
   "cell_type": "code",
   "execution_count": null,
   "id": "d5fc0872",
   "metadata": {},
   "outputs": [],
   "source": [
    "df = check_cu_13_7(df)\n",
    "df"
   ]
  },
  {
   "cell_type": "markdown",
   "id": "befbc57f",
   "metadata": {},
   "source": [
    "---"
   ]
  },
  {
   "cell_type": "markdown",
   "id": "66fc3530",
   "metadata": {},
   "source": [
    "# Law Article 15"
   ]
  },
  {
   "cell_type": "markdown",
   "id": "6b0fc1fc",
   "metadata": {},
   "source": [
    "## cu_15_2"
   ]
  },
  {
   "cell_type": "markdown",
   "id": "283b4a15",
   "metadata": {},
   "source": [
    "\n",
    "| 字段 | 内容 |\n",
    "|------|------|\n",
    "| subject | 上市公司 |\n",
    "| condition | nan |\n",
    "| constraint | 在回购股份方案中明确拟回购股份数量或者资金总额的上下限，且下限不得低于上限的50% |\n",
    "| contextual_info | nan |\n",
    "| note | constraint项检查所有存在回购方案的行 |\n",
    "| relation | nan |\n",
    "| target | nan |\n",
    "| type | 数值化执行单元 |\n",
    "| comments | nan |\n",
    "| prompt_tokens | 2047 |\n",
    "| completion_tokens | 8588 |\n"
   ]
  },
  {
   "cell_type": "code",
   "execution_count": null,
   "id": "81fb346d",
   "metadata": {},
   "outputs": [],
   "source": [
    "# 读取模拟数据\n",
    "# 读取模拟数据\n",
    "import pandas as pd\n",
    "df = pd.read_csv('data_simulation/data_generated/data_simulate_10.csv')\n",
    "date_columns = [\"财务数据日期\", \"公告日期\", \"日期\"]\n",
    "for col in date_columns:\n",
    "    df[col] = pd.to_datetime(df[col])\n",
    "df"
   ]
  },
  {
   "cell_type": "markdown",
   "id": "4a81d826",
   "metadata": {},
   "source": [
    "### 代码实现"
   ]
  },
  {
   "cell_type": "code",
   "execution_count": null,
   "id": "ec005edb",
   "metadata": {},
   "outputs": [],
   "source": [
    "import pandas as pd\n",
    "\n",
    "def check_cu_15_2(df):\n",
    "    '''\n",
    "    检查cu_15_2的合规性：\n",
    "    主体：上市公司（所有行均符合）\n",
    "    条件：无触发条件\n",
    "    约束：存在回购方案时需满足数量/资金上下限要求\n",
    "    '''\n",
    "    df = df.copy()\n",
    "\n",
    "    # 初始化标记列\n",
    "    df['cu_15_2_subject'] = True  # 所有公司均为上市公司\n",
    "    df['cu_15_2_condition'] = True  # 无触发条件\n",
    "    df['cu_15_2_constraint'] = True  # 默认标记为合规\n",
    "\n",
    "    # 仅处理存在回购方案的行\n",
    "    mask = df['存在回购方案']\n",
    "    if mask.any():\n",
    "        # 计算指标存在性\n",
    "        has_quantity = (~df['回购数量上限'].isna()) & (~df['回购数量下限'].isna())\n",
    "        has_funds = (~df['资金总额上限'].isna()) & (~df['资金总额下限'].isna())\n",
    "        \n",
    "        # 计算单项合规性\n",
    "        quantity_valid = (df['回购数量下限'] >= 0.5 * df['回购数量上限'])\n",
    "        funds_valid = (df['资金总额下限'] >= 0.5 * df['资金总额上限'])\n",
    "        \n",
    "        # 复合校验逻辑（必须满足所有存在的指标）\n",
    "        constraint_check = (\n",
    "            # 至少存在一个指标\n",
    "            (has_quantity | has_funds) &\n",
    "            # 存在的指标均需合规\n",
    "            quantity_valid.where(has_quantity, True) &\n",
    "            funds_valid.where(has_funds, True)\n",
    "        )\n",
    "        \n",
    "        # 更新约束标记\n",
    "        df.loc[mask, 'cu_15_2_constraint'] = constraint_check[mask]\n",
    "\n",
    "    return df"
   ]
  },
  {
   "cell_type": "code",
   "execution_count": null,
   "id": "52a34c1b",
   "metadata": {},
   "outputs": [],
   "source": [
    "df = check_cu_15_2(df)\n",
    "df"
   ]
  },
  {
   "cell_type": "markdown",
   "id": "1369be9c",
   "metadata": {},
   "source": [
    "---"
   ]
  },
  {
   "cell_type": "markdown",
   "id": "b9c0ebc6",
   "metadata": {},
   "source": [
    "# Law Article 16"
   ]
  },
  {
   "cell_type": "markdown",
   "id": "952e514f",
   "metadata": {},
   "source": [
    "## cu_16_1"
   ]
  },
  {
   "cell_type": "markdown",
   "id": "32a4ede7",
   "metadata": {},
   "source": [
    "\n",
    "| 字段 | 内容 |\n",
    "|------|------|\n",
    "| subject | 上市公司 |\n",
    "| condition | 进行竞价回购 |\n",
    "| constraint | 价格上限原则上不应高于董事会审议通过回购股份决议前30个交易日（不含停牌日）交易均价的200% |\n",
    "| contextual_info | nan |\n",
    "| note | 不考虑\"原则上\"的松弛条件; 每日股价以收盘价为准, 不考虑日内价格变化; 不存在这30个交易日无法取到的情况; 对每个公司每个回购计划期间的['决议通过日', '实施截止日']之间的日期标记constraint, 不符合这些条件的行可保留为None; 价格是否突破上限按照['申报价格']计算 |\n",
    "| relation | refer_to |\n",
    "| target | MEU_75_1 |\n",
    "| type | 数值化执行单元 |\n",
    "| comments | nan |\n",
    "| prompt_tokens | 2166 |\n",
    "| completion_tokens | 4911 |\n"
   ]
  },
  {
   "cell_type": "code",
   "execution_count": null,
   "id": "42b55c33",
   "metadata": {},
   "outputs": [],
   "source": [
    "# 读取模拟数据\n",
    "# 读取模拟数据\n",
    "import pandas as pd\n",
    "df = pd.read_csv('data_simulation/data_generated/data_simulate_10.csv')\n",
    "date_columns = [\"财务数据日期\", \"公告日期\", \"日期\"]\n",
    "for col in date_columns:\n",
    "    df[col] = pd.to_datetime(df[col])\n",
    "df"
   ]
  },
  {
   "cell_type": "markdown",
   "id": "c60dada0",
   "metadata": {},
   "source": [
    "### 代码实现"
   ]
  },
  {
   "cell_type": "code",
   "execution_count": null,
   "id": "49bcc8c6",
   "metadata": {},
   "outputs": [],
   "source": [
    "import pandas as pd\n",
    "\n",
    "def check_cu_16_1(df):\n",
    "    '''\n",
    "    检查cu_16_1的合规性：\n",
    "    主体：上市公司\n",
    "    条件：进行竞价回购\n",
    "    约束：申报价格不超过决议通过日前30个交易日均价的200%\n",
    "    '''\n",
    "    df = df.copy()\n",
    "    \n",
    "    # 初始化标记列\n",
    "    df['cu_16_1_subject'] = True\n",
    "    df['cu_16_1_condition'] = (df['回购方式'] == '竞价回购') & df['存在回购方案']\n",
    "    df['cu_16_1_constraint'] = None\n",
    "    \n",
    "    # 提取有效回购计划\n",
    "    valid_plans = df[df['cu_16_1_condition']][['公司简称', '决议通过日', '实施开始日', '实施截止日']].drop_duplicates()\n",
    "    \n",
    "    if not valid_plans.empty:\n",
    "        # 计算价格上限\n",
    "        def calculate_limit(row):\n",
    "            company_data = df[(df['公司简称'] == row['公司简称']) & \n",
    "                             (df['日期'] < row['决议通过日'])]\n",
    "            last_30 = company_data.nlargest(30, '日期')\n",
    "            return last_30['收盘价'].mean() * 2\n",
    "        \n",
    "        valid_plans['price_limit'] = valid_plans.apply(calculate_limit, axis=1)\n",
    "        \n",
    "        # 合并价格限制\n",
    "        df = df.merge(\n",
    "            valid_plans,\n",
    "            on=['公司简称', '决议通过日', '实施开始日', '实施截止日'],\n",
    "            how='left'\n",
    "        )\n",
    "        \n",
    "        # 标记约束条件\n",
    "        in_period_mask = (\n",
    "            (df['日期'].between(df['实施开始日'], df['实施截止日'])) &\n",
    "            df['cu_16_1_condition']\n",
    "        )\n",
    "        df.loc[in_period_mask, 'cu_16_1_constraint'] = (\n",
    "            df.loc[in_period_mask, '申报价格'] <= df.loc[in_period_mask, 'price_limit']\n",
    "        )\n",
    "        \n",
    "        # 清理临时列\n",
    "        df.drop(columns=['price_limit'], inplace=True, errors='ignore')\n",
    "    \n",
    "    return df"
   ]
  },
  {
   "cell_type": "code",
   "execution_count": null,
   "id": "9c169080",
   "metadata": {},
   "outputs": [],
   "source": [
    "df = check_cu_16_1(df)\n",
    "df"
   ]
  },
  {
   "cell_type": "markdown",
   "id": "fa72a596",
   "metadata": {},
   "source": [
    "---"
   ]
  },
  {
   "cell_type": "markdown",
   "id": "7ca78d5c",
   "metadata": {},
   "source": [
    "# Law Article 18"
   ]
  },
  {
   "cell_type": "markdown",
   "id": "f637294a",
   "metadata": {},
   "source": [
    "## cu_18_7"
   ]
  },
  {
   "cell_type": "markdown",
   "id": "d34753c2",
   "metadata": {},
   "source": [
    "\n",
    "| 字段 | 内容 |\n",
    "|------|------|\n",
    "| subject | 上市公司 |\n",
    "| condition | 进行股份回购的申报 |\n",
    "| constraint | 申报价格不得为公司股票当日交易涨幅限制的价格 |\n",
    "| contextual_info | nan |\n",
    "| note | 1. 假设当日涨跌幅限制为前日收盘价的正负10%; 2. condition理解为检查'决议通过日'的情况, 计算各种指标也以该日为基准 |\n",
    "| relation | nan |\n",
    "| target | nan |\n",
    "| type | 数值化执行单元 |\n",
    "| comments | nan |\n",
    "| prompt_tokens | 2069 |\n",
    "| completion_tokens | 2654 |\n"
   ]
  },
  {
   "cell_type": "code",
   "execution_count": null,
   "id": "0297644a",
   "metadata": {},
   "outputs": [],
   "source": [
    "# 读取模拟数据\n",
    "# 读取模拟数据\n",
    "import pandas as pd\n",
    "df = pd.read_csv('data_simulation/data_generated/data_simulate_10.csv')\n",
    "date_columns = [\"财务数据日期\", \"公告日期\", \"日期\"]\n",
    "for col in date_columns:\n",
    "    df[col] = pd.to_datetime(df[col])\n",
    "df"
   ]
  },
  {
   "cell_type": "markdown",
   "id": "b2178ac1",
   "metadata": {},
   "source": [
    "### 代码实现"
   ]
  },
  {
   "cell_type": "code",
   "execution_count": null,
   "id": "18403603",
   "metadata": {},
   "outputs": [],
   "source": [
    "import pandas as pd\n",
    "\n",
    "def check_cu_18_7(df):\n",
    "    '''\n",
    "    检查cu_18_7的合规性：\n",
    "    主体：上市公司\n",
    "    条件：在股份回购决议通过日进行申报\n",
    "    约束：申报价格不得为当日涨跌幅限制价格\n",
    "    '''\n",
    "    df = df.copy()\n",
    "\n",
    "    # 初始化标记列\n",
    "    df['cu_18_7_subject'] = True  # 所有公司均为上市公司\n",
    "    df['cu_18_7_condition'] = False\n",
    "    df['cu_18_7_constraint'] = None\n",
    "\n",
    "    # 1. 验证触发条件（决议通过日且存在回购方案）\n",
    "    condition_mask = (\n",
    "        (df['日期'] == df['决议通过日']) &  # 判断是否为决议通过当日\n",
    "        df['存在回购方案']  # 确认存在有效回购方案\n",
    "    )\n",
    "    df.loc[condition_mask, 'cu_18_7_condition'] = True\n",
    "\n",
    "    # 2. 验证约束条件（仅处理符合条件的数据）\n",
    "    if df[condition_mask].shape[0] > 0:\n",
    "        # 计算涨跌幅限制价格\n",
    "        mask = df['cu_18_7_condition']\n",
    "        prev_close = df.loc[mask, '前收盘价']\n",
    "        upper_limit = prev_close * 1.1  # 涨停价\n",
    "        lower_limit = prev_close * 0.9  # 跌停价\n",
    "        \n",
    "        # 获取申报价格并进行比对\n",
    "        apply_price = df.loc[mask, '申报价格']\n",
    "        price_constraint = ~apply_price.isin([upper_limit, lower_limit])\n",
    "        \n",
    "        # 标记约束合规性\n",
    "        df.loc[mask, 'cu_18_7_constraint'] = price_constraint.astype(bool)\n",
    "\n",
    "    return df"
   ]
  },
  {
   "cell_type": "code",
   "execution_count": null,
   "id": "8486aca0",
   "metadata": {},
   "outputs": [],
   "source": [
    "df = check_cu_18_7(df)\n",
    "df"
   ]
  },
  {
   "cell_type": "markdown",
   "id": "181b3349",
   "metadata": {},
   "source": [
    "---"
   ]
  },
  {
   "cell_type": "markdown",
   "id": "f1c0d9ac",
   "metadata": {},
   "source": [
    "# Law Article 19"
   ]
  },
  {
   "cell_type": "markdown",
   "id": "a134651e",
   "metadata": {},
   "source": [
    "## cu_19_1"
   ]
  },
  {
   "cell_type": "markdown",
   "id": "57689ef5",
   "metadata": {},
   "source": [
    "\n",
    "| 字段 | 内容 |\n",
    "|------|------|\n",
    "| subject | 上市公司 |\n",
    "| condition | 实施竞价回购 |\n",
    "| constraint | 实施期限不超过12个月 |\n",
    "| contextual_info | 自董事会或股东大会（如须）审议通过回购股份决议之日起算 |\n",
    "| note | 对存在回购方案的所有交易日进行检查; 12个月按照自然月计算 |\n",
    "| relation | nan |\n",
    "| target | nan |\n",
    "| type | 数值化执行单元 |\n",
    "| comments | nan |\n",
    "| prompt_tokens | 2053 |\n",
    "| completion_tokens | 6351 |\n"
   ]
  },
  {
   "cell_type": "code",
   "execution_count": null,
   "id": "2f7a01d2",
   "metadata": {},
   "outputs": [],
   "source": [
    "# 读取模拟数据\n",
    "# 读取模拟数据\n",
    "import pandas as pd\n",
    "df = pd.read_csv('data_simulation/data_generated/data_simulate_10.csv')\n",
    "date_columns = [\"财务数据日期\", \"公告日期\", \"日期\"]\n",
    "for col in date_columns:\n",
    "    df[col] = pd.to_datetime(df[col])\n",
    "df"
   ]
  },
  {
   "cell_type": "markdown",
   "id": "38ddd4e9",
   "metadata": {},
   "source": [
    "### 代码实现"
   ]
  },
  {
   "cell_type": "code",
   "execution_count": null,
   "id": "26f713b0",
   "metadata": {},
   "outputs": [],
   "source": [
    "import pandas as pd\n",
    "\n",
    "def check_cu_19_1(df):\n",
    "    '''\n",
    "    检查cu_19_1的合规性：\n",
    "    主体：上市公司\n",
    "    条件：实施竞价回购\n",
    "    约束：实施期限不超过12个月（自然月）\n",
    "    '''\n",
    "    df = df.copy()\n",
    "    \n",
    "    # 初始化标记列\n",
    "    df['cu_19_1_subject'] = True  # 所有公司均为上市公司\n",
    "    df['cu_19_1_condition'] = False\n",
    "    df['cu_19_1_constraint'] = None\n",
    "    \n",
    "    # 1. 验证触发条件：存在回购方案且为竞价方式\n",
    "    condition_mask = (df['存在回购方案']) & (df['回购方式'] == '竞价回购')\n",
    "    df.loc[condition_mask, 'cu_19_1_condition'] = True\n",
    "    \n",
    "    # 2. 验证约束条件（仅对符合条件的行）\n",
    "    valid_rows = df[condition_mask].index\n",
    "    if not valid_rows.empty:\n",
    "        # 计算自然月期限\n",
    "        resolution_date = df.loc[valid_rows, '决议通过日']\n",
    "        deadline_date = resolution_date + pd.DateOffset(months=12)\n",
    "        \n",
    "        # 比较实施截止日与期限\n",
    "        df.loc[valid_rows, 'cu_19_1_constraint'] = (\n",
    "            df.loc[valid_rows, '实施截止日'] <= deadline_date\n",
    "        )\n",
    "    \n",
    "    return df"
   ]
  },
  {
   "cell_type": "code",
   "execution_count": null,
   "id": "fc39eb83",
   "metadata": {},
   "outputs": [],
   "source": [
    "df = check_cu_19_1(df)\n",
    "df"
   ]
  },
  {
   "cell_type": "markdown",
   "id": "4a283f11",
   "metadata": {},
   "source": [
    "---"
   ]
  },
  {
   "cell_type": "markdown",
   "id": "aefd613d",
   "metadata": {},
   "source": [
    "## cu_19_2"
   ]
  },
  {
   "cell_type": "markdown",
   "id": "b5b4a34b",
   "metadata": {},
   "source": [
    "\n",
    "| 字段 | 内容 |\n",
    "|------|------|\n",
    "| subject | 上市公司 |\n",
    "| condition | 因维护公司价值及股东权益所必需回购股份的，实施竞价回购 |\n",
    "| constraint | 回购实施期限自股东大会或者董事会审议通过最终回购股份方案之日起不超过3个月 |\n",
    "| contextual_info | nan |\n",
    "| note | 采用数据中的'审议通过日'即可, 不用考虑是股东大会还是董事会审议; 3个月按自然月计算 |\n",
    "| relation | nan |\n",
    "| target | nan |\n",
    "| type | 数值化执行单元 |\n",
    "| comments | nan |\n",
    "| prompt_tokens | 2074 |\n",
    "| completion_tokens | 6412 |\n"
   ]
  },
  {
   "cell_type": "code",
   "execution_count": null,
   "id": "395c5d49",
   "metadata": {},
   "outputs": [],
   "source": [
    "# 读取模拟数据\n",
    "# 读取模拟数据\n",
    "import pandas as pd\n",
    "df = pd.read_csv('data_simulation/data_generated/data_simulate_10.csv')\n",
    "date_columns = [\"财务数据日期\", \"公告日期\", \"日期\"]\n",
    "for col in date_columns:\n",
    "    df[col] = pd.to_datetime(df[col])\n",
    "df"
   ]
  },
  {
   "cell_type": "markdown",
   "id": "c0715420",
   "metadata": {},
   "source": [
    "### 代码实现"
   ]
  },
  {
   "cell_type": "code",
   "execution_count": null,
   "id": "e72a2d55",
   "metadata": {},
   "outputs": [],
   "source": [
    "import pandas as pd\n",
    "\n",
    "def check_cu_19_2(df):\n",
    "    '''\n",
    "    检查cu_19_2的合规性：\n",
    "    主体：上市公司\n",
    "    条件：因维护公司价值实施竞价回购\n",
    "    约束：回购实施期不超过审议通过后3个月\n",
    "    '''\n",
    "    df = df.copy()\n",
    "    \n",
    "    # 初始化标记列\n",
    "    df['cu_19_2_subject'] = True  # 所有公司均为上市公司\n",
    "    df['cu_19_2_condition'] = False\n",
    "    df['cu_19_2_constraint'] = False\n",
    "    \n",
    "    # 1. 验证责任主体（所有行自动满足）\n",
    "    \n",
    "    # 2. 验证触发条件\n",
    "    condition_mask = (\n",
    "        df['存在回购方案'] &\n",
    "        (df['回购用途'] == '维护公司价值及股东权益所必需') &\n",
    "        (df['回购方式'] == '竞价回购')\n",
    "    )\n",
    "    df.loc[condition_mask, 'cu_19_2_condition'] = True\n",
    "    \n",
    "    # 3. 验证约束条件（自然月计算）\n",
    "    df['cu_19_2_constraint'] = (\n",
    "        df['实施截止日'] <= df['决议通过日'] + pd.DateOffset(months=3)\n",
    "    )\n",
    "    \n",
    "    # 处理日期空值情况\n",
    "    df['cu_19_2_constraint'] = df['cu_19_2_constraint'].fillna(False)\n",
    "    \n",
    "    return df"
   ]
  },
  {
   "cell_type": "code",
   "execution_count": null,
   "id": "e6e15278",
   "metadata": {},
   "outputs": [],
   "source": [
    "df = check_cu_19_2(df)\n",
    "df"
   ]
  },
  {
   "cell_type": "markdown",
   "id": "0cb1a562",
   "metadata": {},
   "source": [
    "---"
   ]
  },
  {
   "cell_type": "markdown",
   "id": "234f1eb1",
   "metadata": {},
   "source": [
    "# Law Article 21"
   ]
  },
  {
   "cell_type": "markdown",
   "id": "7a784594",
   "metadata": {},
   "source": [
    "## cu_21_2"
   ]
  },
  {
   "cell_type": "markdown",
   "id": "7d3d0c24",
   "metadata": {},
   "source": [
    "\n",
    "| 字段 | 内容 |\n",
    "|------|------|\n",
    "| subject | 上市公司 |\n",
    "| condition | 回购股份用于股权激励或者员工持股计划、转换上市公司发行的可转换为股票的公司债券、维护公司价值及股东权益所必需的 |\n",
    "| constraint | 合计持有的本公司股份数不得超过本公司已发行股份总额的10% |\n",
    "| contextual_info | nan |\n",
    "| note | 合计持有'理解为累计回购比例 |\n",
    "| relation | exclude |\n",
    "| target | MEU_9_3 |\n",
    "| type | 数值化执行单元 |\n",
    "| comments | nan |\n",
    "| prompt_tokens | 2063 |\n",
    "| completion_tokens | 3139 |\n"
   ]
  },
  {
   "cell_type": "code",
   "execution_count": null,
   "id": "457d9f1e",
   "metadata": {},
   "outputs": [],
   "source": [
    "# 读取模拟数据\n",
    "# 读取模拟数据\n",
    "import pandas as pd\n",
    "df = pd.read_csv('data_simulation/data_generated/data_simulate_10.csv')\n",
    "date_columns = [\"财务数据日期\", \"公告日期\", \"日期\"]\n",
    "for col in date_columns:\n",
    "    df[col] = pd.to_datetime(df[col])\n",
    "df"
   ]
  },
  {
   "cell_type": "markdown",
   "id": "b01d5408",
   "metadata": {},
   "source": [
    "### 代码实现"
   ]
  },
  {
   "cell_type": "code",
   "execution_count": null,
   "id": "a395afc6",
   "metadata": {},
   "outputs": [],
   "source": [
    "import pandas as pd\n",
    "\n",
    "def check_cu_21_2(df):\n",
    "    \"\"\"\n",
    "    检查cu_21_2的合规性：\n",
    "    主体：上市公司（所有行自动满足）\n",
    "    条件：存在回购方案且用途符合法定情形\n",
    "    约束：累计回购比例不超过总股本的10%\n",
    "    \"\"\"\n",
    "    df = df.copy()\n",
    "    \n",
    "    # 1. 验证责任主体（所有公司均为上市公司）\n",
    "    df['cu_21_2_subject'] = True\n",
    "    \n",
    "    # 2. 验证触发条件\n",
    "    valid_condition = (\n",
    "        df['存在回购方案'] & \n",
    "        df['回购用途'].isin([\n",
    "            '股权激励或者员工持股计划',\n",
    "            '转换上市公司发行的可转换为股票的公司债券',\n",
    "            '维护公司价值及股东权益所必需的'\n",
    "        ])\n",
    "    )\n",
    "    df['cu_21_2_condition'] = valid_condition\n",
    "    \n",
    "    # 3. 验证约束条件（所有行独立检查）\n",
    "    # 计算累计回购比例（处理除零情况）\n",
    "    total_shares = df['总股本'].replace(0, pd.NA)  # 防止除零错误\n",
    "    df['累计回购比例'] = df['累计回购数量'].astype(float) / total_shares.astype(float)\n",
    "    \n",
    "    # 判断是否超过10%阈值\n",
    "    df['cu_21_2_constraint'] = df['累计回购比例'].fillna(0) <= 0.1\n",
    "    \n",
    "    # 清理中间列\n",
    "    df.drop(columns=['累计回购比例'], inplace=True)\n",
    "    \n",
    "    return df"
   ]
  },
  {
   "cell_type": "code",
   "execution_count": null,
   "id": "97c4e985",
   "metadata": {},
   "outputs": [],
   "source": [
    "df = check_cu_21_2(df)\n",
    "df"
   ]
  },
  {
   "cell_type": "markdown",
   "id": "27d60816",
   "metadata": {},
   "source": [
    "---"
   ]
  },
  {
   "cell_type": "markdown",
   "id": "60da2fff",
   "metadata": {},
   "source": [
    "# Law Article 42"
   ]
  },
  {
   "cell_type": "markdown",
   "id": "047b3568",
   "metadata": {},
   "source": [
    "## cu_42_2"
   ]
  },
  {
   "cell_type": "markdown",
   "id": "f8a920e4",
   "metadata": {},
   "source": [
    "\n",
    "| 字段 | 内容 |\n",
    "|------|------|\n",
    "| subject | 上市公司 |\n",
    "| condition | 因维护公司价值及股东权益所必需而回购股份的，处于上市公司定期报告、业绩预告或者业绩快报披露前10个交易日内（因特殊原因推迟定期报告披露日期的，自原预约公告日前10个交易日起算，至披露前1个交易日） |\n",
    "| constraint | 不得采用集中竞价交易方式出售股份 |\n",
    "| contextual_info | nan |\n",
    "| note | 不考虑报告推迟情况; 只考虑同时进行的回购计划的回购方式, 不考虑前后对应关系 |\n",
    "| relation | nan |\n",
    "| target | nan |\n",
    "| type | 数值化执行单元 |\n",
    "| comments | nan |\n",
    "| prompt_tokens | 2103 |\n",
    "| completion_tokens | 8978 |\n"
   ]
  },
  {
   "cell_type": "code",
   "execution_count": null,
   "id": "671bda79",
   "metadata": {},
   "outputs": [],
   "source": [
    "# 读取模拟数据\n",
    "# 读取模拟数据\n",
    "import pandas as pd\n",
    "df = pd.read_csv('data_simulation/data_generated/data_simulate_10.csv')\n",
    "date_columns = [\"财务数据日期\", \"公告日期\", \"日期\"]\n",
    "for col in date_columns:\n",
    "    df[col] = pd.to_datetime(df[col])\n",
    "df"
   ]
  },
  {
   "cell_type": "markdown",
   "id": "470764bb",
   "metadata": {},
   "source": [
    "### 代码实现"
   ]
  },
  {
   "cell_type": "code",
   "execution_count": null,
   "id": "cfca341c",
   "metadata": {},
   "outputs": [],
   "source": [
    "import pandas as pd\n",
    "\n",
    "def check_cu_42_2(df):\n",
    "    '''\n",
    "    检查cu_42_2合规性：\n",
    "    主体：上市公司\n",
    "    条件：维护价值回购且处于定期报告披露前10日\n",
    "    约束：不得集中竞价出售\n",
    "    '''\n",
    "    df = df.copy()\n",
    "    \n",
    "    # 初始化标记列\n",
    "    df['cu_42_2_subject'] = True  # 所有行均为上市公司\n",
    "    df['cu_42_2_condition'] = False\n",
    "    df['cu_42_2_constraint'] = None\n",
    "\n",
    "    # 生成交易日历参考系（按公司分组）\n",
    "    company_calendars = df.groupby('公司简称')['日期'].apply(lambda x: sorted(x.unique()))\n",
    "\n",
    "    # 构建披露日期前10日窗口（考虑多公告类型）\n",
    "    df['in_window'] = False\n",
    "    for company, dates in company_calendars.items():\n",
    "        # 获取该公司所有定期类公告日期\n",
    "        announcements = df[(df['公司简称'] == company) & \n",
    "                          (df['公告类型'].isin(['定期报告','业绩预告','业绩快报']))]['公告日期'].unique()\n",
    "        \n",
    "        # 建立日期索引映射\n",
    "        date_index = {date: idx for idx, date in enumerate(dates)}\n",
    "        \n",
    "        # 标记所有窗口日期\n",
    "        window_dates = set()\n",
    "        for d in announcements:\n",
    "            if d not in date_index:\n",
    "                continue\n",
    "            start_idx = max(0, date_index[d] - 10)\n",
    "            window_dates.update(dates[start_idx:date_index[d]])\n",
    "        \n",
    "        # 更新标记列\n",
    "        df.loc[(df['公司简称'] == company) & (df['日期'].isin(window_dates)), 'in_window'] = True\n",
    "\n",
    "    # 条件验证（回购用途+时间窗口）\n",
    "    condition_mask = (\n",
    "        df['存在回购方案'] & \n",
    "        (df['回购用途'] == '维护公司价值及股东权益所必需') &\n",
    "        df['in_window']\n",
    "    )\n",
    "    df['cu_42_2_condition'] = condition_mask\n",
    "\n",
    "    # 约束验证（仅检查符合前两项的行）\n",
    "    constraint_mask = condition_mask & df['cu_42_2_subject']\n",
    "    # 假设存在出售计划即视为集中竞价方式（因数据无明确字段）\n",
    "    df.loc[constraint_mask, 'cu_42_2_constraint'] = ~df.loc[constraint_mask, '存在出售计划']\n",
    "\n",
    "    # 清理中间列\n",
    "    df.drop(columns=['in_window'], inplace=True)\n",
    "\n",
    "    return df"
   ]
  },
  {
   "cell_type": "code",
   "execution_count": null,
   "id": "38939830",
   "metadata": {},
   "outputs": [],
   "source": [
    "df = check_cu_42_2(df)\n",
    "df"
   ]
  },
  {
   "cell_type": "markdown",
   "id": "c9ccdf18",
   "metadata": {},
   "source": [
    "---"
   ]
  },
  {
   "cell_type": "markdown",
   "id": "7029399f",
   "metadata": {},
   "source": [
    "# Law Article 45"
   ]
  },
  {
   "cell_type": "markdown",
   "id": "e41cc499",
   "metadata": {},
   "source": [
    "## cu_45_2"
   ]
  },
  {
   "cell_type": "markdown",
   "id": "2dfcaeb9",
   "metadata": {},
   "source": [
    "\n",
    "| 字段 | 内容 |\n",
    "|------|------|\n",
    "| subject | 上市公司 |\n",
    "| condition | 采用集中竞价交易方式出售已回购股份 |\n",
    "| constraint | 申报价格不得为公司股票当日交易跌幅限制的价格 |\n",
    "| contextual_info | nan |\n",
    "| note | nan |\n",
    "| relation | nan |\n",
    "| target | nan |\n",
    "| type | 数值化执行单元 |\n",
    "| comments | nan |\n",
    "| prompt_tokens | 2034 |\n",
    "| completion_tokens | 4323 |\n"
   ]
  },
  {
   "cell_type": "code",
   "execution_count": null,
   "id": "dcca7fef",
   "metadata": {},
   "outputs": [],
   "source": [
    "# 读取模拟数据\n",
    "# 读取模拟数据\n",
    "import pandas as pd\n",
    "df = pd.read_csv('data_simulation/data_generated/data_simulate_10.csv')\n",
    "date_columns = [\"财务数据日期\", \"公告日期\", \"日期\"]\n",
    "for col in date_columns:\n",
    "    df[col] = pd.to_datetime(df[col])\n",
    "df"
   ]
  },
  {
   "cell_type": "markdown",
   "id": "228da06a",
   "metadata": {},
   "source": [
    "### 代码实现"
   ]
  },
  {
   "cell_type": "code",
   "execution_count": null,
   "id": "66302e14",
   "metadata": {},
   "outputs": [],
   "source": [
    "import pandas as pd\n",
    "\n",
    "def check_cu_45_2(df):\n",
    "    '''\n",
    "    检查cu_45_2的合规性：\n",
    "    主体：上市公司\n",
    "    条件：采用集中竞价交易方式出售已回购股份\n",
    "    约束：申报价格不得为当日跌停价\n",
    "    '''\n",
    "    df = df.copy()\n",
    "    \n",
    "    # 初始化标记列\n",
    "    df['cu_45_2_subject'] = True  # 所有公司均为上市公司\n",
    "    df['cu_45_2_condition'] = df['存在出售计划']\n",
    "    df['cu_45_2_constraint'] = None\n",
    "    \n",
    "    # 计算当日跌停价（前收盘价的90%）\n",
    "    df['跌停价'] = df['前收盘价'] * 0.9\n",
    "    \n",
    "    # 仅对符合主体和条件的行进行约束检查\n",
    "    valid_mask = df['cu_45_2_subject'] & df['cu_45_2_condition']\n",
    "    \n",
    "    # 检查申报价格是否等于跌停价（包含NaN处理）\n",
    "    df.loc[valid_mask, 'cu_45_2_constraint'] = ~(\n",
    "        df.loc[valid_mask, '申报价格'].eq(df.loc[valid_mask, '跌停价']) |\n",
    "        df.loc[valid_mask, '申报价格'].isna()  # 申报价格缺失视为违规\n",
    "    )\n",
    "    \n",
    "    # 清理中间列\n",
    "    df.drop(columns=['跌停价'], inplace=True, errors='ignore')\n",
    "    \n",
    "    return df"
   ]
  },
  {
   "cell_type": "code",
   "execution_count": null,
   "id": "c41dccd7",
   "metadata": {},
   "outputs": [],
   "source": [
    "df = check_cu_45_2(df)\n",
    "df"
   ]
  },
  {
   "cell_type": "markdown",
   "id": "1aebe37f",
   "metadata": {},
   "source": [
    "---"
   ]
  },
  {
   "cell_type": "markdown",
   "id": "dc0ef0bb",
   "metadata": {},
   "source": [
    "## cu_45_3"
   ]
  },
  {
   "cell_type": "markdown",
   "id": "63bfec58",
   "metadata": {},
   "source": [
    "\n",
    "| 字段 | 内容 |\n",
    "|------|------|\n",
    "| subject | 上市公司 |\n",
    "| condition | 采用集中竞价交易方式出售已回购股份且每日出售数量超过10万股 |\n",
    "| constraint | 每日出售的数量不得超过出售计划披露日前20个交易日日均盘中成交量的25% |\n",
    "| contextual_info | nan |\n",
    "| note | nan |\n",
    "| relation | nan |\n",
    "| target | nan |\n",
    "| type | 数值化执行单元 |\n",
    "| comments | nan |\n",
    "| prompt_tokens | 2048 |\n",
    "| completion_tokens | 8598 |\n"
   ]
  },
  {
   "cell_type": "code",
   "execution_count": null,
   "id": "074d8482",
   "metadata": {},
   "outputs": [],
   "source": [
    "# 读取模拟数据\n",
    "# 读取模拟数据\n",
    "import pandas as pd\n",
    "df = pd.read_csv('data_simulation/data_generated/data_simulate_10.csv')\n",
    "date_columns = [\"财务数据日期\", \"公告日期\", \"日期\"]\n",
    "for col in date_columns:\n",
    "    df[col] = pd.to_datetime(df[col])\n",
    "df"
   ]
  },
  {
   "cell_type": "markdown",
   "id": "5a480a02",
   "metadata": {},
   "source": [
    "### 代码实现"
   ]
  },
  {
   "cell_type": "code",
   "execution_count": null,
   "id": "e7f60a15",
   "metadata": {},
   "outputs": [],
   "source": [
    "import pandas as pd\n",
    "import numpy as np\n",
    "\n",
    "def check_cu_45_3(df):\n",
    "    '''\n",
    "    检查cu_45_3的合规性：\n",
    "    主体：上市公司\n",
    "    条件：采用集中竞价交易方式出售已回购股份且每日出售数量超过10万股\n",
    "    约束：每日出售数量不得超过出售计划披露日前20个交易日日均成交量的25%\n",
    "    '''\n",
    "    df = df.copy()\n",
    "    \n",
    "    # 初始化标记列\n",
    "    df['cu_45_3_subject'] = True  # 所有公司都是上市公司\n",
    "    df['cu_45_3_condition'] = False\n",
    "    df['cu_45_3_constraint'] = False\n",
    "    \n",
    "    # 2. 验证触发条件：存在出售计划且当日出售数量超过10万股\n",
    "    # 假设存在出售计划即表示采用集中竞价方式\n",
    "    condition_mask = (df['存在出售计划']) & (df['当日出售数量'] > 100000)\n",
    "    df.loc[condition_mask, 'cu_45_3_condition'] = True\n",
    "    \n",
    "    # 3. 验证约束条件：计算阈值并比较\n",
    "    # 获取所有出售计划的披露日\n",
    "    plan_disclosures = df[df['存在出售计划']][['公司简称', '出售计划披露日']].drop_duplicates()\n",
    "    \n",
    "    thresholds = []\n",
    "    for _, row in plan_disclosures.iterrows():\n",
    "        company = row['公司简称']\n",
    "        disclosure_date = row['出售计划披露日']\n",
    "        \n",
    "        # 获取该公司在披露日前的所有交易日\n",
    "        company_mask = (df['公司简称'] == company) & (df['日期'] < disclosure_date)\n",
    "        pre_dates = df[company_mask]['日期'].unique()\n",
    "        pre_dates_sorted = sorted(pre_dates, reverse=True)\n",
    "        \n",
    "        # 取前20个交易日\n",
    "        if len(pre_dates_sorted) >= 20:\n",
    "            selected_dates = pre_dates_sorted[:20]\n",
    "        else:\n",
    "            selected_dates = pre_dates_sorted  # 不足20天则取全部可用\n",
    "        \n",
    "        # 计算这些日期的平均成交量\n",
    "        avg_volume = df[(df['公司简称'] == company) & (df['日期'].isin(selected_dates))]['成交量'].mean()\n",
    "        threshold = avg_volume * 0.25 if not np.isnan(avg_volume) else np.nan\n",
    "        thresholds.append({\n",
    "            '公司简称': company,\n",
    "            '出售计划披露日': disclosure_date,\n",
    "            'threshold': threshold\n",
    "        })\n",
    "    \n",
    "    if thresholds:\n",
    "        thresholds_df = pd.DataFrame(thresholds)\n",
    "        df = df.merge(thresholds_df, on=['公司简称', '出售计划披露日'], how='left')\n",
    "        \n",
    "        # 标记约束条件：当日出售数量 <= threshold，且存在出售计划\n",
    "        constraint_mask = df['存在出售计划'] & (~df['threshold'].isna())\n",
    "        df.loc[constraint_mask, 'cu_45_3_constraint'] = df.loc[constraint_mask, '当日出售数量'] <= df.loc[constraint_mask, 'threshold']\n",
    "    else:\n",
    "        df['threshold'] = np.nan\n",
    "    \n",
    "    # 清理临时列\n",
    "    df.drop(columns=['threshold'], inplace=True, errors='ignore')\n",
    "    \n",
    "    return df"
   ]
  },
  {
   "cell_type": "code",
   "execution_count": null,
   "id": "794a5f3d",
   "metadata": {},
   "outputs": [],
   "source": [
    "df = check_cu_45_3(df)\n",
    "df"
   ]
  },
  {
   "cell_type": "markdown",
   "id": "7d3f5678",
   "metadata": {},
   "source": [
    "---"
   ]
  },
  {
   "cell_type": "markdown",
   "id": "2e34e349",
   "metadata": {},
   "source": [
    "## cu_45_4"
   ]
  },
  {
   "cell_type": "markdown",
   "id": "bcb4883e",
   "metadata": {},
   "source": [
    "\n",
    "| 字段 | 内容 |\n",
    "|------|------|\n",
    "| subject | 上市公司 |\n",
    "| condition | 采用集中竞价交易方式出售已回购股份 |\n",
    "| constraint | 在任意连续90日内，出售股份的总数不得超过公司股份总数的1% |\n",
    "| contextual_info | nan |\n",
    "| note | 90日以自然日计算 |\n",
    "| relation | nan |\n",
    "| target | nan |\n",
    "| type | 数值化执行单元 |\n",
    "| comments | nan |\n",
    "| prompt_tokens | 2046 |\n",
    "| completion_tokens | 7788 |\n"
   ]
  },
  {
   "cell_type": "code",
   "execution_count": null,
   "id": "49c4f061",
   "metadata": {},
   "outputs": [],
   "source": [
    "# 读取模拟数据\n",
    "# 读取模拟数据\n",
    "import pandas as pd\n",
    "df = pd.read_csv('data_simulation/data_generated/data_simulate_10.csv')\n",
    "date_columns = [\"财务数据日期\", \"公告日期\", \"日期\"]\n",
    "for col in date_columns:\n",
    "    df[col] = pd.to_datetime(df[col])\n",
    "df"
   ]
  },
  {
   "cell_type": "markdown",
   "id": "de1b6465",
   "metadata": {},
   "source": [
    "### 代码实现"
   ]
  },
  {
   "cell_type": "code",
   "execution_count": null,
   "id": "ebd904d7",
   "metadata": {},
   "outputs": [],
   "source": [
    "import pandas as pd\n",
    "\n",
    "def check_cu_45_4(df):\n",
    "    '''\n",
    "    检查cu_45_4合规性：\n",
    "    主体：上市公司（全部标记为True）\n",
    "    条件：存在集中竞价出售已回购股份计划\n",
    "    约束：90自然日内累计出售≤总股本1%\n",
    "    '''\n",
    "    df = df.copy()\n",
    "    \n",
    "    # 初始化标记列\n",
    "    df['cu_45_4_subject'] = True\n",
    "    df['cu_45_4_condition'] = df['存在出售计划']\n",
    "    df['cu_45_4_constraint'] = None\n",
    "\n",
    "    # 计算自然日窗口累计出售量\n",
    "    sorted_df = df.sort_values(['公司简称', '日期']).copy()\n",
    "    sorted_df.set_index('日期', inplace=True)\n",
    "    \n",
    "    # 使用自然日滚动窗口计算累计出售量\n",
    "    sorted_df['累计出售数量_90d'] = sorted_df.groupby('公司简称', group_keys=False)['当日出售数量'] \\\n",
    "        .rolling('90D', min_periods=0).sum().reset_index(level=0, drop=True)\n",
    "    \n",
    "    sorted_df.reset_index(inplace=True)\n",
    "    \n",
    "    # 合并计算结果到原始数据\n",
    "    df = df.merge(\n",
    "        sorted_df[['公司简称', '日期', '累计出售数量_90d']],\n",
    "        on=['公司简称', '日期'],\n",
    "        how='left'\n",
    "    )\n",
    "\n",
    "    # 计算约束条件（总股本取当日值）\n",
    "    df['cu_45_4_constraint'] = df['累计出售数量_90d'] <= df['总股本'] * 0.01\n",
    "    \n",
    "    # 处理空值（无出售时默认合规）\n",
    "    df['cu_45_4_constraint'] = df['cu_45_4_constraint'].fillna(True)\n",
    "\n",
    "    return df"
   ]
  },
  {
   "cell_type": "code",
   "execution_count": null,
   "id": "592a7351",
   "metadata": {},
   "outputs": [],
   "source": [
    "df = check_cu_45_4(df)\n",
    "df"
   ]
  },
  {
   "cell_type": "markdown",
   "id": "628730f4",
   "metadata": {},
   "source": [
    "---"
   ]
  },
  {
   "cell_type": "markdown",
   "id": "02998b9e",
   "metadata": {},
   "source": [
    "# Law Article 46"
   ]
  },
  {
   "cell_type": "markdown",
   "id": "9c916c04",
   "metadata": {},
   "source": [
    "## cu_46_2"
   ]
  },
  {
   "cell_type": "markdown",
   "id": "768bf9c3",
   "metadata": {},
   "source": [
    "\n",
    "| 字段 | 内容 |\n",
    "|------|------|\n",
    "| subject | 上市公司 |\n",
    "| condition | 采用集中竞价交易方式出售已回购股份期间 |\n",
    "| constraint | 首次出售已回购股份事实发生后应当在次1个交易日内披露出售进展情况公告 |\n",
    "| contextual_info | nan |\n",
    "| note | 对每一个需要披露的日期标记constraint情况, 对不需要的日期保留为None |\n",
    "| relation | nan |\n",
    "| target | nan |\n",
    "| type | 数值化执行单元 |\n",
    "| comments | nan |\n",
    "| prompt_tokens | 2062 |\n",
    "| completion_tokens | 9422 |\n"
   ]
  },
  {
   "cell_type": "code",
   "execution_count": null,
   "id": "3ecd27f8",
   "metadata": {},
   "outputs": [],
   "source": [
    "# 读取模拟数据\n",
    "# 读取模拟数据\n",
    "import pandas as pd\n",
    "df = pd.read_csv('data_simulation/data_generated/data_simulate_10.csv')\n",
    "date_columns = [\"财务数据日期\", \"公告日期\", \"日期\"]\n",
    "for col in date_columns:\n",
    "    df[col] = pd.to_datetime(df[col])\n",
    "df"
   ]
  },
  {
   "cell_type": "markdown",
   "id": "7f05881d",
   "metadata": {},
   "source": [
    "### 代码实现"
   ]
  },
  {
   "cell_type": "code",
   "execution_count": null,
   "id": "c8299363",
   "metadata": {},
   "outputs": [],
   "source": [
    "import pandas as pd\n",
    "import numpy as np\n",
    "\n",
    "def check_cu_46_2(df):\n",
    "    '''\n",
    "    检查cu_46_2的合规性：\n",
    "    主体：上市公司（所有行自动满足）\n",
    "    条件：处于集中竞价出售已回购股份期间\n",
    "    约束：首次出售次交易日披露进展\n",
    "    '''\n",
    "    df = df.copy()\n",
    "    \n",
    "    # 初始化标记列\n",
    "    df['cu_46_2_subject'] = True  # 所有公司均为上市公司\n",
    "    df['cu_46_2_condition'] = False\n",
    "    df['cu_46_2_constraint'] = None\n",
    "    \n",
    "    # 2. 条件标记（集中竞价出售期间）\n",
    "    valid_condition = (\n",
    "        df['存在出售计划'] \n",
    "        & (df['日期'] >= df['出售开始日']) \n",
    "        & (df['日期'] <= df['出售截止日'])\n",
    "    )\n",
    "    df['cu_46_2_condition'] = valid_condition\n",
    "    \n",
    "    # 3. 约束标记（首次出售次交易日披露）\n",
    "    if (df['当日出售数量'] > 0).any():\n",
    "        # 获取各公司首次出售日\n",
    "        first_sale = df[df['当日出售数量'] > 0].groupby('公司简称')['日期'].min().reset_index()\n",
    "        first_sale.columns = ['公司简称', 'first_sale_date']\n",
    "        \n",
    "        # 获取各公司交易日序列\n",
    "        trading_dates = df.groupby('公司简称')['日期'].apply(lambda x: x.sort_values().unique()).reset_index()\n",
    "        trading_dates.columns = ['公司简称', 'date_seq']\n",
    "        \n",
    "        # 计算次交易日\n",
    "        merged = trading_dates.merge(first_sale, how='left', on='公司简称')\n",
    "        merged['next_trading_date'] = merged.apply(\n",
    "            lambda x: x['date_seq'][np.searchsorted(x['date_seq'], x['first_sale_date']) + 1] \n",
    "            if (pd.notnull(x['first_sale_date']) and \n",
    "                (np.searchsorted(x['date_seq'], x['first_sale_date']) + 1 < len(x['date_seq']))) \n",
    "            else pd.NaT,\n",
    "            axis=1\n",
    "        )\n",
    "        \n",
    "        # 合并次交易日到原始数据\n",
    "        df = df.merge(merged[['公司简称', 'next_trading_date']], on='公司简称', how='left')\n",
    "        \n",
    "        # 标记约束合规性\n",
    "        is_disclosure_day = df['日期'] == df['next_trading_date']\n",
    "        df.loc[is_disclosure_day, 'cu_46_2_constraint'] = df.loc[is_disclosure_day, '披露出售进展'].fillna(False)\n",
    "        \n",
    "        df.drop(columns=['next_trading_date'], inplace=True)\n",
    "    \n",
    "    return df"
   ]
  },
  {
   "cell_type": "code",
   "execution_count": null,
   "id": "c4338629",
   "metadata": {},
   "outputs": [],
   "source": [
    "df = check_cu_46_2(df)\n",
    "df"
   ]
  },
  {
   "cell_type": "markdown",
   "id": "9303f651",
   "metadata": {},
   "source": [
    "---"
   ]
  },
  {
   "cell_type": "markdown",
   "id": "ca886aff",
   "metadata": {},
   "source": [
    "## cu_46_3"
   ]
  },
  {
   "cell_type": "markdown",
   "id": "61c301f1",
   "metadata": {},
   "source": [
    "\n",
    "| 字段 | 内容 |\n",
    "|------|------|\n",
    "| subject | 上市公司 |\n",
    "| condition | 采用集中竞价交易方式出售已回购股份期间 |\n",
    "| constraint | 出售已回购股份占上市公司总股本的比例增加1%, 应当在事实发生之日起3个交易日内披露出售进展情况公告 |\n",
    "| contextual_info | nan |\n",
    "| note | 理解为\"每增加1%\"需要披露; 划分披露的窗口期, 对整个窗口期标记constraint是否符合, 不在窗口期内的可标记为True或者保留为None |\n",
    "| relation | nan |\n",
    "| target | nan |\n",
    "| type | 数值化执行单元 |\n",
    "| comments | nan |\n",
    "| prompt_tokens | 2089 |\n",
    "| completion_tokens | 11841 |\n"
   ]
  },
  {
   "cell_type": "code",
   "execution_count": null,
   "id": "83ff56f0",
   "metadata": {},
   "outputs": [],
   "source": [
    "# 读取模拟数据\n",
    "# 读取模拟数据\n",
    "import pandas as pd\n",
    "df = pd.read_csv('data_simulation/data_generated/data_simulate_10.csv')\n",
    "date_columns = [\"财务数据日期\", \"公告日期\", \"日期\"]\n",
    "for col in date_columns:\n",
    "    df[col] = pd.to_datetime(df[col])\n",
    "df"
   ]
  },
  {
   "cell_type": "markdown",
   "id": "6b0e141b",
   "metadata": {},
   "source": [
    "### 代码实现"
   ]
  },
  {
   "cell_type": "code",
   "execution_count": null,
   "id": "d9456ee8",
   "metadata": {},
   "outputs": [],
   "source": [
    "import pandas as pd\n",
    "\n",
    "def check_cu_46_3(df):\n",
    "    '''\n",
    "    检查cu_46_3的合规性：\n",
    "    主体：上市公司\n",
    "    条件：采用集中竞价交易方式出售已回购股份期间\n",
    "    约束：每增加1%需在3个交易日内披露\n",
    "    '''\n",
    "    df = df.copy()\n",
    "    \n",
    "    # 初始化标记列\n",
    "    df['cu_46_3_subject'] = True  # 所有公司均为上市公司\n",
    "    df['cu_46_3_condition'] = False\n",
    "    df['cu_46_3_constraint'] = None\n",
    "    \n",
    "    # 1. 标记触发条件\n",
    "    condition_mask = (\n",
    "        df['存在出售计划'] &\n",
    "        df['日期'].between(df['出售开始日'], df['出售截止日']) &\n",
    "        df['出售开始日'].notna() &\n",
    "        df['出售截止日'].notna()\n",
    "    )\n",
    "    df.loc[condition_mask, 'cu_46_3_condition'] = True\n",
    "    \n",
    "    # 2. 核心逻辑：处理约束条件\n",
    "    # 仅处理满足主体和条件的记录\n",
    "    mask = df['cu_46_3_subject'] & df['cu_46_3_condition']\n",
    "    working_df = df[mask].copy()\n",
    "    \n",
    "    # 按公司分组处理\n",
    "    for (company,), group in working_df.groupby(['公司简称']):\n",
    "        group = group.sort_values('日期')\n",
    "        dates = group['日期'].tolist()\n",
    "        date_to_idx = {date: idx for idx, date in enumerate(dates)}\n",
    "        \n",
    "        # 生成触发点队列\n",
    "        triggers = []\n",
    "        prev_trigger = 0.0\n",
    "        for _, row in group.iterrows():\n",
    "            current_ratio = row['累计出售比例']\n",
    "            while current_ratio >= prev_trigger + 0.01:\n",
    "                triggers.append(row['日期'])\n",
    "                prev_trigger += 0.01\n",
    "        \n",
    "        # 处理每个触发点的窗口期\n",
    "        for trigger_date in triggers:\n",
    "            if trigger_date not in date_to_idx:\n",
    "                continue\n",
    "                \n",
    "            # 确定窗口期（包含触发日及后续两个交易日）\n",
    "            trigger_idx = date_to_idx[trigger_date]\n",
    "            window_indices = range(trigger_idx, min(trigger_idx+3, len(dates)))\n",
    "            window_dates = [dates[i] for i in window_indices]\n",
    "            \n",
    "            # 检查窗口期内是否有披露\n",
    "            has_disclosure = group[group['日期'].isin(window_dates)]['披露出售进展'].any()\n",
    "            \n",
    "            # 更新主数据框\n",
    "            company_mask = (\n",
    "                (df['公司简称'] == company) & \n",
    "                (df['日期'].isin(window_dates)) & \n",
    "                mask\n",
    "            )\n",
    "            df.loc[company_mask, 'cu_46_3_constraint'] = has_disclosure\n",
    "        \n",
    "        # 标记非窗口期内的合规记录为True\n",
    "        all_dates_in_condition = group['日期'].unique()\n",
    "        window_dates_all = []\n",
    "        for trigger_date in triggers:\n",
    "            if trigger_date not in date_to_idx:\n",
    "                continue\n",
    "            trigger_idx = date_to_idx[trigger_date]\n",
    "            window_indices = range(trigger_idx, min(trigger_idx+3, len(dates)))\n",
    "            window_dates_all.extend([dates[i] for i in window_indices])\n",
    "        \n",
    "        non_window_dates = list(set(all_dates_in_condition) - set(window_dates_all))\n",
    "        df.loc[\n",
    "            (df['公司简称'] == company) & \n",
    "            (df['日期'].isin(non_window_dates)) & \n",
    "            mask, \n",
    "            'cu_46_3_constraint'\n",
    "        ] = True\n",
    "    \n",
    "    # 未触发检查的记录保持None\n",
    "    return df"
   ]
  },
  {
   "cell_type": "code",
   "execution_count": null,
   "id": "632c2fe0",
   "metadata": {},
   "outputs": [],
   "source": [
    "df = check_cu_46_3(df)\n",
    "df"
   ]
  },
  {
   "cell_type": "markdown",
   "id": "494c576d",
   "metadata": {},
   "source": [
    "---"
   ]
  },
  {
   "cell_type": "markdown",
   "id": "a2fa867b",
   "metadata": {},
   "source": [
    "# Law Article 50"
   ]
  },
  {
   "cell_type": "markdown",
   "id": "0e58909f",
   "metadata": {},
   "source": [
    "## cu_50_2"
   ]
  },
  {
   "cell_type": "markdown",
   "id": "af8be0cb",
   "metadata": {},
   "source": [
    "\n",
    "| 字段 | 内容 |\n",
    "|------|------|\n",
    "| subject | 上市公司 |\n",
    "| condition | 实施要约回购 |\n",
    "| constraint | 要约期限不得少于30个自然日 |\n",
    "| contextual_info | nan |\n",
    "| note | 只检查'决议通过日'当日的情况 |\n",
    "| relation | nan |\n",
    "| target | nan |\n",
    "| type | 数值化执行单元 |\n",
    "| comments | nan |\n",
    "| prompt_tokens | 2035 |\n",
    "| completion_tokens | 7712 |\n"
   ]
  },
  {
   "cell_type": "code",
   "execution_count": null,
   "id": "bb12b723",
   "metadata": {},
   "outputs": [],
   "source": [
    "# 读取模拟数据\n",
    "# 读取模拟数据\n",
    "import pandas as pd\n",
    "df = pd.read_csv('data_simulation/data_generated/data_simulate_10.csv')\n",
    "date_columns = [\"财务数据日期\", \"公告日期\", \"日期\"]\n",
    "for col in date_columns:\n",
    "    df[col] = pd.to_datetime(df[col])\n",
    "df"
   ]
  },
  {
   "cell_type": "markdown",
   "id": "5d11c9e0",
   "metadata": {},
   "source": [
    "### 代码实现"
   ]
  },
  {
   "cell_type": "code",
   "execution_count": null,
   "id": "2c27a77d",
   "metadata": {},
   "outputs": [],
   "source": [
    "import pandas as pd\n",
    "\n",
    "def check_cu_50_2(df):\n",
    "    '''\n",
    "    检查cu_50_2的合规性：\n",
    "    主体：上市公司\n",
    "    条件：在决议通过日实施要约回购\n",
    "    约束：要约期限≥30自然日\n",
    "    '''\n",
    "    df = df.copy()\n",
    "\n",
    "    # 初始化标记列\n",
    "    df['cu_50_2_subject'] = True  # 所有公司均为上市公司\n",
    "    df['cu_50_2_condition'] = False\n",
    "    df['cu_50_2_constraint'] = False\n",
    "\n",
    "    # 1. 责任主体验证（所有行自动满足）\n",
    "    # 根据问题说明所有公司均为上市公司，无需额外处理\n",
    "\n",
    "    # 2. 触发条件验证（仅在决议通过日检查）\n",
    "    condition_mask = (\n",
    "        (df['日期'] == df['决议通过日']) &  # 当日为决议通过日\n",
    "        df['存在回购方案'] &  # 存在有效回购方案\n",
    "        (df['回购方式'] == '要约回购')  # 回购方式为要约回购\n",
    "    )\n",
    "    df.loc[condition_mask, 'cu_50_2_condition'] = True\n",
    "\n",
    "    # 3. 约束条件验证（所有行独立检查）\n",
    "    # 根据任务要求独立标记，但实际法律逻辑应仅在决议通过日检查\n",
    "    constraint_mask = (\n",
    "        (df['日期'] == df['决议通过日']) &  # 仅检查决议通过日\n",
    "        (df['要约期限'] >= 30)  # 自然日期限要求\n",
    "    )\n",
    "    df.loc[constraint_mask, 'cu_50_2_constraint'] = True\n",
    "\n",
    "    return df"
   ]
  },
  {
   "cell_type": "code",
   "execution_count": null,
   "id": "6225abb7",
   "metadata": {},
   "outputs": [],
   "source": [
    "df = check_cu_50_2(df)\n",
    "df"
   ]
  },
  {
   "cell_type": "markdown",
   "id": "e2ba7728",
   "metadata": {},
   "source": [
    "---"
   ]
  },
  {
   "cell_type": "markdown",
   "id": "6fdeb235",
   "metadata": {},
   "source": [
    "## cu_50_3"
   ]
  },
  {
   "cell_type": "markdown",
   "id": "1b40fb58",
   "metadata": {},
   "source": [
    "\n",
    "| 字段 | 内容 |\n",
    "|------|------|\n",
    "| subject | 上市公司 |\n",
    "| condition | 实施要约回购 |\n",
    "| constraint | 要约期限不得超过60个自然日 |\n",
    "| contextual_info | nan |\n",
    "| note | 只检查'决议通过日'当日的情况 |\n",
    "| relation | nan |\n",
    "| target | nan |\n",
    "| type | 数值化执行单元 |\n",
    "| comments | nan |\n",
    "| prompt_tokens | 2034 |\n",
    "| completion_tokens | 3749 |\n"
   ]
  },
  {
   "cell_type": "code",
   "execution_count": null,
   "id": "775a4727",
   "metadata": {},
   "outputs": [],
   "source": [
    "# 读取模拟数据\n",
    "# 读取模拟数据\n",
    "import pandas as pd\n",
    "df = pd.read_csv('data_simulation/data_generated/data_simulate_10.csv')\n",
    "date_columns = [\"财务数据日期\", \"公告日期\", \"日期\"]\n",
    "for col in date_columns:\n",
    "    df[col] = pd.to_datetime(df[col])\n",
    "df"
   ]
  },
  {
   "cell_type": "markdown",
   "id": "6ba36a71",
   "metadata": {},
   "source": [
    "### 代码实现"
   ]
  },
  {
   "cell_type": "code",
   "execution_count": null,
   "id": "8a7d1123",
   "metadata": {},
   "outputs": [],
   "source": [
    "import pandas as pd\n",
    "\n",
    "def check_cu_50_3(df):\n",
    "    '''\n",
    "    检查cu_50_3的合规性：\n",
    "    主体：上市公司\n",
    "    条件：在决议通过日实施要约回购\n",
    "    约束：要约期限不超过60个自然日\n",
    "    '''\n",
    "    df = df.copy()\n",
    "    \n",
    "    # 初始化标记列\n",
    "    df['cu_50_3_subject'] = True  # 所有公司均为上市公司\n",
    "    df['cu_50_3_condition'] = False\n",
    "    df['cu_50_3_constraint'] = None\n",
    "    \n",
    "    # 1. 验证触发条件（决议通过日当天的要约回购）\n",
    "    condition_mask = (\n",
    "        (df['日期'] == df['决议通过日']) &  # 当日为决议通过日\n",
    "        df['存在回购方案'] &  # 存在有效回购方案\n",
    "        (df['回购方式'] == '要约回购')  # 回购方式为要约回购\n",
    "    )\n",
    "    df.loc[condition_mask, 'cu_50_3_condition'] = True\n",
    "    \n",
    "    # 2. 验证约束条件（仅对符合条件的情形进行检查）\n",
    "    constraint_mask = condition_mask & ~df['要约期限'].isna()\n",
    "    df.loc[constraint_mask, 'cu_50_3_constraint'] = (\n",
    "        df.loc[constraint_mask, '要约期限'] <= 60\n",
    "    )\n",
    "    \n",
    "    return df"
   ]
  },
  {
   "cell_type": "code",
   "execution_count": null,
   "id": "a65d0068",
   "metadata": {},
   "outputs": [],
   "source": [
    "df = check_cu_50_3(df)\n",
    "df"
   ]
  },
  {
   "cell_type": "markdown",
   "id": "301ce26d",
   "metadata": {},
   "source": [
    "---"
   ]
  },
  {
   "cell_type": "markdown",
   "id": "291faeea",
   "metadata": {},
   "source": [
    "# Law Article 51"
   ]
  },
  {
   "cell_type": "markdown",
   "id": "8080addf",
   "metadata": {},
   "source": [
    "## cu_51_2"
   ]
  },
  {
   "cell_type": "markdown",
   "id": "d59a918a",
   "metadata": {},
   "source": [
    "\n",
    "| 字段 | 内容 |\n",
    "|------|------|\n",
    "| subject | 上市公司 |\n",
    "| condition | 实施要约回购 |\n",
    "| constraint | 要约价格不得低于回购股份方案公告日前30个交易日该种股票每日加权平均价的算术平均值 |\n",
    "| contextual_info | nan |\n",
    "| note | 方案公告日按照'决议通过日'计算, 只检查当日情况, 价格的计算也以该日为基准; 计算均价时采用收盘价代表该日价格, 不考虑日内价格变化. 不考虑取不到30个交易日的情况, 一定能取到.  |\n",
    "| relation | refer_to |\n",
    "| target | Law_75 |\n",
    "| type | 数值化执行单元 |\n",
    "| comments | nan |\n",
    "| prompt_tokens | 2193 |\n",
    "| completion_tokens | 4877 |\n"
   ]
  },
  {
   "cell_type": "code",
   "execution_count": null,
   "id": "014f986e",
   "metadata": {},
   "outputs": [],
   "source": [
    "# 读取模拟数据\n",
    "# 读取模拟数据\n",
    "import pandas as pd\n",
    "df = pd.read_csv('data_simulation/data_generated/data_simulate_10.csv')\n",
    "date_columns = [\"财务数据日期\", \"公告日期\", \"日期\"]\n",
    "for col in date_columns:\n",
    "    df[col] = pd.to_datetime(df[col])\n",
    "df"
   ]
  },
  {
   "cell_type": "markdown",
   "id": "5fc0a33c",
   "metadata": {},
   "source": [
    "### 代码实现"
   ]
  },
  {
   "cell_type": "code",
   "execution_count": null,
   "id": "0a3a0e2d",
   "metadata": {},
   "outputs": [],
   "source": [
    "import pandas as pd\n",
    "\n",
    "def check_cu_51_2(df):\n",
    "    '''\n",
    "    检查cu_51_2的合规性：\n",
    "    主体：上市公司\n",
    "    条件：实施要约回购\n",
    "    约束：要约价格≥方案公告日前30个交易日收盘价均值\n",
    "    '''\n",
    "    df = df.copy()\n",
    "    \n",
    "    # 初始化标记列\n",
    "    df['cu_51_2_subject'] = True  # 所有公司均为上市公司\n",
    "    df['cu_51_2_condition'] = (df['回购方式'] == '要约回购') & df['存在回购方案']\n",
    "    df['cu_51_2_constraint'] = False\n",
    "    \n",
    "    # 预处理：获取有效决议通过日\n",
    "    valid_resolutions = df[['公司简称', '决议通过日']].dropna().drop_duplicates()\n",
    "    \n",
    "    # 计算每个决议通过日前30个交易日的收盘价均值\n",
    "    avg_prices = []\n",
    "    for _, row in valid_resolutions.iterrows():\n",
    "        company = row['公司简称']\n",
    "        resolution_date = row['决议通过日']\n",
    "        \n",
    "        # 获取该公司历史数据\n",
    "        company_data = df[df['公司简称'] == company].sort_values('日期')\n",
    "        \n",
    "        # 筛选决议通过日前30个交易日（不含当日）\n",
    "        mask = (company_data['日期'] < resolution_date)\n",
    "        historical_data = company_data[mask].tail(30)\n",
    "        \n",
    "        if not historical_data.empty:\n",
    "            avg_price = historical_data['收盘价'].mean()\n",
    "            avg_prices.append({\n",
    "                '公司简称': company,\n",
    "                '决议通过日': resolution_date,\n",
    "                'avg_30d_close': avg_price\n",
    "            })\n",
    "    \n",
    "    # 合并平均价数据\n",
    "    if avg_prices:\n",
    "        avg_df = pd.DataFrame(avg_prices)\n",
    "        df = df.merge(avg_df, on=['公司简称', '决议通过日'], how='left')\n",
    "        \n",
    "        # 标记约束条件（仅当存在有效数据时）\n",
    "        valid_mask = (~df['avg_30d_close'].isna()) & (~df['要约价格'].isna())\n",
    "        df.loc[valid_mask, 'cu_51_2_constraint'] = df.loc[valid_mask, '要约价格'] >= df.loc[valid_mask, 'avg_30d_close']\n",
    "        df.drop(columns=['avg_30d_close'], inplace=True)\n",
    "    \n",
    "    return df"
   ]
  },
  {
   "cell_type": "code",
   "execution_count": null,
   "id": "efb24431",
   "metadata": {},
   "outputs": [],
   "source": [
    "df = check_cu_51_2(df)\n",
    "df"
   ]
  },
  {
   "cell_type": "markdown",
   "id": "763decb9",
   "metadata": {},
   "source": [
    "---"
   ]
  }
 ],
 "metadata": {
  "language_info": {
   "name": "python"
  }
 },
 "nbformat": 4,
 "nbformat_minor": 5
}

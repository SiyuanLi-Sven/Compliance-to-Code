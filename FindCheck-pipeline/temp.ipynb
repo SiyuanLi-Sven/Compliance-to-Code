{
 "cells": [
  {
   "cell_type": "code",
   "execution_count": 1,
   "id": "eebd33e0",
   "metadata": {},
   "outputs": [
    {
     "name": "stdout",
     "output_type": "stream",
     "text": [
      "正在处理文件: law_to_ComplianceUnit/st_2_ComplianceUnit/GT/北京证券交易所上市公司持续监管指引第5号——要约收购.xlsx\n",
      "文件 北京证券交易所上市公司持续监管指引第5号——要约收购.xlsx 处理完成并已覆盖保存。\n",
      "正在处理文件: law_to_ComplianceUnit/st_2_ComplianceUnit/GT/北京证券交易所上市公司持续监管指引第6号——内幕信息知情人管理及报送.xlsx\n",
      "文件 北京证券交易所上市公司持续监管指引第6号——内幕信息知情人管理及报送.xlsx 处理完成并已覆盖保存。\n",
      "正在处理文件: law_to_ComplianceUnit/st_2_ComplianceUnit/GT/北京证券交易所上市公司持续监管指引第9号——募集资金管理.xlsx\n",
      "文件 北京证券交易所上市公司持续监管指引第9号——募集资金管理.xlsx 处理完成并已覆盖保存。\n",
      "正在处理文件: law_to_ComplianceUnit/st_2_ComplianceUnit/GT/北京证券交易所上市公司持续监管指引第8号——股份减持和持股管理.xlsx\n",
      "文件 北京证券交易所上市公司持续监管指引第8号——股份减持和持股管理.xlsx 处理完成并已覆盖保存。\n",
      "正在处理文件: law_to_ComplianceUnit/st_2_ComplianceUnit/GT/北京证券交易所上市公司持续监管指引第10号——权益分派.xlsx\n",
      "文件 北京证券交易所上市公司持续监管指引第10号——权益分派.xlsx 处理完成并已覆盖保存。\n",
      "正在处理文件: law_to_ComplianceUnit/st_2_ComplianceUnit/GT/北京证券交易所上市公司持续监管指引第4号——股份回购.xlsx\n",
      "文件 北京证券交易所上市公司持续监管指引第4号——股份回购.xlsx 处理完成并已覆盖保存。\n",
      "正在处理文件: law_to_ComplianceUnit/st_2_ComplianceUnit/GT/北京证券交易所上市公司持续监管指引第3号——股权激励和员工持股计划.xlsx\n",
      "文件 北京证券交易所上市公司持续监管指引第3号——股权激励和员工持股计划.xlsx 处理完成并已覆盖保存。\n",
      "正在处理文件: law_to_ComplianceUnit/st_2_ComplianceUnit/GT/北京证券交易所上市公司持续监管指引第7号——转板.xlsx\n",
      "文件 北京证券交易所上市公司持续监管指引第7号——转板.xlsx 处理完成并已覆盖保存。\n",
      "正在处理文件: law_to_ComplianceUnit/st_2_ComplianceUnit/GT/北京证券交易所上市公司持续监管指引第2号——季度报告.xlsx\n",
      "文件 北京证券交易所上市公司持续监管指引第2号——季度报告.xlsx 处理完成并已覆盖保存。\n",
      "正在处理文件: law_to_ComplianceUnit/st_2_ComplianceUnit/GT/北京证券交易所上市公司持续监管指引第1号——独立董事.xlsx\n",
      "文件 北京证券交易所上市公司持续监管指引第1号——独立董事.xlsx 处理完成并已覆盖保存。\n",
      "所有文件处理完毕。\n"
     ]
    }
   ],
   "source": [
    "import pandas as pd\n",
    "import os\n",
    "\n",
    "def process_excel_files(folder_path):\n",
    "    \"\"\"\n",
    "    读取指定文件夹下所有xlsx文件，替换字符串并根据'cu_id'去重，然后覆盖保存。\n",
    "\n",
    "    Args:\n",
    "        folder_path (str): 目标文件夹路径。\n",
    "    \"\"\"\n",
    "    try:\n",
    "        for filename in os.listdir(folder_path):\n",
    "            if filename.endswith(\".xlsx\"):\n",
    "                file_path = os.path.join(folder_path, filename)\n",
    "                print(f\"正在处理文件: {file_path}\")\n",
    "\n",
    "                try:\n",
    "                    # 读取Excel文件\n",
    "                    df = pd.read_excel(file_path)\n",
    "\n",
    "                    # 替换列名中的 \"MEU\" 或 \"meu\" 为 \"cu\"\n",
    "                    df.columns = df.columns.str.replace(\"MEU\", \"cu\", case=False)\n",
    "\n",
    "                    # 替换内容中的 \"MEU\" 或 \"meu\" 为 \"cu\"\n",
    "                    for col in df.columns:\n",
    "                        if df[col].dtype == 'object': # 只处理字符串类型的列\n",
    "                            df[col] = df[col].str.replace(\"MEU\", \"cu\", case=False)\n",
    "\n",
    "                    # 根据 \"cu_id\" 列去重，保留第一个出现的行\n",
    "                    if \"cu_id\" in df.columns:\n",
    "                        df.drop_duplicates(subset=[\"cu_id\"], keep=\"first\", inplace=True)\n",
    "                    else:\n",
    "                        print(f\"警告: 文件 {filename} 中没有找到 'cu_id' 列，跳过此文件的去重步骤。\")\n",
    "                        # 如果没有cu_id列，也需要确保列名中没有MEU或meu\n",
    "                        if \"MEU_id\" in df.columns:\n",
    "                            df.rename(columns={\"MEU_id\": \"cu_id\"}, inplace=True)\n",
    "                            df.drop_duplicates(subset=[\"cu_id\"], keep=\"first\", inplace=True)\n",
    "                        elif \"meu_id\" in df.columns:\n",
    "                            df.rename(columns={\"meu_id\": \"cu_id\"}, inplace=True)\n",
    "                            df.drop_duplicates(subset=[\"cu_id\"], keep=\"first\", inplace=True)\n",
    "\n",
    "\n",
    "                    # 覆盖保存回原来的文件\n",
    "                    df.to_excel(file_path, index=False)\n",
    "                    print(f\"文件 {filename} 处理完成并已覆盖保存。\")\n",
    "\n",
    "                except Exception as e:\n",
    "                    print(f\"处理文件 {filename} 时发生错误: {e}\")\n",
    "        print(\"所有文件处理完毕。\")\n",
    "    except FileNotFoundError:\n",
    "        print(f\"错误: 文件夹 {folder_path} 未找到。\")\n",
    "    except Exception as e:\n",
    "        print(f\"发生了一个未预料的错误: {e}\")\n",
    "\n",
    "# 指定目标文件夹路径\n",
    "folder_path = \"law_to_ComplianceUnit/st_2_ComplianceUnit/GT\"\n",
    "process_excel_files(folder_path)"
   ]
  }
 ],
 "metadata": {
  "kernelspec": {
   "display_name": "GE311",
   "language": "python",
   "name": "python3"
  },
  "language_info": {
   "codemirror_mode": {
    "name": "ipython",
    "version": 3
   },
   "file_extension": ".py",
   "mimetype": "text/x-python",
   "name": "python",
   "nbconvert_exporter": "python",
   "pygments_lexer": "ipython3",
   "version": "3.11.11"
  }
 },
 "nbformat": 4,
 "nbformat_minor": 5
}
